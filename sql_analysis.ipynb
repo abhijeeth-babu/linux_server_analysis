{
    "metadata": {
        "kernelspec": {
            "name": "SQL",
            "display_name": "SQL",
            "language": "sql"
        },
        "language_info": {
            "name": "sql",
            "version": ""
        }
    },
    "nbformat_minor": 2,
    "nbformat": 4,
    "cells": [
        {
            "cell_type": "markdown",
            "source": [
                "# EDA Using SQL\r\n",
                "In this notebook we shall analyse the following three tables\r\n",
                "1. linux_server_table\r\n",
                "2. location_table\r\n",
                "3. owner_table\r\n",
                "\r\n",
                "\r\n",
                "\r\n",
                ""
            ],
            "metadata": {
                "azdata_cell_guid": "f6d45c1c-6efa-4afb-8ef4-298ed8ac9723"
            },
            "attachments": {}
        },
        {
            "cell_type": "markdown",
            "source": [
                "## linux_server_table\n",
                "This table contains information regarding the linux servers owned by the customer.  \n",
                "The primary key is the _sys_id_ column."
            ],
            "metadata": {
                "language": "sql",
                "azdata_cell_guid": "47a1fcba-9ee8-4adf-bbb6-6498ad79d6af"
            },
            "attachments": {}
        },
        {
            "cell_type": "code",
            "source": [
                "SELECT TOP 100 *\r\n",
                "FROM linux_server_project..linux_server_table;"
            ],
            "metadata": {
                "language": "sql",
                "azdata_cell_guid": "04acf8f0-325e-4a76-855d-20b4d163ebec"
            },
            "outputs": [
                {
                    "output_type": "display_data",
                    "data": {
                        "text/html": "(100 rows affected)"
                    },
                    "metadata": {}
                },
                {
                    "output_type": "display_data",
                    "data": {
                        "text/html": "Total execution time: 00:00:00.015"
                    },
                    "metadata": {}
                },
                {
                    "output_type": "execute_result",
                    "metadata": {},
                    "execution_count": 66,
                    "data": {
                        "application/vnd.dataresource+json": {
                            "schema": {
                                "fields": [
                                    {
                                        "name": "sys_id"
                                    },
                                    {
                                        "name": "distribution"
                                    },
                                    {
                                        "name": "kernel_ver"
                                    },
                                    {
                                        "name": "total_vul"
                                    },
                                    {
                                        "name": "vul_patched"
                                    },
                                    {
                                        "name": "ip4_add"
                                    },
                                    {
                                        "name": "owner_id"
                                    },
                                    {
                                        "name": "last_update_date"
                                    }
                                ]
                            },
                            "data": [
                                {
                                    "sys_id": "APP010225574",
                                    "distribution": "SUSE",
                                    "kernel_ver": "4.12.0",
                                    "total_vul": "318",
                                    "vul_patched": "165",
                                    "ip4_add": "172.26.47.139",
                                    "owner_id": "eu_69372",
                                    "last_update_date": "2023-11-09 00:05:13.787"
                                },
                                {
                                    "sys_id": "APP010532937",
                                    "distribution": "SUSE",
                                    "kernel_ver": "4.12.0",
                                    "total_vul": "278",
                                    "vul_patched": "111",
                                    "ip4_add": "192.168.138.252",
                                    "owner_id": "eu_22256",
                                    "last_update_date": "2023-10-29 00:05:13.787"
                                },
                                {
                                    "sys_id": "APP010996887",
                                    "distribution": "Debian",
                                    "kernel_ver": "5.10.0",
                                    "total_vul": "167",
                                    "vul_patched": "118",
                                    "ip4_add": "192.168.131.55",
                                    "owner_id": "us_57346",
                                    "last_update_date": "2023-11-25 00:05:13.797"
                                },
                                {
                                    "sys_id": "APP011006239",
                                    "distribution": "Debian",
                                    "kernel_ver": "4.19.0",
                                    "total_vul": "304",
                                    "vul_patched": "167",
                                    "ip4_add": "10.195.10.67",
                                    "owner_id": "us_15438",
                                    "last_update_date": "2023-11-09 00:05:13.787"
                                },
                                {
                                    "sys_id": "APP011413819",
                                    "distribution": "Red Hat",
                                    "kernel_ver": "4.18.0",
                                    "total_vul": "306",
                                    "vul_patched": "195",
                                    "ip4_add": "192.168.226.85",
                                    "owner_id": "eu_51465",
                                    "last_update_date": "2023-11-22 00:05:13.800"
                                },
                                {
                                    "sys_id": "APP011543035",
                                    "distribution": "SUSE",
                                    "kernel_ver": "5.10.0",
                                    "total_vul": "204",
                                    "vul_patched": "163",
                                    "ip4_add": "172.27.214.113",
                                    "owner_id": "us_15438",
                                    "last_update_date": "2023-12-06 00:05:13.787"
                                },
                                {
                                    "sys_id": "APP012341320",
                                    "distribution": "Debian",
                                    "kernel_ver": "4.19.0",
                                    "total_vul": "294",
                                    "vul_patched": "108",
                                    "ip4_add": "10.90.243.30",
                                    "owner_id": "au_86362",
                                    "last_update_date": "2023-10-26 00:05:13.800"
                                },
                                {
                                    "sys_id": "APP012793716",
                                    "distribution": "Debian",
                                    "kernel_ver": "5.15.0",
                                    "total_vul": "196",
                                    "vul_patched": "115",
                                    "ip4_add": "10.240.66.165",
                                    "owner_id": "eu_77467",
                                    "last_update_date": "2023-11-04 00:05:13.800"
                                },
                                {
                                    "sys_id": "APP013070535",
                                    "distribution": "Ubuntu",
                                    "kernel_ver": "5.4.0",
                                    "total_vul": "210",
                                    "vul_patched": "170",
                                    "ip4_add": "192.168.209.186",
                                    "owner_id": "au_11362",
                                    "last_update_date": "2023-11-23 00:05:13.787"
                                },
                                {
                                    "sys_id": "APP013075624",
                                    "distribution": "CentOS",
                                    "kernel_ver": "4.18.0",
                                    "total_vul": "308",
                                    "vul_patched": "147",
                                    "ip4_add": "10.133.136.160",
                                    "owner_id": "au_40513",
                                    "last_update_date": "2023-10-28 00:05:13.787"
                                },
                                {
                                    "sys_id": "APP013136505",
                                    "distribution": "SUSE",
                                    "kernel_ver": "4.19.0",
                                    "total_vul": "281",
                                    "vul_patched": "132",
                                    "ip4_add": "192.168.111.60",
                                    "owner_id": "eu_56544",
                                    "last_update_date": "2023-11-08 00:05:13.800"
                                },
                                {
                                    "sys_id": "APP013311906",
                                    "distribution": "Ubuntu",
                                    "kernel_ver": "4.15.0",
                                    "total_vul": "325",
                                    "vul_patched": "178",
                                    "ip4_add": "172.21.102.114",
                                    "owner_id": "au_86362",
                                    "last_update_date": "2023-11-06 00:05:13.787"
                                },
                                {
                                    "sys_id": "APP013791762",
                                    "distribution": "Debian",
                                    "kernel_ver": "4.19.0",
                                    "total_vul": "296",
                                    "vul_patched": "130",
                                    "ip4_add": "172.31.86.44",
                                    "owner_id": "us_34800",
                                    "last_update_date": "2023-10-31 00:05:13.787"
                                },
                                {
                                    "sys_id": "APP014078594",
                                    "distribution": "Red Hat",
                                    "kernel_ver": "5.6.0",
                                    "total_vul": "219",
                                    "vul_patched": "166",
                                    "ip4_add": "172.25.189.3",
                                    "owner_id": "eu_56544",
                                    "last_update_date": "2023-12-05 00:05:13.787"
                                },
                                {
                                    "sys_id": "APP014436990",
                                    "distribution": "Ubuntu",
                                    "kernel_ver": "5.10.0",
                                    "total_vul": "188",
                                    "vul_patched": "118",
                                    "ip4_add": "172.23.29.244",
                                    "owner_id": "us_68077",
                                    "last_update_date": "2023-11-13 00:05:13.787"
                                },
                                {
                                    "sys_id": "APP014754122",
                                    "distribution": "Ubuntu",
                                    "kernel_ver": "4.15.0",
                                    "total_vul": "333",
                                    "vul_patched": "156",
                                    "ip4_add": "10.104.79.200",
                                    "owner_id": "eu_10858",
                                    "last_update_date": "2023-11-08 00:05:13.787"
                                },
                                {
                                    "sys_id": "APP015151863",
                                    "distribution": "CentOS",
                                    "kernel_ver": "4.18.0",
                                    "total_vul": "303",
                                    "vul_patched": "145",
                                    "ip4_add": "192.168.43.133",
                                    "owner_id": "au_40513",
                                    "last_update_date": "2023-10-28 00:05:13.787"
                                },
                                {
                                    "sys_id": "APP015648143",
                                    "distribution": "Red Hat",
                                    "kernel_ver": "3.10.0",
                                    "total_vul": "402",
                                    "vul_patched": "168",
                                    "ip4_add": "192.168.88.185",
                                    "owner_id": "us_19904",
                                    "last_update_date": "2023-11-03 00:05:13.787"
                                },
                                {
                                    "sys_id": "APP015685669",
                                    "distribution": "Debian",
                                    "kernel_ver": "5.10.0",
                                    "total_vul": "203",
                                    "vul_patched": "117",
                                    "ip4_add": "10.104.2.171",
                                    "owner_id": "eu_23263",
                                    "last_update_date": "2023-11-18 00:05:13.787"
                                },
                                {
                                    "sys_id": "APP016356515",
                                    "distribution": "Red Hat",
                                    "kernel_ver": "5.6.0",
                                    "total_vul": "190",
                                    "vul_patched": "133",
                                    "ip4_add": "10.240.251.77",
                                    "owner_id": "au_25552",
                                    "last_update_date": "2023-11-16 00:05:13.797"
                                },
                                {
                                    "sys_id": "APP016596579",
                                    "distribution": "Debian",
                                    "kernel_ver": "4.19.0",
                                    "total_vul": "288",
                                    "vul_patched": "146",
                                    "ip4_add": "172.19.100.236",
                                    "owner_id": "eu_69372",
                                    "last_update_date": "2023-10-28 00:05:13.787"
                                },
                                {
                                    "sys_id": "APP016698493",
                                    "distribution": "Ubuntu",
                                    "kernel_ver": "4.15.0",
                                    "total_vul": "279",
                                    "vul_patched": "128",
                                    "ip4_add": "10.193.17.4",
                                    "owner_id": "eu_77467",
                                    "last_update_date": "2023-10-30 00:05:13.797"
                                },
                                {
                                    "sys_id": "APP016848667",
                                    "distribution": "CentOS",
                                    "kernel_ver": "4.18.0",
                                    "total_vul": "284",
                                    "vul_patched": "102",
                                    "ip4_add": "10.98.104.53",
                                    "owner_id": "us_52113",
                                    "last_update_date": "2023-10-21 00:05:13.787"
                                },
                                {
                                    "sys_id": "APP016868799",
                                    "distribution": "CentOS",
                                    "kernel_ver": "4.18.0",
                                    "total_vul": "302",
                                    "vul_patched": "135",
                                    "ip4_add": "192.168.60.114",
                                    "owner_id": "eu_69372",
                                    "last_update_date": "2023-10-22 00:05:13.787"
                                },
                                {
                                    "sys_id": "APP017236883",
                                    "distribution": "Red Hat",
                                    "kernel_ver": "3.10.0",
                                    "total_vul": "395",
                                    "vul_patched": "75",
                                    "ip4_add": "192.168.217.142",
                                    "owner_id": "eu_77467",
                                    "last_update_date": "2023-10-07 00:05:13.787"
                                },
                                {
                                    "sys_id": "APP018021440",
                                    "distribution": "Ubuntu",
                                    "kernel_ver": "5.10.0",
                                    "total_vul": "221",
                                    "vul_patched": "161",
                                    "ip4_add": "172.18.234.80",
                                    "owner_id": "us_10113",
                                    "last_update_date": "2023-11-24 00:05:13.800"
                                },
                                {
                                    "sys_id": "APP018214862",
                                    "distribution": "Debian",
                                    "kernel_ver": "5.15.0",
                                    "total_vul": "213",
                                    "vul_patched": "166",
                                    "ip4_add": "10.235.255.211",
                                    "owner_id": "eu_10858",
                                    "last_update_date": "2023-12-01 00:05:13.787"
                                },
                                {
                                    "sys_id": "APP018350580",
                                    "distribution": "Debian",
                                    "kernel_ver": "5.10.0",
                                    "total_vul": "177",
                                    "vul_patched": "115",
                                    "ip4_add": "10.162.252.254",
                                    "owner_id": "au_89783",
                                    "last_update_date": "2023-11-14 00:05:13.787"
                                },
                                {
                                    "sys_id": "APP018536867",
                                    "distribution": "SUSE",
                                    "kernel_ver": "5.10.0",
                                    "total_vul": "202",
                                    "vul_patched": "135",
                                    "ip4_add": "10.158.225.113",
                                    "owner_id": "eu_22256",
                                    "last_update_date": "2023-11-15 00:05:13.800"
                                },
                                {
                                    "sys_id": "APP018926875",
                                    "distribution": "CentOS",
                                    "kernel_ver": "4.18.0",
                                    "total_vul": "284",
                                    "vul_patched": "136",
                                    "ip4_add": "172.31.208.17",
                                    "owner_id": "eu_23263",
                                    "last_update_date": "2023-10-25 00:05:13.787"
                                },
                                {
                                    "sys_id": "APP019104308",
                                    "distribution": "SUSE",
                                    "kernel_ver": "5.10.0",
                                    "total_vul": "190",
                                    "vul_patched": "121",
                                    "ip4_add": "172.16.170.115",
                                    "owner_id": "au_11362",
                                    "last_update_date": "2023-11-08 00:05:13.787"
                                },
                                {
                                    "sys_id": "APP019130754",
                                    "distribution": "CentOS",
                                    "kernel_ver": "3.10.0",
                                    "total_vul": "414",
                                    "vul_patched": "186",
                                    "ip4_add": "10.61.196.222",
                                    "owner_id": "eu_77467",
                                    "last_update_date": "2023-10-27 00:05:13.787"
                                },
                                {
                                    "sys_id": "APP019792516",
                                    "distribution": "Debian",
                                    "kernel_ver": "4.19.0",
                                    "total_vul": "284",
                                    "vul_patched": "110",
                                    "ip4_add": "172.19.93.255",
                                    "owner_id": "eu_22256",
                                    "last_update_date": "2023-10-31 00:05:13.800"
                                },
                                {
                                    "sys_id": "APP019885164",
                                    "distribution": "Red Hat",
                                    "kernel_ver": "3.10.0",
                                    "total_vul": "391",
                                    "vul_patched": "86",
                                    "ip4_add": "10.40.62.232",
                                    "owner_id": "eu_22256",
                                    "last_update_date": "2023-10-09 00:05:13.787"
                                },
                                {
                                    "sys_id": "APP019977001",
                                    "distribution": "Ubuntu",
                                    "kernel_ver": "5.4.0",
                                    "total_vul": "185",
                                    "vul_patched": "123",
                                    "ip4_add": "10.21.14.85",
                                    "owner_id": "au_18036",
                                    "last_update_date": "2023-11-25 00:05:13.787"
                                },
                                {
                                    "sys_id": "APP020447892",
                                    "distribution": "SUSE",
                                    "kernel_ver": "5.10.0",
                                    "total_vul": "216",
                                    "vul_patched": "140",
                                    "ip4_add": "10.51.249.10",
                                    "owner_id": "eu_22256",
                                    "last_update_date": "2023-11-25 00:05:13.787"
                                },
                                {
                                    "sys_id": "APP021435191",
                                    "distribution": "SUSE",
                                    "kernel_ver": "4.19.0",
                                    "total_vul": "334",
                                    "vul_patched": "190",
                                    "ip4_add": "172.28.171.54",
                                    "owner_id": "au_11362",
                                    "last_update_date": "2023-11-01 00:05:13.797"
                                },
                                {
                                    "sys_id": "APP021810224",
                                    "distribution": "SUSE",
                                    "kernel_ver": "4.12.0",
                                    "total_vul": "319",
                                    "vul_patched": "191",
                                    "ip4_add": "10.9.63.246",
                                    "owner_id": "eu_23263",
                                    "last_update_date": "2023-11-10 00:05:13.800"
                                },
                                {
                                    "sys_id": "APP022196565",
                                    "distribution": "Red Hat",
                                    "kernel_ver": "4.18.0",
                                    "total_vul": "286",
                                    "vul_patched": "102",
                                    "ip4_add": "172.25.78.6",
                                    "owner_id": "eu_11838",
                                    "last_update_date": "2023-10-30 00:05:13.787"
                                },
                                {
                                    "sys_id": "APP022368513",
                                    "distribution": "Debian",
                                    "kernel_ver": "5.10.0",
                                    "total_vul": "218",
                                    "vul_patched": "141",
                                    "ip4_add": "192.168.132.12",
                                    "owner_id": "eu_56544",
                                    "last_update_date": "2023-11-18 00:05:13.787"
                                },
                                {
                                    "sys_id": "APP022405683",
                                    "distribution": "Debian",
                                    "kernel_ver": "4.19.0",
                                    "total_vul": "309",
                                    "vul_patched": "142",
                                    "ip4_add": "10.213.239.18",
                                    "owner_id": "eu_10858",
                                    "last_update_date": "2023-10-28 00:05:13.800"
                                },
                                {
                                    "sys_id": "APP023433201",
                                    "distribution": "Red Hat",
                                    "kernel_ver": "5.6.0",
                                    "total_vul": "207",
                                    "vul_patched": "142",
                                    "ip4_add": "172.17.19.107",
                                    "owner_id": "eu_22256",
                                    "last_update_date": "2023-11-17 00:05:13.787"
                                },
                                {
                                    "sys_id": "APP023863389",
                                    "distribution": "CentOS",
                                    "kernel_ver": "5.6.0",
                                    "total_vul": "158",
                                    "vul_patched": "94",
                                    "ip4_add": "192.168.52.161",
                                    "owner_id": "eu_10858",
                                    "last_update_date": "2023-11-07 00:05:13.800"
                                },
                                {
                                    "sys_id": "APP024117393",
                                    "distribution": "Red Hat",
                                    "kernel_ver": "4.18.0",
                                    "total_vul": "324",
                                    "vul_patched": "129",
                                    "ip4_add": "10.246.225.30",
                                    "owner_id": "au_89783",
                                    "last_update_date": "2023-10-26 00:05:13.787"
                                },
                                {
                                    "sys_id": "APP024770057",
                                    "distribution": "CentOS",
                                    "kernel_ver": "5.6.0",
                                    "total_vul": "208",
                                    "vul_patched": "158",
                                    "ip4_add": "172.25.251.245",
                                    "owner_id": "us_52113",
                                    "last_update_date": "2023-11-17 00:05:13.787"
                                },
                                {
                                    "sys_id": "APP025851496",
                                    "distribution": "Debian",
                                    "kernel_ver": "5.10.0",
                                    "total_vul": "188",
                                    "vul_patched": "156",
                                    "ip4_add": "172.19.115.61",
                                    "owner_id": "eu_56544",
                                    "last_update_date": "2023-11-24 00:05:13.787"
                                },
                                {
                                    "sys_id": "APP025921245",
                                    "distribution": "Debian",
                                    "kernel_ver": "5.10.0",
                                    "total_vul": "177",
                                    "vul_patched": "106",
                                    "ip4_add": "10.8.229.243",
                                    "owner_id": "au_25552",
                                    "last_update_date": "2023-11-06 00:05:13.787"
                                },
                                {
                                    "sys_id": "APP026245658",
                                    "distribution": "Red Hat",
                                    "kernel_ver": "3.10.0",
                                    "total_vul": "417",
                                    "vul_patched": "87",
                                    "ip4_add": "172.23.142.96",
                                    "owner_id": "au_15315",
                                    "last_update_date": "2023-10-09 00:05:13.787"
                                },
                                {
                                    "sys_id": "APP026329451",
                                    "distribution": "Red Hat",
                                    "kernel_ver": "3.10.0",
                                    "total_vul": "416",
                                    "vul_patched": "178",
                                    "ip4_add": "10.148.69.55",
                                    "owner_id": "us_34800",
                                    "last_update_date": "2023-10-25 00:05:13.787"
                                },
                                {
                                    "sys_id": "APP026701451",
                                    "distribution": "Red Hat",
                                    "kernel_ver": "5.6.0",
                                    "total_vul": "196",
                                    "vul_patched": "162",
                                    "ip4_add": "192.168.243.251",
                                    "owner_id": "eu_11838",
                                    "last_update_date": "2023-12-09 00:05:13.787"
                                },
                                {
                                    "sys_id": "APP026814720",
                                    "distribution": "CentOS",
                                    "kernel_ver": "5.6.0",
                                    "total_vul": "183",
                                    "vul_patched": "102",
                                    "ip4_add": "192.168.75.183",
                                    "owner_id": "eu_56544",
                                    "last_update_date": "2023-11-04 00:05:13.800"
                                },
                                {
                                    "sys_id": "APP027445185",
                                    "distribution": "Red Hat",
                                    "kernel_ver": "5.6.0",
                                    "total_vul": "185",
                                    "vul_patched": "114",
                                    "ip4_add": "10.249.4.223",
                                    "owner_id": "us_57346",
                                    "last_update_date": "2023-11-08 00:05:13.787"
                                },
                                {
                                    "sys_id": "APP027703885",
                                    "distribution": "Ubuntu",
                                    "kernel_ver": "5.10.0",
                                    "total_vul": "218",
                                    "vul_patched": "124",
                                    "ip4_add": "10.246.200.204",
                                    "owner_id": "au_16507",
                                    "last_update_date": "2023-11-06 00:05:13.800"
                                },
                                {
                                    "sys_id": "APP027908648",
                                    "distribution": "Debian",
                                    "kernel_ver": "5.10.0",
                                    "total_vul": "178",
                                    "vul_patched": "101",
                                    "ip4_add": "172.31.252.134",
                                    "owner_id": "au_18036",
                                    "last_update_date": "2023-10-30 00:05:13.800"
                                },
                                {
                                    "sys_id": "APP028347389",
                                    "distribution": "Ubuntu",
                                    "kernel_ver": "5.10.0",
                                    "total_vul": "206",
                                    "vul_patched": "170",
                                    "ip4_add": "172.31.59.126",
                                    "owner_id": "us_68077",
                                    "last_update_date": "2023-12-04 00:05:13.787"
                                },
                                {
                                    "sys_id": "APP028569455",
                                    "distribution": "Debian",
                                    "kernel_ver": "5.10.0",
                                    "total_vul": "209",
                                    "vul_patched": "127",
                                    "ip4_add": "172.25.127.148",
                                    "owner_id": "eu_11838",
                                    "last_update_date": "2023-11-11 00:05:13.800"
                                },
                                {
                                    "sys_id": "APP029346677",
                                    "distribution": "Ubuntu",
                                    "kernel_ver": "5.4.0",
                                    "total_vul": "209",
                                    "vul_patched": "129",
                                    "ip4_add": "10.5.110.56",
                                    "owner_id": "us_10113",
                                    "last_update_date": "2023-11-17 00:05:13.797"
                                },
                                {
                                    "sys_id": "APP030863534",
                                    "distribution": "Ubuntu",
                                    "kernel_ver": "5.4.0",
                                    "total_vul": "168",
                                    "vul_patched": "134",
                                    "ip4_add": "172.21.151.67",
                                    "owner_id": "au_18036",
                                    "last_update_date": "2023-11-22 00:05:13.787"
                                },
                                {
                                    "sys_id": "APP030969027",
                                    "distribution": "Red Hat",
                                    "kernel_ver": "5.6.0",
                                    "total_vul": "179",
                                    "vul_patched": "143",
                                    "ip4_add": "10.155.158.76",
                                    "owner_id": "au_77600",
                                    "last_update_date": "2023-12-06 00:05:13.787"
                                },
                                {
                                    "sys_id": "APP031228165",
                                    "distribution": "Debian",
                                    "kernel_ver": "4.19.0",
                                    "total_vul": "320",
                                    "vul_patched": "124",
                                    "ip4_add": "10.32.45.26",
                                    "owner_id": "au_18036",
                                    "last_update_date": "2023-11-02 00:05:13.797"
                                },
                                {
                                    "sys_id": "APP031607333",
                                    "distribution": "Red Hat",
                                    "kernel_ver": "5.6.0",
                                    "total_vul": "191",
                                    "vul_patched": "114",
                                    "ip4_add": "172.20.18.30",
                                    "owner_id": "au_86362",
                                    "last_update_date": "2023-11-14 00:05:13.787"
                                },
                                {
                                    "sys_id": "APP031717472",
                                    "distribution": "CentOS",
                                    "kernel_ver": "5.6.0",
                                    "total_vul": "163",
                                    "vul_patched": "94",
                                    "ip4_add": "192.168.161.101",
                                    "owner_id": "au_40513",
                                    "last_update_date": "2023-11-04 00:05:13.800"
                                },
                                {
                                    "sys_id": "APP031811433",
                                    "distribution": "Debian",
                                    "kernel_ver": "4.19.0",
                                    "total_vul": "286",
                                    "vul_patched": "105",
                                    "ip4_add": "10.35.206.140",
                                    "owner_id": "us_10113",
                                    "last_update_date": "2023-10-31 00:05:13.787"
                                },
                                {
                                    "sys_id": "APP031903406",
                                    "distribution": "SUSE",
                                    "kernel_ver": "4.12.0",
                                    "total_vul": "308",
                                    "vul_patched": "123",
                                    "ip4_add": "172.18.157.219",
                                    "owner_id": "eu_11838",
                                    "last_update_date": "2023-10-21 00:05:13.787"
                                },
                                {
                                    "sys_id": "APP032691665",
                                    "distribution": "Red Hat",
                                    "kernel_ver": "3.10.0",
                                    "total_vul": "415",
                                    "vul_patched": "186",
                                    "ip4_add": "10.218.56.99",
                                    "owner_id": "eu_69372",
                                    "last_update_date": "2023-10-27 00:05:13.787"
                                },
                                {
                                    "sys_id": "APP032702677",
                                    "distribution": "SUSE",
                                    "kernel_ver": "4.19.0",
                                    "total_vul": "303",
                                    "vul_patched": "166",
                                    "ip4_add": "172.20.27.104",
                                    "owner_id": "au_11362",
                                    "last_update_date": "2023-11-04 00:05:13.797"
                                },
                                {
                                    "sys_id": "APP032868524",
                                    "distribution": "SUSE",
                                    "kernel_ver": "5.10.0",
                                    "total_vul": "228",
                                    "vul_patched": "152",
                                    "ip4_add": "172.23.253.138",
                                    "owner_id": "au_16507",
                                    "last_update_date": "2023-11-08 00:05:13.800"
                                },
                                {
                                    "sys_id": "APP033309587",
                                    "distribution": "Ubuntu",
                                    "kernel_ver": "4.15.0",
                                    "total_vul": "303",
                                    "vul_patched": "121",
                                    "ip4_add": "10.132.197.73",
                                    "owner_id": "eu_22256",
                                    "last_update_date": "2023-10-27 00:05:13.787"
                                },
                                {
                                    "sys_id": "APP033705893",
                                    "distribution": "CentOS",
                                    "kernel_ver": "5.6.0",
                                    "total_vul": "197",
                                    "vul_patched": "118",
                                    "ip4_add": "10.186.6.244",
                                    "owner_id": "au_11362",
                                    "last_update_date": "2023-11-05 00:05:13.787"
                                },
                                {
                                    "sys_id": "APP034731785",
                                    "distribution": "Debian",
                                    "kernel_ver": "5.10.0",
                                    "total_vul": "253",
                                    "vul_patched": "156",
                                    "ip4_add": "192.168.45.17",
                                    "owner_id": "eu_10858",
                                    "last_update_date": "2023-11-18 00:05:13.787"
                                },
                                {
                                    "sys_id": "APP034745179",
                                    "distribution": "CentOS",
                                    "kernel_ver": "5.6.0",
                                    "total_vul": "204",
                                    "vul_patched": "124",
                                    "ip4_add": "192.168.246.2",
                                    "owner_id": "eu_69372",
                                    "last_update_date": "2023-11-21 00:05:13.787"
                                },
                                {
                                    "sys_id": "APP035556257",
                                    "distribution": "Debian",
                                    "kernel_ver": "4.19.0",
                                    "total_vul": "315",
                                    "vul_patched": "110",
                                    "ip4_add": "192.168.239.65",
                                    "owner_id": "us_52113",
                                    "last_update_date": "2023-10-22 00:05:13.787"
                                },
                                {
                                    "sys_id": "APP035979274",
                                    "distribution": "Debian",
                                    "kernel_ver": "5.15.0",
                                    "total_vul": "235",
                                    "vul_patched": "131",
                                    "ip4_add": "10.229.215.188",
                                    "owner_id": "au_89783",
                                    "last_update_date": "2023-11-09 00:05:13.800"
                                },
                                {
                                    "sys_id": "APP036137507",
                                    "distribution": "CentOS",
                                    "kernel_ver": "4.18.0",
                                    "total_vul": "308",
                                    "vul_patched": "154",
                                    "ip4_add": "10.167.102.195",
                                    "owner_id": "eu_22256",
                                    "last_update_date": "2023-11-01 00:05:13.787"
                                },
                                {
                                    "sys_id": "APP036142932",
                                    "distribution": "Red Hat",
                                    "kernel_ver": "3.10.0",
                                    "total_vul": "413",
                                    "vul_patched": "152",
                                    "ip4_add": "172.31.184.133",
                                    "owner_id": "us_10113",
                                    "last_update_date": "2023-10-24 00:05:13.787"
                                },
                                {
                                    "sys_id": "APP036796922",
                                    "distribution": "Red Hat",
                                    "kernel_ver": "3.10.0",
                                    "total_vul": "410",
                                    "vul_patched": "114",
                                    "ip4_add": "10.45.202.1",
                                    "owner_id": "au_75432",
                                    "last_update_date": "2023-10-18 00:05:13.800"
                                },
                                {
                                    "sys_id": "APP036818185",
                                    "distribution": "SUSE",
                                    "kernel_ver": "5.10.0",
                                    "total_vul": "206",
                                    "vul_patched": "115",
                                    "ip4_add": "172.21.191.0",
                                    "owner_id": "us_34800",
                                    "last_update_date": "2023-11-08 00:05:13.797"
                                },
                                {
                                    "sys_id": "APP036921247",
                                    "distribution": "Debian",
                                    "kernel_ver": "5.15.0",
                                    "total_vul": "177",
                                    "vul_patched": "127",
                                    "ip4_add": "172.28.13.255",
                                    "owner_id": "au_25552",
                                    "last_update_date": "2023-11-20 00:05:13.800"
                                },
                                {
                                    "sys_id": "APP036944868",
                                    "distribution": "Ubuntu",
                                    "kernel_ver": "5.10.0",
                                    "total_vul": "164",
                                    "vul_patched": "124",
                                    "ip4_add": "192.168.85.185",
                                    "owner_id": "au_77600",
                                    "last_update_date": "2023-11-20 00:05:13.797"
                                },
                                {
                                    "sys_id": "APP037031204",
                                    "distribution": "Red Hat",
                                    "kernel_ver": "5.6.0",
                                    "total_vul": "221",
                                    "vul_patched": "179",
                                    "ip4_add": "172.30.154.16",
                                    "owner_id": "us_15438",
                                    "last_update_date": "2023-11-25 00:05:13.800"
                                },
                                {
                                    "sys_id": "APP037104050",
                                    "distribution": "Red Hat",
                                    "kernel_ver": "4.18.0",
                                    "total_vul": "276",
                                    "vul_patched": "102",
                                    "ip4_add": "192.168.119.185",
                                    "owner_id": "us_68077",
                                    "last_update_date": "2023-10-22 00:05:13.787"
                                },
                                {
                                    "sys_id": "APP038809574",
                                    "distribution": "Debian",
                                    "kernel_ver": "5.15.0",
                                    "total_vul": "218",
                                    "vul_patched": "150",
                                    "ip4_add": "10.72.80.48",
                                    "owner_id": "eu_23263",
                                    "last_update_date": "2023-11-20 00:05:13.787"
                                },
                                {
                                    "sys_id": "APP039142832",
                                    "distribution": "Ubuntu",
                                    "kernel_ver": "4.15.0",
                                    "total_vul": "311",
                                    "vul_patched": "121",
                                    "ip4_add": "192.168.35.5",
                                    "owner_id": "au_89783",
                                    "last_update_date": "2023-10-24 00:05:13.797"
                                },
                                {
                                    "sys_id": "APP040011978",
                                    "distribution": "Debian",
                                    "kernel_ver": "5.15.0",
                                    "total_vul": "182",
                                    "vul_patched": "152",
                                    "ip4_add": "192.168.144.8",
                                    "owner_id": "au_86362",
                                    "last_update_date": "2023-11-30 00:05:13.787"
                                },
                                {
                                    "sys_id": "APP040033545",
                                    "distribution": "Ubuntu",
                                    "kernel_ver": "5.10.0",
                                    "total_vul": "179",
                                    "vul_patched": "123",
                                    "ip4_add": "172.18.24.59",
                                    "owner_id": "us_34800",
                                    "last_update_date": "2023-11-15 00:05:13.787"
                                },
                                {
                                    "sys_id": "APP040548687",
                                    "distribution": "Debian",
                                    "kernel_ver": "4.19.0",
                                    "total_vul": "300",
                                    "vul_patched": "186",
                                    "ip4_add": "172.28.22.235",
                                    "owner_id": "au_16507",
                                    "last_update_date": "2023-11-10 00:05:13.787"
                                },
                                {
                                    "sys_id": "APP041032419",
                                    "distribution": "CentOS",
                                    "kernel_ver": "3.10.0",
                                    "total_vul": "404",
                                    "vul_patched": "165",
                                    "ip4_add": "10.206.53.187",
                                    "owner_id": "us_52113",
                                    "last_update_date": "2023-10-16 00:05:13.787"
                                },
                                {
                                    "sys_id": "APP041165661",
                                    "distribution": "SUSE",
                                    "kernel_ver": "4.19.0",
                                    "total_vul": "305",
                                    "vul_patched": "143",
                                    "ip4_add": "192.168.230.157",
                                    "owner_id": "eu_11838",
                                    "last_update_date": "2023-10-23 00:05:13.787"
                                },
                                {
                                    "sys_id": "APP042133485",
                                    "distribution": "Red Hat",
                                    "kernel_ver": "5.6.0",
                                    "total_vul": "220",
                                    "vul_patched": "134",
                                    "ip4_add": "192.168.176.53",
                                    "owner_id": "us_57346",
                                    "last_update_date": "2023-11-13 00:05:13.787"
                                },
                                {
                                    "sys_id": "APP042603326",
                                    "distribution": "SUSE",
                                    "kernel_ver": "5.10.0",
                                    "total_vul": "215",
                                    "vul_patched": "118",
                                    "ip4_add": "172.30.69.124",
                                    "owner_id": "au_77600",
                                    "last_update_date": "2023-11-15 00:05:13.787"
                                },
                                {
                                    "sys_id": "APP042719508",
                                    "distribution": "SUSE",
                                    "kernel_ver": "5.10.0",
                                    "total_vul": "208",
                                    "vul_patched": "124",
                                    "ip4_add": "192.168.166.235",
                                    "owner_id": "eu_10858",
                                    "last_update_date": "2023-11-21 00:05:13.800"
                                },
                                {
                                    "sys_id": "APP042858841",
                                    "distribution": "Red Hat",
                                    "kernel_ver": "5.6.0",
                                    "total_vul": "204",
                                    "vul_patched": "114",
                                    "ip4_add": "172.18.34.156",
                                    "owner_id": "au_25552",
                                    "last_update_date": "2023-11-01 00:05:13.787"
                                },
                                {
                                    "sys_id": "APP042871019",
                                    "distribution": "SUSE",
                                    "kernel_ver": "4.19.0",
                                    "total_vul": "267",
                                    "vul_patched": "157",
                                    "ip4_add": "10.112.238.225",
                                    "owner_id": "au_11362",
                                    "last_update_date": "2023-11-14 00:05:13.787"
                                },
                                {
                                    "sys_id": "APP042921273",
                                    "distribution": "Debian",
                                    "kernel_ver": "5.10.0",
                                    "total_vul": "254",
                                    "vul_patched": "160",
                                    "ip4_add": "10.69.150.78",
                                    "owner_id": "us_10113",
                                    "last_update_date": "2023-11-09 00:05:13.787"
                                },
                                {
                                    "sys_id": "APP044191823",
                                    "distribution": "SUSE",
                                    "kernel_ver": "4.12.0",
                                    "total_vul": "267",
                                    "vul_patched": "168",
                                    "ip4_add": "192.168.218.30",
                                    "owner_id": "au_77600",
                                    "last_update_date": "2023-11-10 00:05:13.787"
                                },
                                {
                                    "sys_id": "APP044270867",
                                    "distribution": "CentOS",
                                    "kernel_ver": "3.10.0",
                                    "total_vul": "382",
                                    "vul_patched": "164",
                                    "ip4_add": "172.28.57.242",
                                    "owner_id": "au_11362",
                                    "last_update_date": "2023-10-21 00:05:13.787"
                                },
                                {
                                    "sys_id": "APP045175181",
                                    "distribution": "CentOS",
                                    "kernel_ver": "3.10.0",
                                    "total_vul": "365",
                                    "vul_patched": "62",
                                    "ip4_add": "192.168.144.225",
                                    "owner_id": "us_68077",
                                    "last_update_date": "2023-10-13 00:05:13.787"
                                },
                                {
                                    "sys_id": "APP045403316",
                                    "distribution": "Debian",
                                    "kernel_ver": "4.19.0",
                                    "total_vul": "277",
                                    "vul_patched": "130",
                                    "ip4_add": "10.134.10.148",
                                    "owner_id": "us_68077",
                                    "last_update_date": "2023-11-07 00:05:13.787"
                                },
                                {
                                    "sys_id": "APP045743843",
                                    "distribution": "Ubuntu",
                                    "kernel_ver": "5.4.0",
                                    "total_vul": "175",
                                    "vul_patched": "96",
                                    "ip4_add": "172.20.76.114",
                                    "owner_id": "us_52113",
                                    "last_update_date": "2023-11-16 00:05:13.800"
                                },
                                {
                                    "sys_id": "APP046471020",
                                    "distribution": "CentOS",
                                    "kernel_ver": "5.6.0",
                                    "total_vul": "203",
                                    "vul_patched": "136",
                                    "ip4_add": "192.168.92.119",
                                    "owner_id": "eu_77467",
                                    "last_update_date": "2023-11-28 00:05:13.787"
                                }
                            ]
                        },
                        "text/html": [
                            "<table>",
                            "<tr><th>sys_id</th><th>distribution</th><th>kernel_ver</th><th>total_vul</th><th>vul_patched</th><th>ip4_add</th><th>owner_id</th><th>last_update_date</th></tr>",
                            "<tr><td>APP010225574</td><td>SUSE</td><td>4.12.0</td><td>318</td><td>165</td><td>172.26.47.139</td><td>eu_69372</td><td>2023-11-09 00:05:13.787</td></tr>",
                            "<tr><td>APP010532937</td><td>SUSE</td><td>4.12.0</td><td>278</td><td>111</td><td>192.168.138.252</td><td>eu_22256</td><td>2023-10-29 00:05:13.787</td></tr>",
                            "<tr><td>APP010996887</td><td>Debian</td><td>5.10.0</td><td>167</td><td>118</td><td>192.168.131.55</td><td>us_57346</td><td>2023-11-25 00:05:13.797</td></tr>",
                            "<tr><td>APP011006239</td><td>Debian</td><td>4.19.0</td><td>304</td><td>167</td><td>10.195.10.67</td><td>us_15438</td><td>2023-11-09 00:05:13.787</td></tr>",
                            "<tr><td>APP011413819</td><td>Red Hat</td><td>4.18.0</td><td>306</td><td>195</td><td>192.168.226.85</td><td>eu_51465</td><td>2023-11-22 00:05:13.800</td></tr>",
                            "<tr><td>APP011543035</td><td>SUSE</td><td>5.10.0</td><td>204</td><td>163</td><td>172.27.214.113</td><td>us_15438</td><td>2023-12-06 00:05:13.787</td></tr>",
                            "<tr><td>APP012341320</td><td>Debian</td><td>4.19.0</td><td>294</td><td>108</td><td>10.90.243.30</td><td>au_86362</td><td>2023-10-26 00:05:13.800</td></tr>",
                            "<tr><td>APP012793716</td><td>Debian</td><td>5.15.0</td><td>196</td><td>115</td><td>10.240.66.165</td><td>eu_77467</td><td>2023-11-04 00:05:13.800</td></tr>",
                            "<tr><td>APP013070535</td><td>Ubuntu</td><td>5.4.0</td><td>210</td><td>170</td><td>192.168.209.186</td><td>au_11362</td><td>2023-11-23 00:05:13.787</td></tr>",
                            "<tr><td>APP013075624</td><td>CentOS</td><td>4.18.0</td><td>308</td><td>147</td><td>10.133.136.160</td><td>au_40513</td><td>2023-10-28 00:05:13.787</td></tr>",
                            "<tr><td>APP013136505</td><td>SUSE</td><td>4.19.0</td><td>281</td><td>132</td><td>192.168.111.60</td><td>eu_56544</td><td>2023-11-08 00:05:13.800</td></tr>",
                            "<tr><td>APP013311906</td><td>Ubuntu</td><td>4.15.0</td><td>325</td><td>178</td><td>172.21.102.114</td><td>au_86362</td><td>2023-11-06 00:05:13.787</td></tr>",
                            "<tr><td>APP013791762</td><td>Debian</td><td>4.19.0</td><td>296</td><td>130</td><td>172.31.86.44</td><td>us_34800</td><td>2023-10-31 00:05:13.787</td></tr>",
                            "<tr><td>APP014078594</td><td>Red Hat</td><td>5.6.0</td><td>219</td><td>166</td><td>172.25.189.3</td><td>eu_56544</td><td>2023-12-05 00:05:13.787</td></tr>",
                            "<tr><td>APP014436990</td><td>Ubuntu</td><td>5.10.0</td><td>188</td><td>118</td><td>172.23.29.244</td><td>us_68077</td><td>2023-11-13 00:05:13.787</td></tr>",
                            "<tr><td>APP014754122</td><td>Ubuntu</td><td>4.15.0</td><td>333</td><td>156</td><td>10.104.79.200</td><td>eu_10858</td><td>2023-11-08 00:05:13.787</td></tr>",
                            "<tr><td>APP015151863</td><td>CentOS</td><td>4.18.0</td><td>303</td><td>145</td><td>192.168.43.133</td><td>au_40513</td><td>2023-10-28 00:05:13.787</td></tr>",
                            "<tr><td>APP015648143</td><td>Red Hat</td><td>3.10.0</td><td>402</td><td>168</td><td>192.168.88.185</td><td>us_19904</td><td>2023-11-03 00:05:13.787</td></tr>",
                            "<tr><td>APP015685669</td><td>Debian</td><td>5.10.0</td><td>203</td><td>117</td><td>10.104.2.171</td><td>eu_23263</td><td>2023-11-18 00:05:13.787</td></tr>",
                            "<tr><td>APP016356515</td><td>Red Hat</td><td>5.6.0</td><td>190</td><td>133</td><td>10.240.251.77</td><td>au_25552</td><td>2023-11-16 00:05:13.797</td></tr>",
                            "<tr><td>APP016596579</td><td>Debian</td><td>4.19.0</td><td>288</td><td>146</td><td>172.19.100.236</td><td>eu_69372</td><td>2023-10-28 00:05:13.787</td></tr>",
                            "<tr><td>APP016698493</td><td>Ubuntu</td><td>4.15.0</td><td>279</td><td>128</td><td>10.193.17.4</td><td>eu_77467</td><td>2023-10-30 00:05:13.797</td></tr>",
                            "<tr><td>APP016848667</td><td>CentOS</td><td>4.18.0</td><td>284</td><td>102</td><td>10.98.104.53</td><td>us_52113</td><td>2023-10-21 00:05:13.787</td></tr>",
                            "<tr><td>APP016868799</td><td>CentOS</td><td>4.18.0</td><td>302</td><td>135</td><td>192.168.60.114</td><td>eu_69372</td><td>2023-10-22 00:05:13.787</td></tr>",
                            "<tr><td>APP017236883</td><td>Red Hat</td><td>3.10.0</td><td>395</td><td>75</td><td>192.168.217.142</td><td>eu_77467</td><td>2023-10-07 00:05:13.787</td></tr>",
                            "<tr><td>APP018021440</td><td>Ubuntu</td><td>5.10.0</td><td>221</td><td>161</td><td>172.18.234.80</td><td>us_10113</td><td>2023-11-24 00:05:13.800</td></tr>",
                            "<tr><td>APP018214862</td><td>Debian</td><td>5.15.0</td><td>213</td><td>166</td><td>10.235.255.211</td><td>eu_10858</td><td>2023-12-01 00:05:13.787</td></tr>",
                            "<tr><td>APP018350580</td><td>Debian</td><td>5.10.0</td><td>177</td><td>115</td><td>10.162.252.254</td><td>au_89783</td><td>2023-11-14 00:05:13.787</td></tr>",
                            "<tr><td>APP018536867</td><td>SUSE</td><td>5.10.0</td><td>202</td><td>135</td><td>10.158.225.113</td><td>eu_22256</td><td>2023-11-15 00:05:13.800</td></tr>",
                            "<tr><td>APP018926875</td><td>CentOS</td><td>4.18.0</td><td>284</td><td>136</td><td>172.31.208.17</td><td>eu_23263</td><td>2023-10-25 00:05:13.787</td></tr>",
                            "<tr><td>APP019104308</td><td>SUSE</td><td>5.10.0</td><td>190</td><td>121</td><td>172.16.170.115</td><td>au_11362</td><td>2023-11-08 00:05:13.787</td></tr>",
                            "<tr><td>APP019130754</td><td>CentOS</td><td>3.10.0</td><td>414</td><td>186</td><td>10.61.196.222</td><td>eu_77467</td><td>2023-10-27 00:05:13.787</td></tr>",
                            "<tr><td>APP019792516</td><td>Debian</td><td>4.19.0</td><td>284</td><td>110</td><td>172.19.93.255</td><td>eu_22256</td><td>2023-10-31 00:05:13.800</td></tr>",
                            "<tr><td>APP019885164</td><td>Red Hat</td><td>3.10.0</td><td>391</td><td>86</td><td>10.40.62.232</td><td>eu_22256</td><td>2023-10-09 00:05:13.787</td></tr>",
                            "<tr><td>APP019977001</td><td>Ubuntu</td><td>5.4.0</td><td>185</td><td>123</td><td>10.21.14.85</td><td>au_18036</td><td>2023-11-25 00:05:13.787</td></tr>",
                            "<tr><td>APP020447892</td><td>SUSE</td><td>5.10.0</td><td>216</td><td>140</td><td>10.51.249.10</td><td>eu_22256</td><td>2023-11-25 00:05:13.787</td></tr>",
                            "<tr><td>APP021435191</td><td>SUSE</td><td>4.19.0</td><td>334</td><td>190</td><td>172.28.171.54</td><td>au_11362</td><td>2023-11-01 00:05:13.797</td></tr>",
                            "<tr><td>APP021810224</td><td>SUSE</td><td>4.12.0</td><td>319</td><td>191</td><td>10.9.63.246</td><td>eu_23263</td><td>2023-11-10 00:05:13.800</td></tr>",
                            "<tr><td>APP022196565</td><td>Red Hat</td><td>4.18.0</td><td>286</td><td>102</td><td>172.25.78.6</td><td>eu_11838</td><td>2023-10-30 00:05:13.787</td></tr>",
                            "<tr><td>APP022368513</td><td>Debian</td><td>5.10.0</td><td>218</td><td>141</td><td>192.168.132.12</td><td>eu_56544</td><td>2023-11-18 00:05:13.787</td></tr>",
                            "<tr><td>APP022405683</td><td>Debian</td><td>4.19.0</td><td>309</td><td>142</td><td>10.213.239.18</td><td>eu_10858</td><td>2023-10-28 00:05:13.800</td></tr>",
                            "<tr><td>APP023433201</td><td>Red Hat</td><td>5.6.0</td><td>207</td><td>142</td><td>172.17.19.107</td><td>eu_22256</td><td>2023-11-17 00:05:13.787</td></tr>",
                            "<tr><td>APP023863389</td><td>CentOS</td><td>5.6.0</td><td>158</td><td>94</td><td>192.168.52.161</td><td>eu_10858</td><td>2023-11-07 00:05:13.800</td></tr>",
                            "<tr><td>APP024117393</td><td>Red Hat</td><td>4.18.0</td><td>324</td><td>129</td><td>10.246.225.30</td><td>au_89783</td><td>2023-10-26 00:05:13.787</td></tr>",
                            "<tr><td>APP024770057</td><td>CentOS</td><td>5.6.0</td><td>208</td><td>158</td><td>172.25.251.245</td><td>us_52113</td><td>2023-11-17 00:05:13.787</td></tr>",
                            "<tr><td>APP025851496</td><td>Debian</td><td>5.10.0</td><td>188</td><td>156</td><td>172.19.115.61</td><td>eu_56544</td><td>2023-11-24 00:05:13.787</td></tr>",
                            "<tr><td>APP025921245</td><td>Debian</td><td>5.10.0</td><td>177</td><td>106</td><td>10.8.229.243</td><td>au_25552</td><td>2023-11-06 00:05:13.787</td></tr>",
                            "<tr><td>APP026245658</td><td>Red Hat</td><td>3.10.0</td><td>417</td><td>87</td><td>172.23.142.96</td><td>au_15315</td><td>2023-10-09 00:05:13.787</td></tr>",
                            "<tr><td>APP026329451</td><td>Red Hat</td><td>3.10.0</td><td>416</td><td>178</td><td>10.148.69.55</td><td>us_34800</td><td>2023-10-25 00:05:13.787</td></tr>",
                            "<tr><td>APP026701451</td><td>Red Hat</td><td>5.6.0</td><td>196</td><td>162</td><td>192.168.243.251</td><td>eu_11838</td><td>2023-12-09 00:05:13.787</td></tr>",
                            "<tr><td>APP026814720</td><td>CentOS</td><td>5.6.0</td><td>183</td><td>102</td><td>192.168.75.183</td><td>eu_56544</td><td>2023-11-04 00:05:13.800</td></tr>",
                            "<tr><td>APP027445185</td><td>Red Hat</td><td>5.6.0</td><td>185</td><td>114</td><td>10.249.4.223</td><td>us_57346</td><td>2023-11-08 00:05:13.787</td></tr>",
                            "<tr><td>APP027703885</td><td>Ubuntu</td><td>5.10.0</td><td>218</td><td>124</td><td>10.246.200.204</td><td>au_16507</td><td>2023-11-06 00:05:13.800</td></tr>",
                            "<tr><td>APP027908648</td><td>Debian</td><td>5.10.0</td><td>178</td><td>101</td><td>172.31.252.134</td><td>au_18036</td><td>2023-10-30 00:05:13.800</td></tr>",
                            "<tr><td>APP028347389</td><td>Ubuntu</td><td>5.10.0</td><td>206</td><td>170</td><td>172.31.59.126</td><td>us_68077</td><td>2023-12-04 00:05:13.787</td></tr>",
                            "<tr><td>APP028569455</td><td>Debian</td><td>5.10.0</td><td>209</td><td>127</td><td>172.25.127.148</td><td>eu_11838</td><td>2023-11-11 00:05:13.800</td></tr>",
                            "<tr><td>APP029346677</td><td>Ubuntu</td><td>5.4.0</td><td>209</td><td>129</td><td>10.5.110.56</td><td>us_10113</td><td>2023-11-17 00:05:13.797</td></tr>",
                            "<tr><td>APP030863534</td><td>Ubuntu</td><td>5.4.0</td><td>168</td><td>134</td><td>172.21.151.67</td><td>au_18036</td><td>2023-11-22 00:05:13.787</td></tr>",
                            "<tr><td>APP030969027</td><td>Red Hat</td><td>5.6.0</td><td>179</td><td>143</td><td>10.155.158.76</td><td>au_77600</td><td>2023-12-06 00:05:13.787</td></tr>",
                            "<tr><td>APP031228165</td><td>Debian</td><td>4.19.0</td><td>320</td><td>124</td><td>10.32.45.26</td><td>au_18036</td><td>2023-11-02 00:05:13.797</td></tr>",
                            "<tr><td>APP031607333</td><td>Red Hat</td><td>5.6.0</td><td>191</td><td>114</td><td>172.20.18.30</td><td>au_86362</td><td>2023-11-14 00:05:13.787</td></tr>",
                            "<tr><td>APP031717472</td><td>CentOS</td><td>5.6.0</td><td>163</td><td>94</td><td>192.168.161.101</td><td>au_40513</td><td>2023-11-04 00:05:13.800</td></tr>",
                            "<tr><td>APP031811433</td><td>Debian</td><td>4.19.0</td><td>286</td><td>105</td><td>10.35.206.140</td><td>us_10113</td><td>2023-10-31 00:05:13.787</td></tr>",
                            "<tr><td>APP031903406</td><td>SUSE</td><td>4.12.0</td><td>308</td><td>123</td><td>172.18.157.219</td><td>eu_11838</td><td>2023-10-21 00:05:13.787</td></tr>",
                            "<tr><td>APP032691665</td><td>Red Hat</td><td>3.10.0</td><td>415</td><td>186</td><td>10.218.56.99</td><td>eu_69372</td><td>2023-10-27 00:05:13.787</td></tr>",
                            "<tr><td>APP032702677</td><td>SUSE</td><td>4.19.0</td><td>303</td><td>166</td><td>172.20.27.104</td><td>au_11362</td><td>2023-11-04 00:05:13.797</td></tr>",
                            "<tr><td>APP032868524</td><td>SUSE</td><td>5.10.0</td><td>228</td><td>152</td><td>172.23.253.138</td><td>au_16507</td><td>2023-11-08 00:05:13.800</td></tr>",
                            "<tr><td>APP033309587</td><td>Ubuntu</td><td>4.15.0</td><td>303</td><td>121</td><td>10.132.197.73</td><td>eu_22256</td><td>2023-10-27 00:05:13.787</td></tr>",
                            "<tr><td>APP033705893</td><td>CentOS</td><td>5.6.0</td><td>197</td><td>118</td><td>10.186.6.244</td><td>au_11362</td><td>2023-11-05 00:05:13.787</td></tr>",
                            "<tr><td>APP034731785</td><td>Debian</td><td>5.10.0</td><td>253</td><td>156</td><td>192.168.45.17</td><td>eu_10858</td><td>2023-11-18 00:05:13.787</td></tr>",
                            "<tr><td>APP034745179</td><td>CentOS</td><td>5.6.0</td><td>204</td><td>124</td><td>192.168.246.2</td><td>eu_69372</td><td>2023-11-21 00:05:13.787</td></tr>",
                            "<tr><td>APP035556257</td><td>Debian</td><td>4.19.0</td><td>315</td><td>110</td><td>192.168.239.65</td><td>us_52113</td><td>2023-10-22 00:05:13.787</td></tr>",
                            "<tr><td>APP035979274</td><td>Debian</td><td>5.15.0</td><td>235</td><td>131</td><td>10.229.215.188</td><td>au_89783</td><td>2023-11-09 00:05:13.800</td></tr>",
                            "<tr><td>APP036137507</td><td>CentOS</td><td>4.18.0</td><td>308</td><td>154</td><td>10.167.102.195</td><td>eu_22256</td><td>2023-11-01 00:05:13.787</td></tr>",
                            "<tr><td>APP036142932</td><td>Red Hat</td><td>3.10.0</td><td>413</td><td>152</td><td>172.31.184.133</td><td>us_10113</td><td>2023-10-24 00:05:13.787</td></tr>",
                            "<tr><td>APP036796922</td><td>Red Hat</td><td>3.10.0</td><td>410</td><td>114</td><td>10.45.202.1</td><td>au_75432</td><td>2023-10-18 00:05:13.800</td></tr>",
                            "<tr><td>APP036818185</td><td>SUSE</td><td>5.10.0</td><td>206</td><td>115</td><td>172.21.191.0</td><td>us_34800</td><td>2023-11-08 00:05:13.797</td></tr>",
                            "<tr><td>APP036921247</td><td>Debian</td><td>5.15.0</td><td>177</td><td>127</td><td>172.28.13.255</td><td>au_25552</td><td>2023-11-20 00:05:13.800</td></tr>",
                            "<tr><td>APP036944868</td><td>Ubuntu</td><td>5.10.0</td><td>164</td><td>124</td><td>192.168.85.185</td><td>au_77600</td><td>2023-11-20 00:05:13.797</td></tr>",
                            "<tr><td>APP037031204</td><td>Red Hat</td><td>5.6.0</td><td>221</td><td>179</td><td>172.30.154.16</td><td>us_15438</td><td>2023-11-25 00:05:13.800</td></tr>",
                            "<tr><td>APP037104050</td><td>Red Hat</td><td>4.18.0</td><td>276</td><td>102</td><td>192.168.119.185</td><td>us_68077</td><td>2023-10-22 00:05:13.787</td></tr>",
                            "<tr><td>APP038809574</td><td>Debian</td><td>5.15.0</td><td>218</td><td>150</td><td>10.72.80.48</td><td>eu_23263</td><td>2023-11-20 00:05:13.787</td></tr>",
                            "<tr><td>APP039142832</td><td>Ubuntu</td><td>4.15.0</td><td>311</td><td>121</td><td>192.168.35.5</td><td>au_89783</td><td>2023-10-24 00:05:13.797</td></tr>",
                            "<tr><td>APP040011978</td><td>Debian</td><td>5.15.0</td><td>182</td><td>152</td><td>192.168.144.8</td><td>au_86362</td><td>2023-11-30 00:05:13.787</td></tr>",
                            "<tr><td>APP040033545</td><td>Ubuntu</td><td>5.10.0</td><td>179</td><td>123</td><td>172.18.24.59</td><td>us_34800</td><td>2023-11-15 00:05:13.787</td></tr>",
                            "<tr><td>APP040548687</td><td>Debian</td><td>4.19.0</td><td>300</td><td>186</td><td>172.28.22.235</td><td>au_16507</td><td>2023-11-10 00:05:13.787</td></tr>",
                            "<tr><td>APP041032419</td><td>CentOS</td><td>3.10.0</td><td>404</td><td>165</td><td>10.206.53.187</td><td>us_52113</td><td>2023-10-16 00:05:13.787</td></tr>",
                            "<tr><td>APP041165661</td><td>SUSE</td><td>4.19.0</td><td>305</td><td>143</td><td>192.168.230.157</td><td>eu_11838</td><td>2023-10-23 00:05:13.787</td></tr>",
                            "<tr><td>APP042133485</td><td>Red Hat</td><td>5.6.0</td><td>220</td><td>134</td><td>192.168.176.53</td><td>us_57346</td><td>2023-11-13 00:05:13.787</td></tr>",
                            "<tr><td>APP042603326</td><td>SUSE</td><td>5.10.0</td><td>215</td><td>118</td><td>172.30.69.124</td><td>au_77600</td><td>2023-11-15 00:05:13.787</td></tr>",
                            "<tr><td>APP042719508</td><td>SUSE</td><td>5.10.0</td><td>208</td><td>124</td><td>192.168.166.235</td><td>eu_10858</td><td>2023-11-21 00:05:13.800</td></tr>",
                            "<tr><td>APP042858841</td><td>Red Hat</td><td>5.6.0</td><td>204</td><td>114</td><td>172.18.34.156</td><td>au_25552</td><td>2023-11-01 00:05:13.787</td></tr>",
                            "<tr><td>APP042871019</td><td>SUSE</td><td>4.19.0</td><td>267</td><td>157</td><td>10.112.238.225</td><td>au_11362</td><td>2023-11-14 00:05:13.787</td></tr>",
                            "<tr><td>APP042921273</td><td>Debian</td><td>5.10.0</td><td>254</td><td>160</td><td>10.69.150.78</td><td>us_10113</td><td>2023-11-09 00:05:13.787</td></tr>",
                            "<tr><td>APP044191823</td><td>SUSE</td><td>4.12.0</td><td>267</td><td>168</td><td>192.168.218.30</td><td>au_77600</td><td>2023-11-10 00:05:13.787</td></tr>",
                            "<tr><td>APP044270867</td><td>CentOS</td><td>3.10.0</td><td>382</td><td>164</td><td>172.28.57.242</td><td>au_11362</td><td>2023-10-21 00:05:13.787</td></tr>",
                            "<tr><td>APP045175181</td><td>CentOS</td><td>3.10.0</td><td>365</td><td>62</td><td>192.168.144.225</td><td>us_68077</td><td>2023-10-13 00:05:13.787</td></tr>",
                            "<tr><td>APP045403316</td><td>Debian</td><td>4.19.0</td><td>277</td><td>130</td><td>10.134.10.148</td><td>us_68077</td><td>2023-11-07 00:05:13.787</td></tr>",
                            "<tr><td>APP045743843</td><td>Ubuntu</td><td>5.4.0</td><td>175</td><td>96</td><td>172.20.76.114</td><td>us_52113</td><td>2023-11-16 00:05:13.800</td></tr>",
                            "<tr><td>APP046471020</td><td>CentOS</td><td>5.6.0</td><td>203</td><td>136</td><td>192.168.92.119</td><td>eu_77467</td><td>2023-11-28 00:05:13.787</td></tr>",
                            "</table>"
                        ]
                    }
                }
            ],
            "execution_count": 66
        },
        {
            "cell_type": "markdown",
            "source": [
                "## owner_table\r\n",
                "Gives information of the owners associated with the said servers.  \r\n",
                "Primary key is _owner_table_"
            ],
            "metadata": {
                "language": "sql",
                "azdata_cell_guid": "a3256082-552e-4b9d-a7db-1547ad527a01"
            },
            "attachments": {}
        },
        {
            "cell_type": "code",
            "source": [
                "SELECT *\r\n",
                "FROM linux_server_project..owner_table;"
            ],
            "metadata": {
                "language": "sql",
                "azdata_cell_guid": "f696343d-e4cb-4611-87e8-ec67fec06ffa"
            },
            "outputs": [
                {
                    "output_type": "display_data",
                    "data": {
                        "text/html": "(25 rows affected)"
                    },
                    "metadata": {}
                },
                {
                    "output_type": "display_data",
                    "data": {
                        "text/html": "Total execution time: 00:00:00.009"
                    },
                    "metadata": {}
                },
                {
                    "output_type": "execute_result",
                    "metadata": {},
                    "execution_count": 67,
                    "data": {
                        "application/vnd.dataresource+json": {
                            "schema": {
                                "fields": [
                                    {
                                        "name": "owner_id"
                                    },
                                    {
                                        "name": "location_id"
                                    },
                                    {
                                        "name": "first_name"
                                    },
                                    {
                                        "name": "last_name"
                                    }
                                ]
                            },
                            "data": [
                                {
                                    "owner_id": "au_11362",
                                    "location_id": "1",
                                    "first_name": "Zachary",
                                    "last_name": "Holland"
                                },
                                {
                                    "owner_id": "au_15315",
                                    "location_id": "1",
                                    "first_name": "Autumn",
                                    "last_name": "Miranda"
                                },
                                {
                                    "owner_id": "au_16507",
                                    "location_id": "1",
                                    "first_name": "Eduardo",
                                    "last_name": "Chen"
                                },
                                {
                                    "owner_id": "au_18036",
                                    "location_id": "1",
                                    "first_name": "Amber",
                                    "last_name": "Mccoy"
                                },
                                {
                                    "owner_id": "au_25552",
                                    "location_id": "1",
                                    "first_name": "Stephanie",
                                    "last_name": "Miller"
                                },
                                {
                                    "owner_id": "au_40513",
                                    "location_id": "1",
                                    "first_name": "Aaron",
                                    "last_name": "Howard"
                                },
                                {
                                    "owner_id": "au_75432",
                                    "location_id": "1",
                                    "first_name": "Kimberly",
                                    "last_name": "Dominguez"
                                },
                                {
                                    "owner_id": "au_77600",
                                    "location_id": "1",
                                    "first_name": "Sarah",
                                    "last_name": "Davis"
                                },
                                {
                                    "owner_id": "au_86362",
                                    "location_id": "1",
                                    "first_name": "Dakota",
                                    "last_name": "Olson"
                                },
                                {
                                    "owner_id": "au_89783",
                                    "location_id": "1",
                                    "first_name": "Shelby",
                                    "last_name": "Thompson"
                                },
                                {
                                    "owner_id": "eu_10858",
                                    "location_id": "2",
                                    "first_name": "Sean",
                                    "last_name": "Maldonado"
                                },
                                {
                                    "owner_id": "eu_11838",
                                    "location_id": "2",
                                    "first_name": "Elizabeth",
                                    "last_name": "Nichols"
                                },
                                {
                                    "owner_id": "eu_22256",
                                    "location_id": "2",
                                    "first_name": "Ryan",
                                    "last_name": "Cruz"
                                },
                                {
                                    "owner_id": "eu_23263",
                                    "location_id": "2",
                                    "first_name": "John",
                                    "last_name": "Howard"
                                },
                                {
                                    "owner_id": "eu_51465",
                                    "location_id": "2",
                                    "first_name": "Charles",
                                    "last_name": "Bradley"
                                },
                                {
                                    "owner_id": "eu_56544",
                                    "location_id": "2",
                                    "first_name": "Peggy",
                                    "last_name": "Morales"
                                },
                                {
                                    "owner_id": "eu_69372",
                                    "location_id": "2",
                                    "first_name": "Isabel",
                                    "last_name": "Miller"
                                },
                                {
                                    "owner_id": "eu_77467",
                                    "location_id": "2",
                                    "first_name": "Megan",
                                    "last_name": "Lee"
                                },
                                {
                                    "owner_id": "us_10113",
                                    "location_id": "3",
                                    "first_name": "Ashley",
                                    "last_name": "Donovan"
                                },
                                {
                                    "owner_id": "us_15438",
                                    "location_id": "3",
                                    "first_name": "Kristen",
                                    "last_name": "Mosley"
                                },
                                {
                                    "owner_id": "us_19904",
                                    "location_id": "3",
                                    "first_name": "Rebecca",
                                    "last_name": "Stevens"
                                },
                                {
                                    "owner_id": "us_34800",
                                    "location_id": "3",
                                    "first_name": "Jennifer",
                                    "last_name": "Meyers"
                                },
                                {
                                    "owner_id": "us_52113",
                                    "location_id": "3",
                                    "first_name": "Tracy",
                                    "last_name": "Williams"
                                },
                                {
                                    "owner_id": "us_57346",
                                    "location_id": "3",
                                    "first_name": "Joseph",
                                    "last_name": "Woodward"
                                },
                                {
                                    "owner_id": "us_68077",
                                    "location_id": "3",
                                    "first_name": "Danielle",
                                    "last_name": "Benjamin"
                                }
                            ]
                        },
                        "text/html": [
                            "<table>",
                            "<tr><th>owner_id</th><th>location_id</th><th>first_name</th><th>last_name</th></tr>",
                            "<tr><td>au_11362</td><td>1</td><td>Zachary</td><td>Holland</td></tr>",
                            "<tr><td>au_15315</td><td>1</td><td>Autumn</td><td>Miranda</td></tr>",
                            "<tr><td>au_16507</td><td>1</td><td>Eduardo</td><td>Chen</td></tr>",
                            "<tr><td>au_18036</td><td>1</td><td>Amber</td><td>Mccoy</td></tr>",
                            "<tr><td>au_25552</td><td>1</td><td>Stephanie</td><td>Miller</td></tr>",
                            "<tr><td>au_40513</td><td>1</td><td>Aaron</td><td>Howard</td></tr>",
                            "<tr><td>au_75432</td><td>1</td><td>Kimberly</td><td>Dominguez</td></tr>",
                            "<tr><td>au_77600</td><td>1</td><td>Sarah</td><td>Davis</td></tr>",
                            "<tr><td>au_86362</td><td>1</td><td>Dakota</td><td>Olson</td></tr>",
                            "<tr><td>au_89783</td><td>1</td><td>Shelby</td><td>Thompson</td></tr>",
                            "<tr><td>eu_10858</td><td>2</td><td>Sean</td><td>Maldonado</td></tr>",
                            "<tr><td>eu_11838</td><td>2</td><td>Elizabeth</td><td>Nichols</td></tr>",
                            "<tr><td>eu_22256</td><td>2</td><td>Ryan</td><td>Cruz</td></tr>",
                            "<tr><td>eu_23263</td><td>2</td><td>John</td><td>Howard</td></tr>",
                            "<tr><td>eu_51465</td><td>2</td><td>Charles</td><td>Bradley</td></tr>",
                            "<tr><td>eu_56544</td><td>2</td><td>Peggy</td><td>Morales</td></tr>",
                            "<tr><td>eu_69372</td><td>2</td><td>Isabel</td><td>Miller</td></tr>",
                            "<tr><td>eu_77467</td><td>2</td><td>Megan</td><td>Lee</td></tr>",
                            "<tr><td>us_10113</td><td>3</td><td>Ashley</td><td>Donovan</td></tr>",
                            "<tr><td>us_15438</td><td>3</td><td>Kristen</td><td>Mosley</td></tr>",
                            "<tr><td>us_19904</td><td>3</td><td>Rebecca</td><td>Stevens</td></tr>",
                            "<tr><td>us_34800</td><td>3</td><td>Jennifer</td><td>Meyers</td></tr>",
                            "<tr><td>us_52113</td><td>3</td><td>Tracy</td><td>Williams</td></tr>",
                            "<tr><td>us_57346</td><td>3</td><td>Joseph</td><td>Woodward</td></tr>",
                            "<tr><td>us_68077</td><td>3</td><td>Danielle</td><td>Benjamin</td></tr>",
                            "</table>"
                        ]
                    }
                }
            ],
            "execution_count": 67
        },
        {
            "cell_type": "markdown",
            "source": [
                "## location_table\r\n",
                "Gives information on the location of the servers.  \r\n",
                "Primary key is _location_id_"
            ],
            "metadata": {
                "azdata_cell_guid": "d4af03d5-f6a4-4b86-8671-ee1690fcb4ba"
            },
            "attachments": {}
        },
        {
            "cell_type": "code",
            "source": [
                "SELECT *\r\n",
                "FROM linux_server_project..location_table;"
            ],
            "metadata": {
                "azdata_cell_guid": "4b3a2a71-634e-4e7f-9258-1bccaebae7d2",
                "language": "sql"
            },
            "outputs": [
                {
                    "output_type": "display_data",
                    "data": {
                        "text/html": "(3 rows affected)"
                    },
                    "metadata": {}
                },
                {
                    "output_type": "display_data",
                    "data": {
                        "text/html": "Total execution time: 00:00:00.003"
                    },
                    "metadata": {}
                },
                {
                    "output_type": "execute_result",
                    "metadata": {},
                    "execution_count": 68,
                    "data": {
                        "application/vnd.dataresource+json": {
                            "schema": {
                                "fields": [
                                    {
                                        "name": "location_id"
                                    },
                                    {
                                        "name": "location"
                                    }
                                ]
                            },
                            "data": [
                                {
                                    "location_id": "1",
                                    "location": "Australia"
                                },
                                {
                                    "location_id": "2",
                                    "location": "European Union"
                                },
                                {
                                    "location_id": "3",
                                    "location": "United States"
                                }
                            ]
                        },
                        "text/html": [
                            "<table>",
                            "<tr><th>location_id</th><th>location</th></tr>",
                            "<tr><td>1</td><td>Australia</td></tr>",
                            "<tr><td>2</td><td>European Union</td></tr>",
                            "<tr><td>3</td><td>United States</td></tr>",
                            "</table>"
                        ]
                    }
                }
            ],
            "execution_count": 68
        },
        {
            "cell_type": "markdown",
            "source": [
                "## Q1. What is the total number of vulnerabilities in all servers?"
            ],
            "metadata": {
                "language": "sql",
                "azdata_cell_guid": "c781b055-202d-4333-b6c2-753a66fc96df"
            },
            "attachments": {}
        },
        {
            "cell_type": "code",
            "source": [
                "SELECT \r\n",
                "    SUM(total_vul) all_vulnerabilities\r\n",
                "FROM\r\n",
                "    linux_server_project..linux_server_table;"
            ],
            "metadata": {
                "language": "sql",
                "azdata_cell_guid": "ef04ce55-cc28-4fe5-a81d-3ea09390c847"
            },
            "outputs": [
                {
                    "output_type": "display_data",
                    "data": {
                        "text/html": "(1 row affected)"
                    },
                    "metadata": {}
                },
                {
                    "output_type": "display_data",
                    "data": {
                        "text/html": "Total execution time: 00:00:00.003"
                    },
                    "metadata": {}
                },
                {
                    "output_type": "execute_result",
                    "metadata": {},
                    "execution_count": 69,
                    "data": {
                        "application/vnd.dataresource+json": {
                            "schema": {
                                "fields": [
                                    {
                                        "name": "all_vulnerabilities"
                                    }
                                ]
                            },
                            "data": [
                                {
                                    "all_vulnerabilities": "265737"
                                }
                            ]
                        },
                        "text/html": [
                            "<table>",
                            "<tr><th>all_vulnerabilities</th></tr>",
                            "<tr><td>265737</td></tr>",
                            "</table>"
                        ]
                    }
                }
            ],
            "execution_count": 69
        },
        {
            "cell_type": "markdown",
            "source": [
                "## Q2. What is the percentage of vulnerabilities that have been patched?"
            ],
            "metadata": {
                "language": "sql",
                "azdata_cell_guid": "f00c9021-b284-4efd-94ab-7d455f4c26e2"
            },
            "attachments": {}
        },
        {
            "cell_type": "code",
            "source": [
                "SELECT\r\n",
                "    ROUND(SUM(vul_patched) * 1.0 / SUM(total_vul), 2) as percent_patched\r\n",
                "FROM\r\n",
                "    linux_server_project..linux_server_table;"
            ],
            "metadata": {
                "language": "sql",
                "azdata_cell_guid": "3d26427b-c44a-4d74-8d1b-1f9db697b60f"
            },
            "outputs": [
                {
                    "output_type": "display_data",
                    "data": {
                        "text/html": "(1 row affected)"
                    },
                    "metadata": {}
                },
                {
                    "output_type": "display_data",
                    "data": {
                        "text/html": "Total execution time: 00:00:00.003"
                    },
                    "metadata": {}
                },
                {
                    "output_type": "execute_result",
                    "metadata": {},
                    "execution_count": 70,
                    "data": {
                        "application/vnd.dataresource+json": {
                            "schema": {
                                "fields": [
                                    {
                                        "name": "percent_patched"
                                    }
                                ]
                            },
                            "data": [
                                {
                                    "percent_patched": "0.530000000000"
                                }
                            ]
                        },
                        "text/html": [
                            "<table>",
                            "<tr><th>percent_patched</th></tr>",
                            "<tr><td>0.530000000000</td></tr>",
                            "</table>"
                        ]
                    }
                }
            ],
            "execution_count": 70
        },
        {
            "cell_type": "markdown",
            "source": [
                "## Q3. For all the servers, which distribution seemed to have the most vulnerability?"
            ],
            "metadata": {
                "language": "sql",
                "azdata_cell_guid": "72ab5b0e-1541-410f-94c2-52dbb9e8f885"
            },
            "attachments": {}
        },
        {
            "cell_type": "code",
            "source": [
                "SELECT TOP 1\r\n",
                "    distribution\r\n",
                "    ,SUM(total_vul) total_vulnerabilities\r\n",
                "FROM\r\n",
                "    linux_server_project..linux_server_table\r\n",
                "GROUP BY\r\n",
                "    distribution\r\n",
                "ORDER BY \r\n",
                "    2 DESC;"
            ],
            "metadata": {
                "language": "sql",
                "azdata_cell_guid": "44d5c643-0860-461e-8a33-d34845bead90"
            },
            "outputs": [
                {
                    "output_type": "display_data",
                    "data": {
                        "text/html": "(1 row affected)"
                    },
                    "metadata": {}
                },
                {
                    "output_type": "display_data",
                    "data": {
                        "text/html": "Total execution time: 00:00:00.004"
                    },
                    "metadata": {}
                },
                {
                    "output_type": "execute_result",
                    "metadata": {},
                    "execution_count": 71,
                    "data": {
                        "application/vnd.dataresource+json": {
                            "schema": {
                                "fields": [
                                    {
                                        "name": "distribution"
                                    },
                                    {
                                        "name": "total_vulnerabilities"
                                    }
                                ]
                            },
                            "data": [
                                {
                                    "distribution": "CentOS",
                                    "total_vulnerabilities": "60247"
                                }
                            ]
                        },
                        "text/html": [
                            "<table>",
                            "<tr><th>distribution</th><th>total_vulnerabilities</th></tr>",
                            "<tr><td>CentOS</td><td>60247</td></tr>",
                            "</table>"
                        ]
                    }
                }
            ],
            "execution_count": 71
        },
        {
            "cell_type": "markdown",
            "source": [
                "## Q4. For all the servers, which kernel version seemed to be accompanied by most number of vulnerabilities?"
            ],
            "metadata": {
                "language": "sql",
                "azdata_cell_guid": "4f715c66-8dd8-4a21-8115-b9d843c3e1da"
            },
            "attachments": {}
        },
        {
            "cell_type": "code",
            "source": [
                "SELECT TOP 1\r\n",
                "    kernel_ver\r\n",
                "    ,SUM(total_vul) total_vulnerabilities\r\n",
                "FROM\r\n",
                "    linux_server_project..linux_server_table\r\n",
                "GROUP BY\r\n",
                "    kernel_ver\r\n",
                "ORDER BY \r\n",
                "    2 DESC;"
            ],
            "metadata": {
                "language": "sql",
                "azdata_cell_guid": "651a1430-24ea-476f-8c49-8dd49e6e3153"
            },
            "outputs": [
                {
                    "output_type": "display_data",
                    "data": {
                        "text/html": "(1 row affected)"
                    },
                    "metadata": {}
                },
                {
                    "output_type": "display_data",
                    "data": {
                        "text/html": "Total execution time: 00:00:00.004"
                    },
                    "metadata": {}
                },
                {
                    "output_type": "execute_result",
                    "metadata": {},
                    "execution_count": 72,
                    "data": {
                        "application/vnd.dataresource+json": {
                            "schema": {
                                "fields": [
                                    {
                                        "name": "kernel_ver"
                                    },
                                    {
                                        "name": "total_vulnerabilities"
                                    }
                                ]
                            },
                            "data": [
                                {
                                    "kernel_ver": "3.10.0",
                                    "total_vulnerabilities": "48892"
                                }
                            ]
                        },
                        "text/html": [
                            "<table>",
                            "<tr><th>kernel_ver</th><th>total_vulnerabilities</th></tr>",
                            "<tr><td>3.10.0</td><td>48892</td></tr>",
                            "</table>"
                        ]
                    }
                }
            ],
            "execution_count": 72
        },
        {
            "cell_type": "markdown",
            "source": [
                "## Q5. For all owner_id's, which had the most number of vulnerabilities?"
            ],
            "metadata": {
                "azdata_cell_guid": "2efde58d-43eb-40e5-a96c-be78a6a96bd8"
            },
            "attachments": {}
        },
        {
            "cell_type": "code",
            "source": [
                "SELECT TOP 1\r\n",
                "    owner_id\r\n",
                "    ,SUM(total_vul) total_vulnerabilities\r\n",
                "FROM\r\n",
                "    linux_server_project..linux_server_table\r\n",
                "GROUP BY\r\n",
                "    owner_id\r\n",
                "ORDER BY \r\n",
                "    2 DESC;"
            ],
            "metadata": {
                "azdata_cell_guid": "b2fee543-59ab-4857-a9c7-fbc3aa40b57d",
                "language": "sql"
            },
            "outputs": [
                {
                    "output_type": "display_data",
                    "data": {
                        "text/html": "(1 row affected)"
                    },
                    "metadata": {}
                },
                {
                    "output_type": "display_data",
                    "data": {
                        "text/html": "Total execution time: 00:00:00.006"
                    },
                    "metadata": {}
                },
                {
                    "output_type": "execute_result",
                    "metadata": {},
                    "execution_count": 73,
                    "data": {
                        "application/vnd.dataresource+json": {
                            "schema": {
                                "fields": [
                                    {
                                        "name": "owner_id"
                                    },
                                    {
                                        "name": "total_vulnerabilities"
                                    }
                                ]
                            },
                            "data": [
                                {
                                    "owner_id": "au_18036",
                                    "total_vulnerabilities": "13627"
                                }
                            ]
                        },
                        "text/html": [
                            "<table>",
                            "<tr><th>owner_id</th><th>total_vulnerabilities</th></tr>",
                            "<tr><td>au_18036</td><td>13627</td></tr>",
                            "</table>"
                        ]
                    }
                }
            ],
            "execution_count": 73
        },
        {
            "cell_type": "markdown",
            "source": [
                "## Q6. Get the minimum, average, and maximum vulnerabilty for all the systems."
            ],
            "metadata": {
                "language": "sql",
                "azdata_cell_guid": "88aaa268-a881-46b7-abac-72c05e8b1b24"
            },
            "attachments": {}
        },
        {
            "cell_type": "code",
            "source": [
                "SELECT\r\n",
                "    MIN(total_vul) min_vul\r\n",
                "    ,AVG(total_vul) avg_vul\r\n",
                "    ,MAX(total_vul) max_vul\r\n",
                "FROM \r\n",
                "    linux_server_project..linux_server_table;"
            ],
            "metadata": {
                "language": "sql",
                "azdata_cell_guid": "18a096a1-e3b4-4994-b47c-91845d61e953"
            },
            "outputs": [
                {
                    "output_type": "display_data",
                    "data": {
                        "text/html": "(1 row affected)"
                    },
                    "metadata": {}
                },
                {
                    "output_type": "display_data",
                    "data": {
                        "text/html": "Total execution time: 00:00:00.004"
                    },
                    "metadata": {}
                },
                {
                    "output_type": "execute_result",
                    "metadata": {},
                    "execution_count": 74,
                    "data": {
                        "application/vnd.dataresource+json": {
                            "schema": {
                                "fields": [
                                    {
                                        "name": "min_vul"
                                    },
                                    {
                                        "name": "avg_vul"
                                    },
                                    {
                                        "name": "max_vul"
                                    }
                                ]
                            },
                            "data": [
                                {
                                    "min_vul": "130",
                                    "avg_vul": "265",
                                    "max_vul": "442"
                                }
                            ]
                        },
                        "text/html": [
                            "<table>",
                            "<tr><th>min_vul</th><th>avg_vul</th><th>max_vul</th></tr>",
                            "<tr><td>130</td><td>265</td><td>442</td></tr>",
                            "</table>"
                        ]
                    }
                }
            ],
            "execution_count": 74
        },
        {
            "cell_type": "markdown",
            "source": [
                "## Q7. Calculate the minimum, average, and maximum patching ratio."
            ],
            "metadata": {
                "azdata_cell_guid": "8119aff1-d96a-4ad5-8955-db43edbc4296"
            },
            "attachments": {}
        },
        {
            "cell_type": "code",
            "source": [
                "SELECT\r\n",
                "    ROUND(MIN(vul_patched * 1.0 / total_vul), 2) min_patch\r\n",
                "    ,ROUND(AVG(vul_patched * 1.0 / total_vul), 2) avg_patch\r\n",
                "    ,ROUND(MAX(vul_patched * 1.0 / total_vul), 2) max_patch\r\n",
                "FROM \r\n",
                "    linux_server_project..linux_server_table;"
            ],
            "metadata": {
                "azdata_cell_guid": "f0708b49-ff81-4f12-b4da-2481e886bb42",
                "language": "sql"
            },
            "outputs": [
                {
                    "output_type": "display_data",
                    "data": {
                        "text/html": "(1 row affected)"
                    },
                    "metadata": {}
                },
                {
                    "output_type": "display_data",
                    "data": {
                        "text/html": "Total execution time: 00:00:00.004"
                    },
                    "metadata": {}
                },
                {
                    "output_type": "execute_result",
                    "metadata": {},
                    "execution_count": 75,
                    "data": {
                        "application/vnd.dataresource+json": {
                            "schema": {
                                "fields": [
                                    {
                                        "name": "min_patch"
                                    },
                                    {
                                        "name": "avg_patch"
                                    },
                                    {
                                        "name": "max_patch"
                                    }
                                ]
                            },
                            "data": [
                                {
                                    "min_patch": "0.160000000000",
                                    "avg_patch": "0.560000000000",
                                    "max_patch": "0.850000000000"
                                }
                            ]
                        },
                        "text/html": [
                            "<table>",
                            "<tr><th>min_patch</th><th>avg_patch</th><th>max_patch</th></tr>",
                            "<tr><td>0.160000000000</td><td>0.560000000000</td><td>0.850000000000</td></tr>",
                            "</table>"
                        ]
                    }
                }
            ],
            "execution_count": 75
        },
        {
            "cell_type": "markdown",
            "source": [
                "## Q8. Find the linux distribution wise breakdown of the server count."
            ],
            "metadata": {
                "azdata_cell_guid": "1ad32ad2-5310-4077-bd1d-88e18fc11b3d"
            },
            "attachments": {}
        },
        {
            "cell_type": "code",
            "source": [
                "SELECT\r\n",
                "    distribution,\r\n",
                "    COUNT(*) no_of_servers\r\n",
                "FROM\r\n",
                "    linux_server_project..linux_server_table\r\n",
                "GROUP BY\r\n",
                "    distribution\r\n",
                "ORDER BY\r\n",
                "    2 DESC;\r\n",
                ""
            ],
            "metadata": {
                "azdata_cell_guid": "3dda5d84-d041-482c-ae8d-ee442f496242",
                "language": "sql"
            },
            "outputs": [
                {
                    "output_type": "display_data",
                    "data": {
                        "text/html": "(5 rows affected)"
                    },
                    "metadata": {}
                },
                {
                    "output_type": "display_data",
                    "data": {
                        "text/html": "Total execution time: 00:00:00.004"
                    },
                    "metadata": {}
                },
                {
                    "output_type": "execute_result",
                    "metadata": {},
                    "execution_count": 76,
                    "data": {
                        "application/vnd.dataresource+json": {
                            "schema": {
                                "fields": [
                                    {
                                        "name": "distribution"
                                    },
                                    {
                                        "name": "no_of_servers"
                                    }
                                ]
                            },
                            "data": [
                                {
                                    "distribution": "Ubuntu",
                                    "no_of_servers": "206"
                                },
                                {
                                    "distribution": "CentOS",
                                    "no_of_servers": "205"
                                },
                                {
                                    "distribution": "SUSE",
                                    "no_of_servers": "205"
                                },
                                {
                                    "distribution": "Red Hat",
                                    "no_of_servers": "196"
                                },
                                {
                                    "distribution": "Debian",
                                    "no_of_servers": "188"
                                }
                            ]
                        },
                        "text/html": [
                            "<table>",
                            "<tr><th>distribution</th><th>no_of_servers</th></tr>",
                            "<tr><td>Ubuntu</td><td>206</td></tr>",
                            "<tr><td>CentOS</td><td>205</td></tr>",
                            "<tr><td>SUSE</td><td>205</td></tr>",
                            "<tr><td>Red Hat</td><td>196</td></tr>",
                            "<tr><td>Debian</td><td>188</td></tr>",
                            "</table>"
                        ]
                    }
                }
            ],
            "execution_count": 76
        },
        {
            "cell_type": "markdown",
            "source": [
                "## Q9. Find the kernel version wise breakdown of server count."
            ],
            "metadata": {
                "language": "sql",
                "azdata_cell_guid": "40041556-a01d-4ae1-8419-1ce7bd51319b"
            },
            "attachments": {}
        },
        {
            "cell_type": "code",
            "source": [
                "SELECT\r\n",
                "    kernel_ver\r\n",
                "    ,COUNT(*) no_of_servers\r\n",
                "FROM\r\n",
                "    linux_server_project..linux_server_table\r\n",
                "GROUP BY\r\n",
                "    kernel_ver\r\n",
                "ORDER BY\r\n",
                "    2 DESC;"
            ],
            "metadata": {
                "language": "sql",
                "azdata_cell_guid": "4cbf7f6b-484e-48d0-9419-fc4f5fbf2673"
            },
            "outputs": [
                {
                    "output_type": "display_data",
                    "data": {
                        "text/html": "(9 rows affected)"
                    },
                    "metadata": {}
                },
                {
                    "output_type": "display_data",
                    "data": {
                        "text/html": "Total execution time: 00:00:00.004"
                    },
                    "metadata": {}
                },
                {
                    "output_type": "execute_result",
                    "metadata": {},
                    "execution_count": 77,
                    "data": {
                        "application/vnd.dataresource+json": {
                            "schema": {
                                "fields": [
                                    {
                                        "name": "kernel_ver"
                                    },
                                    {
                                        "name": "no_of_servers"
                                    }
                                ]
                            },
                            "data": [
                                {
                                    "kernel_ver": "5.10.0",
                                    "no_of_servers": "195"
                                },
                                {
                                    "kernel_ver": "4.19.0",
                                    "no_of_servers": "142"
                                },
                                {
                                    "kernel_ver": "4.18.0",
                                    "no_of_servers": "139"
                                },
                                {
                                    "kernel_ver": "5.6.0",
                                    "no_of_servers": "139"
                                },
                                {
                                    "kernel_ver": "3.10.0",
                                    "no_of_servers": "123"
                                },
                                {
                                    "kernel_ver": "5.4.0",
                                    "no_of_servers": "81"
                                },
                                {
                                    "kernel_ver": "4.12.0",
                                    "no_of_servers": "68"
                                },
                                {
                                    "kernel_ver": "4.15.0",
                                    "no_of_servers": "67"
                                },
                                {
                                    "kernel_ver": "5.15.0",
                                    "no_of_servers": "46"
                                }
                            ]
                        },
                        "text/html": [
                            "<table>",
                            "<tr><th>kernel_ver</th><th>no_of_servers</th></tr>",
                            "<tr><td>5.10.0</td><td>195</td></tr>",
                            "<tr><td>4.19.0</td><td>142</td></tr>",
                            "<tr><td>4.18.0</td><td>139</td></tr>",
                            "<tr><td>5.6.0</td><td>139</td></tr>",
                            "<tr><td>3.10.0</td><td>123</td></tr>",
                            "<tr><td>5.4.0</td><td>81</td></tr>",
                            "<tr><td>4.12.0</td><td>68</td></tr>",
                            "<tr><td>4.15.0</td><td>67</td></tr>",
                            "<tr><td>5.15.0</td><td>46</td></tr>",
                            "</table>"
                        ]
                    }
                }
            ],
            "execution_count": 77
        },
        {
            "cell_type": "markdown",
            "source": [
                "## Q10. What is the average duration since last update?\r\n",
                ""
            ],
            "metadata": {
                "language": "sql",
                "azdata_cell_guid": "7f97a8ff-a18f-40af-8fa9-5a237f34d63f"
            },
            "attachments": {}
        },
        {
            "cell_type": "code",
            "source": [
                "SELECT\r\n",
                "    AVG(DATEDIFF(DAY, last_update_date, GETDATE())) avg_days_since_last_update\r\n",
                "FROM\r\n",
                "    linux_server_project..linux_server_table;"
            ],
            "metadata": {
                "language": "sql",
                "azdata_cell_guid": "58534448-bf9d-45b3-90d0-b5c350766d0f"
            },
            "outputs": [
                {
                    "output_type": "display_data",
                    "data": {
                        "text/html": "(1 row affected)"
                    },
                    "metadata": {}
                },
                {
                    "output_type": "display_data",
                    "data": {
                        "text/html": "Total execution time: 00:00:00.003"
                    },
                    "metadata": {}
                },
                {
                    "output_type": "execute_result",
                    "metadata": {},
                    "execution_count": 78,
                    "data": {
                        "application/vnd.dataresource+json": {
                            "schema": {
                                "fields": [
                                    {
                                        "name": "avg_days_since_last_update"
                                    }
                                ]
                            },
                            "data": [
                                {
                                    "avg_days_since_last_update": "38"
                                }
                            ]
                        },
                        "text/html": [
                            "<table>",
                            "<tr><th>avg_days_since_last_update</th></tr>",
                            "<tr><td>38</td></tr>",
                            "</table>"
                        ]
                    }
                }
            ],
            "execution_count": 78
        },
        {
            "cell_type": "markdown",
            "source": [
                "## Q10. Find top 10 systems with most vulnerabilities, also find the names of their owners and their location."
            ],
            "metadata": {
                "language": "sql",
                "azdata_cell_guid": "7e32f6b2-7c7f-40cd-80f9-04c462421907"
            },
            "attachments": {}
        },
        {
            "cell_type": "code",
            "source": [
                "SELECT TOP 10\r\n",
                "    li.sys_id\r\n",
                "    ,li.distribution\r\n",
                "    ,li.kernel_ver\r\n",
                "    ,li.total_vul\r\n",
                "    ,li.owner_id\r\n",
                "    ,CONCAT(ow.first_name, ' ', ow.last_name) owner_name\r\n",
                "    ,lo.[location]\r\n",
                "FROM\r\n",
                "    linux_server_project..linux_server_table li\r\n",
                "    LEFT JOIN\r\n",
                "    linux_server_project..owner_table ow \r\n",
                "    ON li.owner_id = ow.owner_id\r\n",
                "    LEFT JOIN\r\n",
                "    linux_server_project..location_table lo\r\n",
                "    ON ow.location_id = lo.location_id\r\n",
                "ORDER BY li.total_vul DESC\r\n",
                ""
            ],
            "metadata": {
                "language": "sql",
                "azdata_cell_guid": "babaa339-fb84-48d7-8dbb-c95ed8206df1"
            },
            "outputs": [
                {
                    "output_type": "display_data",
                    "data": {
                        "text/html": "(10 rows affected)"
                    },
                    "metadata": {}
                },
                {
                    "output_type": "display_data",
                    "data": {
                        "text/html": "Total execution time: 00:00:00.011"
                    },
                    "metadata": {}
                },
                {
                    "output_type": "execute_result",
                    "metadata": {},
                    "execution_count": 79,
                    "data": {
                        "application/vnd.dataresource+json": {
                            "schema": {
                                "fields": [
                                    {
                                        "name": "sys_id"
                                    },
                                    {
                                        "name": "distribution"
                                    },
                                    {
                                        "name": "kernel_ver"
                                    },
                                    {
                                        "name": "total_vul"
                                    },
                                    {
                                        "name": "owner_id"
                                    },
                                    {
                                        "name": "owner_name"
                                    },
                                    {
                                        "name": "location"
                                    }
                                ]
                            },
                            "data": [
                                {
                                    "sys_id": "SYS075180175",
                                    "distribution": "CentOS",
                                    "kernel_ver": "3.10.0",
                                    "total_vul": "442",
                                    "owner_id": "au_89783",
                                    "owner_name": "Shelby Thompson",
                                    "location": "Australia"
                                },
                                {
                                    "sys_id": "WEB097920698",
                                    "distribution": "CentOS",
                                    "kernel_ver": "3.10.0",
                                    "total_vul": "442",
                                    "owner_id": "eu_56544",
                                    "owner_name": "Peggy Morales",
                                    "location": "European Union"
                                },
                                {
                                    "sys_id": "SYS096571912",
                                    "distribution": "CentOS",
                                    "kernel_ver": "3.10.0",
                                    "total_vul": "439",
                                    "owner_id": "eu_10858",
                                    "owner_name": "Sean Maldonado",
                                    "location": "European Union"
                                },
                                {
                                    "sys_id": "WEB042690973",
                                    "distribution": "CentOS",
                                    "kernel_ver": "3.10.0",
                                    "total_vul": "431",
                                    "owner_id": "us_52113",
                                    "owner_name": "Tracy Williams",
                                    "location": "United States"
                                },
                                {
                                    "sys_id": "SYS063465543",
                                    "distribution": "Red Hat",
                                    "kernel_ver": "3.10.0",
                                    "total_vul": "426",
                                    "owner_id": "us_19904",
                                    "owner_name": "Rebecca Stevens",
                                    "location": "United States"
                                },
                                {
                                    "sys_id": "APP113938522",
                                    "distribution": "Red Hat",
                                    "kernel_ver": "3.10.0",
                                    "total_vul": "426",
                                    "owner_id": "us_10113",
                                    "owner_name": "Ashley Donovan",
                                    "location": "United States"
                                },
                                {
                                    "sys_id": "SYS037354541",
                                    "distribution": "CentOS",
                                    "kernel_ver": "3.10.0",
                                    "total_vul": "424",
                                    "owner_id": "us_10113",
                                    "owner_name": "Ashley Donovan",
                                    "location": "United States"
                                },
                                {
                                    "sys_id": "WEB107128474",
                                    "distribution": "Red Hat",
                                    "kernel_ver": "3.10.0",
                                    "total_vul": "423",
                                    "owner_id": "eu_23263",
                                    "owner_name": "John Howard",
                                    "location": "European Union"
                                },
                                {
                                    "sys_id": "SYS056333129",
                                    "distribution": "CentOS",
                                    "kernel_ver": "3.10.0",
                                    "total_vul": "422",
                                    "owner_id": "au_25552",
                                    "owner_name": "Stephanie Miller",
                                    "location": "Australia"
                                },
                                {
                                    "sys_id": "APP107848013",
                                    "distribution": "Red Hat",
                                    "kernel_ver": "3.10.0",
                                    "total_vul": "421",
                                    "owner_id": "eu_69372",
                                    "owner_name": "Isabel Miller",
                                    "location": "European Union"
                                }
                            ]
                        },
                        "text/html": [
                            "<table>",
                            "<tr><th>sys_id</th><th>distribution</th><th>kernel_ver</th><th>total_vul</th><th>owner_id</th><th>owner_name</th><th>location</th></tr>",
                            "<tr><td>SYS075180175</td><td>CentOS</td><td>3.10.0</td><td>442</td><td>au_89783</td><td>Shelby Thompson</td><td>Australia</td></tr>",
                            "<tr><td>WEB097920698</td><td>CentOS</td><td>3.10.0</td><td>442</td><td>eu_56544</td><td>Peggy Morales</td><td>European Union</td></tr>",
                            "<tr><td>SYS096571912</td><td>CentOS</td><td>3.10.0</td><td>439</td><td>eu_10858</td><td>Sean Maldonado</td><td>European Union</td></tr>",
                            "<tr><td>WEB042690973</td><td>CentOS</td><td>3.10.0</td><td>431</td><td>us_52113</td><td>Tracy Williams</td><td>United States</td></tr>",
                            "<tr><td>SYS063465543</td><td>Red Hat</td><td>3.10.0</td><td>426</td><td>us_19904</td><td>Rebecca Stevens</td><td>United States</td></tr>",
                            "<tr><td>APP113938522</td><td>Red Hat</td><td>3.10.0</td><td>426</td><td>us_10113</td><td>Ashley Donovan</td><td>United States</td></tr>",
                            "<tr><td>SYS037354541</td><td>CentOS</td><td>3.10.0</td><td>424</td><td>us_10113</td><td>Ashley Donovan</td><td>United States</td></tr>",
                            "<tr><td>WEB107128474</td><td>Red Hat</td><td>3.10.0</td><td>423</td><td>eu_23263</td><td>John Howard</td><td>European Union</td></tr>",
                            "<tr><td>SYS056333129</td><td>CentOS</td><td>3.10.0</td><td>422</td><td>au_25552</td><td>Stephanie Miller</td><td>Australia</td></tr>",
                            "<tr><td>APP107848013</td><td>Red Hat</td><td>3.10.0</td><td>421</td><td>eu_69372</td><td>Isabel Miller</td><td>European Union</td></tr>",
                            "</table>"
                        ]
                    }
                }
            ],
            "execution_count": 79
        },
        {
            "cell_type": "markdown",
            "source": [
                "## Q11. Find locationwise distribution of servers."
            ],
            "metadata": {
                "azdata_cell_guid": "97cb335f-bcb0-45a6-a70b-dce2f33aaaeb"
            },
            "attachments": {}
        },
        {
            "cell_type": "code",
            "source": [
                "SELECT\r\n",
                "    lo.[location]\r\n",
                "    ,COUNT(*) no_of_servers\r\n",
                "FROM\r\n",
                "    linux_server_project..linux_server_table li \r\n",
                "    LEFT JOIN\r\n",
                "    linux_server_project..owner_table ow \r\n",
                "    ON li.owner_id = ow.owner_id\r\n",
                "    LEFT JOIN\r\n",
                "    linux_server_project..location_table lo \r\n",
                "    ON ow.location_id = lo.location_id\r\n",
                "GROUP BY\r\n",
                "    lo.[location]\r\n",
                "ORDER BY 2 DESC"
            ],
            "metadata": {
                "azdata_cell_guid": "49108080-3028-4d10-878d-c34db5117ba5",
                "language": "sql"
            },
            "outputs": [
                {
                    "output_type": "display_data",
                    "data": {
                        "text/html": "(3 rows affected)"
                    },
                    "metadata": {}
                },
                {
                    "output_type": "display_data",
                    "data": {
                        "text/html": "Total execution time: 00:00:00.006"
                    },
                    "metadata": {}
                },
                {
                    "output_type": "execute_result",
                    "metadata": {},
                    "execution_count": 80,
                    "data": {
                        "application/vnd.dataresource+json": {
                            "schema": {
                                "fields": [
                                    {
                                        "name": "location"
                                    },
                                    {
                                        "name": "no_of_servers"
                                    }
                                ]
                            },
                            "data": [
                                {
                                    "location": "Australia",
                                    "no_of_servers": "430"
                                },
                                {
                                    "location": "European Union",
                                    "no_of_servers": "295"
                                },
                                {
                                    "location": "United States",
                                    "no_of_servers": "275"
                                }
                            ]
                        },
                        "text/html": [
                            "<table>",
                            "<tr><th>location</th><th>no_of_servers</th></tr>",
                            "<tr><td>Australia</td><td>430</td></tr>",
                            "<tr><td>European Union</td><td>295</td></tr>",
                            "<tr><td>United States</td><td>275</td></tr>",
                            "</table>"
                        ]
                    }
                }
            ],
            "execution_count": 80
        },
        {
            "cell_type": "markdown",
            "source": [
                "## Q12. Find the users who have the most number of servers under their name."
            ],
            "metadata": {
                "language": "sql",
                "azdata_cell_guid": "0043843d-5074-4054-8f25-132cfaa29fc9"
            },
            "attachments": {}
        },
        {
            "cell_type": "code",
            "source": [
                "SELECT\r\n",
                "    ow.owner_id\r\n",
                "    ,CONCAT(ow.first_name, ' ', ow.last_name) full_name\r\n",
                "    ,lo.[location]\r\n",
                "    ,COUNT(*) no_of_servers\r\n",
                "FROM\r\n",
                "    linux_server_project..linux_server_table li \r\n",
                "    LEFT JOIN\r\n",
                "    linux_server_project..owner_table ow \r\n",
                "    ON li.owner_id = ow.owner_id\r\n",
                "    LEFT JOIN\r\n",
                "    linux_server_project..location_table lo \r\n",
                "    ON ow.location_id = lo.location_id\r\n",
                "GROUP BY\r\n",
                "    ow.owner_id\r\n",
                "    ,CONCAT(ow.first_name, ' ', ow.last_name)\r\n",
                "    ,lo.[location]\r\n",
                "ORDER BY 4 DESC"
            ],
            "metadata": {
                "language": "sql",
                "azdata_cell_guid": "c4568c41-d521-48bf-8d4e-c9ef1c2dfc68"
            },
            "outputs": [
                {
                    "output_type": "display_data",
                    "data": {
                        "text/html": "(25 rows affected)"
                    },
                    "metadata": {}
                },
                {
                    "output_type": "display_data",
                    "data": {
                        "text/html": "Total execution time: 00:00:00.013"
                    },
                    "metadata": {}
                },
                {
                    "output_type": "execute_result",
                    "metadata": {},
                    "execution_count": 81,
                    "data": {
                        "application/vnd.dataresource+json": {
                            "schema": {
                                "fields": [
                                    {
                                        "name": "owner_id"
                                    },
                                    {
                                        "name": "full_name"
                                    },
                                    {
                                        "name": "location"
                                    },
                                    {
                                        "name": "no_of_servers"
                                    }
                                ]
                            },
                            "data": [
                                {
                                    "owner_id": "au_18036",
                                    "full_name": "Amber Mccoy",
                                    "location": "Australia",
                                    "no_of_servers": "52"
                                },
                                {
                                    "owner_id": "au_89783",
                                    "full_name": "Shelby Thompson",
                                    "location": "Australia",
                                    "no_of_servers": "47"
                                },
                                {
                                    "owner_id": "us_52113",
                                    "full_name": "Tracy Williams",
                                    "location": "United States",
                                    "no_of_servers": "47"
                                },
                                {
                                    "owner_id": "au_77600",
                                    "full_name": "Sarah Davis",
                                    "location": "Australia",
                                    "no_of_servers": "46"
                                },
                                {
                                    "owner_id": "au_86362",
                                    "full_name": "Dakota Olson",
                                    "location": "Australia",
                                    "no_of_servers": "46"
                                },
                                {
                                    "owner_id": "au_11362",
                                    "full_name": "Zachary Holland",
                                    "location": "Australia",
                                    "no_of_servers": "44"
                                },
                                {
                                    "owner_id": "au_40513",
                                    "full_name": "Aaron Howard",
                                    "location": "Australia",
                                    "no_of_servers": "43"
                                },
                                {
                                    "owner_id": "eu_77467",
                                    "full_name": "Megan Lee",
                                    "location": "European Union",
                                    "no_of_servers": "42"
                                },
                                {
                                    "owner_id": "au_25552",
                                    "full_name": "Stephanie Miller",
                                    "location": "Australia",
                                    "no_of_servers": "41"
                                },
                                {
                                    "owner_id": "eu_22256",
                                    "full_name": "Ryan Cruz",
                                    "location": "European Union",
                                    "no_of_servers": "41"
                                },
                                {
                                    "owner_id": "eu_10858",
                                    "full_name": "Sean Maldonado",
                                    "location": "European Union",
                                    "no_of_servers": "40"
                                },
                                {
                                    "owner_id": "eu_56544",
                                    "full_name": "Peggy Morales",
                                    "location": "European Union",
                                    "no_of_servers": "40"
                                },
                                {
                                    "owner_id": "au_75432",
                                    "full_name": "Kimberly Dominguez",
                                    "location": "Australia",
                                    "no_of_servers": "40"
                                },
                                {
                                    "owner_id": "us_19904",
                                    "full_name": "Rebecca Stevens",
                                    "location": "United States",
                                    "no_of_servers": "40"
                                },
                                {
                                    "owner_id": "us_34800",
                                    "full_name": "Jennifer Meyers",
                                    "location": "United States",
                                    "no_of_servers": "40"
                                },
                                {
                                    "owner_id": "us_15438",
                                    "full_name": "Kristen Mosley",
                                    "location": "United States",
                                    "no_of_servers": "39"
                                },
                                {
                                    "owner_id": "us_68077",
                                    "full_name": "Danielle Benjamin",
                                    "location": "United States",
                                    "no_of_servers": "37"
                                },
                                {
                                    "owner_id": "us_10113",
                                    "full_name": "Ashley Donovan",
                                    "location": "United States",
                                    "no_of_servers": "37"
                                },
                                {
                                    "owner_id": "eu_69372",
                                    "full_name": "Isabel Miller",
                                    "location": "European Union",
                                    "no_of_servers": "37"
                                },
                                {
                                    "owner_id": "au_16507",
                                    "full_name": "Eduardo Chen",
                                    "location": "Australia",
                                    "no_of_servers": "36"
                                },
                                {
                                    "owner_id": "au_15315",
                                    "full_name": "Autumn Miranda",
                                    "location": "Australia",
                                    "no_of_servers": "35"
                                },
                                {
                                    "owner_id": "us_57346",
                                    "full_name": "Joseph Woodward",
                                    "location": "United States",
                                    "no_of_servers": "35"
                                },
                                {
                                    "owner_id": "eu_51465",
                                    "full_name": "Charles Bradley",
                                    "location": "European Union",
                                    "no_of_servers": "34"
                                },
                                {
                                    "owner_id": "eu_11838",
                                    "full_name": "Elizabeth Nichols",
                                    "location": "European Union",
                                    "no_of_servers": "31"
                                },
                                {
                                    "owner_id": "eu_23263",
                                    "full_name": "John Howard",
                                    "location": "European Union",
                                    "no_of_servers": "30"
                                }
                            ]
                        },
                        "text/html": [
                            "<table>",
                            "<tr><th>owner_id</th><th>full_name</th><th>location</th><th>no_of_servers</th></tr>",
                            "<tr><td>au_18036</td><td>Amber Mccoy</td><td>Australia</td><td>52</td></tr>",
                            "<tr><td>au_89783</td><td>Shelby Thompson</td><td>Australia</td><td>47</td></tr>",
                            "<tr><td>us_52113</td><td>Tracy Williams</td><td>United States</td><td>47</td></tr>",
                            "<tr><td>au_77600</td><td>Sarah Davis</td><td>Australia</td><td>46</td></tr>",
                            "<tr><td>au_86362</td><td>Dakota Olson</td><td>Australia</td><td>46</td></tr>",
                            "<tr><td>au_11362</td><td>Zachary Holland</td><td>Australia</td><td>44</td></tr>",
                            "<tr><td>au_40513</td><td>Aaron Howard</td><td>Australia</td><td>43</td></tr>",
                            "<tr><td>eu_77467</td><td>Megan Lee</td><td>European Union</td><td>42</td></tr>",
                            "<tr><td>au_25552</td><td>Stephanie Miller</td><td>Australia</td><td>41</td></tr>",
                            "<tr><td>eu_22256</td><td>Ryan Cruz</td><td>European Union</td><td>41</td></tr>",
                            "<tr><td>eu_10858</td><td>Sean Maldonado</td><td>European Union</td><td>40</td></tr>",
                            "<tr><td>eu_56544</td><td>Peggy Morales</td><td>European Union</td><td>40</td></tr>",
                            "<tr><td>au_75432</td><td>Kimberly Dominguez</td><td>Australia</td><td>40</td></tr>",
                            "<tr><td>us_19904</td><td>Rebecca Stevens</td><td>United States</td><td>40</td></tr>",
                            "<tr><td>us_34800</td><td>Jennifer Meyers</td><td>United States</td><td>40</td></tr>",
                            "<tr><td>us_15438</td><td>Kristen Mosley</td><td>United States</td><td>39</td></tr>",
                            "<tr><td>us_68077</td><td>Danielle Benjamin</td><td>United States</td><td>37</td></tr>",
                            "<tr><td>us_10113</td><td>Ashley Donovan</td><td>United States</td><td>37</td></tr>",
                            "<tr><td>eu_69372</td><td>Isabel Miller</td><td>European Union</td><td>37</td></tr>",
                            "<tr><td>au_16507</td><td>Eduardo Chen</td><td>Australia</td><td>36</td></tr>",
                            "<tr><td>au_15315</td><td>Autumn Miranda</td><td>Australia</td><td>35</td></tr>",
                            "<tr><td>us_57346</td><td>Joseph Woodward</td><td>United States</td><td>35</td></tr>",
                            "<tr><td>eu_51465</td><td>Charles Bradley</td><td>European Union</td><td>34</td></tr>",
                            "<tr><td>eu_11838</td><td>Elizabeth Nichols</td><td>European Union</td><td>31</td></tr>",
                            "<tr><td>eu_23263</td><td>John Howard</td><td>European Union</td><td>30</td></tr>",
                            "</table>"
                        ]
                    }
                }
            ],
            "execution_count": 81
        },
        {
            "cell_type": "markdown",
            "source": [
                "## Q13. Create a view with all the necessary info from all the tables."
            ],
            "metadata": {
                "azdata_cell_guid": "83e837c6-02a4-46de-9161-29447985559d",
                "language": ""
            },
            "attachments": {}
        },
        {
            "cell_type": "code",
            "source": [
                "USE linux_server_project\r\n",
                "GO\r\n",
                "\r\n",
                "CREATE OR ALTER VIEW server_info_view AS\r\n",
                "(\r\n",
                "SELECT\r\n",
                "    li.sys_id\r\n",
                "    ,li.distribution\r\n",
                "    ,li.kernel_ver\r\n",
                "    ,li.total_vul\r\n",
                "    ,li.vul_patched\r\n",
                "    ,li.ip4_add\r\n",
                "    ,li.last_update_date\r\n",
                "    ,ow.owner_id\r\n",
                "    ,CONCAT(ow.first_name, ' ', ow.last_name) owner_name\r\n",
                "    ,lo.location\r\n",
                "FROM\r\n",
                "    linux_server_project..linux_server_table li \r\n",
                "    LEFT JOIN\r\n",
                "    linux_server_project..owner_table ow \r\n",
                "    ON li.owner_id = ow.owner_id\r\n",
                "    LEFT JOIN\r\n",
                "    linux_server_project..location_table lo \r\n",
                "    ON ow.location_id = lo.location_id\r\n",
                ")"
            ],
            "metadata": {
                "azdata_cell_guid": "d18ae0fd-ef8a-43e2-8839-6c815125a97f",
                "language": "sql"
            },
            "outputs": [
                {
                    "output_type": "display_data",
                    "data": {
                        "text/html": "Commands completed successfully."
                    },
                    "metadata": {}
                },
                {
                    "output_type": "display_data",
                    "data": {
                        "text/html": "Commands completed successfully."
                    },
                    "metadata": {}
                },
                {
                    "output_type": "display_data",
                    "data": {
                        "text/html": "Total execution time: 00:00:00.004"
                    },
                    "metadata": {}
                }
            ],
            "execution_count": 82
        },
        {
            "cell_type": "code",
            "source": [
                "SELECT TOP 10 *\r\n",
                "FROM linux_server_project..server_info_view;"
            ],
            "metadata": {
                "azdata_cell_guid": "58e0ac18-69ac-472f-90da-54c7755549b0",
                "language": "sql"
            },
            "outputs": [
                {
                    "output_type": "display_data",
                    "data": {
                        "text/html": "(10 rows affected)"
                    },
                    "metadata": {}
                },
                {
                    "output_type": "display_data",
                    "data": {
                        "text/html": "Total execution time: 00:00:00.006"
                    },
                    "metadata": {}
                },
                {
                    "output_type": "execute_result",
                    "metadata": {},
                    "execution_count": 83,
                    "data": {
                        "application/vnd.dataresource+json": {
                            "schema": {
                                "fields": [
                                    {
                                        "name": "sys_id"
                                    },
                                    {
                                        "name": "distribution"
                                    },
                                    {
                                        "name": "kernel_ver"
                                    },
                                    {
                                        "name": "total_vul"
                                    },
                                    {
                                        "name": "vul_patched"
                                    },
                                    {
                                        "name": "ip4_add"
                                    },
                                    {
                                        "name": "last_update_date"
                                    },
                                    {
                                        "name": "owner_id"
                                    },
                                    {
                                        "name": "owner_name"
                                    },
                                    {
                                        "name": "location"
                                    }
                                ]
                            },
                            "data": [
                                {
                                    "sys_id": "APP010225574",
                                    "distribution": "SUSE",
                                    "kernel_ver": "4.12.0",
                                    "total_vul": "318",
                                    "vul_patched": "165",
                                    "ip4_add": "172.26.47.139",
                                    "last_update_date": "2023-11-09 00:05:13.787",
                                    "owner_id": "eu_69372",
                                    "owner_name": "Isabel Miller",
                                    "location": "European Union"
                                },
                                {
                                    "sys_id": "APP010532937",
                                    "distribution": "SUSE",
                                    "kernel_ver": "4.12.0",
                                    "total_vul": "278",
                                    "vul_patched": "111",
                                    "ip4_add": "192.168.138.252",
                                    "last_update_date": "2023-10-29 00:05:13.787",
                                    "owner_id": "eu_22256",
                                    "owner_name": "Ryan Cruz",
                                    "location": "European Union"
                                },
                                {
                                    "sys_id": "APP010996887",
                                    "distribution": "Debian",
                                    "kernel_ver": "5.10.0",
                                    "total_vul": "167",
                                    "vul_patched": "118",
                                    "ip4_add": "192.168.131.55",
                                    "last_update_date": "2023-11-25 00:05:13.797",
                                    "owner_id": "us_57346",
                                    "owner_name": "Joseph Woodward",
                                    "location": "United States"
                                },
                                {
                                    "sys_id": "APP011006239",
                                    "distribution": "Debian",
                                    "kernel_ver": "4.19.0",
                                    "total_vul": "304",
                                    "vul_patched": "167",
                                    "ip4_add": "10.195.10.67",
                                    "last_update_date": "2023-11-09 00:05:13.787",
                                    "owner_id": "us_15438",
                                    "owner_name": "Kristen Mosley",
                                    "location": "United States"
                                },
                                {
                                    "sys_id": "APP011413819",
                                    "distribution": "Red Hat",
                                    "kernel_ver": "4.18.0",
                                    "total_vul": "306",
                                    "vul_patched": "195",
                                    "ip4_add": "192.168.226.85",
                                    "last_update_date": "2023-11-22 00:05:13.800",
                                    "owner_id": "eu_51465",
                                    "owner_name": "Charles Bradley",
                                    "location": "European Union"
                                },
                                {
                                    "sys_id": "APP011543035",
                                    "distribution": "SUSE",
                                    "kernel_ver": "5.10.0",
                                    "total_vul": "204",
                                    "vul_patched": "163",
                                    "ip4_add": "172.27.214.113",
                                    "last_update_date": "2023-12-06 00:05:13.787",
                                    "owner_id": "us_15438",
                                    "owner_name": "Kristen Mosley",
                                    "location": "United States"
                                },
                                {
                                    "sys_id": "APP012341320",
                                    "distribution": "Debian",
                                    "kernel_ver": "4.19.0",
                                    "total_vul": "294",
                                    "vul_patched": "108",
                                    "ip4_add": "10.90.243.30",
                                    "last_update_date": "2023-10-26 00:05:13.800",
                                    "owner_id": "au_86362",
                                    "owner_name": "Dakota Olson",
                                    "location": "Australia"
                                },
                                {
                                    "sys_id": "APP012793716",
                                    "distribution": "Debian",
                                    "kernel_ver": "5.15.0",
                                    "total_vul": "196",
                                    "vul_patched": "115",
                                    "ip4_add": "10.240.66.165",
                                    "last_update_date": "2023-11-04 00:05:13.800",
                                    "owner_id": "eu_77467",
                                    "owner_name": "Megan Lee",
                                    "location": "European Union"
                                },
                                {
                                    "sys_id": "APP013070535",
                                    "distribution": "Ubuntu",
                                    "kernel_ver": "5.4.0",
                                    "total_vul": "210",
                                    "vul_patched": "170",
                                    "ip4_add": "192.168.209.186",
                                    "last_update_date": "2023-11-23 00:05:13.787",
                                    "owner_id": "au_11362",
                                    "owner_name": "Zachary Holland",
                                    "location": "Australia"
                                },
                                {
                                    "sys_id": "APP013075624",
                                    "distribution": "CentOS",
                                    "kernel_ver": "4.18.0",
                                    "total_vul": "308",
                                    "vul_patched": "147",
                                    "ip4_add": "10.133.136.160",
                                    "last_update_date": "2023-10-28 00:05:13.787",
                                    "owner_id": "au_40513",
                                    "owner_name": "Aaron Howard",
                                    "location": "Australia"
                                }
                            ]
                        },
                        "text/html": [
                            "<table>",
                            "<tr><th>sys_id</th><th>distribution</th><th>kernel_ver</th><th>total_vul</th><th>vul_patched</th><th>ip4_add</th><th>last_update_date</th><th>owner_id</th><th>owner_name</th><th>location</th></tr>",
                            "<tr><td>APP010225574</td><td>SUSE</td><td>4.12.0</td><td>318</td><td>165</td><td>172.26.47.139</td><td>2023-11-09 00:05:13.787</td><td>eu_69372</td><td>Isabel Miller</td><td>European Union</td></tr>",
                            "<tr><td>APP010532937</td><td>SUSE</td><td>4.12.0</td><td>278</td><td>111</td><td>192.168.138.252</td><td>2023-10-29 00:05:13.787</td><td>eu_22256</td><td>Ryan Cruz</td><td>European Union</td></tr>",
                            "<tr><td>APP010996887</td><td>Debian</td><td>5.10.0</td><td>167</td><td>118</td><td>192.168.131.55</td><td>2023-11-25 00:05:13.797</td><td>us_57346</td><td>Joseph Woodward</td><td>United States</td></tr>",
                            "<tr><td>APP011006239</td><td>Debian</td><td>4.19.0</td><td>304</td><td>167</td><td>10.195.10.67</td><td>2023-11-09 00:05:13.787</td><td>us_15438</td><td>Kristen Mosley</td><td>United States</td></tr>",
                            "<tr><td>APP011413819</td><td>Red Hat</td><td>4.18.0</td><td>306</td><td>195</td><td>192.168.226.85</td><td>2023-11-22 00:05:13.800</td><td>eu_51465</td><td>Charles Bradley</td><td>European Union</td></tr>",
                            "<tr><td>APP011543035</td><td>SUSE</td><td>5.10.0</td><td>204</td><td>163</td><td>172.27.214.113</td><td>2023-12-06 00:05:13.787</td><td>us_15438</td><td>Kristen Mosley</td><td>United States</td></tr>",
                            "<tr><td>APP012341320</td><td>Debian</td><td>4.19.0</td><td>294</td><td>108</td><td>10.90.243.30</td><td>2023-10-26 00:05:13.800</td><td>au_86362</td><td>Dakota Olson</td><td>Australia</td></tr>",
                            "<tr><td>APP012793716</td><td>Debian</td><td>5.15.0</td><td>196</td><td>115</td><td>10.240.66.165</td><td>2023-11-04 00:05:13.800</td><td>eu_77467</td><td>Megan Lee</td><td>European Union</td></tr>",
                            "<tr><td>APP013070535</td><td>Ubuntu</td><td>5.4.0</td><td>210</td><td>170</td><td>192.168.209.186</td><td>2023-11-23 00:05:13.787</td><td>au_11362</td><td>Zachary Holland</td><td>Australia</td></tr>",
                            "<tr><td>APP013075624</td><td>CentOS</td><td>4.18.0</td><td>308</td><td>147</td><td>10.133.136.160</td><td>2023-10-28 00:05:13.787</td><td>au_40513</td><td>Aaron Howard</td><td>Australia</td></tr>",
                            "</table>"
                        ]
                    }
                }
            ],
            "execution_count": 83
        },
        {
            "cell_type": "markdown",
            "source": [
                "## Q14. Find the different types of system classification."
            ],
            "metadata": {
                "azdata_cell_guid": "c612da09-2409-4688-9e3a-92a744f2234b"
            },
            "attachments": {}
        },
        {
            "cell_type": "code",
            "source": [
                "SELECT\r\n",
                "    LEFT(sys_id, 3) system_type\r\n",
                "FROM\r\n",
                "    linux_server_project..server_info_view\r\n",
                "GROUP BY\r\n",
                "    LEFT(sys_id, 3)"
            ],
            "metadata": {
                "azdata_cell_guid": "07c6fe28-3c0c-4bb3-80e8-eb155e3058d8",
                "language": "sql"
            },
            "outputs": [
                {
                    "output_type": "display_data",
                    "data": {
                        "text/html": "(3 rows affected)"
                    },
                    "metadata": {}
                },
                {
                    "output_type": "display_data",
                    "data": {
                        "text/html": "Total execution time: 00:00:00.005"
                    },
                    "metadata": {}
                },
                {
                    "output_type": "execute_result",
                    "metadata": {},
                    "execution_count": 84,
                    "data": {
                        "application/vnd.dataresource+json": {
                            "schema": {
                                "fields": [
                                    {
                                        "name": "system_type"
                                    }
                                ]
                            },
                            "data": [
                                {
                                    "system_type": "WEB"
                                },
                                {
                                    "system_type": "APP"
                                },
                                {
                                    "system_type": "SYS"
                                }
                            ]
                        },
                        "text/html": [
                            "<table>",
                            "<tr><th>system_type</th></tr>",
                            "<tr><td>WEB</td></tr>",
                            "<tr><td>APP</td></tr>",
                            "<tr><td>SYS</td></tr>",
                            "</table>"
                        ]
                    }
                }
            ],
            "execution_count": 84
        },
        {
            "cell_type": "markdown",
            "source": [
                "## Q15. Count the number of systems for each type."
            ],
            "metadata": {
                "azdata_cell_guid": "bc582bd4-d71b-4e4b-a1fd-06323838e9bb"
            },
            "attachments": {}
        },
        {
            "cell_type": "code",
            "source": [
                "SELECT\r\n",
                "    LEFT(sys_id, 3) system_type\r\n",
                "    ,COUNT(*) no_of_servers\r\n",
                "FROM\r\n",
                "    linux_server_project..server_info_view\r\n",
                "GROUP BY\r\n",
                "    LEFT(sys_id, 3)"
            ],
            "metadata": {
                "azdata_cell_guid": "f1d82524-1563-4099-9c86-0e7b67f3c1c4",
                "language": ""
            },
            "outputs": [
                {
                    "output_type": "display_data",
                    "data": {
                        "text/html": "(3 rows affected)"
                    },
                    "metadata": {}
                },
                {
                    "output_type": "display_data",
                    "data": {
                        "text/html": "Total execution time: 00:00:00.005"
                    },
                    "metadata": {}
                },
                {
                    "output_type": "execute_result",
                    "metadata": {},
                    "execution_count": 85,
                    "data": {
                        "application/vnd.dataresource+json": {
                            "schema": {
                                "fields": [
                                    {
                                        "name": "system_type"
                                    },
                                    {
                                        "name": "no_of_servers"
                                    }
                                ]
                            },
                            "data": [
                                {
                                    "system_type": "WEB",
                                    "no_of_servers": "319"
                                },
                                {
                                    "system_type": "APP",
                                    "no_of_servers": "326"
                                },
                                {
                                    "system_type": "SYS",
                                    "no_of_servers": "355"
                                }
                            ]
                        },
                        "text/html": [
                            "<table>",
                            "<tr><th>system_type</th><th>no_of_servers</th></tr>",
                            "<tr><td>WEB</td><td>319</td></tr>",
                            "<tr><td>APP</td><td>326</td></tr>",
                            "<tr><td>SYS</td><td>355</td></tr>",
                            "</table>"
                        ]
                    }
                }
            ],
            "execution_count": 85
        },
        {
            "cell_type": "markdown",
            "source": [
                "## Q 16. Find the average number of vulnerabilities for location and linux distribution."
            ],
            "metadata": {
                "azdata_cell_guid": "f1f3eb6e-80db-4693-bfc5-397ab189ea22"
            },
            "attachments": {}
        },
        {
            "cell_type": "code",
            "source": [
                "SELECT\r\n",
                "    location\r\n",
                "    ,distribution\r\n",
                "    ,COUNT(*) num_of_servers\r\n",
                "    ,AVG(total_vul) avg_vul\r\n",
                "FROM \r\n",
                "    linux_server_project..server_info_view\r\n",
                "GROUP BY\r\n",
                "    location\r\n",
                "    ,distribution\r\n",
                "ORDER BY\r\n",
                "    1"
            ],
            "metadata": {
                "azdata_cell_guid": "e7f7dc4e-33da-4597-9f85-a284561ab83a",
                "language": "sql"
            },
            "outputs": [
                {
                    "output_type": "display_data",
                    "data": {
                        "text/html": "(15 rows affected)"
                    },
                    "metadata": {}
                },
                {
                    "output_type": "display_data",
                    "data": {
                        "text/html": "Total execution time: 00:00:00.007"
                    },
                    "metadata": {}
                },
                {
                    "output_type": "execute_result",
                    "metadata": {},
                    "execution_count": 88,
                    "data": {
                        "application/vnd.dataresource+json": {
                            "schema": {
                                "fields": [
                                    {
                                        "name": "location"
                                    },
                                    {
                                        "name": "distribution"
                                    },
                                    {
                                        "name": "num_of_servers"
                                    },
                                    {
                                        "name": "avg_vul"
                                    }
                                ]
                            },
                            "data": [
                                {
                                    "location": "Australia",
                                    "distribution": "CentOS",
                                    "num_of_servers": "96",
                                    "avg_vul": "301"
                                },
                                {
                                    "location": "Australia",
                                    "distribution": "Debian",
                                    "num_of_servers": "87",
                                    "avg_vul": "235"
                                },
                                {
                                    "location": "Australia",
                                    "distribution": "Red Hat",
                                    "num_of_servers": "70",
                                    "avg_vul": "290"
                                },
                                {
                                    "location": "Australia",
                                    "distribution": "SUSE",
                                    "num_of_servers": "92",
                                    "avg_vul": "266"
                                },
                                {
                                    "location": "Australia",
                                    "distribution": "Ubuntu",
                                    "num_of_servers": "85",
                                    "avg_vul": "232"
                                },
                                {
                                    "location": "European Union",
                                    "distribution": "CentOS",
                                    "num_of_servers": "56",
                                    "avg_vul": "289"
                                },
                                {
                                    "location": "European Union",
                                    "distribution": "Debian",
                                    "num_of_servers": "49",
                                    "avg_vul": "244"
                                },
                                {
                                    "location": "European Union",
                                    "distribution": "Red Hat",
                                    "num_of_servers": "66",
                                    "avg_vul": "298"
                                },
                                {
                                    "location": "European Union",
                                    "distribution": "SUSE",
                                    "num_of_servers": "62",
                                    "avg_vul": "259"
                                },
                                {
                                    "location": "European Union",
                                    "distribution": "Ubuntu",
                                    "num_of_servers": "62",
                                    "avg_vul": "232"
                                },
                                {
                                    "location": "United States",
                                    "distribution": "CentOS",
                                    "num_of_servers": "53",
                                    "avg_vul": "284"
                                },
                                {
                                    "location": "United States",
                                    "distribution": "Debian",
                                    "num_of_servers": "52",
                                    "avg_vul": "241"
                                },
                                {
                                    "location": "United States",
                                    "distribution": "Red Hat",
                                    "num_of_servers": "60",
                                    "avg_vul": "301"
                                },
                                {
                                    "location": "United States",
                                    "distribution": "SUSE",
                                    "num_of_servers": "51",
                                    "avg_vul": "269"
                                },
                                {
                                    "location": "United States",
                                    "distribution": "Ubuntu",
                                    "num_of_servers": "59",
                                    "avg_vul": "233"
                                }
                            ]
                        },
                        "text/html": [
                            "<table>",
                            "<tr><th>location</th><th>distribution</th><th>num_of_servers</th><th>avg_vul</th></tr>",
                            "<tr><td>Australia</td><td>CentOS</td><td>96</td><td>301</td></tr>",
                            "<tr><td>Australia</td><td>Debian</td><td>87</td><td>235</td></tr>",
                            "<tr><td>Australia</td><td>Red Hat</td><td>70</td><td>290</td></tr>",
                            "<tr><td>Australia</td><td>SUSE</td><td>92</td><td>266</td></tr>",
                            "<tr><td>Australia</td><td>Ubuntu</td><td>85</td><td>232</td></tr>",
                            "<tr><td>European Union</td><td>CentOS</td><td>56</td><td>289</td></tr>",
                            "<tr><td>European Union</td><td>Debian</td><td>49</td><td>244</td></tr>",
                            "<tr><td>European Union</td><td>Red Hat</td><td>66</td><td>298</td></tr>",
                            "<tr><td>European Union</td><td>SUSE</td><td>62</td><td>259</td></tr>",
                            "<tr><td>European Union</td><td>Ubuntu</td><td>62</td><td>232</td></tr>",
                            "<tr><td>United States</td><td>CentOS</td><td>53</td><td>284</td></tr>",
                            "<tr><td>United States</td><td>Debian</td><td>52</td><td>241</td></tr>",
                            "<tr><td>United States</td><td>Red Hat</td><td>60</td><td>301</td></tr>",
                            "<tr><td>United States</td><td>SUSE</td><td>51</td><td>269</td></tr>",
                            "<tr><td>United States</td><td>Ubuntu</td><td>59</td><td>233</td></tr>",
                            "</table>"
                        ]
                    }
                }
            ],
            "execution_count": 88
        },
        {
            "cell_type": "markdown",
            "source": [
                "## Q17. Calculate the percentage of patched vulnerabilites for different locations."
            ],
            "metadata": {
                "azdata_cell_guid": "ea087910-9bfb-451f-8c88-8cc8f4b2fbe4"
            },
            "attachments": {}
        },
        {
            "cell_type": "code",
            "source": [
                "SELECT\r\n",
                "    location\r\n",
                "    ,SUM(vul_patched) vul_patched\r\n",
                "    ,SUM(total_vul) total_vul\r\n",
                "    ,ROUND((SUM(vul_patched) * 1.0 / SUM(total_vul)) * 100, 2) percent_patched\r\n",
                "FROM \r\n",
                "    linux_server_project..server_info_view\r\n",
                "GROUP BY\r\n",
                "    location\r\n",
                ""
            ],
            "metadata": {
                "azdata_cell_guid": "90ea2b6e-1f51-41e4-8bd7-2b39bf4c24bc",
                "language": "sql"
            },
            "outputs": [
                {
                    "output_type": "display_data",
                    "data": {
                        "text/html": "(3 rows affected)"
                    },
                    "metadata": {}
                },
                {
                    "output_type": "display_data",
                    "data": {
                        "text/html": "Total execution time: 00:00:00.006"
                    },
                    "metadata": {}
                },
                {
                    "output_type": "execute_result",
                    "metadata": {},
                    "execution_count": 93,
                    "data": {
                        "application/vnd.dataresource+json": {
                            "schema": {
                                "fields": [
                                    {
                                        "name": "location"
                                    },
                                    {
                                        "name": "vul_patched"
                                    },
                                    {
                                        "name": "total_vul"
                                    },
                                    {
                                        "name": "percent_patched"
                                    }
                                ]
                            },
                            "data": [
                                {
                                    "location": "United States",
                                    "vul_patched": "37678",
                                    "total_vul": "73275",
                                    "percent_patched": "51.420000000000"
                                },
                                {
                                    "location": "Australia",
                                    "vul_patched": "60301",
                                    "total_vul": "114064",
                                    "percent_patched": "52.870000000000"
                                },
                                {
                                    "location": "European Union",
                                    "vul_patched": "41805",
                                    "total_vul": "78398",
                                    "percent_patched": "53.320000000000"
                                }
                            ]
                        },
                        "text/html": [
                            "<table>",
                            "<tr><th>location</th><th>vul_patched</th><th>total_vul</th><th>percent_patched</th></tr>",
                            "<tr><td>United States</td><td>37678</td><td>73275</td><td>51.420000000000</td></tr>",
                            "<tr><td>Australia</td><td>60301</td><td>114064</td><td>52.870000000000</td></tr>",
                            "<tr><td>European Union</td><td>41805</td><td>78398</td><td>53.320000000000</td></tr>",
                            "</table>"
                        ]
                    }
                }
            ],
            "execution_count": 93
        },
        {
            "cell_type": "markdown",
            "source": [
                "## Q18. Find all systems for which more than 80% of the vulnerabilities are not patched."
            ],
            "metadata": {
                "language": "sql",
                "azdata_cell_guid": "d9938be9-265b-4ad4-90f0-7dc9bced1e95"
            },
            "attachments": {}
        },
        {
            "cell_type": "code",
            "source": [
                "WITH patch_stat AS\r\n",
                "(\r\n",
                "    SELECT\r\n",
                "    sys_id\r\n",
                "    ,owner_id\r\n",
                "    ,owner_name\r\n",
                "    ,(vul_patched * 1.0 / total_vul) * 100 patch_percent\r\n",
                "    FROM \r\n",
                "        linux_server_project..server_info_view\r\n",
                ") \r\n",
                "SELECT\r\n",
                "    *\r\n",
                "FROM\r\n",
                "    patch_stat\r\n",
                "WHERE\r\n",
                "    patch_stat.patch_percent <= 20"
            ],
            "metadata": {
                "language": "sql",
                "azdata_cell_guid": "e0eef0e2-a5c8-4c75-aca7-b9ab5a83e188"
            },
            "outputs": [
                {
                    "output_type": "display_data",
                    "data": {
                        "text/html": "(29 rows affected)"
                    },
                    "metadata": {}
                },
                {
                    "output_type": "display_data",
                    "data": {
                        "text/html": "Total execution time: 00:00:00.030"
                    },
                    "metadata": {}
                },
                {
                    "output_type": "execute_result",
                    "metadata": {},
                    "execution_count": 103,
                    "data": {
                        "application/vnd.dataresource+json": {
                            "schema": {
                                "fields": [
                                    {
                                        "name": "sys_id"
                                    },
                                    {
                                        "name": "owner_id"
                                    },
                                    {
                                        "name": "owner_name"
                                    },
                                    {
                                        "name": "patch_percent"
                                    }
                                ]
                            },
                            "data": [
                                {
                                    "sys_id": "SYS084064936",
                                    "owner_id": "au_11362",
                                    "owner_name": "Zachary Holland",
                                    "patch_percent": "18.911917098400"
                                },
                                {
                                    "sys_id": "APP115186893",
                                    "owner_id": "au_16507",
                                    "owner_name": "Eduardo Chen",
                                    "patch_percent": "17.000000000000"
                                },
                                {
                                    "sys_id": "APP080106513",
                                    "owner_id": "au_25552",
                                    "owner_name": "Stephanie Miller",
                                    "patch_percent": "16.990291262100"
                                },
                                {
                                    "sys_id": "SYS056333129",
                                    "owner_id": "au_25552",
                                    "owner_name": "Stephanie Miller",
                                    "patch_percent": "19.905213270100"
                                },
                                {
                                    "sys_id": "APP121957618",
                                    "owner_id": "au_75432",
                                    "owner_name": "Kimberly Dominguez",
                                    "patch_percent": "15.949367088600"
                                },
                                {
                                    "sys_id": "APP127383477",
                                    "owner_id": "au_75432",
                                    "owner_name": "Kimberly Dominguez",
                                    "patch_percent": "19.948186528400"
                                },
                                {
                                    "sys_id": "SYS122145623",
                                    "owner_id": "au_86362",
                                    "owner_name": "Dakota Olson",
                                    "patch_percent": "19.849246231100"
                                },
                                {
                                    "sys_id": "WEB128723434",
                                    "owner_id": "au_86362",
                                    "owner_name": "Dakota Olson",
                                    "patch_percent": "19.897959183600"
                                },
                                {
                                    "sys_id": "SYS096571912",
                                    "owner_id": "eu_10858",
                                    "owner_name": "Sean Maldonado",
                                    "patch_percent": "17.995444191300"
                                },
                                {
                                    "sys_id": "WEB109642356",
                                    "owner_id": "eu_11838",
                                    "owner_name": "Elizabeth Nichols",
                                    "patch_percent": "18.000000000000"
                                },
                                {
                                    "sys_id": "WEB107526775",
                                    "owner_id": "eu_22256",
                                    "owner_name": "Ryan Cruz",
                                    "patch_percent": "16.995073891600"
                                },
                                {
                                    "sys_id": "SYS039387008",
                                    "owner_id": "eu_22256",
                                    "owner_name": "Ryan Cruz",
                                    "patch_percent": "18.796992481200"
                                },
                                {
                                    "sys_id": "APP103406080",
                                    "owner_id": "eu_22256",
                                    "owner_name": "Ryan Cruz",
                                    "patch_percent": "18.848167539200"
                                },
                                {
                                    "sys_id": "WEB107128474",
                                    "owner_id": "eu_23263",
                                    "owner_name": "John Howard",
                                    "patch_percent": "16.784869976300"
                                },
                                {
                                    "sys_id": "SYS116846022",
                                    "owner_id": "eu_56544",
                                    "owner_name": "Peggy Morales",
                                    "patch_percent": "16.962025316400"
                                },
                                {
                                    "sys_id": "APP107848013",
                                    "owner_id": "eu_69372",
                                    "owner_name": "Isabel Miller",
                                    "patch_percent": "15.914489311100"
                                },
                                {
                                    "sys_id": "APP116729466",
                                    "owner_id": "eu_77467",
                                    "owner_name": "Megan Lee",
                                    "patch_percent": "17.783505154600"
                                },
                                {
                                    "sys_id": "APP017236883",
                                    "owner_id": "eu_77467",
                                    "owner_name": "Megan Lee",
                                    "patch_percent": "18.987341772100"
                                },
                                {
                                    "sys_id": "WEB068404499",
                                    "owner_id": "eu_77467",
                                    "owner_name": "Megan Lee",
                                    "patch_percent": "20.000000000000"
                                },
                                {
                                    "sys_id": "WEB111894901",
                                    "owner_id": "eu_77467",
                                    "owner_name": "Megan Lee",
                                    "patch_percent": "18.978102189700"
                                },
                                {
                                    "sys_id": "SYS117215102",
                                    "owner_id": "us_10113",
                                    "owner_name": "Ashley Donovan",
                                    "patch_percent": "19.845360824700"
                                },
                                {
                                    "sys_id": "SYS037354541",
                                    "owner_id": "us_10113",
                                    "owner_name": "Ashley Donovan",
                                    "patch_percent": "19.811320754700"
                                },
                                {
                                    "sys_id": "WEB111851889",
                                    "owner_id": "us_15438",
                                    "owner_name": "Kristen Mosley",
                                    "patch_percent": "16.893732970000"
                                },
                                {
                                    "sys_id": "WEB030994513",
                                    "owner_id": "us_15438",
                                    "owner_name": "Kristen Mosley",
                                    "patch_percent": "15.960099750600"
                                },
                                {
                                    "sys_id": "WEB126488771",
                                    "owner_id": "us_19904",
                                    "owner_name": "Rebecca Stevens",
                                    "patch_percent": "17.766497461900"
                                },
                                {
                                    "sys_id": "SYS097704351",
                                    "owner_id": "us_52113",
                                    "owner_name": "Tracy Williams",
                                    "patch_percent": "18.000000000000"
                                },
                                {
                                    "sys_id": "APP100384985",
                                    "owner_id": "us_52113",
                                    "owner_name": "Tracy Williams",
                                    "patch_percent": "15.789473684200"
                                },
                                {
                                    "sys_id": "APP045175181",
                                    "owner_id": "us_68077",
                                    "owner_name": "Danielle Benjamin",
                                    "patch_percent": "16.986301369800"
                                },
                                {
                                    "sys_id": "APP107877291",
                                    "owner_id": "us_68077",
                                    "owner_name": "Danielle Benjamin",
                                    "patch_percent": "19.902912621300"
                                }
                            ]
                        },
                        "text/html": [
                            "<table>",
                            "<tr><th>sys_id</th><th>owner_id</th><th>owner_name</th><th>patch_percent</th></tr>",
                            "<tr><td>SYS084064936</td><td>au_11362</td><td>Zachary Holland</td><td>18.911917098400</td></tr>",
                            "<tr><td>APP115186893</td><td>au_16507</td><td>Eduardo Chen</td><td>17.000000000000</td></tr>",
                            "<tr><td>APP080106513</td><td>au_25552</td><td>Stephanie Miller</td><td>16.990291262100</td></tr>",
                            "<tr><td>SYS056333129</td><td>au_25552</td><td>Stephanie Miller</td><td>19.905213270100</td></tr>",
                            "<tr><td>APP121957618</td><td>au_75432</td><td>Kimberly Dominguez</td><td>15.949367088600</td></tr>",
                            "<tr><td>APP127383477</td><td>au_75432</td><td>Kimberly Dominguez</td><td>19.948186528400</td></tr>",
                            "<tr><td>SYS122145623</td><td>au_86362</td><td>Dakota Olson</td><td>19.849246231100</td></tr>",
                            "<tr><td>WEB128723434</td><td>au_86362</td><td>Dakota Olson</td><td>19.897959183600</td></tr>",
                            "<tr><td>SYS096571912</td><td>eu_10858</td><td>Sean Maldonado</td><td>17.995444191300</td></tr>",
                            "<tr><td>WEB109642356</td><td>eu_11838</td><td>Elizabeth Nichols</td><td>18.000000000000</td></tr>",
                            "<tr><td>WEB107526775</td><td>eu_22256</td><td>Ryan Cruz</td><td>16.995073891600</td></tr>",
                            "<tr><td>SYS039387008</td><td>eu_22256</td><td>Ryan Cruz</td><td>18.796992481200</td></tr>",
                            "<tr><td>APP103406080</td><td>eu_22256</td><td>Ryan Cruz</td><td>18.848167539200</td></tr>",
                            "<tr><td>WEB107128474</td><td>eu_23263</td><td>John Howard</td><td>16.784869976300</td></tr>",
                            "<tr><td>SYS116846022</td><td>eu_56544</td><td>Peggy Morales</td><td>16.962025316400</td></tr>",
                            "<tr><td>APP107848013</td><td>eu_69372</td><td>Isabel Miller</td><td>15.914489311100</td></tr>",
                            "<tr><td>APP116729466</td><td>eu_77467</td><td>Megan Lee</td><td>17.783505154600</td></tr>",
                            "<tr><td>APP017236883</td><td>eu_77467</td><td>Megan Lee</td><td>18.987341772100</td></tr>",
                            "<tr><td>WEB068404499</td><td>eu_77467</td><td>Megan Lee</td><td>20.000000000000</td></tr>",
                            "<tr><td>WEB111894901</td><td>eu_77467</td><td>Megan Lee</td><td>18.978102189700</td></tr>",
                            "<tr><td>SYS117215102</td><td>us_10113</td><td>Ashley Donovan</td><td>19.845360824700</td></tr>",
                            "<tr><td>SYS037354541</td><td>us_10113</td><td>Ashley Donovan</td><td>19.811320754700</td></tr>",
                            "<tr><td>WEB111851889</td><td>us_15438</td><td>Kristen Mosley</td><td>16.893732970000</td></tr>",
                            "<tr><td>WEB030994513</td><td>us_15438</td><td>Kristen Mosley</td><td>15.960099750600</td></tr>",
                            "<tr><td>WEB126488771</td><td>us_19904</td><td>Rebecca Stevens</td><td>17.766497461900</td></tr>",
                            "<tr><td>SYS097704351</td><td>us_52113</td><td>Tracy Williams</td><td>18.000000000000</td></tr>",
                            "<tr><td>APP100384985</td><td>us_52113</td><td>Tracy Williams</td><td>15.789473684200</td></tr>",
                            "<tr><td>APP045175181</td><td>us_68077</td><td>Danielle Benjamin</td><td>16.986301369800</td></tr>",
                            "<tr><td>APP107877291</td><td>us_68077</td><td>Danielle Benjamin</td><td>19.902912621300</td></tr>",
                            "</table>"
                        ]
                    }
                }
            ],
            "execution_count": 103
        },
        {
            "cell_type": "markdown",
            "source": [
                "## Q19. Find all servers that haven't been patched since last 60 days."
            ],
            "metadata": {
                "azdata_cell_guid": "392dee33-d7f6-4ad5-a1d9-e65e59c7e33a",
                "language": ""
            },
            "attachments": {}
        },
        {
            "cell_type": "code",
            "source": [
                "WITH days_cte AS\r\n",
                "(SELECT\r\n",
                "    sys_id\r\n",
                "    ,owner_id\r\n",
                "    ,last_update_date\r\n",
                "    ,MAX(last_update_date) OVER() last_day\r\n",
                "FROM \r\n",
                "    linux_server_project..server_info_view)\r\n",
                "SELECT\r\n",
                "    days_cte.sys_id\r\n",
                "    ,days_cte.owner_id\r\n",
                "    ,DATEDIFF(DAY, days_cte.last_update_date, days_cte.last_day) days_since_last_update\r\n",
                "FROM\r\n",
                "    days_cte\r\n",
                "WHERE\r\n",
                "    DATEDIFF(DAY, days_cte.last_update_date, days_cte.last_day) >= 60\r\n",
                "ORDER BY 3 DESC;"
            ],
            "metadata": {
                "azdata_cell_guid": "21b9ca06-bd86-4d9d-849a-d48cb123f4a2",
                "language": "sql",
                "tags": []
            },
            "outputs": [
                {
                    "output_type": "display_data",
                    "data": {
                        "text/html": "(61 rows affected)"
                    },
                    "metadata": {}
                },
                {
                    "output_type": "display_data",
                    "data": {
                        "text/html": "Total execution time: 00:00:00.020"
                    },
                    "metadata": {}
                },
                {
                    "output_type": "execute_result",
                    "metadata": {},
                    "execution_count": 118,
                    "data": {
                        "application/vnd.dataresource+json": {
                            "schema": {
                                "fields": [
                                    {
                                        "name": "sys_id"
                                    },
                                    {
                                        "name": "owner_id"
                                    },
                                    {
                                        "name": "days_since_last_update"
                                    }
                                ]
                            },
                            "data": [
                                {
                                    "sys_id": "WEB107526775",
                                    "owner_id": "eu_22256",
                                    "days_since_last_update": "78"
                                },
                                {
                                    "sys_id": "WEB128723434",
                                    "owner_id": "au_86362",
                                    "days_since_last_update": "77"
                                },
                                {
                                    "sys_id": "SYS116846022",
                                    "owner_id": "eu_56544",
                                    "days_since_last_update": "76"
                                },
                                {
                                    "sys_id": "SYS122145623",
                                    "owner_id": "au_86362",
                                    "days_since_last_update": "76"
                                },
                                {
                                    "sys_id": "APP121957618",
                                    "owner_id": "au_75432",
                                    "days_since_last_update": "75"
                                },
                                {
                                    "sys_id": "APP107877291",
                                    "owner_id": "us_68077",
                                    "days_since_last_update": "74"
                                },
                                {
                                    "sys_id": "SYS116540519",
                                    "owner_id": "eu_51465",
                                    "days_since_last_update": "74"
                                },
                                {
                                    "sys_id": "WEB109642356",
                                    "owner_id": "eu_11838",
                                    "days_since_last_update": "74"
                                },
                                {
                                    "sys_id": "WEB011128052",
                                    "owner_id": "us_10113",
                                    "days_since_last_update": "73"
                                },
                                {
                                    "sys_id": "APP127570594",
                                    "owner_id": "au_18036",
                                    "days_since_last_update": "73"
                                },
                                {
                                    "sys_id": "APP103406080",
                                    "owner_id": "eu_22256",
                                    "days_since_last_update": "73"
                                },
                                {
                                    "sys_id": "APP080106513",
                                    "owner_id": "au_25552",
                                    "days_since_last_update": "73"
                                },
                                {
                                    "sys_id": "SYS084064936",
                                    "owner_id": "au_11362",
                                    "days_since_last_update": "72"
                                },
                                {
                                    "sys_id": "APP117739264",
                                    "owner_id": "au_18036",
                                    "days_since_last_update": "71"
                                },
                                {
                                    "sys_id": "WEB084596158",
                                    "owner_id": "au_16507",
                                    "days_since_last_update": "71"
                                },
                                {
                                    "sys_id": "WEB085523146",
                                    "owner_id": "eu_23263",
                                    "days_since_last_update": "71"
                                },
                                {
                                    "sys_id": "WEB111894901",
                                    "owner_id": "eu_77467",
                                    "days_since_last_update": "71"
                                },
                                {
                                    "sys_id": "APP046937852",
                                    "owner_id": "us_10113",
                                    "days_since_last_update": "70"
                                },
                                {
                                    "sys_id": "APP115207442",
                                    "owner_id": "us_52113",
                                    "days_since_last_update": "70"
                                },
                                {
                                    "sys_id": "APP081902295",
                                    "owner_id": "au_15315",
                                    "days_since_last_update": "69"
                                },
                                {
                                    "sys_id": "SYS038463923",
                                    "owner_id": "us_57346",
                                    "days_since_last_update": "69"
                                },
                                {
                                    "sys_id": "WEB126488771",
                                    "owner_id": "us_19904",
                                    "days_since_last_update": "69"
                                },
                                {
                                    "sys_id": "WEB030994513",
                                    "owner_id": "us_15438",
                                    "days_since_last_update": "69"
                                },
                                {
                                    "sys_id": "SYS117215102",
                                    "owner_id": "us_10113",
                                    "days_since_last_update": "68"
                                },
                                {
                                    "sys_id": "SYS097704351",
                                    "owner_id": "us_52113",
                                    "days_since_last_update": "68"
                                },
                                {
                                    "sys_id": "APP100384985",
                                    "owner_id": "us_52113",
                                    "days_since_last_update": "68"
                                },
                                {
                                    "sys_id": "SYS118657808",
                                    "owner_id": "eu_56544",
                                    "days_since_last_update": "67"
                                },
                                {
                                    "sys_id": "WEB107128474",
                                    "owner_id": "eu_23263",
                                    "days_since_last_update": "67"
                                },
                                {
                                    "sys_id": "WEB096923227",
                                    "owner_id": "au_89783",
                                    "days_since_last_update": "66"
                                },
                                {
                                    "sys_id": "WEB068527729",
                                    "owner_id": "us_15438",
                                    "days_since_last_update": "66"
                                },
                                {
                                    "sys_id": "APP017236883",
                                    "owner_id": "eu_77467",
                                    "days_since_last_update": "66"
                                },
                                {
                                    "sys_id": "SYS084014892",
                                    "owner_id": "au_40513",
                                    "days_since_last_update": "66"
                                },
                                {
                                    "sys_id": "SYS097282996",
                                    "owner_id": "us_57346",
                                    "days_since_last_update": "66"
                                },
                                {
                                    "sys_id": "APP127383477",
                                    "owner_id": "au_75432",
                                    "days_since_last_update": "65"
                                },
                                {
                                    "sys_id": "SYS010842711",
                                    "owner_id": "eu_77467",
                                    "days_since_last_update": "65"
                                },
                                {
                                    "sys_id": "APP115186893",
                                    "owner_id": "au_16507",
                                    "days_since_last_update": "65"
                                },
                                {
                                    "sys_id": "WEB065371473",
                                    "owner_id": "eu_56544",
                                    "days_since_last_update": "65"
                                },
                                {
                                    "sys_id": "WEB111851889",
                                    "owner_id": "us_15438",
                                    "days_since_last_update": "65"
                                },
                                {
                                    "sys_id": "APP019885164",
                                    "owner_id": "eu_22256",
                                    "days_since_last_update": "64"
                                },
                                {
                                    "sys_id": "APP026245658",
                                    "owner_id": "au_15315",
                                    "days_since_last_update": "64"
                                },
                                {
                                    "sys_id": "APP116729466",
                                    "owner_id": "eu_77467",
                                    "days_since_last_update": "63"
                                },
                                {
                                    "sys_id": "APP123031613",
                                    "owner_id": "us_19904",
                                    "days_since_last_update": "63"
                                },
                                {
                                    "sys_id": "SYS038902332",
                                    "owner_id": "au_18036",
                                    "days_since_last_update": "63"
                                },
                                {
                                    "sys_id": "SYS039387008",
                                    "owner_id": "eu_22256",
                                    "days_since_last_update": "63"
                                },
                                {
                                    "sys_id": "SYS056333129",
                                    "owner_id": "au_25552",
                                    "days_since_last_update": "63"
                                },
                                {
                                    "sys_id": "SYS084348733",
                                    "owner_id": "us_52113",
                                    "days_since_last_update": "63"
                                },
                                {
                                    "sys_id": "WEB100927533",
                                    "owner_id": "eu_51465",
                                    "days_since_last_update": "63"
                                },
                                {
                                    "sys_id": "WEB068404499",
                                    "owner_id": "eu_77467",
                                    "days_since_last_update": "62"
                                },
                                {
                                    "sys_id": "WEB028055260",
                                    "owner_id": "au_86362",
                                    "days_since_last_update": "62"
                                },
                                {
                                    "sys_id": "WEB110517289",
                                    "owner_id": "au_16507",
                                    "days_since_last_update": "62"
                                },
                                {
                                    "sys_id": "SYS017146119",
                                    "owner_id": "us_15438",
                                    "days_since_last_update": "62"
                                },
                                {
                                    "sys_id": "APP107848013",
                                    "owner_id": "eu_69372",
                                    "days_since_last_update": "62"
                                },
                                {
                                    "sys_id": "WEB043952115",
                                    "owner_id": "us_19904",
                                    "days_since_last_update": "61"
                                },
                                {
                                    "sys_id": "WEB051708050",
                                    "owner_id": "au_77600",
                                    "days_since_last_update": "61"
                                },
                                {
                                    "sys_id": "WEB039973768",
                                    "owner_id": "eu_10858",
                                    "days_since_last_update": "60"
                                },
                                {
                                    "sys_id": "WEB065488515",
                                    "owner_id": "au_40513",
                                    "days_since_last_update": "60"
                                },
                                {
                                    "sys_id": "WEB102855742",
                                    "owner_id": "au_11362",
                                    "days_since_last_update": "60"
                                },
                                {
                                    "sys_id": "APP045175181",
                                    "owner_id": "us_68077",
                                    "days_since_last_update": "60"
                                },
                                {
                                    "sys_id": "APP055211174",
                                    "owner_id": "au_11362",
                                    "days_since_last_update": "60"
                                },
                                {
                                    "sys_id": "APP059649904",
                                    "owner_id": "us_10113",
                                    "days_since_last_update": "60"
                                },
                                {
                                    "sys_id": "SYS020388621",
                                    "owner_id": "us_19904",
                                    "days_since_last_update": "60"
                                }
                            ]
                        },
                        "text/html": [
                            "<table>",
                            "<tr><th>sys_id</th><th>owner_id</th><th>days_since_last_update</th></tr>",
                            "<tr><td>WEB107526775</td><td>eu_22256</td><td>78</td></tr>",
                            "<tr><td>WEB128723434</td><td>au_86362</td><td>77</td></tr>",
                            "<tr><td>SYS116846022</td><td>eu_56544</td><td>76</td></tr>",
                            "<tr><td>SYS122145623</td><td>au_86362</td><td>76</td></tr>",
                            "<tr><td>APP121957618</td><td>au_75432</td><td>75</td></tr>",
                            "<tr><td>APP107877291</td><td>us_68077</td><td>74</td></tr>",
                            "<tr><td>SYS116540519</td><td>eu_51465</td><td>74</td></tr>",
                            "<tr><td>WEB109642356</td><td>eu_11838</td><td>74</td></tr>",
                            "<tr><td>WEB011128052</td><td>us_10113</td><td>73</td></tr>",
                            "<tr><td>APP127570594</td><td>au_18036</td><td>73</td></tr>",
                            "<tr><td>APP103406080</td><td>eu_22256</td><td>73</td></tr>",
                            "<tr><td>APP080106513</td><td>au_25552</td><td>73</td></tr>",
                            "<tr><td>SYS084064936</td><td>au_11362</td><td>72</td></tr>",
                            "<tr><td>APP117739264</td><td>au_18036</td><td>71</td></tr>",
                            "<tr><td>WEB084596158</td><td>au_16507</td><td>71</td></tr>",
                            "<tr><td>WEB085523146</td><td>eu_23263</td><td>71</td></tr>",
                            "<tr><td>WEB111894901</td><td>eu_77467</td><td>71</td></tr>",
                            "<tr><td>APP046937852</td><td>us_10113</td><td>70</td></tr>",
                            "<tr><td>APP115207442</td><td>us_52113</td><td>70</td></tr>",
                            "<tr><td>APP081902295</td><td>au_15315</td><td>69</td></tr>",
                            "<tr><td>SYS038463923</td><td>us_57346</td><td>69</td></tr>",
                            "<tr><td>WEB126488771</td><td>us_19904</td><td>69</td></tr>",
                            "<tr><td>WEB030994513</td><td>us_15438</td><td>69</td></tr>",
                            "<tr><td>SYS117215102</td><td>us_10113</td><td>68</td></tr>",
                            "<tr><td>SYS097704351</td><td>us_52113</td><td>68</td></tr>",
                            "<tr><td>APP100384985</td><td>us_52113</td><td>68</td></tr>",
                            "<tr><td>SYS118657808</td><td>eu_56544</td><td>67</td></tr>",
                            "<tr><td>WEB107128474</td><td>eu_23263</td><td>67</td></tr>",
                            "<tr><td>WEB096923227</td><td>au_89783</td><td>66</td></tr>",
                            "<tr><td>WEB068527729</td><td>us_15438</td><td>66</td></tr>",
                            "<tr><td>APP017236883</td><td>eu_77467</td><td>66</td></tr>",
                            "<tr><td>SYS084014892</td><td>au_40513</td><td>66</td></tr>",
                            "<tr><td>SYS097282996</td><td>us_57346</td><td>66</td></tr>",
                            "<tr><td>APP127383477</td><td>au_75432</td><td>65</td></tr>",
                            "<tr><td>SYS010842711</td><td>eu_77467</td><td>65</td></tr>",
                            "<tr><td>APP115186893</td><td>au_16507</td><td>65</td></tr>",
                            "<tr><td>WEB065371473</td><td>eu_56544</td><td>65</td></tr>",
                            "<tr><td>WEB111851889</td><td>us_15438</td><td>65</td></tr>",
                            "<tr><td>APP019885164</td><td>eu_22256</td><td>64</td></tr>",
                            "<tr><td>APP026245658</td><td>au_15315</td><td>64</td></tr>",
                            "<tr><td>APP116729466</td><td>eu_77467</td><td>63</td></tr>",
                            "<tr><td>APP123031613</td><td>us_19904</td><td>63</td></tr>",
                            "<tr><td>SYS038902332</td><td>au_18036</td><td>63</td></tr>",
                            "<tr><td>SYS039387008</td><td>eu_22256</td><td>63</td></tr>",
                            "<tr><td>SYS056333129</td><td>au_25552</td><td>63</td></tr>",
                            "<tr><td>SYS084348733</td><td>us_52113</td><td>63</td></tr>",
                            "<tr><td>WEB100927533</td><td>eu_51465</td><td>63</td></tr>",
                            "<tr><td>WEB068404499</td><td>eu_77467</td><td>62</td></tr>",
                            "<tr><td>WEB028055260</td><td>au_86362</td><td>62</td></tr>",
                            "<tr><td>WEB110517289</td><td>au_16507</td><td>62</td></tr>",
                            "<tr><td>SYS017146119</td><td>us_15438</td><td>62</td></tr>",
                            "<tr><td>APP107848013</td><td>eu_69372</td><td>62</td></tr>",
                            "<tr><td>WEB043952115</td><td>us_19904</td><td>61</td></tr>",
                            "<tr><td>WEB051708050</td><td>au_77600</td><td>61</td></tr>",
                            "<tr><td>WEB039973768</td><td>eu_10858</td><td>60</td></tr>",
                            "<tr><td>WEB065488515</td><td>au_40513</td><td>60</td></tr>",
                            "<tr><td>WEB102855742</td><td>au_11362</td><td>60</td></tr>",
                            "<tr><td>APP045175181</td><td>us_68077</td><td>60</td></tr>",
                            "<tr><td>APP055211174</td><td>au_11362</td><td>60</td></tr>",
                            "<tr><td>APP059649904</td><td>us_10113</td><td>60</td></tr>",
                            "<tr><td>SYS020388621</td><td>us_19904</td><td>60</td></tr>",
                            "</table>"
                        ]
                    }
                }
            ],
            "execution_count": 118
        },
        {
            "cell_type": "markdown",
            "source": [
                "## Q20. Find the user with the third most total vulnerabilities in each location."
            ],
            "metadata": {
                "azdata_cell_guid": "39f6343f-9eee-4bd7-a1bc-2eca07e530ca"
            },
            "attachments": {}
        },
        {
            "cell_type": "code",
            "source": [
                "WITH vul_cte AS (\r\n",
                "    SELECT\r\n",
                "        owner_id\r\n",
                "        ,owner_name\r\n",
                "        ,location\r\n",
                "        ,SUM(total_vul) total_vulnerabilities\r\n",
                "    FROM\r\n",
                "        linux_server_project..server_info_view\r\n",
                "    GROUP BY\r\n",
                "        owner_id\r\n",
                "        ,owner_name\r\n",
                "        ,location\r\n",
                "),\r\n",
                "ranked_cte AS (\r\n",
                "    SELECT\r\n",
                "        owner_id\r\n",
                "        ,owner_name\r\n",
                "        ,location\r\n",
                "        ,DENSE_RANK() OVER(PARTITION BY location ORDER BY total_vulnerabilities DESC) rank_by_vul\r\n",
                "    FROM\r\n",
                "        vul_cte\r\n",
                ")\r\n",
                "SELECT *\r\n",
                "FROM ranked_cte\r\n",
                "WHERE rank_by_vul = 3;"
            ],
            "metadata": {
                "azdata_cell_guid": "d3ac76e1-6bf8-4a94-9cf3-207fb7afedec",
                "language": "sql"
            },
            "outputs": [
                {
                    "output_type": "display_data",
                    "data": {
                        "text/html": "(3 rows affected)"
                    },
                    "metadata": {}
                },
                {
                    "output_type": "display_data",
                    "data": {
                        "text/html": "Total execution time: 00:00:00.025"
                    },
                    "metadata": {}
                },
                {
                    "output_type": "execute_result",
                    "metadata": {},
                    "execution_count": 127,
                    "data": {
                        "application/vnd.dataresource+json": {
                            "schema": {
                                "fields": [
                                    {
                                        "name": "owner_id"
                                    },
                                    {
                                        "name": "owner_name"
                                    },
                                    {
                                        "name": "location"
                                    },
                                    {
                                        "name": "rank_by_vul"
                                    }
                                ]
                            },
                            "data": [
                                {
                                    "owner_id": "au_11362",
                                    "owner_name": "Zachary Holland",
                                    "location": "Australia",
                                    "rank_by_vul": "3"
                                },
                                {
                                    "owner_id": "eu_56544",
                                    "owner_name": "Peggy Morales",
                                    "location": "European Union",
                                    "rank_by_vul": "3"
                                },
                                {
                                    "owner_id": "us_15438",
                                    "owner_name": "Kristen Mosley",
                                    "location": "United States",
                                    "rank_by_vul": "3"
                                }
                            ]
                        },
                        "text/html": [
                            "<table>",
                            "<tr><th>owner_id</th><th>owner_name</th><th>location</th><th>rank_by_vul</th></tr>",
                            "<tr><td>au_11362</td><td>Zachary Holland</td><td>Australia</td><td>3</td></tr>",
                            "<tr><td>eu_56544</td><td>Peggy Morales</td><td>European Union</td><td>3</td></tr>",
                            "<tr><td>us_15438</td><td>Kristen Mosley</td><td>United States</td><td>3</td></tr>",
                            "</table>"
                        ]
                    }
                }
            ],
            "execution_count": 127
        },
        {
            "cell_type": "markdown",
            "source": [
                "## Q21. Create a table that has users with the most and least number of patches to fix."
            ],
            "metadata": {
                "azdata_cell_guid": "a720e7cc-9b52-4621-898a-f7ef2e9b921e"
            },
            "attachments": {}
        },
        {
            "cell_type": "code",
            "source": [
                "WITH least_cte AS (\r\n",
                "    SELECT TOP 1\r\n",
                "        owner_id\r\n",
                "        ,owner_name\r\n",
                "        ,location\r\n",
                "        ,MIN(total_vul - vul_patched) as patches_remaining\r\n",
                "    FROM \r\n",
                "        linux_server_project..server_info_view\r\n",
                "    GROUP BY\r\n",
                "        owner_id\r\n",
                "        ,owner_name\r\n",
                "        ,location\r\n",
                "    ORDER BY 4\r\n",
                "), \r\n",
                "most_cte AS (\r\n",
                "    SELECT TOP 1\r\n",
                "        owner_id\r\n",
                "        ,owner_name\r\n",
                "        ,location\r\n",
                "        ,MAX(total_vul - vul_patched) as patches_remaining\r\n",
                "    FROM \r\n",
                "        linux_server_project..server_info_view\r\n",
                "    GROUP BY\r\n",
                "        owner_id\r\n",
                "        ,owner_name\r\n",
                "        ,location\r\n",
                "    ORDER BY 4 DESC\r\n",
                ")\r\n",
                "SELECT *\r\n",
                "FROM least_cte\r\n",
                "UNION\r\n",
                "SELECT *\r\n",
                "FROM most_cte"
            ],
            "metadata": {
                "azdata_cell_guid": "187d3eeb-3273-463a-b198-b0b167d3a5e0",
                "language": "sql"
            },
            "outputs": [
                {
                    "output_type": "display_data",
                    "data": {
                        "text/html": "(2 rows affected)"
                    },
                    "metadata": {}
                },
                {
                    "output_type": "display_data",
                    "data": {
                        "text/html": "Total execution time: 00:00:00.141"
                    },
                    "metadata": {}
                },
                {
                    "output_type": "execute_result",
                    "metadata": {},
                    "execution_count": 131,
                    "data": {
                        "application/vnd.dataresource+json": {
                            "schema": {
                                "fields": [
                                    {
                                        "name": "owner_id"
                                    },
                                    {
                                        "name": "owner_name"
                                    },
                                    {
                                        "name": "location"
                                    },
                                    {
                                        "name": "patches_remaining"
                                    }
                                ]
                            },
                            "data": [
                                {
                                    "owner_id": "au_16507",
                                    "owner_name": "Eduardo Chen",
                                    "location": "Australia",
                                    "patches_remaining": "27"
                                },
                                {
                                    "owner_id": "eu_10858",
                                    "owner_name": "Sean Maldonado",
                                    "location": "European Union",
                                    "patches_remaining": "360"
                                }
                            ]
                        },
                        "text/html": [
                            "<table>",
                            "<tr><th>owner_id</th><th>owner_name</th><th>location</th><th>patches_remaining</th></tr>",
                            "<tr><td>au_16507</td><td>Eduardo Chen</td><td>Australia</td><td>27</td></tr>",
                            "<tr><td>eu_10858</td><td>Sean Maldonado</td><td>European Union</td><td>360</td></tr>",
                            "</table>"
                        ]
                    }
                }
            ],
            "execution_count": 131
        },
        {
            "cell_type": "markdown",
            "source": [
                "## Q22. Find the number of servers who have less patched vulnerabilites than the average."
            ],
            "metadata": {
                "azdata_cell_guid": "abab511e-6ce2-4bbb-834b-5f4d6aaf5694",
                "language": ""
            },
            "attachments": {}
        },
        {
            "cell_type": "code",
            "source": [
                "SELECT \r\n",
                "    COUNT(*) servers_below_avg_patches\r\n",
                "FROM \r\n",
                "    linux_server_project..server_info_view\r\n",
                "WHERE\r\n",
                "    vul_patched < (\r\n",
                "        SELECT \r\n",
                "            AVG(vul_patched)\r\n",
                "        FROM\r\n",
                "            linux_server_project..server_info_view\r\n",
                "    )\r\n",
                "    "
            ],
            "metadata": {
                "azdata_cell_guid": "17cd66af-dcc2-4d08-8776-e6009ca0d671",
                "language": "sql"
            },
            "outputs": [
                {
                    "output_type": "display_data",
                    "data": {
                        "text/html": "(1 row affected)"
                    },
                    "metadata": {}
                },
                {
                    "output_type": "display_data",
                    "data": {
                        "text/html": "Total execution time: 00:00:00.027"
                    },
                    "metadata": {}
                },
                {
                    "output_type": "execute_result",
                    "metadata": {},
                    "execution_count": 133,
                    "data": {
                        "application/vnd.dataresource+json": {
                            "schema": {
                                "fields": [
                                    {
                                        "name": "servers_below_avg_patches"
                                    }
                                ]
                            },
                            "data": [
                                {
                                    "servers_below_avg_patches": "500"
                                }
                            ]
                        },
                        "text/html": [
                            "<table>",
                            "<tr><th>servers_below_avg_patches</th></tr>",
                            "<tr><td>500</td></tr>",
                            "</table>"
                        ]
                    }
                }
            ],
            "execution_count": 133
        },
        {
            "cell_type": "markdown",
            "source": [
                "## Q23. Find the most popular distro in each location."
            ],
            "metadata": {
                "language": "sql",
                "azdata_cell_guid": "edc538a4-db6f-4ece-8d9b-f317bc513662"
            },
            "attachments": {}
        },
        {
            "cell_type": "code",
            "source": [
                "WITH distro_cte AS (\r\n",
                "    SELECT\r\n",
                "        location\r\n",
                "        ,distribution\r\n",
                "        ,COUNT(*) as num_of_server\r\n",
                "    FROM\r\n",
                "        linux_server_project..server_info_view\r\n",
                "    GROUP BY\r\n",
                "        location\r\n",
                "        ,distribution\r\n",
                "),\r\n",
                "ranked_cte AS (\r\n",
                "    SELECT\r\n",
                "        location\r\n",
                "        ,distribution\r\n",
                "        ,num_of_server\r\n",
                "        ,DENSE_RANK() OVER(PARTITION BY location ORDER BY num_of_server DESC) rank\r\n",
                "    FROM\r\n",
                "        distro_cte\r\n",
                ")\r\n",
                "SELECT\r\n",
                "    *\r\n",
                "FROM\r\n",
                "    ranked_cte\r\n",
                "WHERE\r\n",
                "    rank = 1"
            ],
            "metadata": {
                "language": "sql",
                "azdata_cell_guid": "4ce4103e-0a3d-44f7-ac66-aaa30e5daf4d"
            },
            "outputs": [
                {
                    "output_type": "display_data",
                    "data": {
                        "text/html": "(3 rows affected)"
                    },
                    "metadata": {}
                },
                {
                    "output_type": "display_data",
                    "data": {
                        "text/html": "Total execution time: 00:00:00.005"
                    },
                    "metadata": {}
                },
                {
                    "output_type": "execute_result",
                    "metadata": {},
                    "execution_count": 137,
                    "data": {
                        "application/vnd.dataresource+json": {
                            "schema": {
                                "fields": [
                                    {
                                        "name": "location"
                                    },
                                    {
                                        "name": "distribution"
                                    },
                                    {
                                        "name": "num_of_server"
                                    },
                                    {
                                        "name": "rank"
                                    }
                                ]
                            },
                            "data": [
                                {
                                    "location": "Australia",
                                    "distribution": "CentOS",
                                    "num_of_server": "96",
                                    "rank": "1"
                                },
                                {
                                    "location": "European Union",
                                    "distribution": "Red Hat",
                                    "num_of_server": "66",
                                    "rank": "1"
                                },
                                {
                                    "location": "United States",
                                    "distribution": "Red Hat",
                                    "num_of_server": "60",
                                    "rank": "1"
                                }
                            ]
                        },
                        "text/html": [
                            "<table>",
                            "<tr><th>location</th><th>distribution</th><th>num_of_server</th><th>rank</th></tr>",
                            "<tr><td>Australia</td><td>CentOS</td><td>96</td><td>1</td></tr>",
                            "<tr><td>European Union</td><td>Red Hat</td><td>66</td><td>1</td></tr>",
                            "<tr><td>United States</td><td>Red Hat</td><td>60</td><td>1</td></tr>",
                            "</table>"
                        ]
                    }
                }
            ],
            "execution_count": 137
        },
        {
            "cell_type": "markdown",
            "source": [
                "## Q24. Find all the servers that have been patched during the last 30 days and have a patch percent of 75% or above."
            ],
            "metadata": {
                "azdata_cell_guid": "4995ef05-4b3a-4335-af81-da03cdc4955a"
            },
            "attachments": {}
        },
        {
            "cell_type": "code",
            "source": [
                "WITH days_cte AS\r\n",
                "(SELECT\r\n",
                "    sys_id\r\n",
                "    ,owner_id\r\n",
                "    ,(vul_patched * 1.0 / total_vul) * 100 patch_percent\r\n",
                "    ,last_update_date\r\n",
                "    ,MAX(last_update_date) OVER() last_day\r\n",
                "FROM\r\n",
                "    linux_server_project..server_info_view)\r\n",
                "SELECT\r\n",
                "    sys_id\r\n",
                "    ,owner_id\r\n",
                "    ,patch_percent\r\n",
                "    ,DATEDIFF(DAY, last_update_date, last_day) interval_in_days\r\n",
                "FROM\r\n",
                "    days_cte\r\n",
                "WHERE\r\n",
                "    (patch_percent >= 75) \r\n",
                "    AND \r\n",
                "    (DATEDIFF(DAY, last_update_date, last_day) <= 30)\r\n",
                ""
            ],
            "metadata": {
                "azdata_cell_guid": "3408d8ad-aa82-46a5-8fde-f0dc5f2dd785",
                "language": "sql"
            },
            "outputs": [
                {
                    "output_type": "display_data",
                    "data": {
                        "text/html": "(141 rows affected)"
                    },
                    "metadata": {}
                },
                {
                    "output_type": "display_data",
                    "data": {
                        "text/html": "Total execution time: 00:00:00.043"
                    },
                    "metadata": {}
                },
                {
                    "output_type": "execute_result",
                    "metadata": {},
                    "execution_count": 146,
                    "data": {
                        "application/vnd.dataresource+json": {
                            "schema": {
                                "fields": [
                                    {
                                        "name": "sys_id"
                                    },
                                    {
                                        "name": "owner_id"
                                    },
                                    {
                                        "name": "patch_percent"
                                    },
                                    {
                                        "name": "interval_in_days"
                                    }
                                ]
                            },
                            "data": [
                                {
                                    "sys_id": "APP011543035",
                                    "owner_id": "us_15438",
                                    "patch_percent": "79.901960784300",
                                    "interval_in_days": "6"
                                },
                                {
                                    "sys_id": "APP013070535",
                                    "owner_id": "au_11362",
                                    "patch_percent": "80.952380952300",
                                    "interval_in_days": "19"
                                },
                                {
                                    "sys_id": "APP014078594",
                                    "owner_id": "eu_56544",
                                    "patch_percent": "75.799086757900",
                                    "interval_in_days": "7"
                                },
                                {
                                    "sys_id": "APP018214862",
                                    "owner_id": "eu_10858",
                                    "patch_percent": "77.934272300400",
                                    "interval_in_days": "11"
                                },
                                {
                                    "sys_id": "APP024770057",
                                    "owner_id": "us_52113",
                                    "patch_percent": "75.961538461500",
                                    "interval_in_days": "25"
                                },
                                {
                                    "sys_id": "APP025851496",
                                    "owner_id": "eu_56544",
                                    "patch_percent": "82.978723404200",
                                    "interval_in_days": "18"
                                },
                                {
                                    "sys_id": "APP026701451",
                                    "owner_id": "eu_11838",
                                    "patch_percent": "82.653061224400",
                                    "interval_in_days": "3"
                                },
                                {
                                    "sys_id": "APP028347389",
                                    "owner_id": "us_68077",
                                    "patch_percent": "82.524271844600",
                                    "interval_in_days": "8"
                                },
                                {
                                    "sys_id": "APP030863534",
                                    "owner_id": "au_18036",
                                    "patch_percent": "79.761904761900",
                                    "interval_in_days": "20"
                                },
                                {
                                    "sys_id": "APP030969027",
                                    "owner_id": "au_77600",
                                    "patch_percent": "79.888268156400",
                                    "interval_in_days": "6"
                                },
                                {
                                    "sys_id": "APP036944868",
                                    "owner_id": "au_77600",
                                    "patch_percent": "75.609756097500",
                                    "interval_in_days": "22"
                                },
                                {
                                    "sys_id": "APP037031204",
                                    "owner_id": "us_15438",
                                    "patch_percent": "80.995475113100",
                                    "interval_in_days": "17"
                                },
                                {
                                    "sys_id": "APP040011978",
                                    "owner_id": "au_86362",
                                    "patch_percent": "83.516483516400",
                                    "interval_in_days": "12"
                                },
                                {
                                    "sys_id": "APP047589979",
                                    "owner_id": "au_16507",
                                    "patch_percent": "82.658959537500",
                                    "interval_in_days": "3"
                                },
                                {
                                    "sys_id": "APP047966039",
                                    "owner_id": "us_52113",
                                    "patch_percent": "78.500000000000",
                                    "interval_in_days": "16"
                                },
                                {
                                    "sys_id": "APP052232538",
                                    "owner_id": "eu_10858",
                                    "patch_percent": "81.904761904700",
                                    "interval_in_days": "17"
                                },
                                {
                                    "sys_id": "APP054713246",
                                    "owner_id": "us_34800",
                                    "patch_percent": "84.615384615300",
                                    "interval_in_days": "9"
                                },
                                {
                                    "sys_id": "APP057128142",
                                    "owner_id": "us_52113",
                                    "patch_percent": "84.615384615300",
                                    "interval_in_days": "10"
                                },
                                {
                                    "sys_id": "APP060097516",
                                    "owner_id": "us_34800",
                                    "patch_percent": "80.645161290300",
                                    "interval_in_days": "5"
                                },
                                {
                                    "sys_id": "APP062742050",
                                    "owner_id": "au_86362",
                                    "patch_percent": "78.865979381400",
                                    "interval_in_days": "21"
                                },
                                {
                                    "sys_id": "APP067661563",
                                    "owner_id": "au_18036",
                                    "patch_percent": "77.880184331700",
                                    "interval_in_days": "23"
                                },
                                {
                                    "sys_id": "APP068416160",
                                    "owner_id": "eu_10858",
                                    "patch_percent": "75.982532751000",
                                    "interval_in_days": "18"
                                },
                                {
                                    "sys_id": "APP071872348",
                                    "owner_id": "eu_77467",
                                    "patch_percent": "78.636363636300",
                                    "interval_in_days": "22"
                                },
                                {
                                    "sys_id": "APP075419516",
                                    "owner_id": "eu_22256",
                                    "patch_percent": "78.854625550600",
                                    "interval_in_days": "16"
                                },
                                {
                                    "sys_id": "APP075803928",
                                    "owner_id": "us_34800",
                                    "patch_percent": "75.862068965500",
                                    "interval_in_days": "10"
                                },
                                {
                                    "sys_id": "APP076474233",
                                    "owner_id": "au_77600",
                                    "patch_percent": "77.941176470500",
                                    "interval_in_days": "15"
                                },
                                {
                                    "sys_id": "APP077242383",
                                    "owner_id": "au_75432",
                                    "patch_percent": "76.543209876500",
                                    "interval_in_days": "23"
                                },
                                {
                                    "sys_id": "APP079973359",
                                    "owner_id": "au_18036",
                                    "patch_percent": "79.651162790600",
                                    "interval_in_days": "11"
                                },
                                {
                                    "sys_id": "APP083467068",
                                    "owner_id": "us_68077",
                                    "patch_percent": "84.722222222200",
                                    "interval_in_days": "7"
                                },
                                {
                                    "sys_id": "APP084034500",
                                    "owner_id": "eu_56544",
                                    "patch_percent": "81.603773584900",
                                    "interval_in_days": "19"
                                },
                                {
                                    "sys_id": "APP084993094",
                                    "owner_id": "au_40513",
                                    "patch_percent": "82.989690721600",
                                    "interval_in_days": "15"
                                },
                                {
                                    "sys_id": "APP086084956",
                                    "owner_id": "au_77600",
                                    "patch_percent": "82.828282828200",
                                    "interval_in_days": "5"
                                },
                                {
                                    "sys_id": "APP088282743",
                                    "owner_id": "us_19904",
                                    "patch_percent": "75.000000000000",
                                    "interval_in_days": "15"
                                },
                                {
                                    "sys_id": "APP090182420",
                                    "owner_id": "au_15315",
                                    "patch_percent": "76.923076923000",
                                    "interval_in_days": "15"
                                },
                                {
                                    "sys_id": "APP092722998",
                                    "owner_id": "au_77600",
                                    "patch_percent": "77.625570776200",
                                    "interval_in_days": "7"
                                },
                                {
                                    "sys_id": "APP093769387",
                                    "owner_id": "au_86362",
                                    "patch_percent": "81.609195402200",
                                    "interval_in_days": "20"
                                },
                                {
                                    "sys_id": "APP095191089",
                                    "owner_id": "eu_51465",
                                    "patch_percent": "79.532163742600",
                                    "interval_in_days": "6"
                                },
                                {
                                    "sys_id": "APP095691466",
                                    "owner_id": "eu_10858",
                                    "patch_percent": "83.928571428500",
                                    "interval_in_days": "9"
                                },
                                {
                                    "sys_id": "APP098153710",
                                    "owner_id": "us_52113",
                                    "patch_percent": "79.629629629600",
                                    "interval_in_days": "20"
                                },
                                {
                                    "sys_id": "APP100227848",
                                    "owner_id": "eu_11838",
                                    "patch_percent": "80.526315789400",
                                    "interval_in_days": "15"
                                },
                                {
                                    "sys_id": "APP104406403",
                                    "owner_id": "us_57346",
                                    "patch_percent": "84.831460674100",
                                    "interval_in_days": "9"
                                },
                                {
                                    "sys_id": "APP108933477",
                                    "owner_id": "us_52113",
                                    "patch_percent": "77.578475336300",
                                    "interval_in_days": "5"
                                },
                                {
                                    "sys_id": "APP112748467",
                                    "owner_id": "au_77600",
                                    "patch_percent": "78.857142857100",
                                    "interval_in_days": "19"
                                },
                                {
                                    "sys_id": "APP113928862",
                                    "owner_id": "au_89783",
                                    "patch_percent": "76.530612244800",
                                    "interval_in_days": "9"
                                },
                                {
                                    "sys_id": "APP116289003",
                                    "owner_id": "eu_23263",
                                    "patch_percent": "75.568181818100",
                                    "interval_in_days": "18"
                                },
                                {
                                    "sys_id": "APP119367634",
                                    "owner_id": "au_86362",
                                    "patch_percent": "79.891304347800",
                                    "interval_in_days": "11"
                                },
                                {
                                    "sys_id": "APP121486529",
                                    "owner_id": "au_86362",
                                    "patch_percent": "79.908675799000",
                                    "interval_in_days": "17"
                                },
                                {
                                    "sys_id": "APP121672430",
                                    "owner_id": "eu_23263",
                                    "patch_percent": "79.687500000000",
                                    "interval_in_days": "4"
                                },
                                {
                                    "sys_id": "APP122545731",
                                    "owner_id": "eu_22256",
                                    "patch_percent": "83.980582524200",
                                    "interval_in_days": "6"
                                },
                                {
                                    "sys_id": "APP125992938",
                                    "owner_id": "us_19904",
                                    "patch_percent": "81.730769230700",
                                    "interval_in_days": "9"
                                },
                                {
                                    "sys_id": "APP126509485",
                                    "owner_id": "au_15315",
                                    "patch_percent": "80.676328502400",
                                    "interval_in_days": "9"
                                },
                                {
                                    "sys_id": "APP127393632",
                                    "owner_id": "eu_23263",
                                    "patch_percent": "80.000000000000",
                                    "interval_in_days": "11"
                                },
                                {
                                    "sys_id": "SYS011533689",
                                    "owner_id": "au_15315",
                                    "patch_percent": "83.615819209000",
                                    "interval_in_days": "5"
                                },
                                {
                                    "sys_id": "SYS013352114",
                                    "owner_id": "eu_51465",
                                    "patch_percent": "79.896907216400",
                                    "interval_in_days": "9"
                                },
                                {
                                    "sys_id": "SYS017450546",
                                    "owner_id": "au_18036",
                                    "patch_percent": "81.818181818100",
                                    "interval_in_days": "14"
                                },
                                {
                                    "sys_id": "SYS017622688",
                                    "owner_id": "eu_77467",
                                    "patch_percent": "82.608695652100",
                                    "interval_in_days": "6"
                                },
                                {
                                    "sys_id": "SYS020276212",
                                    "owner_id": "us_34800",
                                    "patch_percent": "76.576576576500",
                                    "interval_in_days": "16"
                                },
                                {
                                    "sys_id": "SYS024353681",
                                    "owner_id": "us_68077",
                                    "patch_percent": "80.628272251300",
                                    "interval_in_days": "8"
                                },
                                {
                                    "sys_id": "SYS025206436",
                                    "owner_id": "au_15315",
                                    "patch_percent": "79.901960784300",
                                    "interval_in_days": "9"
                                },
                                {
                                    "sys_id": "SYS026389446",
                                    "owner_id": "us_57346",
                                    "patch_percent": "76.582278481000",
                                    "interval_in_days": "7"
                                },
                                {
                                    "sys_id": "SYS030873757",
                                    "owner_id": "us_52113",
                                    "patch_percent": "75.000000000000",
                                    "interval_in_days": "22"
                                },
                                {
                                    "sys_id": "SYS031818834",
                                    "owner_id": "au_77600",
                                    "patch_percent": "81.862745098000",
                                    "interval_in_days": "2"
                                },
                                {
                                    "sys_id": "SYS032579059",
                                    "owner_id": "au_89783",
                                    "patch_percent": "75.757575757500",
                                    "interval_in_days": "23"
                                },
                                {
                                    "sys_id": "SYS038092022",
                                    "owner_id": "au_16507",
                                    "patch_percent": "83.636363636300",
                                    "interval_in_days": "1"
                                },
                                {
                                    "sys_id": "SYS038241721",
                                    "owner_id": "us_68077",
                                    "patch_percent": "75.977653631200",
                                    "interval_in_days": "14"
                                },
                                {
                                    "sys_id": "SYS038728082",
                                    "owner_id": "us_15438",
                                    "patch_percent": "75.000000000000",
                                    "interval_in_days": "18"
                                },
                                {
                                    "sys_id": "SYS038857445",
                                    "owner_id": "us_10113",
                                    "patch_percent": "84.729064039400",
                                    "interval_in_days": "7"
                                },
                                {
                                    "sys_id": "SYS040940777",
                                    "owner_id": "us_19904",
                                    "patch_percent": "80.628272251300",
                                    "interval_in_days": "7"
                                },
                                {
                                    "sys_id": "SYS045030569",
                                    "owner_id": "eu_69372",
                                    "patch_percent": "81.767955801100",
                                    "interval_in_days": "17"
                                },
                                {
                                    "sys_id": "SYS047452996",
                                    "owner_id": "us_52113",
                                    "patch_percent": "80.000000000000",
                                    "interval_in_days": "19"
                                },
                                {
                                    "sys_id": "SYS050369652",
                                    "owner_id": "au_16507",
                                    "patch_percent": "83.589743589700",
                                    "interval_in_days": "16"
                                },
                                {
                                    "sys_id": "SYS056688939",
                                    "owner_id": "eu_10858",
                                    "patch_percent": "79.629629629600",
                                    "interval_in_days": "11"
                                },
                                {
                                    "sys_id": "SYS057974804",
                                    "owner_id": "eu_10858",
                                    "patch_percent": "83.783783783700",
                                    "interval_in_days": "9"
                                },
                                {
                                    "sys_id": "SYS059663197",
                                    "owner_id": "eu_77467",
                                    "patch_percent": "80.874316939800",
                                    "interval_in_days": "15"
                                },
                                {
                                    "sys_id": "SYS060036917",
                                    "owner_id": "eu_69372",
                                    "patch_percent": "83.710407239800",
                                    "interval_in_days": "16"
                                },
                                {
                                    "sys_id": "SYS060488895",
                                    "owner_id": "au_77600",
                                    "patch_percent": "78.494623655900",
                                    "interval_in_days": "5"
                                },
                                {
                                    "sys_id": "SYS065439878",
                                    "owner_id": "au_11362",
                                    "patch_percent": "80.686695278900",
                                    "interval_in_days": "13"
                                },
                                {
                                    "sys_id": "SYS080283850",
                                    "owner_id": "eu_69372",
                                    "patch_percent": "83.636363636300",
                                    "interval_in_days": "0"
                                },
                                {
                                    "sys_id": "SYS080629621",
                                    "owner_id": "us_15438",
                                    "patch_percent": "84.736842105200",
                                    "interval_in_days": "7"
                                },
                                {
                                    "sys_id": "SYS082126465",
                                    "owner_id": "au_40513",
                                    "patch_percent": "80.000000000000",
                                    "interval_in_days": "13"
                                },
                                {
                                    "sys_id": "SYS082282008",
                                    "owner_id": "eu_51465",
                                    "patch_percent": "83.663366336600",
                                    "interval_in_days": "14"
                                },
                                {
                                    "sys_id": "SYS086747837",
                                    "owner_id": "au_18036",
                                    "patch_percent": "80.729166666600",
                                    "interval_in_days": "3"
                                },
                                {
                                    "sys_id": "SYS086963938",
                                    "owner_id": "au_77600",
                                    "patch_percent": "82.805429864200",
                                    "interval_in_days": "1"
                                },
                                {
                                    "sys_id": "SYS091891370",
                                    "owner_id": "au_86362",
                                    "patch_percent": "75.784753363200",
                                    "interval_in_days": "11"
                                },
                                {
                                    "sys_id": "SYS095969693",
                                    "owner_id": "au_16507",
                                    "patch_percent": "77.941176470500",
                                    "interval_in_days": "15"
                                },
                                {
                                    "sys_id": "SYS107024620",
                                    "owner_id": "eu_23263",
                                    "patch_percent": "79.908675799000",
                                    "interval_in_days": "10"
                                },
                                {
                                    "sys_id": "SYS107767194",
                                    "owner_id": "us_15438",
                                    "patch_percent": "83.886255924100",
                                    "interval_in_days": "9"
                                },
                                {
                                    "sys_id": "SYS109119148",
                                    "owner_id": "au_18036",
                                    "patch_percent": "77.832512315200",
                                    "interval_in_days": "8"
                                },
                                {
                                    "sys_id": "SYS110217657",
                                    "owner_id": "us_34800",
                                    "patch_percent": "80.769230769200",
                                    "interval_in_days": "5"
                                },
                                {
                                    "sys_id": "SYS111570432",
                                    "owner_id": "eu_23263",
                                    "patch_percent": "76.851851851800",
                                    "interval_in_days": "21"
                                },
                                {
                                    "sys_id": "SYS115271779",
                                    "owner_id": "eu_10858",
                                    "patch_percent": "83.856502242100",
                                    "interval_in_days": "15"
                                },
                                {
                                    "sys_id": "SYS122316656",
                                    "owner_id": "eu_69372",
                                    "patch_percent": "80.729166666600",
                                    "interval_in_days": "3"
                                },
                                {
                                    "sys_id": "SYS125041025",
                                    "owner_id": "au_77600",
                                    "patch_percent": "82.608695652100",
                                    "interval_in_days": "15"
                                },
                                {
                                    "sys_id": "SYS126452574",
                                    "owner_id": "au_25552",
                                    "patch_percent": "75.000000000000",
                                    "interval_in_days": "11"
                                },
                                {
                                    "sys_id": "SYS128444315",
                                    "owner_id": "au_75432",
                                    "patch_percent": "78.602620087300",
                                    "interval_in_days": "11"
                                },
                                {
                                    "sys_id": "WEB011031055",
                                    "owner_id": "us_52113",
                                    "patch_percent": "81.000000000000",
                                    "interval_in_days": "15"
                                },
                                {
                                    "sys_id": "WEB012027589",
                                    "owner_id": "au_25552",
                                    "patch_percent": "75.980392156800",
                                    "interval_in_days": "16"
                                },
                                {
                                    "sys_id": "WEB013236515",
                                    "owner_id": "au_11362",
                                    "patch_percent": "78.846153846100",
                                    "interval_in_days": "21"
                                },
                                {
                                    "sys_id": "WEB018760387",
                                    "owner_id": "us_10113",
                                    "patch_percent": "80.952380952300",
                                    "interval_in_days": "21"
                                },
                                {
                                    "sys_id": "WEB021724006",
                                    "owner_id": "au_18036",
                                    "patch_percent": "81.856540084300",
                                    "interval_in_days": "9"
                                },
                                {
                                    "sys_id": "WEB022191366",
                                    "owner_id": "au_18036",
                                    "patch_percent": "77.685950413200",
                                    "interval_in_days": "10"
                                },
                                {
                                    "sys_id": "WEB024141398",
                                    "owner_id": "au_15315",
                                    "patch_percent": "78.500000000000",
                                    "interval_in_days": "9"
                                },
                                {
                                    "sys_id": "WEB024656692",
                                    "owner_id": "us_19904",
                                    "patch_percent": "75.977653631200",
                                    "interval_in_days": "11"
                                },
                                {
                                    "sys_id": "WEB026475253",
                                    "owner_id": "eu_10858",
                                    "patch_percent": "75.000000000000",
                                    "interval_in_days": "25"
                                },
                                {
                                    "sys_id": "WEB029285657",
                                    "owner_id": "us_34800",
                                    "patch_percent": "76.958525345600",
                                    "interval_in_days": "6"
                                },
                                {
                                    "sys_id": "WEB029693799",
                                    "owner_id": "eu_23263",
                                    "patch_percent": "77.966101694900",
                                    "interval_in_days": "21"
                                },
                                {
                                    "sys_id": "WEB030034240",
                                    "owner_id": "us_52113",
                                    "patch_percent": "79.797979797900",
                                    "interval_in_days": "12"
                                },
                                {
                                    "sys_id": "WEB030183667",
                                    "owner_id": "au_11362",
                                    "patch_percent": "79.574468085100",
                                    "interval_in_days": "15"
                                },
                                {
                                    "sys_id": "WEB031689429",
                                    "owner_id": "au_77600",
                                    "patch_percent": "82.608695652100",
                                    "interval_in_days": "1"
                                },
                                {
                                    "sys_id": "WEB034619195",
                                    "owner_id": "au_77600",
                                    "patch_percent": "84.680851063800",
                                    "interval_in_days": "3"
                                },
                                {
                                    "sys_id": "WEB042812065",
                                    "owner_id": "eu_69372",
                                    "patch_percent": "83.732057416200",
                                    "interval_in_days": "4"
                                },
                                {
                                    "sys_id": "WEB046815796",
                                    "owner_id": "au_86362",
                                    "patch_percent": "78.846153846100",
                                    "interval_in_days": "6"
                                },
                                {
                                    "sys_id": "WEB049407017",
                                    "owner_id": "au_77600",
                                    "patch_percent": "79.565217391300",
                                    "interval_in_days": "21"
                                },
                                {
                                    "sys_id": "WEB051199863",
                                    "owner_id": "au_18036",
                                    "patch_percent": "75.982532751000",
                                    "interval_in_days": "25"
                                },
                                {
                                    "sys_id": "WEB054857089",
                                    "owner_id": "eu_23263",
                                    "patch_percent": "80.000000000000",
                                    "interval_in_days": "20"
                                },
                                {
                                    "sys_id": "WEB060983934",
                                    "owner_id": "au_25552",
                                    "patch_percent": "80.000000000000",
                                    "interval_in_days": "15"
                                },
                                {
                                    "sys_id": "WEB069996508",
                                    "owner_id": "us_34800",
                                    "patch_percent": "81.767955801100",
                                    "interval_in_days": "17"
                                },
                                {
                                    "sys_id": "WEB072344561",
                                    "owner_id": "us_34800",
                                    "patch_percent": "77.777777777700",
                                    "interval_in_days": "17"
                                },
                                {
                                    "sys_id": "WEB080534949",
                                    "owner_id": "au_86362",
                                    "patch_percent": "79.787234042500",
                                    "interval_in_days": "10"
                                },
                                {
                                    "sys_id": "WEB081179808",
                                    "owner_id": "us_34800",
                                    "patch_percent": "81.862745098000",
                                    "interval_in_days": "17"
                                },
                                {
                                    "sys_id": "WEB088427016",
                                    "owner_id": "eu_69372",
                                    "patch_percent": "81.683168316800",
                                    "interval_in_days": "16"
                                },
                                {
                                    "sys_id": "WEB089010435",
                                    "owner_id": "eu_56544",
                                    "patch_percent": "77.725118483400",
                                    "interval_in_days": "19"
                                },
                                {
                                    "sys_id": "WEB089030677",
                                    "owner_id": "eu_10858",
                                    "patch_percent": "83.796296296200",
                                    "interval_in_days": "11"
                                },
                                {
                                    "sys_id": "WEB093268422",
                                    "owner_id": "au_15315",
                                    "patch_percent": "84.951456310600",
                                    "interval_in_days": "7"
                                },
                                {
                                    "sys_id": "WEB093684572",
                                    "owner_id": "eu_11838",
                                    "patch_percent": "82.828282828200",
                                    "interval_in_days": "12"
                                },
                                {
                                    "sys_id": "WEB097571775",
                                    "owner_id": "au_86362",
                                    "patch_percent": "83.962264150900",
                                    "interval_in_days": "7"
                                },
                                {
                                    "sys_id": "WEB101022903",
                                    "owner_id": "us_15438",
                                    "patch_percent": "77.560975609700",
                                    "interval_in_days": "18"
                                },
                                {
                                    "sys_id": "WEB101334125",
                                    "owner_id": "au_77600",
                                    "patch_percent": "82.666666666600",
                                    "interval_in_days": "17"
                                },
                                {
                                    "sys_id": "WEB104096101",
                                    "owner_id": "au_18036",
                                    "patch_percent": "78.817733990100",
                                    "interval_in_days": "12"
                                },
                                {
                                    "sys_id": "WEB104717095",
                                    "owner_id": "eu_77467",
                                    "patch_percent": "76.694915254200",
                                    "interval_in_days": "13"
                                },
                                {
                                    "sys_id": "WEB104812602",
                                    "owner_id": "eu_22256",
                                    "patch_percent": "77.500000000000",
                                    "interval_in_days": "22"
                                },
                                {
                                    "sys_id": "WEB105870203",
                                    "owner_id": "eu_56544",
                                    "patch_percent": "76.767676767600",
                                    "interval_in_days": "8"
                                },
                                {
                                    "sys_id": "WEB106856213",
                                    "owner_id": "us_52113",
                                    "patch_percent": "83.568075117300",
                                    "interval_in_days": "10"
                                },
                                {
                                    "sys_id": "WEB107882082",
                                    "owner_id": "eu_51465",
                                    "patch_percent": "83.823529411700",
                                    "interval_in_days": "8"
                                },
                                {
                                    "sys_id": "WEB109410135",
                                    "owner_id": "us_34800",
                                    "patch_percent": "77.456647398800",
                                    "interval_in_days": "22"
                                },
                                {
                                    "sys_id": "WEB109650759",
                                    "owner_id": "us_68077",
                                    "patch_percent": "83.673469387700",
                                    "interval_in_days": "17"
                                },
                                {
                                    "sys_id": "WEB112723864",
                                    "owner_id": "eu_56544",
                                    "patch_percent": "78.823529411700",
                                    "interval_in_days": "6"
                                },
                                {
                                    "sys_id": "WEB112750374",
                                    "owner_id": "eu_22256",
                                    "patch_percent": "80.769230769200",
                                    "interval_in_days": "16"
                                },
                                {
                                    "sys_id": "WEB120262061",
                                    "owner_id": "eu_10858",
                                    "patch_percent": "79.601990049700",
                                    "interval_in_days": "6"
                                },
                                {
                                    "sys_id": "WEB123276481",
                                    "owner_id": "au_75432",
                                    "patch_percent": "80.748663101600",
                                    "interval_in_days": "17"
                                },
                                {
                                    "sys_id": "WEB123901989",
                                    "owner_id": "au_40513",
                                    "patch_percent": "79.888268156400",
                                    "interval_in_days": "15"
                                }
                            ]
                        },
                        "text/html": [
                            "<table>",
                            "<tr><th>sys_id</th><th>owner_id</th><th>patch_percent</th><th>interval_in_days</th></tr>",
                            "<tr><td>APP011543035</td><td>us_15438</td><td>79.901960784300</td><td>6</td></tr>",
                            "<tr><td>APP013070535</td><td>au_11362</td><td>80.952380952300</td><td>19</td></tr>",
                            "<tr><td>APP014078594</td><td>eu_56544</td><td>75.799086757900</td><td>7</td></tr>",
                            "<tr><td>APP018214862</td><td>eu_10858</td><td>77.934272300400</td><td>11</td></tr>",
                            "<tr><td>APP024770057</td><td>us_52113</td><td>75.961538461500</td><td>25</td></tr>",
                            "<tr><td>APP025851496</td><td>eu_56544</td><td>82.978723404200</td><td>18</td></tr>",
                            "<tr><td>APP026701451</td><td>eu_11838</td><td>82.653061224400</td><td>3</td></tr>",
                            "<tr><td>APP028347389</td><td>us_68077</td><td>82.524271844600</td><td>8</td></tr>",
                            "<tr><td>APP030863534</td><td>au_18036</td><td>79.761904761900</td><td>20</td></tr>",
                            "<tr><td>APP030969027</td><td>au_77600</td><td>79.888268156400</td><td>6</td></tr>",
                            "<tr><td>APP036944868</td><td>au_77600</td><td>75.609756097500</td><td>22</td></tr>",
                            "<tr><td>APP037031204</td><td>us_15438</td><td>80.995475113100</td><td>17</td></tr>",
                            "<tr><td>APP040011978</td><td>au_86362</td><td>83.516483516400</td><td>12</td></tr>",
                            "<tr><td>APP047589979</td><td>au_16507</td><td>82.658959537500</td><td>3</td></tr>",
                            "<tr><td>APP047966039</td><td>us_52113</td><td>78.500000000000</td><td>16</td></tr>",
                            "<tr><td>APP052232538</td><td>eu_10858</td><td>81.904761904700</td><td>17</td></tr>",
                            "<tr><td>APP054713246</td><td>us_34800</td><td>84.615384615300</td><td>9</td></tr>",
                            "<tr><td>APP057128142</td><td>us_52113</td><td>84.615384615300</td><td>10</td></tr>",
                            "<tr><td>APP060097516</td><td>us_34800</td><td>80.645161290300</td><td>5</td></tr>",
                            "<tr><td>APP062742050</td><td>au_86362</td><td>78.865979381400</td><td>21</td></tr>",
                            "<tr><td>APP067661563</td><td>au_18036</td><td>77.880184331700</td><td>23</td></tr>",
                            "<tr><td>APP068416160</td><td>eu_10858</td><td>75.982532751000</td><td>18</td></tr>",
                            "<tr><td>APP071872348</td><td>eu_77467</td><td>78.636363636300</td><td>22</td></tr>",
                            "<tr><td>APP075419516</td><td>eu_22256</td><td>78.854625550600</td><td>16</td></tr>",
                            "<tr><td>APP075803928</td><td>us_34800</td><td>75.862068965500</td><td>10</td></tr>",
                            "<tr><td>APP076474233</td><td>au_77600</td><td>77.941176470500</td><td>15</td></tr>",
                            "<tr><td>APP077242383</td><td>au_75432</td><td>76.543209876500</td><td>23</td></tr>",
                            "<tr><td>APP079973359</td><td>au_18036</td><td>79.651162790600</td><td>11</td></tr>",
                            "<tr><td>APP083467068</td><td>us_68077</td><td>84.722222222200</td><td>7</td></tr>",
                            "<tr><td>APP084034500</td><td>eu_56544</td><td>81.603773584900</td><td>19</td></tr>",
                            "<tr><td>APP084993094</td><td>au_40513</td><td>82.989690721600</td><td>15</td></tr>",
                            "<tr><td>APP086084956</td><td>au_77600</td><td>82.828282828200</td><td>5</td></tr>",
                            "<tr><td>APP088282743</td><td>us_19904</td><td>75.000000000000</td><td>15</td></tr>",
                            "<tr><td>APP090182420</td><td>au_15315</td><td>76.923076923000</td><td>15</td></tr>",
                            "<tr><td>APP092722998</td><td>au_77600</td><td>77.625570776200</td><td>7</td></tr>",
                            "<tr><td>APP093769387</td><td>au_86362</td><td>81.609195402200</td><td>20</td></tr>",
                            "<tr><td>APP095191089</td><td>eu_51465</td><td>79.532163742600</td><td>6</td></tr>",
                            "<tr><td>APP095691466</td><td>eu_10858</td><td>83.928571428500</td><td>9</td></tr>",
                            "<tr><td>APP098153710</td><td>us_52113</td><td>79.629629629600</td><td>20</td></tr>",
                            "<tr><td>APP100227848</td><td>eu_11838</td><td>80.526315789400</td><td>15</td></tr>",
                            "<tr><td>APP104406403</td><td>us_57346</td><td>84.831460674100</td><td>9</td></tr>",
                            "<tr><td>APP108933477</td><td>us_52113</td><td>77.578475336300</td><td>5</td></tr>",
                            "<tr><td>APP112748467</td><td>au_77600</td><td>78.857142857100</td><td>19</td></tr>",
                            "<tr><td>APP113928862</td><td>au_89783</td><td>76.530612244800</td><td>9</td></tr>",
                            "<tr><td>APP116289003</td><td>eu_23263</td><td>75.568181818100</td><td>18</td></tr>",
                            "<tr><td>APP119367634</td><td>au_86362</td><td>79.891304347800</td><td>11</td></tr>",
                            "<tr><td>APP121486529</td><td>au_86362</td><td>79.908675799000</td><td>17</td></tr>",
                            "<tr><td>APP121672430</td><td>eu_23263</td><td>79.687500000000</td><td>4</td></tr>",
                            "<tr><td>APP122545731</td><td>eu_22256</td><td>83.980582524200</td><td>6</td></tr>",
                            "<tr><td>APP125992938</td><td>us_19904</td><td>81.730769230700</td><td>9</td></tr>",
                            "<tr><td>APP126509485</td><td>au_15315</td><td>80.676328502400</td><td>9</td></tr>",
                            "<tr><td>APP127393632</td><td>eu_23263</td><td>80.000000000000</td><td>11</td></tr>",
                            "<tr><td>SYS011533689</td><td>au_15315</td><td>83.615819209000</td><td>5</td></tr>",
                            "<tr><td>SYS013352114</td><td>eu_51465</td><td>79.896907216400</td><td>9</td></tr>",
                            "<tr><td>SYS017450546</td><td>au_18036</td><td>81.818181818100</td><td>14</td></tr>",
                            "<tr><td>SYS017622688</td><td>eu_77467</td><td>82.608695652100</td><td>6</td></tr>",
                            "<tr><td>SYS020276212</td><td>us_34800</td><td>76.576576576500</td><td>16</td></tr>",
                            "<tr><td>SYS024353681</td><td>us_68077</td><td>80.628272251300</td><td>8</td></tr>",
                            "<tr><td>SYS025206436</td><td>au_15315</td><td>79.901960784300</td><td>9</td></tr>",
                            "<tr><td>SYS026389446</td><td>us_57346</td><td>76.582278481000</td><td>7</td></tr>",
                            "<tr><td>SYS030873757</td><td>us_52113</td><td>75.000000000000</td><td>22</td></tr>",
                            "<tr><td>SYS031818834</td><td>au_77600</td><td>81.862745098000</td><td>2</td></tr>",
                            "<tr><td>SYS032579059</td><td>au_89783</td><td>75.757575757500</td><td>23</td></tr>",
                            "<tr><td>SYS038092022</td><td>au_16507</td><td>83.636363636300</td><td>1</td></tr>",
                            "<tr><td>SYS038241721</td><td>us_68077</td><td>75.977653631200</td><td>14</td></tr>",
                            "<tr><td>SYS038728082</td><td>us_15438</td><td>75.000000000000</td><td>18</td></tr>",
                            "<tr><td>SYS038857445</td><td>us_10113</td><td>84.729064039400</td><td>7</td></tr>",
                            "<tr><td>SYS040940777</td><td>us_19904</td><td>80.628272251300</td><td>7</td></tr>",
                            "<tr><td>SYS045030569</td><td>eu_69372</td><td>81.767955801100</td><td>17</td></tr>",
                            "<tr><td>SYS047452996</td><td>us_52113</td><td>80.000000000000</td><td>19</td></tr>",
                            "<tr><td>SYS050369652</td><td>au_16507</td><td>83.589743589700</td><td>16</td></tr>",
                            "<tr><td>SYS056688939</td><td>eu_10858</td><td>79.629629629600</td><td>11</td></tr>",
                            "<tr><td>SYS057974804</td><td>eu_10858</td><td>83.783783783700</td><td>9</td></tr>",
                            "<tr><td>SYS059663197</td><td>eu_77467</td><td>80.874316939800</td><td>15</td></tr>",
                            "<tr><td>SYS060036917</td><td>eu_69372</td><td>83.710407239800</td><td>16</td></tr>",
                            "<tr><td>SYS060488895</td><td>au_77600</td><td>78.494623655900</td><td>5</td></tr>",
                            "<tr><td>SYS065439878</td><td>au_11362</td><td>80.686695278900</td><td>13</td></tr>",
                            "<tr><td>SYS080283850</td><td>eu_69372</td><td>83.636363636300</td><td>0</td></tr>",
                            "<tr><td>SYS080629621</td><td>us_15438</td><td>84.736842105200</td><td>7</td></tr>",
                            "<tr><td>SYS082126465</td><td>au_40513</td><td>80.000000000000</td><td>13</td></tr>",
                            "<tr><td>SYS082282008</td><td>eu_51465</td><td>83.663366336600</td><td>14</td></tr>",
                            "<tr><td>SYS086747837</td><td>au_18036</td><td>80.729166666600</td><td>3</td></tr>",
                            "<tr><td>SYS086963938</td><td>au_77600</td><td>82.805429864200</td><td>1</td></tr>",
                            "<tr><td>SYS091891370</td><td>au_86362</td><td>75.784753363200</td><td>11</td></tr>",
                            "<tr><td>SYS095969693</td><td>au_16507</td><td>77.941176470500</td><td>15</td></tr>",
                            "<tr><td>SYS107024620</td><td>eu_23263</td><td>79.908675799000</td><td>10</td></tr>",
                            "<tr><td>SYS107767194</td><td>us_15438</td><td>83.886255924100</td><td>9</td></tr>",
                            "<tr><td>SYS109119148</td><td>au_18036</td><td>77.832512315200</td><td>8</td></tr>",
                            "<tr><td>SYS110217657</td><td>us_34800</td><td>80.769230769200</td><td>5</td></tr>",
                            "<tr><td>SYS111570432</td><td>eu_23263</td><td>76.851851851800</td><td>21</td></tr>",
                            "<tr><td>SYS115271779</td><td>eu_10858</td><td>83.856502242100</td><td>15</td></tr>",
                            "<tr><td>SYS122316656</td><td>eu_69372</td><td>80.729166666600</td><td>3</td></tr>",
                            "<tr><td>SYS125041025</td><td>au_77600</td><td>82.608695652100</td><td>15</td></tr>",
                            "<tr><td>SYS126452574</td><td>au_25552</td><td>75.000000000000</td><td>11</td></tr>",
                            "<tr><td>SYS128444315</td><td>au_75432</td><td>78.602620087300</td><td>11</td></tr>",
                            "<tr><td>WEB011031055</td><td>us_52113</td><td>81.000000000000</td><td>15</td></tr>",
                            "<tr><td>WEB012027589</td><td>au_25552</td><td>75.980392156800</td><td>16</td></tr>",
                            "<tr><td>WEB013236515</td><td>au_11362</td><td>78.846153846100</td><td>21</td></tr>",
                            "<tr><td>WEB018760387</td><td>us_10113</td><td>80.952380952300</td><td>21</td></tr>",
                            "<tr><td>WEB021724006</td><td>au_18036</td><td>81.856540084300</td><td>9</td></tr>",
                            "<tr><td>WEB022191366</td><td>au_18036</td><td>77.685950413200</td><td>10</td></tr>",
                            "<tr><td>WEB024141398</td><td>au_15315</td><td>78.500000000000</td><td>9</td></tr>",
                            "<tr><td>WEB024656692</td><td>us_19904</td><td>75.977653631200</td><td>11</td></tr>",
                            "<tr><td>WEB026475253</td><td>eu_10858</td><td>75.000000000000</td><td>25</td></tr>",
                            "<tr><td>WEB029285657</td><td>us_34800</td><td>76.958525345600</td><td>6</td></tr>",
                            "<tr><td>WEB029693799</td><td>eu_23263</td><td>77.966101694900</td><td>21</td></tr>",
                            "<tr><td>WEB030034240</td><td>us_52113</td><td>79.797979797900</td><td>12</td></tr>",
                            "<tr><td>WEB030183667</td><td>au_11362</td><td>79.574468085100</td><td>15</td></tr>",
                            "<tr><td>WEB031689429</td><td>au_77600</td><td>82.608695652100</td><td>1</td></tr>",
                            "<tr><td>WEB034619195</td><td>au_77600</td><td>84.680851063800</td><td>3</td></tr>",
                            "<tr><td>WEB042812065</td><td>eu_69372</td><td>83.732057416200</td><td>4</td></tr>",
                            "<tr><td>WEB046815796</td><td>au_86362</td><td>78.846153846100</td><td>6</td></tr>",
                            "<tr><td>WEB049407017</td><td>au_77600</td><td>79.565217391300</td><td>21</td></tr>",
                            "<tr><td>WEB051199863</td><td>au_18036</td><td>75.982532751000</td><td>25</td></tr>",
                            "<tr><td>WEB054857089</td><td>eu_23263</td><td>80.000000000000</td><td>20</td></tr>",
                            "<tr><td>WEB060983934</td><td>au_25552</td><td>80.000000000000</td><td>15</td></tr>",
                            "<tr><td>WEB069996508</td><td>us_34800</td><td>81.767955801100</td><td>17</td></tr>",
                            "<tr><td>WEB072344561</td><td>us_34800</td><td>77.777777777700</td><td>17</td></tr>",
                            "<tr><td>WEB080534949</td><td>au_86362</td><td>79.787234042500</td><td>10</td></tr>",
                            "<tr><td>WEB081179808</td><td>us_34800</td><td>81.862745098000</td><td>17</td></tr>",
                            "<tr><td>WEB088427016</td><td>eu_69372</td><td>81.683168316800</td><td>16</td></tr>",
                            "<tr><td>WEB089010435</td><td>eu_56544</td><td>77.725118483400</td><td>19</td></tr>",
                            "<tr><td>WEB089030677</td><td>eu_10858</td><td>83.796296296200</td><td>11</td></tr>",
                            "<tr><td>WEB093268422</td><td>au_15315</td><td>84.951456310600</td><td>7</td></tr>",
                            "<tr><td>WEB093684572</td><td>eu_11838</td><td>82.828282828200</td><td>12</td></tr>",
                            "<tr><td>WEB097571775</td><td>au_86362</td><td>83.962264150900</td><td>7</td></tr>",
                            "<tr><td>WEB101022903</td><td>us_15438</td><td>77.560975609700</td><td>18</td></tr>",
                            "<tr><td>WEB101334125</td><td>au_77600</td><td>82.666666666600</td><td>17</td></tr>",
                            "<tr><td>WEB104096101</td><td>au_18036</td><td>78.817733990100</td><td>12</td></tr>",
                            "<tr><td>WEB104717095</td><td>eu_77467</td><td>76.694915254200</td><td>13</td></tr>",
                            "<tr><td>WEB104812602</td><td>eu_22256</td><td>77.500000000000</td><td>22</td></tr>",
                            "<tr><td>WEB105870203</td><td>eu_56544</td><td>76.767676767600</td><td>8</td></tr>",
                            "<tr><td>WEB106856213</td><td>us_52113</td><td>83.568075117300</td><td>10</td></tr>",
                            "<tr><td>WEB107882082</td><td>eu_51465</td><td>83.823529411700</td><td>8</td></tr>",
                            "<tr><td>WEB109410135</td><td>us_34800</td><td>77.456647398800</td><td>22</td></tr>",
                            "<tr><td>WEB109650759</td><td>us_68077</td><td>83.673469387700</td><td>17</td></tr>",
                            "<tr><td>WEB112723864</td><td>eu_56544</td><td>78.823529411700</td><td>6</td></tr>",
                            "<tr><td>WEB112750374</td><td>eu_22256</td><td>80.769230769200</td><td>16</td></tr>",
                            "<tr><td>WEB120262061</td><td>eu_10858</td><td>79.601990049700</td><td>6</td></tr>",
                            "<tr><td>WEB123276481</td><td>au_75432</td><td>80.748663101600</td><td>17</td></tr>",
                            "<tr><td>WEB123901989</td><td>au_40513</td><td>79.888268156400</td><td>15</td></tr>",
                            "</table>"
                        ]
                    }
                }
            ],
            "execution_count": 146
        },
        {
            "cell_type": "markdown",
            "source": [
                "## Q25. Organize the servers by the day they were patched, and calculate a running sum of total vulnerabilites, and of the patched vulnerabilites"
            ],
            "metadata": {
                "azdata_cell_guid": "c4a9bd4a-a736-44a5-b58d-57e628f7586b"
            },
            "attachments": {}
        },
        {
            "cell_type": "code",
            "source": [
                "SELECT\r\n",
                "    sys_id\r\n",
                "    ,owner_id\r\n",
                "    ,last_update_date\r\n",
                "    ,SUM(total_vul) OVER(ORDER BY last_update_date ROWS BETWEEN UNBOUNDED PRECEDING AND CURRENT ROW) cumsum_total_vul\r\n",
                "    ,SUM(vul_patched) OVER(ORDER BY last_update_date ROWS BETWEEN UNBOUNDED PRECEDING AND CURRENT ROW) cumsum_vul_patched\r\n",
                "FROM\r\n",
                "    linux_server_project..server_info_view\r\n",
                "-- WHERE\r\n",
                "--     total_vul = 0"
            ],
            "metadata": {
                "azdata_cell_guid": "5c2d839c-1bd3-46cb-b0f5-31507ce70663",
                "language": "sql"
            },
            "outputs": [
                {
                    "output_type": "display_data",
                    "data": {
                        "text/html": "(1000 rows affected)"
                    },
                    "metadata": {}
                },
                {
                    "output_type": "display_data",
                    "data": {
                        "text/html": "Total execution time: 00:00:00.051"
                    },
                    "metadata": {}
                },
                {
                    "output_type": "execute_result",
                    "metadata": {},
                    "execution_count": 156,
                    "data": {
                        "application/vnd.dataresource+json": {
                            "schema": {
                                "fields": [
                                    {
                                        "name": "sys_id"
                                    },
                                    {
                                        "name": "owner_id"
                                    },
                                    {
                                        "name": "last_update_date"
                                    },
                                    {
                                        "name": "cumsum_total_vul"
                                    },
                                    {
                                        "name": "cumsum_vul_patched"
                                    }
                                ]
                            },
                            "data": [
                                {
                                    "sys_id": "WEB107526775",
                                    "owner_id": "eu_22256",
                                    "last_update_date": "2023-09-25 00:05:13.800",
                                    "cumsum_total_vul": "406",
                                    "cumsum_vul_patched": "69"
                                },
                                {
                                    "sys_id": "WEB128723434",
                                    "owner_id": "au_86362",
                                    "last_update_date": "2023-09-26 00:05:13.787",
                                    "cumsum_total_vul": "798",
                                    "cumsum_vul_patched": "147"
                                },
                                {
                                    "sys_id": "SYS116846022",
                                    "owner_id": "eu_56544",
                                    "last_update_date": "2023-09-27 00:05:13.787",
                                    "cumsum_total_vul": "1193",
                                    "cumsum_vul_patched": "214"
                                },
                                {
                                    "sys_id": "SYS122145623",
                                    "owner_id": "au_86362",
                                    "last_update_date": "2023-09-27 00:05:13.787",
                                    "cumsum_total_vul": "1591",
                                    "cumsum_vul_patched": "293"
                                },
                                {
                                    "sys_id": "APP121957618",
                                    "owner_id": "au_75432",
                                    "last_update_date": "2023-09-28 00:05:13.800",
                                    "cumsum_total_vul": "1986",
                                    "cumsum_vul_patched": "356"
                                },
                                {
                                    "sys_id": "SYS116540519",
                                    "owner_id": "eu_51465",
                                    "last_update_date": "2023-09-29 00:05:13.787",
                                    "cumsum_total_vul": "2382",
                                    "cumsum_vul_patched": "439"
                                },
                                {
                                    "sys_id": "WEB109642356",
                                    "owner_id": "eu_11838",
                                    "last_update_date": "2023-09-29 00:05:13.787",
                                    "cumsum_total_vul": "2782",
                                    "cumsum_vul_patched": "511"
                                },
                                {
                                    "sys_id": "APP107877291",
                                    "owner_id": "us_68077",
                                    "last_update_date": "2023-09-29 00:05:13.800",
                                    "cumsum_total_vul": "3194",
                                    "cumsum_vul_patched": "593"
                                },
                                {
                                    "sys_id": "APP103406080",
                                    "owner_id": "eu_22256",
                                    "last_update_date": "2023-09-30 00:05:13.787",
                                    "cumsum_total_vul": "3576",
                                    "cumsum_vul_patched": "665"
                                },
                                {
                                    "sys_id": "APP080106513",
                                    "owner_id": "au_25552",
                                    "last_update_date": "2023-09-30 00:05:13.787",
                                    "cumsum_total_vul": "3988",
                                    "cumsum_vul_patched": "735"
                                },
                                {
                                    "sys_id": "APP127570594",
                                    "owner_id": "au_18036",
                                    "last_update_date": "2023-09-30 00:05:13.787",
                                    "cumsum_total_vul": "4389",
                                    "cumsum_vul_patched": "819"
                                },
                                {
                                    "sys_id": "WEB011128052",
                                    "owner_id": "us_10113",
                                    "last_update_date": "2023-09-30 00:05:13.787",
                                    "cumsum_total_vul": "4801",
                                    "cumsum_vul_patched": "905"
                                },
                                {
                                    "sys_id": "SYS084064936",
                                    "owner_id": "au_11362",
                                    "last_update_date": "2023-10-01 00:05:13.800",
                                    "cumsum_total_vul": "5187",
                                    "cumsum_vul_patched": "978"
                                },
                                {
                                    "sys_id": "WEB084596158",
                                    "owner_id": "au_16507",
                                    "last_update_date": "2023-10-02 00:05:13.787",
                                    "cumsum_total_vul": "5563",
                                    "cumsum_vul_patched": "1068"
                                },
                                {
                                    "sys_id": "WEB085523146",
                                    "owner_id": "eu_23263",
                                    "last_update_date": "2023-10-02 00:05:13.797",
                                    "cumsum_total_vul": "5961",
                                    "cumsum_vul_patched": "1167"
                                },
                                {
                                    "sys_id": "APP117739264",
                                    "owner_id": "au_18036",
                                    "last_update_date": "2023-10-02 00:05:13.797",
                                    "cumsum_total_vul": "6364",
                                    "cumsum_vul_patched": "1251"
                                },
                                {
                                    "sys_id": "WEB111894901",
                                    "owner_id": "eu_77467",
                                    "last_update_date": "2023-10-02 00:05:13.800",
                                    "cumsum_total_vul": "6775",
                                    "cumsum_vul_patched": "1329"
                                },
                                {
                                    "sys_id": "APP115207442",
                                    "owner_id": "us_52113",
                                    "last_update_date": "2023-10-03 00:05:13.787",
                                    "cumsum_total_vul": "7173",
                                    "cumsum_vul_patched": "1420"
                                },
                                {
                                    "sys_id": "APP046937852",
                                    "owner_id": "us_10113",
                                    "last_update_date": "2023-10-03 00:05:13.787",
                                    "cumsum_total_vul": "7583",
                                    "cumsum_vul_patched": "1526"
                                },
                                {
                                    "sys_id": "APP081902295",
                                    "owner_id": "au_15315",
                                    "last_update_date": "2023-10-04 00:05:13.787",
                                    "cumsum_total_vul": "7973",
                                    "cumsum_vul_patched": "1611"
                                },
                                {
                                    "sys_id": "WEB126488771",
                                    "owner_id": "us_19904",
                                    "last_update_date": "2023-10-04 00:05:13.787",
                                    "cumsum_total_vul": "8367",
                                    "cumsum_vul_patched": "1681"
                                },
                                {
                                    "sys_id": "SYS038463923",
                                    "owner_id": "us_57346",
                                    "last_update_date": "2023-10-04 00:05:13.797",
                                    "cumsum_total_vul": "8739",
                                    "cumsum_vul_patched": "1766"
                                },
                                {
                                    "sys_id": "WEB030994513",
                                    "owner_id": "us_15438",
                                    "last_update_date": "2023-10-04 00:05:13.800",
                                    "cumsum_total_vul": "9140",
                                    "cumsum_vul_patched": "1830"
                                },
                                {
                                    "sys_id": "SYS117215102",
                                    "owner_id": "us_10113",
                                    "last_update_date": "2023-10-05 00:05:13.787",
                                    "cumsum_total_vul": "9528",
                                    "cumsum_vul_patched": "1907"
                                },
                                {
                                    "sys_id": "SYS097704351",
                                    "owner_id": "us_52113",
                                    "last_update_date": "2023-10-05 00:05:13.797",
                                    "cumsum_total_vul": "9928",
                                    "cumsum_vul_patched": "1979"
                                },
                                {
                                    "sys_id": "APP100384985",
                                    "owner_id": "us_52113",
                                    "last_update_date": "2023-10-05 00:05:13.800",
                                    "cumsum_total_vul": "10346",
                                    "cumsum_vul_patched": "2045"
                                },
                                {
                                    "sys_id": "SYS118657808",
                                    "owner_id": "eu_56544",
                                    "last_update_date": "2023-10-06 00:05:13.787",
                                    "cumsum_total_vul": "10713",
                                    "cumsum_vul_patched": "2122"
                                },
                                {
                                    "sys_id": "WEB107128474",
                                    "owner_id": "eu_23263",
                                    "last_update_date": "2023-10-06 00:05:13.800",
                                    "cumsum_total_vul": "11136",
                                    "cumsum_vul_patched": "2193"
                                },
                                {
                                    "sys_id": "WEB096923227",
                                    "owner_id": "au_89783",
                                    "last_update_date": "2023-10-07 00:05:13.787",
                                    "cumsum_total_vul": "11533",
                                    "cumsum_vul_patched": "2292"
                                },
                                {
                                    "sys_id": "WEB068527729",
                                    "owner_id": "us_15438",
                                    "last_update_date": "2023-10-07 00:05:13.787",
                                    "cumsum_total_vul": "11935",
                                    "cumsum_vul_patched": "2400"
                                },
                                {
                                    "sys_id": "APP017236883",
                                    "owner_id": "eu_77467",
                                    "last_update_date": "2023-10-07 00:05:13.787",
                                    "cumsum_total_vul": "12330",
                                    "cumsum_vul_patched": "2475"
                                },
                                {
                                    "sys_id": "SYS084014892",
                                    "owner_id": "au_40513",
                                    "last_update_date": "2023-10-07 00:05:13.787",
                                    "cumsum_total_vul": "12749",
                                    "cumsum_vul_patched": "2567"
                                },
                                {
                                    "sys_id": "SYS097282996",
                                    "owner_id": "us_57346",
                                    "last_update_date": "2023-10-07 00:05:13.800",
                                    "cumsum_total_vul": "13120",
                                    "cumsum_vul_patched": "2674"
                                },
                                {
                                    "sys_id": "WEB065371473",
                                    "owner_id": "eu_56544",
                                    "last_update_date": "2023-10-08 00:05:13.787",
                                    "cumsum_total_vul": "13509",
                                    "cumsum_vul_patched": "2779"
                                },
                                {
                                    "sys_id": "WEB111851889",
                                    "owner_id": "us_15438",
                                    "last_update_date": "2023-10-08 00:05:13.787",
                                    "cumsum_total_vul": "13876",
                                    "cumsum_vul_patched": "2841"
                                },
                                {
                                    "sys_id": "APP127383477",
                                    "owner_id": "au_75432",
                                    "last_update_date": "2023-10-08 00:05:13.787",
                                    "cumsum_total_vul": "14262",
                                    "cumsum_vul_patched": "2918"
                                },
                                {
                                    "sys_id": "SYS010842711",
                                    "owner_id": "eu_77467",
                                    "last_update_date": "2023-10-08 00:05:13.787",
                                    "cumsum_total_vul": "14628",
                                    "cumsum_vul_patched": "3035"
                                },
                                {
                                    "sys_id": "APP115186893",
                                    "owner_id": "au_16507",
                                    "last_update_date": "2023-10-08 00:05:13.800",
                                    "cumsum_total_vul": "15028",
                                    "cumsum_vul_patched": "3103"
                                },
                                {
                                    "sys_id": "APP019885164",
                                    "owner_id": "eu_22256",
                                    "last_update_date": "2023-10-09 00:05:13.787",
                                    "cumsum_total_vul": "15419",
                                    "cumsum_vul_patched": "3189"
                                },
                                {
                                    "sys_id": "APP026245658",
                                    "owner_id": "au_15315",
                                    "last_update_date": "2023-10-09 00:05:13.787",
                                    "cumsum_total_vul": "15836",
                                    "cumsum_vul_patched": "3276"
                                },
                                {
                                    "sys_id": "APP123031613",
                                    "owner_id": "us_19904",
                                    "last_update_date": "2023-10-10 00:05:13.787",
                                    "cumsum_total_vul": "16209",
                                    "cumsum_vul_patched": "3391"
                                },
                                {
                                    "sys_id": "APP116729466",
                                    "owner_id": "eu_77467",
                                    "last_update_date": "2023-10-10 00:05:13.787",
                                    "cumsum_total_vul": "16597",
                                    "cumsum_vul_patched": "3460"
                                },
                                {
                                    "sys_id": "SYS038902332",
                                    "owner_id": "au_18036",
                                    "last_update_date": "2023-10-10 00:05:13.787",
                                    "cumsum_total_vul": "16986",
                                    "cumsum_vul_patched": "3549"
                                },
                                {
                                    "sys_id": "SYS039387008",
                                    "owner_id": "eu_22256",
                                    "last_update_date": "2023-10-10 00:05:13.787",
                                    "cumsum_total_vul": "17385",
                                    "cumsum_vul_patched": "3624"
                                },
                                {
                                    "sys_id": "SYS084348733",
                                    "owner_id": "us_52113",
                                    "last_update_date": "2023-10-10 00:05:13.787",
                                    "cumsum_total_vul": "17741",
                                    "cumsum_vul_patched": "3737"
                                },
                                {
                                    "sys_id": "WEB100927533",
                                    "owner_id": "eu_51465",
                                    "last_update_date": "2023-10-10 00:05:13.787",
                                    "cumsum_total_vul": "18153",
                                    "cumsum_vul_patched": "3852"
                                },
                                {
                                    "sys_id": "SYS056333129",
                                    "owner_id": "au_25552",
                                    "last_update_date": "2023-10-10 00:05:13.800",
                                    "cumsum_total_vul": "18575",
                                    "cumsum_vul_patched": "3936"
                                },
                                {
                                    "sys_id": "SYS017146119",
                                    "owner_id": "us_15438",
                                    "last_update_date": "2023-10-11 00:05:13.787",
                                    "cumsum_total_vul": "18838",
                                    "cumsum_vul_patched": "4028"
                                },
                                {
                                    "sys_id": "APP107848013",
                                    "owner_id": "eu_69372",
                                    "last_update_date": "2023-10-11 00:05:13.787",
                                    "cumsum_total_vul": "19259",
                                    "cumsum_vul_patched": "4095"
                                },
                                {
                                    "sys_id": "WEB068404499",
                                    "owner_id": "eu_77467",
                                    "last_update_date": "2023-10-11 00:05:13.787",
                                    "cumsum_total_vul": "19659",
                                    "cumsum_vul_patched": "4175"
                                },
                                {
                                    "sys_id": "WEB028055260",
                                    "owner_id": "au_86362",
                                    "last_update_date": "2023-10-11 00:05:13.787",
                                    "cumsum_total_vul": "19941",
                                    "cumsum_vul_patched": "4273"
                                },
                                {
                                    "sys_id": "WEB110517289",
                                    "owner_id": "au_16507",
                                    "last_update_date": "2023-10-11 00:05:13.800",
                                    "cumsum_total_vul": "20356",
                                    "cumsum_vul_patched": "4418"
                                },
                                {
                                    "sys_id": "WEB051708050",
                                    "owner_id": "au_77600",
                                    "last_update_date": "2023-10-12 00:05:13.787",
                                    "cumsum_total_vul": "20745",
                                    "cumsum_vul_patched": "4561"
                                },
                                {
                                    "sys_id": "WEB043952115",
                                    "owner_id": "us_19904",
                                    "last_update_date": "2023-10-12 00:05:13.797",
                                    "cumsum_total_vul": "21131",
                                    "cumsum_vul_patched": "4672"
                                },
                                {
                                    "sys_id": "WEB065488515",
                                    "owner_id": "au_40513",
                                    "last_update_date": "2023-10-13 00:05:13.787",
                                    "cumsum_total_vul": "21461",
                                    "cumsum_vul_patched": "4787"
                                },
                                {
                                    "sys_id": "WEB039973768",
                                    "owner_id": "eu_10858",
                                    "last_update_date": "2023-10-13 00:05:13.787",
                                    "cumsum_total_vul": "21784",
                                    "cumsum_vul_patched": "4909"
                                },
                                {
                                    "sys_id": "APP045175181",
                                    "owner_id": "us_68077",
                                    "last_update_date": "2023-10-13 00:05:13.787",
                                    "cumsum_total_vul": "22149",
                                    "cumsum_vul_patched": "4971"
                                },
                                {
                                    "sys_id": "APP059649904",
                                    "owner_id": "us_10113",
                                    "last_update_date": "2023-10-13 00:05:13.787",
                                    "cumsum_total_vul": "22566",
                                    "cumsum_vul_patched": "5071"
                                },
                                {
                                    "sys_id": "SYS020388621",
                                    "owner_id": "us_19904",
                                    "last_update_date": "2023-10-13 00:05:13.797",
                                    "cumsum_total_vul": "22908",
                                    "cumsum_vul_patched": "5197"
                                },
                                {
                                    "sys_id": "APP055211174",
                                    "owner_id": "au_11362",
                                    "last_update_date": "2023-10-13 00:05:13.800",
                                    "cumsum_total_vul": "23280",
                                    "cumsum_vul_patched": "5308"
                                },
                                {
                                    "sys_id": "WEB102855742",
                                    "owner_id": "au_11362",
                                    "last_update_date": "2023-10-13 00:05:13.800",
                                    "cumsum_total_vul": "23683",
                                    "cumsum_vul_patched": "5461"
                                },
                                {
                                    "sys_id": "SYS096571912",
                                    "owner_id": "eu_10858",
                                    "last_update_date": "2023-10-14 00:05:13.787",
                                    "cumsum_total_vul": "24122",
                                    "cumsum_vul_patched": "5540"
                                },
                                {
                                    "sys_id": "SYS110722906",
                                    "owner_id": "au_86362",
                                    "last_update_date": "2023-10-14 00:05:13.787",
                                    "cumsum_total_vul": "24523",
                                    "cumsum_vul_patched": "5640"
                                },
                                {
                                    "sys_id": "SYS121819604",
                                    "owner_id": "au_15315",
                                    "last_update_date": "2023-10-14 00:05:13.787",
                                    "cumsum_total_vul": "24931",
                                    "cumsum_vul_patched": "5746"
                                },
                                {
                                    "sys_id": "SYS040982159",
                                    "owner_id": "eu_22256",
                                    "last_update_date": "2023-10-14 00:05:13.787",
                                    "cumsum_total_vul": "25253",
                                    "cumsum_vul_patched": "5865"
                                },
                                {
                                    "sys_id": "SYS031643342",
                                    "owner_id": "us_19904",
                                    "last_update_date": "2023-10-14 00:05:13.800",
                                    "cumsum_total_vul": "25647",
                                    "cumsum_vul_patched": "5998"
                                },
                                {
                                    "sys_id": "APP113938522",
                                    "owner_id": "us_10113",
                                    "last_update_date": "2023-10-14 00:05:13.800",
                                    "cumsum_total_vul": "26073",
                                    "cumsum_vul_patched": "6147"
                                },
                                {
                                    "sys_id": "SYS063465543",
                                    "owner_id": "us_19904",
                                    "last_update_date": "2023-10-15 00:05:13.787",
                                    "cumsum_total_vul": "26499",
                                    "cumsum_vul_patched": "6291"
                                },
                                {
                                    "sys_id": "SYS112120218",
                                    "owner_id": "au_18036",
                                    "last_update_date": "2023-10-15 00:05:13.787",
                                    "cumsum_total_vul": "26790",
                                    "cumsum_vul_patched": "6401"
                                },
                                {
                                    "sys_id": "WEB039671756",
                                    "owner_id": "eu_51465",
                                    "last_update_date": "2023-10-15 00:05:13.787",
                                    "cumsum_total_vul": "27053",
                                    "cumsum_vul_patched": "6506"
                                },
                                {
                                    "sys_id": "WEB016537949",
                                    "owner_id": "au_11362",
                                    "last_update_date": "2023-10-15 00:05:13.787",
                                    "cumsum_total_vul": "27335",
                                    "cumsum_vul_patched": "6613"
                                },
                                {
                                    "sys_id": "WEB024386632",
                                    "owner_id": "au_75432",
                                    "last_update_date": "2023-10-15 00:05:13.797",
                                    "cumsum_total_vul": "27651",
                                    "cumsum_vul_patched": "6739"
                                },
                                {
                                    "sys_id": "WEB083962712",
                                    "owner_id": "us_52113",
                                    "last_update_date": "2023-10-15 00:05:13.800",
                                    "cumsum_total_vul": "28054",
                                    "cumsum_vul_patched": "6867"
                                },
                                {
                                    "sys_id": "WEB114241548",
                                    "owner_id": "au_40513",
                                    "last_update_date": "2023-10-16 00:05:13.787",
                                    "cumsum_total_vul": "28377",
                                    "cumsum_vul_patched": "6983"
                                },
                                {
                                    "sys_id": "SYS127535568",
                                    "owner_id": "au_86362",
                                    "last_update_date": "2023-10-16 00:05:13.787",
                                    "cumsum_total_vul": "28728",
                                    "cumsum_vul_patched": "7074"
                                },
                                {
                                    "sys_id": "SYS054587715",
                                    "owner_id": "au_25552",
                                    "last_update_date": "2023-10-16 00:05:13.787",
                                    "cumsum_total_vul": "29143",
                                    "cumsum_vul_patched": "7210"
                                },
                                {
                                    "sys_id": "SYS075240413",
                                    "owner_id": "au_25552",
                                    "last_update_date": "2023-10-16 00:05:13.787",
                                    "cumsum_total_vul": "29541",
                                    "cumsum_vul_patched": "7325"
                                },
                                {
                                    "sys_id": "SYS037354541",
                                    "owner_id": "us_10113",
                                    "last_update_date": "2023-10-16 00:05:13.787",
                                    "cumsum_total_vul": "29965",
                                    "cumsum_vul_patched": "7409"
                                },
                                {
                                    "sys_id": "APP041032419",
                                    "owner_id": "us_52113",
                                    "last_update_date": "2023-10-16 00:05:13.787",
                                    "cumsum_total_vul": "30369",
                                    "cumsum_vul_patched": "7574"
                                },
                                {
                                    "sys_id": "SYS026335652",
                                    "owner_id": "eu_51465",
                                    "last_update_date": "2023-10-16 00:05:13.797",
                                    "cumsum_total_vul": "30735",
                                    "cumsum_vul_patched": "7705"
                                },
                                {
                                    "sys_id": "WEB044795520",
                                    "owner_id": "au_40513",
                                    "last_update_date": "2023-10-16 00:05:13.797",
                                    "cumsum_total_vul": "31006",
                                    "cumsum_vul_patched": "7805"
                                },
                                {
                                    "sys_id": "WEB051098812",
                                    "owner_id": "eu_10858",
                                    "last_update_date": "2023-10-16 00:05:13.800",
                                    "cumsum_total_vul": "31289",
                                    "cumsum_vul_patched": "7912"
                                },
                                {
                                    "sys_id": "WEB039962915",
                                    "owner_id": "au_89783",
                                    "last_update_date": "2023-10-16 00:05:13.800",
                                    "cumsum_total_vul": "31678",
                                    "cumsum_vul_patched": "8036"
                                },
                                {
                                    "sys_id": "SYS092619904",
                                    "owner_id": "eu_23263",
                                    "last_update_date": "2023-10-17 00:05:13.787",
                                    "cumsum_total_vul": "31988",
                                    "cumsum_vul_patched": "8163"
                                },
                                {
                                    "sys_id": "WEB112994680",
                                    "owner_id": "eu_22256",
                                    "last_update_date": "2023-10-17 00:05:13.787",
                                    "cumsum_total_vul": "32409",
                                    "cumsum_vul_patched": "8306"
                                },
                                {
                                    "sys_id": "WEB097072863",
                                    "owner_id": "us_52113",
                                    "last_update_date": "2023-10-17 00:05:13.787",
                                    "cumsum_total_vul": "32801",
                                    "cumsum_vul_patched": "8400"
                                },
                                {
                                    "sys_id": "SYS031355698",
                                    "owner_id": "au_77600",
                                    "last_update_date": "2023-10-17 00:05:13.787",
                                    "cumsum_total_vul": "33181",
                                    "cumsum_vul_patched": "8552"
                                },
                                {
                                    "sys_id": "SYS067829114",
                                    "owner_id": "eu_23263",
                                    "last_update_date": "2023-10-17 00:05:13.787",
                                    "cumsum_total_vul": "33482",
                                    "cumsum_vul_patched": "8666"
                                },
                                {
                                    "sys_id": "SYS068617930",
                                    "owner_id": "us_15438",
                                    "last_update_date": "2023-10-17 00:05:13.787",
                                    "cumsum_total_vul": "33860",
                                    "cumsum_vul_patched": "8752"
                                },
                                {
                                    "sys_id": "APP082148951",
                                    "owner_id": "au_77600",
                                    "last_update_date": "2023-10-17 00:05:13.787",
                                    "cumsum_total_vul": "34214",
                                    "cumsum_vul_patched": "8882"
                                },
                                {
                                    "sys_id": "SYS057697356",
                                    "owner_id": "eu_69372",
                                    "last_update_date": "2023-10-17 00:05:13.797",
                                    "cumsum_total_vul": "34491",
                                    "cumsum_vul_patched": "8984"
                                },
                                {
                                    "sys_id": "SYS109136626",
                                    "owner_id": "eu_56544",
                                    "last_update_date": "2023-10-17 00:05:13.797",
                                    "cumsum_total_vul": "34803",
                                    "cumsum_vul_patched": "9102"
                                },
                                {
                                    "sys_id": "WEB060442718",
                                    "owner_id": "eu_22256",
                                    "last_update_date": "2023-10-17 00:05:13.800",
                                    "cumsum_total_vul": "35213",
                                    "cumsum_vul_patched": "9233"
                                },
                                {
                                    "sys_id": "APP118463128",
                                    "owner_id": "us_19904",
                                    "last_update_date": "2023-10-17 00:05:13.800",
                                    "cumsum_total_vul": "35541",
                                    "cumsum_vul_patched": "9367"
                                },
                                {
                                    "sys_id": "SYS066272982",
                                    "owner_id": "au_11362",
                                    "last_update_date": "2023-10-18 00:05:13.787",
                                    "cumsum_total_vul": "35937",
                                    "cumsum_vul_patched": "9533"
                                },
                                {
                                    "sys_id": "APP114278689",
                                    "owner_id": "us_34800",
                                    "last_update_date": "2023-10-18 00:05:13.787",
                                    "cumsum_total_vul": "36266",
                                    "cumsum_vul_patched": "9654"
                                },
                                {
                                    "sys_id": "APP114773582",
                                    "owner_id": "au_77600",
                                    "last_update_date": "2023-10-18 00:05:13.787",
                                    "cumsum_total_vul": "36658",
                                    "cumsum_vul_patched": "9822"
                                },
                                {
                                    "sys_id": "APP057321046",
                                    "owner_id": "us_15438",
                                    "last_update_date": "2023-10-18 00:05:13.787",
                                    "cumsum_total_vul": "37069",
                                    "cumsum_vul_patched": "9982"
                                },
                                {
                                    "sys_id": "WEB044835642",
                                    "owner_id": "us_19904",
                                    "last_update_date": "2023-10-18 00:05:13.787",
                                    "cumsum_total_vul": "37438",
                                    "cumsum_vul_patched": "10070"
                                },
                                {
                                    "sys_id": "SYS053098836",
                                    "owner_id": "eu_56544",
                                    "last_update_date": "2023-10-18 00:05:13.797",
                                    "cumsum_total_vul": "37828",
                                    "cumsum_vul_patched": "10183"
                                },
                                {
                                    "sys_id": "APP036796922",
                                    "owner_id": "au_75432",
                                    "last_update_date": "2023-10-18 00:05:13.800",
                                    "cumsum_total_vul": "38238",
                                    "cumsum_vul_patched": "10297"
                                },
                                {
                                    "sys_id": "APP115577842",
                                    "owner_id": "au_18036",
                                    "last_update_date": "2023-10-18 00:05:13.800",
                                    "cumsum_total_vul": "38507",
                                    "cumsum_vul_patched": "10404"
                                },
                                {
                                    "sys_id": "APP077116846",
                                    "owner_id": "au_40513",
                                    "last_update_date": "2023-10-19 00:05:13.787",
                                    "cumsum_total_vul": "38907",
                                    "cumsum_vul_patched": "10512"
                                },
                                {
                                    "sys_id": "SYS074823666",
                                    "owner_id": "us_15438",
                                    "last_update_date": "2023-10-19 00:05:13.787",
                                    "cumsum_total_vul": "39207",
                                    "cumsum_vul_patched": "10629"
                                },
                                {
                                    "sys_id": "SYS075902777",
                                    "owner_id": "us_34800",
                                    "last_update_date": "2023-10-19 00:05:13.787",
                                    "cumsum_total_vul": "39517",
                                    "cumsum_vul_patched": "10768"
                                },
                                {
                                    "sys_id": "SYS081467743",
                                    "owner_id": "eu_10858",
                                    "last_update_date": "2023-10-19 00:05:13.787",
                                    "cumsum_total_vul": "39853",
                                    "cumsum_vul_patched": "10915"
                                },
                                {
                                    "sys_id": "SYS014622652",
                                    "owner_id": "au_11362",
                                    "last_update_date": "2023-10-19 00:05:13.787",
                                    "cumsum_total_vul": "40247",
                                    "cumsum_vul_patched": "11056"
                                },
                                {
                                    "sys_id": "WEB030471162",
                                    "owner_id": "us_52113",
                                    "last_update_date": "2023-10-19 00:05:13.787",
                                    "cumsum_total_vul": "40600",
                                    "cumsum_vul_patched": "11207"
                                },
                                {
                                    "sys_id": "WEB122583133",
                                    "owner_id": "eu_51465",
                                    "last_update_date": "2023-10-19 00:05:13.787",
                                    "cumsum_total_vul": "40969",
                                    "cumsum_vul_patched": "11310"
                                },
                                {
                                    "sys_id": "WEB082369293",
                                    "owner_id": "au_75432",
                                    "last_update_date": "2023-10-19 00:05:13.797",
                                    "cumsum_total_vul": "41363",
                                    "cumsum_vul_patched": "11440"
                                },
                                {
                                    "sys_id": "SYS057660723",
                                    "owner_id": "au_40513",
                                    "last_update_date": "2023-10-19 00:05:13.797",
                                    "cumsum_total_vul": "41660",
                                    "cumsum_vul_patched": "11558"
                                },
                                {
                                    "sys_id": "WEB088687652",
                                    "owner_id": "au_86362",
                                    "last_update_date": "2023-10-19 00:05:13.800",
                                    "cumsum_total_vul": "42073",
                                    "cumsum_vul_patched": "11690"
                                },
                                {
                                    "sys_id": "WEB124932148",
                                    "owner_id": "au_25552",
                                    "last_update_date": "2023-10-19 00:05:13.800",
                                    "cumsum_total_vul": "42479",
                                    "cumsum_vul_patched": "11823"
                                },
                                {
                                    "sys_id": "WEB095016313",
                                    "owner_id": "eu_11838",
                                    "last_update_date": "2023-10-20 00:05:13.787",
                                    "cumsum_total_vul": "42733",
                                    "cumsum_vul_patched": "11929"
                                },
                                {
                                    "sys_id": "WEB080296672",
                                    "owner_id": "au_77600",
                                    "last_update_date": "2023-10-20 00:05:13.787",
                                    "cumsum_total_vul": "43012",
                                    "cumsum_vul_patched": "12037"
                                },
                                {
                                    "sys_id": "WEB056081060",
                                    "owner_id": "au_75432",
                                    "last_update_date": "2023-10-20 00:05:13.787",
                                    "cumsum_total_vul": "43319",
                                    "cumsum_vul_patched": "12153"
                                },
                                {
                                    "sys_id": "WEB063419285",
                                    "owner_id": "us_68077",
                                    "last_update_date": "2023-10-20 00:05:13.787",
                                    "cumsum_total_vul": "43625",
                                    "cumsum_vul_patched": "12278"
                                },
                                {
                                    "sys_id": "SYS105866932",
                                    "owner_id": "au_25552",
                                    "last_update_date": "2023-10-20 00:05:13.787",
                                    "cumsum_total_vul": "44011",
                                    "cumsum_vul_patched": "12420"
                                },
                                {
                                    "sys_id": "APP076296194",
                                    "owner_id": "us_68077",
                                    "last_update_date": "2023-10-20 00:05:13.787",
                                    "cumsum_total_vul": "44407",
                                    "cumsum_vul_patched": "12586"
                                },
                                {
                                    "sys_id": "APP111694091",
                                    "owner_id": "au_86362",
                                    "last_update_date": "2023-10-20 00:05:13.787",
                                    "cumsum_total_vul": "44729",
                                    "cumsum_vul_patched": "12727"
                                },
                                {
                                    "sys_id": "APP098043419",
                                    "owner_id": "eu_77467",
                                    "last_update_date": "2023-10-20 00:05:13.797",
                                    "cumsum_total_vul": "45086",
                                    "cumsum_vul_patched": "12816"
                                },
                                {
                                    "sys_id": "SYS091128807",
                                    "owner_id": "au_89783",
                                    "last_update_date": "2023-10-20 00:05:13.797",
                                    "cumsum_total_vul": "45480",
                                    "cumsum_vul_patched": "12938"
                                },
                                {
                                    "sys_id": "APP065661390",
                                    "owner_id": "us_19904",
                                    "last_update_date": "2023-10-20 00:05:13.800",
                                    "cumsum_total_vul": "45768",
                                    "cumsum_vul_patched": "13061"
                                },
                                {
                                    "sys_id": "APP080512042",
                                    "owner_id": "us_57346",
                                    "last_update_date": "2023-10-20 00:05:13.800",
                                    "cumsum_total_vul": "46042",
                                    "cumsum_vul_patched": "13184"
                                },
                                {
                                    "sys_id": "SYS011622493",
                                    "owner_id": "au_75432",
                                    "last_update_date": "2023-10-20 00:05:13.800",
                                    "cumsum_total_vul": "46340",
                                    "cumsum_vul_patched": "13306"
                                },
                                {
                                    "sys_id": "SYS034593347",
                                    "owner_id": "eu_51465",
                                    "last_update_date": "2023-10-20 00:05:13.800",
                                    "cumsum_total_vul": "46658",
                                    "cumsum_vul_patched": "13420"
                                },
                                {
                                    "sys_id": "SYS037048284",
                                    "owner_id": "au_18036",
                                    "last_update_date": "2023-10-21 00:05:13.787",
                                    "cumsum_total_vul": "47066",
                                    "cumsum_vul_patched": "13558"
                                },
                                {
                                    "sys_id": "SYS019805005",
                                    "owner_id": "au_16507",
                                    "last_update_date": "2023-10-21 00:05:13.787",
                                    "cumsum_total_vul": "47383",
                                    "cumsum_vul_patched": "13681"
                                },
                                {
                                    "sys_id": "APP124138366",
                                    "owner_id": "eu_77467",
                                    "last_update_date": "2023-10-21 00:05:13.787",
                                    "cumsum_total_vul": "47679",
                                    "cumsum_vul_patched": "13814"
                                },
                                {
                                    "sys_id": "SYS048692221",
                                    "owner_id": "eu_22256",
                                    "last_update_date": "2023-10-21 00:05:13.787",
                                    "cumsum_total_vul": "48078",
                                    "cumsum_vul_patched": "13929"
                                },
                                {
                                    "sys_id": "APP094086218",
                                    "owner_id": "us_19904",
                                    "last_update_date": "2023-10-21 00:05:13.787",
                                    "cumsum_total_vul": "48408",
                                    "cumsum_vul_patched": "14061"
                                },
                                {
                                    "sys_id": "APP044270867",
                                    "owner_id": "au_11362",
                                    "last_update_date": "2023-10-21 00:05:13.787",
                                    "cumsum_total_vul": "48790",
                                    "cumsum_vul_patched": "14225"
                                },
                                {
                                    "sys_id": "APP031903406",
                                    "owner_id": "eu_11838",
                                    "last_update_date": "2023-10-21 00:05:13.787",
                                    "cumsum_total_vul": "49098",
                                    "cumsum_vul_patched": "14348"
                                },
                                {
                                    "sys_id": "APP016848667",
                                    "owner_id": "us_52113",
                                    "last_update_date": "2023-10-21 00:05:13.787",
                                    "cumsum_total_vul": "49382",
                                    "cumsum_vul_patched": "14450"
                                },
                                {
                                    "sys_id": "WEB039221698",
                                    "owner_id": "au_86362",
                                    "last_update_date": "2023-10-21 00:05:13.787",
                                    "cumsum_total_vul": "49665",
                                    "cumsum_vul_patched": "14549"
                                },
                                {
                                    "sys_id": "WEB079848581",
                                    "owner_id": "us_68077",
                                    "last_update_date": "2023-10-21 00:05:13.787",
                                    "cumsum_total_vul": "50062",
                                    "cumsum_vul_patched": "14687"
                                },
                                {
                                    "sys_id": "WEB097139719",
                                    "owner_id": "au_11362",
                                    "last_update_date": "2023-10-21 00:05:13.787",
                                    "cumsum_total_vul": "50455",
                                    "cumsum_vul_patched": "14800"
                                },
                                {
                                    "sys_id": "WEB096162295",
                                    "owner_id": "eu_69372",
                                    "last_update_date": "2023-10-21 00:05:13.787",
                                    "cumsum_total_vul": "50808",
                                    "cumsum_vul_patched": "14912"
                                },
                                {
                                    "sys_id": "WEB127652771",
                                    "owner_id": "au_11362",
                                    "last_update_date": "2023-10-21 00:05:13.787",
                                    "cumsum_total_vul": "51103",
                                    "cumsum_vul_patched": "15041"
                                },
                                {
                                    "sys_id": "SYS111336139",
                                    "owner_id": "us_68077",
                                    "last_update_date": "2023-10-21 00:05:13.797",
                                    "cumsum_total_vul": "51496",
                                    "cumsum_vul_patched": "15143"
                                },
                                {
                                    "sys_id": "APP052944402",
                                    "owner_id": "us_19904",
                                    "last_update_date": "2023-10-21 00:05:13.800",
                                    "cumsum_total_vul": "51769",
                                    "cumsum_vul_patched": "15249"
                                },
                                {
                                    "sys_id": "SYS072095933",
                                    "owner_id": "eu_11838",
                                    "last_update_date": "2023-10-21 00:05:13.800",
                                    "cumsum_total_vul": "52068",
                                    "cumsum_vul_patched": "15359"
                                },
                                {
                                    "sys_id": "SYS052102053",
                                    "owner_id": "au_15315",
                                    "last_update_date": "2023-10-22 00:05:13.787",
                                    "cumsum_total_vul": "52350",
                                    "cumsum_vul_patched": "15477"
                                },
                                {
                                    "sys_id": "SYS055171337",
                                    "owner_id": "us_57346",
                                    "last_update_date": "2023-10-22 00:05:13.787",
                                    "cumsum_total_vul": "52617",
                                    "cumsum_vul_patched": "15605"
                                },
                                {
                                    "sys_id": "APP129471743",
                                    "owner_id": "au_11362",
                                    "last_update_date": "2023-10-22 00:05:13.787",
                                    "cumsum_total_vul": "52895",
                                    "cumsum_vul_patched": "15732"
                                },
                                {
                                    "sys_id": "APP129596291",
                                    "owner_id": "au_77600",
                                    "last_update_date": "2023-10-22 00:05:13.787",
                                    "cumsum_total_vul": "53180",
                                    "cumsum_vul_patched": "15846"
                                },
                                {
                                    "sys_id": "APP035556257",
                                    "owner_id": "us_52113",
                                    "last_update_date": "2023-10-22 00:05:13.787",
                                    "cumsum_total_vul": "53495",
                                    "cumsum_vul_patched": "15956"
                                },
                                {
                                    "sys_id": "APP037104050",
                                    "owner_id": "us_68077",
                                    "last_update_date": "2023-10-22 00:05:13.787",
                                    "cumsum_total_vul": "53771",
                                    "cumsum_vul_patched": "16058"
                                },
                                {
                                    "sys_id": "APP048302841",
                                    "owner_id": "au_89783",
                                    "last_update_date": "2023-10-22 00:05:13.787",
                                    "cumsum_total_vul": "54192",
                                    "cumsum_vul_patched": "16192"
                                },
                                {
                                    "sys_id": "APP016868799",
                                    "owner_id": "eu_69372",
                                    "last_update_date": "2023-10-22 00:05:13.787",
                                    "cumsum_total_vul": "54494",
                                    "cumsum_vul_patched": "16327"
                                },
                                {
                                    "sys_id": "APP095854973",
                                    "owner_id": "au_86362",
                                    "last_update_date": "2023-10-22 00:05:13.787",
                                    "cumsum_total_vul": "54790",
                                    "cumsum_vul_patched": "16460"
                                },
                                {
                                    "sys_id": "APP076746767",
                                    "owner_id": "au_25552",
                                    "last_update_date": "2023-10-22 00:05:13.787",
                                    "cumsum_total_vul": "55076",
                                    "cumsum_vul_patched": "16565"
                                },
                                {
                                    "sys_id": "SYS113391871",
                                    "owner_id": "us_15438",
                                    "last_update_date": "2023-10-22 00:05:13.787",
                                    "cumsum_total_vul": "55447",
                                    "cumsum_vul_patched": "16709"
                                },
                                {
                                    "sys_id": "SYS089904211",
                                    "owner_id": "au_18036",
                                    "last_update_date": "2023-10-22 00:05:13.787",
                                    "cumsum_total_vul": "55714",
                                    "cumsum_vul_patched": "16823"
                                },
                                {
                                    "sys_id": "SYS091829928",
                                    "owner_id": "us_19904",
                                    "last_update_date": "2023-10-22 00:05:13.787",
                                    "cumsum_total_vul": "56134",
                                    "cumsum_vul_patched": "16991"
                                },
                                {
                                    "sys_id": "SYS109856980",
                                    "owner_id": "us_57346",
                                    "last_update_date": "2023-10-22 00:05:13.787",
                                    "cumsum_total_vul": "56429",
                                    "cumsum_vul_patched": "17126"
                                },
                                {
                                    "sys_id": "SYS102617964",
                                    "owner_id": "eu_11838",
                                    "last_update_date": "2023-10-22 00:05:13.787",
                                    "cumsum_total_vul": "56760",
                                    "cumsum_vul_patched": "17245"
                                },
                                {
                                    "sys_id": "WEB036811771",
                                    "owner_id": "au_40513",
                                    "last_update_date": "2023-10-22 00:05:13.787",
                                    "cumsum_total_vul": "57169",
                                    "cumsum_vul_patched": "17396"
                                },
                                {
                                    "sys_id": "WEB029138005",
                                    "owner_id": "eu_51465",
                                    "last_update_date": "2023-10-22 00:05:13.787",
                                    "cumsum_total_vul": "57457",
                                    "cumsum_vul_patched": "17502"
                                },
                                {
                                    "sys_id": "WEB019477750",
                                    "owner_id": "au_15315",
                                    "last_update_date": "2023-10-22 00:05:13.787",
                                    "cumsum_total_vul": "57744",
                                    "cumsum_vul_patched": "17619"
                                },
                                {
                                    "sys_id": "WEB043484340",
                                    "owner_id": "au_15315",
                                    "last_update_date": "2023-10-22 00:05:13.787",
                                    "cumsum_total_vul": "58062",
                                    "cumsum_vul_patched": "17736"
                                },
                                {
                                    "sys_id": "WEB052836442",
                                    "owner_id": "au_25552",
                                    "last_update_date": "2023-10-22 00:05:13.787",
                                    "cumsum_total_vul": "58392",
                                    "cumsum_vul_patched": "17858"
                                },
                                {
                                    "sys_id": "WEB121815996",
                                    "owner_id": "us_34800",
                                    "last_update_date": "2023-10-22 00:05:13.787",
                                    "cumsum_total_vul": "58703",
                                    "cumsum_vul_patched": "17982"
                                },
                                {
                                    "sys_id": "WEB098899375",
                                    "owner_id": "us_52113",
                                    "last_update_date": "2023-10-23 00:05:13.787",
                                    "cumsum_total_vul": "58998",
                                    "cumsum_vul_patched": "18088"
                                },
                                {
                                    "sys_id": "WEB080985938",
                                    "owner_id": "eu_10858",
                                    "last_update_date": "2023-10-23 00:05:13.787",
                                    "cumsum_total_vul": "59408",
                                    "cumsum_vul_patched": "18260"
                                },
                                {
                                    "sys_id": "WEB043083301",
                                    "owner_id": "us_15438",
                                    "last_update_date": "2023-10-23 00:05:13.787",
                                    "cumsum_total_vul": "59681",
                                    "cumsum_vul_patched": "18377"
                                },
                                {
                                    "sys_id": "WEB057772527",
                                    "owner_id": "us_15438",
                                    "last_update_date": "2023-10-23 00:05:13.787",
                                    "cumsum_total_vul": "59980",
                                    "cumsum_vul_patched": "18517"
                                },
                                {
                                    "sys_id": "WEB033004785",
                                    "owner_id": "us_10113",
                                    "last_update_date": "2023-10-23 00:05:13.787",
                                    "cumsum_total_vul": "60312",
                                    "cumsum_vul_patched": "18679"
                                },
                                {
                                    "sys_id": "SYS102327199",
                                    "owner_id": "eu_77467",
                                    "last_update_date": "2023-10-23 00:05:13.787",
                                    "cumsum_total_vul": "60599",
                                    "cumsum_vul_patched": "18819"
                                },
                                {
                                    "sys_id": "SYS127546913",
                                    "owner_id": "au_11362",
                                    "last_update_date": "2023-10-23 00:05:13.787",
                                    "cumsum_total_vul": "60917",
                                    "cumsum_vul_patched": "18958"
                                },
                                {
                                    "sys_id": "APP041165661",
                                    "owner_id": "eu_11838",
                                    "last_update_date": "2023-10-23 00:05:13.787",
                                    "cumsum_total_vul": "61222",
                                    "cumsum_vul_patched": "19101"
                                },
                                {
                                    "sys_id": "SYS063875845",
                                    "owner_id": "eu_56544",
                                    "last_update_date": "2023-10-23 00:05:13.787",
                                    "cumsum_total_vul": "61537",
                                    "cumsum_vul_patched": "19233"
                                },
                                {
                                    "sys_id": "SYS086184720",
                                    "owner_id": "au_11362",
                                    "last_update_date": "2023-10-23 00:05:13.787",
                                    "cumsum_total_vul": "61924",
                                    "cumsum_vul_patched": "19364"
                                },
                                {
                                    "sys_id": "SYS068144911",
                                    "owner_id": "au_40513",
                                    "last_update_date": "2023-10-23 00:05:13.797",
                                    "cumsum_total_vul": "62206",
                                    "cumsum_vul_patched": "19471"
                                },
                                {
                                    "sys_id": "APP128955435",
                                    "owner_id": "us_19904",
                                    "last_update_date": "2023-10-23 00:05:13.797",
                                    "cumsum_total_vul": "62509",
                                    "cumsum_vul_patched": "19610"
                                },
                                {
                                    "sys_id": "WEB106930841",
                                    "owner_id": "au_75432",
                                    "last_update_date": "2023-10-23 00:05:13.797",
                                    "cumsum_total_vul": "62791",
                                    "cumsum_vul_patched": "19719"
                                },
                                {
                                    "sys_id": "WEB083329452",
                                    "owner_id": "au_25552",
                                    "last_update_date": "2023-10-23 00:05:13.800",
                                    "cumsum_total_vul": "63103",
                                    "cumsum_vul_patched": "19843"
                                },
                                {
                                    "sys_id": "WEB095625759",
                                    "owner_id": "au_15315",
                                    "last_update_date": "2023-10-24 00:05:13.787",
                                    "cumsum_total_vul": "63390",
                                    "cumsum_vul_patched": "19983"
                                },
                                {
                                    "sys_id": "WEB074039104",
                                    "owner_id": "eu_11838",
                                    "last_update_date": "2023-10-24 00:05:13.787",
                                    "cumsum_total_vul": "63682",
                                    "cumsum_vul_patched": "20096"
                                },
                                {
                                    "sys_id": "WEB101343161",
                                    "owner_id": "au_75432",
                                    "last_update_date": "2023-10-24 00:05:13.787",
                                    "cumsum_total_vul": "64007",
                                    "cumsum_vul_patched": "20232"
                                },
                                {
                                    "sys_id": "SYS121751869",
                                    "owner_id": "au_16507",
                                    "last_update_date": "2023-10-24 00:05:13.787",
                                    "cumsum_total_vul": "64305",
                                    "cumsum_vul_patched": "20336"
                                },
                                {
                                    "sys_id": "SYS101547886",
                                    "owner_id": "au_16507",
                                    "last_update_date": "2023-10-24 00:05:13.787",
                                    "cumsum_total_vul": "64626",
                                    "cumsum_vul_patched": "20483"
                                },
                                {
                                    "sys_id": "APP129177856",
                                    "owner_id": "au_40513",
                                    "last_update_date": "2023-10-24 00:05:13.787",
                                    "cumsum_total_vul": "64937",
                                    "cumsum_vul_patched": "20626"
                                },
                                {
                                    "sys_id": "SYS015932529",
                                    "owner_id": "us_19904",
                                    "last_update_date": "2023-10-24 00:05:13.787",
                                    "cumsum_total_vul": "65225",
                                    "cumsum_vul_patched": "20746"
                                },
                                {
                                    "sys_id": "APP125574314",
                                    "owner_id": "eu_22256",
                                    "last_update_date": "2023-10-24 00:05:13.787",
                                    "cumsum_total_vul": "65508",
                                    "cumsum_vul_patched": "20850"
                                },
                                {
                                    "sys_id": "SYS028393359",
                                    "owner_id": "us_15438",
                                    "last_update_date": "2023-10-24 00:05:13.787",
                                    "cumsum_total_vul": "65790",
                                    "cumsum_vul_patched": "20951"
                                },
                                {
                                    "sys_id": "SYS059329664",
                                    "owner_id": "au_89783",
                                    "last_update_date": "2023-10-24 00:05:13.787",
                                    "cumsum_total_vul": "66081",
                                    "cumsum_vul_patched": "21081"
                                },
                                {
                                    "sys_id": "APP036142932",
                                    "owner_id": "us_10113",
                                    "last_update_date": "2023-10-24 00:05:13.787",
                                    "cumsum_total_vul": "66494",
                                    "cumsum_vul_patched": "21233"
                                },
                                {
                                    "sys_id": "APP039142832",
                                    "owner_id": "au_89783",
                                    "last_update_date": "2023-10-24 00:05:13.797",
                                    "cumsum_total_vul": "66805",
                                    "cumsum_vul_patched": "21354"
                                },
                                {
                                    "sys_id": "SYS075577908",
                                    "owner_id": "au_40513",
                                    "last_update_date": "2023-10-24 00:05:13.797",
                                    "cumsum_total_vul": "67108",
                                    "cumsum_vul_patched": "21487"
                                },
                                {
                                    "sys_id": "WEB105946360",
                                    "owner_id": "us_15438",
                                    "last_update_date": "2023-10-24 00:05:13.797",
                                    "cumsum_total_vul": "67394",
                                    "cumsum_vul_patched": "21609"
                                },
                                {
                                    "sys_id": "SYS123219710",
                                    "owner_id": "eu_77467",
                                    "last_update_date": "2023-10-24 00:05:13.800",
                                    "cumsum_total_vul": "67700",
                                    "cumsum_vul_patched": "21746"
                                },
                                {
                                    "sys_id": "WEB011556996",
                                    "owner_id": "us_57346",
                                    "last_update_date": "2023-10-24 00:05:13.800",
                                    "cumsum_total_vul": "67981",
                                    "cumsum_vul_patched": "21875"
                                },
                                {
                                    "sys_id": "APP070965696",
                                    "owner_id": "us_68077",
                                    "last_update_date": "2023-10-24 00:05:13.800",
                                    "cumsum_total_vul": "68256",
                                    "cumsum_vul_patched": "21987"
                                },
                                {
                                    "sys_id": "APP018926875",
                                    "owner_id": "eu_23263",
                                    "last_update_date": "2023-10-25 00:05:13.787",
                                    "cumsum_total_vul": "68540",
                                    "cumsum_vul_patched": "22123"
                                },
                                {
                                    "sys_id": "APP026329451",
                                    "owner_id": "us_34800",
                                    "last_update_date": "2023-10-25 00:05:13.787",
                                    "cumsum_total_vul": "68956",
                                    "cumsum_vul_patched": "22301"
                                },
                                {
                                    "sys_id": "SYS028625658",
                                    "owner_id": "eu_69372",
                                    "last_update_date": "2023-10-25 00:05:13.787",
                                    "cumsum_total_vul": "69263",
                                    "cumsum_vul_patched": "22451"
                                },
                                {
                                    "sys_id": "SYS111746127",
                                    "owner_id": "eu_51465",
                                    "last_update_date": "2023-10-25 00:05:13.787",
                                    "cumsum_total_vul": "69522",
                                    "cumsum_vul_patched": "22580"
                                },
                                {
                                    "sys_id": "SYS102845118",
                                    "owner_id": "eu_56544",
                                    "last_update_date": "2023-10-25 00:05:13.787",
                                    "cumsum_total_vul": "69822",
                                    "cumsum_vul_patched": "22709"
                                },
                                {
                                    "sys_id": "WEB022038759",
                                    "owner_id": "au_86362",
                                    "last_update_date": "2023-10-25 00:05:13.787",
                                    "cumsum_total_vul": "70143",
                                    "cumsum_vul_patched": "22827"
                                },
                                {
                                    "sys_id": "WEB070481756",
                                    "owner_id": "au_77600",
                                    "last_update_date": "2023-10-25 00:05:13.787",
                                    "cumsum_total_vul": "70412",
                                    "cumsum_vul_patched": "22961"
                                },
                                {
                                    "sys_id": "WEB097026217",
                                    "owner_id": "eu_56544",
                                    "last_update_date": "2023-10-25 00:05:13.787",
                                    "cumsum_total_vul": "70734",
                                    "cumsum_vul_patched": "23076"
                                },
                                {
                                    "sys_id": "WEB122337499",
                                    "owner_id": "eu_23263",
                                    "last_update_date": "2023-10-25 00:05:13.787",
                                    "cumsum_total_vul": "71046",
                                    "cumsum_vul_patched": "23219"
                                },
                                {
                                    "sys_id": "WEB097920698",
                                    "owner_id": "eu_56544",
                                    "last_update_date": "2023-10-25 00:05:13.800",
                                    "cumsum_total_vul": "71488",
                                    "cumsum_vul_patched": "23391"
                                },
                                {
                                    "sys_id": "WEB112307688",
                                    "owner_id": "au_77600",
                                    "last_update_date": "2023-10-25 00:05:13.800",
                                    "cumsum_total_vul": "71778",
                                    "cumsum_vul_patched": "23536"
                                },
                                {
                                    "sys_id": "SYS066242200",
                                    "owner_id": "au_16507",
                                    "last_update_date": "2023-10-25 00:05:13.800",
                                    "cumsum_total_vul": "72080",
                                    "cumsum_vul_patched": "23671"
                                },
                                {
                                    "sys_id": "SYS054149674",
                                    "owner_id": "au_86362",
                                    "last_update_date": "2023-10-25 00:05:13.800",
                                    "cumsum_total_vul": "72390",
                                    "cumsum_vul_patched": "23813"
                                },
                                {
                                    "sys_id": "APP063559048",
                                    "owner_id": "au_89783",
                                    "last_update_date": "2023-10-25 00:05:13.800",
                                    "cumsum_total_vul": "72677",
                                    "cumsum_vul_patched": "23950"
                                },
                                {
                                    "sys_id": "APP103476874",
                                    "owner_id": "au_25552",
                                    "last_update_date": "2023-10-26 00:05:13.787",
                                    "cumsum_total_vul": "72977",
                                    "cumsum_vul_patched": "24091"
                                },
                                {
                                    "sys_id": "APP105939173",
                                    "owner_id": "us_52113",
                                    "last_update_date": "2023-10-26 00:05:13.787",
                                    "cumsum_total_vul": "73262",
                                    "cumsum_vul_patched": "24224"
                                },
                                {
                                    "sys_id": "APP024117393",
                                    "owner_id": "au_89783",
                                    "last_update_date": "2023-10-26 00:05:13.787",
                                    "cumsum_total_vul": "73586",
                                    "cumsum_vul_patched": "24353"
                                },
                                {
                                    "sys_id": "APP061354274",
                                    "owner_id": "us_52113",
                                    "last_update_date": "2023-10-26 00:05:13.787",
                                    "cumsum_total_vul": "73866",
                                    "cumsum_vul_patched": "24476"
                                },
                                {
                                    "sys_id": "SYS085433032",
                                    "owner_id": "au_25552",
                                    "last_update_date": "2023-10-26 00:05:13.787",
                                    "cumsum_total_vul": "74121",
                                    "cumsum_vul_patched": "24570"
                                },
                                {
                                    "sys_id": "WEB098623923",
                                    "owner_id": "au_40513",
                                    "last_update_date": "2023-10-26 00:05:13.787",
                                    "cumsum_total_vul": "74438",
                                    "cumsum_vul_patched": "24696"
                                },
                                {
                                    "sys_id": "WEB070685361",
                                    "owner_id": "eu_77467",
                                    "last_update_date": "2023-10-26 00:05:13.787",
                                    "cumsum_total_vul": "74726",
                                    "cumsum_vul_patched": "24816"
                                },
                                {
                                    "sys_id": "WEB025451689",
                                    "owner_id": "eu_69372",
                                    "last_update_date": "2023-10-26 00:05:13.787",
                                    "cumsum_total_vul": "75049",
                                    "cumsum_vul_patched": "24951"
                                },
                                {
                                    "sys_id": "WEB033955902",
                                    "owner_id": "au_86362",
                                    "last_update_date": "2023-10-26 00:05:13.787",
                                    "cumsum_total_vul": "75329",
                                    "cumsum_vul_patched": "25071"
                                },
                                {
                                    "sys_id": "WEB053244512",
                                    "owner_id": "au_11362",
                                    "last_update_date": "2023-10-26 00:05:13.787",
                                    "cumsum_total_vul": "75728",
                                    "cumsum_vul_patched": "25210"
                                },
                                {
                                    "sys_id": "WEB010471137",
                                    "owner_id": "eu_51465",
                                    "last_update_date": "2023-10-26 00:05:13.787",
                                    "cumsum_total_vul": "76031",
                                    "cumsum_vul_patched": "25361"
                                },
                                {
                                    "sys_id": "SYS026862277",
                                    "owner_id": "us_19904",
                                    "last_update_date": "2023-10-26 00:05:13.800",
                                    "cumsum_total_vul": "76317",
                                    "cumsum_vul_patched": "25512"
                                },
                                {
                                    "sys_id": "SYS019862404",
                                    "owner_id": "au_25552",
                                    "last_update_date": "2023-10-26 00:05:13.800",
                                    "cumsum_total_vul": "76631",
                                    "cumsum_vul_patched": "25659"
                                },
                                {
                                    "sys_id": "APP125727912",
                                    "owner_id": "us_19904",
                                    "last_update_date": "2023-10-26 00:05:13.800",
                                    "cumsum_total_vul": "76931",
                                    "cumsum_vul_patched": "25773"
                                },
                                {
                                    "sys_id": "APP012341320",
                                    "owner_id": "au_86362",
                                    "last_update_date": "2023-10-26 00:05:13.800",
                                    "cumsum_total_vul": "77225",
                                    "cumsum_vul_patched": "25881"
                                },
                                {
                                    "sys_id": "APP019130754",
                                    "owner_id": "eu_77467",
                                    "last_update_date": "2023-10-27 00:05:13.787",
                                    "cumsum_total_vul": "77639",
                                    "cumsum_vul_patched": "26067"
                                },
                                {
                                    "sys_id": "APP032691665",
                                    "owner_id": "eu_69372",
                                    "last_update_date": "2023-10-27 00:05:13.787",
                                    "cumsum_total_vul": "78054",
                                    "cumsum_vul_patched": "26253"
                                },
                                {
                                    "sys_id": "APP033309587",
                                    "owner_id": "eu_22256",
                                    "last_update_date": "2023-10-27 00:05:13.787",
                                    "cumsum_total_vul": "78357",
                                    "cumsum_vul_patched": "26374"
                                },
                                {
                                    "sys_id": "APP084549901",
                                    "owner_id": "au_25552",
                                    "last_update_date": "2023-10-27 00:05:13.787",
                                    "cumsum_total_vul": "78654",
                                    "cumsum_vul_patched": "26519"
                                },
                                {
                                    "sys_id": "WEB042830966",
                                    "owner_id": "eu_51465",
                                    "last_update_date": "2023-10-27 00:05:13.787",
                                    "cumsum_total_vul": "78982",
                                    "cumsum_vul_patched": "26676"
                                },
                                {
                                    "sys_id": "WEB079632593",
                                    "owner_id": "us_19904",
                                    "last_update_date": "2023-10-27 00:05:13.787",
                                    "cumsum_total_vul": "79286",
                                    "cumsum_vul_patched": "26791"
                                },
                                {
                                    "sys_id": "WEB078826342",
                                    "owner_id": "eu_22256",
                                    "last_update_date": "2023-10-27 00:05:13.787",
                                    "cumsum_total_vul": "79657",
                                    "cumsum_vul_patched": "26920"
                                },
                                {
                                    "sys_id": "WEB082400495",
                                    "owner_id": "us_19904",
                                    "last_update_date": "2023-10-27 00:05:13.787",
                                    "cumsum_total_vul": "79935",
                                    "cumsum_vul_patched": "27056"
                                },
                                {
                                    "sys_id": "WEB087907142",
                                    "owner_id": "eu_77467",
                                    "last_update_date": "2023-10-27 00:05:13.797",
                                    "cumsum_total_vul": "80336",
                                    "cumsum_vul_patched": "27208"
                                },
                                {
                                    "sys_id": "WEB096153356",
                                    "owner_id": "au_77600",
                                    "last_update_date": "2023-10-27 00:05:13.797",
                                    "cumsum_total_vul": "80641",
                                    "cumsum_vul_patched": "27363"
                                },
                                {
                                    "sys_id": "WEB070136739",
                                    "owner_id": "us_15438",
                                    "last_update_date": "2023-10-27 00:05:13.800",
                                    "cumsum_total_vul": "80936",
                                    "cumsum_vul_patched": "27513"
                                },
                                {
                                    "sys_id": "SYS073926496",
                                    "owner_id": "eu_23263",
                                    "last_update_date": "2023-10-27 00:05:13.800",
                                    "cumsum_total_vul": "81221",
                                    "cumsum_vul_patched": "27666"
                                },
                                {
                                    "sys_id": "SYS072229275",
                                    "owner_id": "eu_22256",
                                    "last_update_date": "2023-10-28 00:05:13.787",
                                    "cumsum_total_vul": "81510",
                                    "cumsum_vul_patched": "27772"
                                },
                                {
                                    "sys_id": "SYS047367858",
                                    "owner_id": "au_18036",
                                    "last_update_date": "2023-10-28 00:05:13.787",
                                    "cumsum_total_vul": "81801",
                                    "cumsum_vul_patched": "27891"
                                },
                                {
                                    "sys_id": "SYS058580789",
                                    "owner_id": "us_68077",
                                    "last_update_date": "2023-10-28 00:05:13.787",
                                    "cumsum_total_vul": "82107",
                                    "cumsum_vul_patched": "28025"
                                },
                                {
                                    "sys_id": "SYS023568040",
                                    "owner_id": "us_57346",
                                    "last_update_date": "2023-10-28 00:05:13.787",
                                    "cumsum_total_vul": "82398",
                                    "cumsum_vul_patched": "28173"
                                },
                                {
                                    "sys_id": "SYS042912127",
                                    "owner_id": "us_34800",
                                    "last_update_date": "2023-10-28 00:05:13.787",
                                    "cumsum_total_vul": "82717",
                                    "cumsum_vul_patched": "28332"
                                },
                                {
                                    "sys_id": "APP089979958",
                                    "owner_id": "au_25552",
                                    "last_update_date": "2023-10-28 00:05:13.787",
                                    "cumsum_total_vul": "83011",
                                    "cumsum_vul_patched": "28458"
                                },
                                {
                                    "sys_id": "APP016596579",
                                    "owner_id": "eu_69372",
                                    "last_update_date": "2023-10-28 00:05:13.787",
                                    "cumsum_total_vul": "83299",
                                    "cumsum_vul_patched": "28604"
                                },
                                {
                                    "sys_id": "APP013075624",
                                    "owner_id": "au_40513",
                                    "last_update_date": "2023-10-28 00:05:13.787",
                                    "cumsum_total_vul": "83607",
                                    "cumsum_vul_patched": "28751"
                                },
                                {
                                    "sys_id": "APP015151863",
                                    "owner_id": "au_40513",
                                    "last_update_date": "2023-10-28 00:05:13.787",
                                    "cumsum_total_vul": "83910",
                                    "cumsum_vul_patched": "28896"
                                },
                                {
                                    "sys_id": "WEB090869785",
                                    "owner_id": "au_25552",
                                    "last_update_date": "2023-10-28 00:05:13.787",
                                    "cumsum_total_vul": "84176",
                                    "cumsum_vul_patched": "29036"
                                },
                                {
                                    "sys_id": "WEB087561850",
                                    "owner_id": "au_75432",
                                    "last_update_date": "2023-10-28 00:05:13.787",
                                    "cumsum_total_vul": "84491",
                                    "cumsum_vul_patched": "29187"
                                },
                                {
                                    "sys_id": "WEB100847008",
                                    "owner_id": "us_10113",
                                    "last_update_date": "2023-10-28 00:05:13.787",
                                    "cumsum_total_vul": "84754",
                                    "cumsum_vul_patched": "29326"
                                },
                                {
                                    "sys_id": "WEB106910858",
                                    "owner_id": "us_68077",
                                    "last_update_date": "2023-10-28 00:05:13.787",
                                    "cumsum_total_vul": "85063",
                                    "cumsum_vul_patched": "29489"
                                },
                                {
                                    "sys_id": "WEB111043325",
                                    "owner_id": "eu_22256",
                                    "last_update_date": "2023-10-28 00:05:13.787",
                                    "cumsum_total_vul": "85458",
                                    "cumsum_vul_patched": "29619"
                                },
                                {
                                    "sys_id": "WEB037706322",
                                    "owner_id": "au_89783",
                                    "last_update_date": "2023-10-28 00:05:13.787",
                                    "cumsum_total_vul": "85785",
                                    "cumsum_vul_patched": "29756"
                                },
                                {
                                    "sys_id": "WEB015865188",
                                    "owner_id": "au_15315",
                                    "last_update_date": "2023-10-28 00:05:13.787",
                                    "cumsum_total_vul": "86067",
                                    "cumsum_vul_patched": "29882"
                                },
                                {
                                    "sys_id": "SYS112877215",
                                    "owner_id": "au_11362",
                                    "last_update_date": "2023-10-28 00:05:13.787",
                                    "cumsum_total_vul": "86377",
                                    "cumsum_vul_patched": "30018"
                                },
                                {
                                    "sys_id": "SYS116400523",
                                    "owner_id": "eu_51465",
                                    "last_update_date": "2023-10-28 00:05:13.787",
                                    "cumsum_total_vul": "86679",
                                    "cumsum_vul_patched": "30184"
                                },
                                {
                                    "sys_id": "SYS098806708",
                                    "owner_id": "us_10113",
                                    "last_update_date": "2023-10-28 00:05:13.787",
                                    "cumsum_total_vul": "86946",
                                    "cumsum_vul_patched": "30277"
                                },
                                {
                                    "sys_id": "WEB066205331",
                                    "owner_id": "eu_77467",
                                    "last_update_date": "2023-10-28 00:05:13.797",
                                    "cumsum_total_vul": "87262",
                                    "cumsum_vul_patched": "30450"
                                },
                                {
                                    "sys_id": "APP066271873",
                                    "owner_id": "us_34800",
                                    "last_update_date": "2023-10-28 00:05:13.797",
                                    "cumsum_total_vul": "87562",
                                    "cumsum_vul_patched": "30609"
                                },
                                {
                                    "sys_id": "SYS016484225",
                                    "owner_id": "au_40513",
                                    "last_update_date": "2023-10-28 00:05:13.797",
                                    "cumsum_total_vul": "87730",
                                    "cumsum_vul_patched": "30701"
                                },
                                {
                                    "sys_id": "SYS022209944",
                                    "owner_id": "au_86362",
                                    "last_update_date": "2023-10-28 00:05:13.800",
                                    "cumsum_total_vul": "88040",
                                    "cumsum_vul_patched": "30859"
                                },
                                {
                                    "sys_id": "APP102904907",
                                    "owner_id": "us_15438",
                                    "last_update_date": "2023-10-28 00:05:13.800",
                                    "cumsum_total_vul": "88362",
                                    "cumsum_vul_patched": "31023"
                                },
                                {
                                    "sys_id": "APP022405683",
                                    "owner_id": "eu_10858",
                                    "last_update_date": "2023-10-28 00:05:13.800",
                                    "cumsum_total_vul": "88671",
                                    "cumsum_vul_patched": "31165"
                                },
                                {
                                    "sys_id": "WEB042690973",
                                    "owner_id": "us_52113",
                                    "last_update_date": "2023-10-28 00:05:13.800",
                                    "cumsum_total_vul": "89102",
                                    "cumsum_vul_patched": "31337"
                                },
                                {
                                    "sys_id": "SYS121252054",
                                    "owner_id": "au_89783",
                                    "last_update_date": "2023-10-28 00:05:13.800",
                                    "cumsum_total_vul": "89409",
                                    "cumsum_vul_patched": "31499"
                                },
                                {
                                    "sys_id": "WEB099755858",
                                    "owner_id": "au_75432",
                                    "last_update_date": "2023-10-28 00:05:13.800",
                                    "cumsum_total_vul": "89715",
                                    "cumsum_vul_patched": "31652"
                                },
                                {
                                    "sys_id": "SYS129568782",
                                    "owner_id": "au_75432",
                                    "last_update_date": "2023-10-29 00:05:13.787",
                                    "cumsum_total_vul": "90010",
                                    "cumsum_vul_patched": "31787"
                                },
                                {
                                    "sys_id": "WEB064527118",
                                    "owner_id": "us_19904",
                                    "last_update_date": "2023-10-29 00:05:13.787",
                                    "cumsum_total_vul": "90349",
                                    "cumsum_vul_patched": "31919"
                                },
                                {
                                    "sys_id": "APP010532937",
                                    "owner_id": "eu_22256",
                                    "last_update_date": "2023-10-29 00:05:13.787",
                                    "cumsum_total_vul": "90627",
                                    "cumsum_vul_patched": "32030"
                                },
                                {
                                    "sys_id": "APP060229614",
                                    "owner_id": "au_25552",
                                    "last_update_date": "2023-10-29 00:05:13.787",
                                    "cumsum_total_vul": "90932",
                                    "cumsum_vul_patched": "32139"
                                },
                                {
                                    "sys_id": "SYS021838426",
                                    "owner_id": "eu_22256",
                                    "last_update_date": "2023-10-29 00:05:13.787",
                                    "cumsum_total_vul": "91247",
                                    "cumsum_vul_patched": "32280"
                                },
                                {
                                    "sys_id": "SYS019320483",
                                    "owner_id": "us_68077",
                                    "last_update_date": "2023-10-29 00:05:13.787",
                                    "cumsum_total_vul": "91545",
                                    "cumsum_vul_patched": "32408"
                                },
                                {
                                    "sys_id": "SYS045116153",
                                    "owner_id": "eu_56544",
                                    "last_update_date": "2023-10-29 00:05:13.787",
                                    "cumsum_total_vul": "91851",
                                    "cumsum_vul_patched": "32524"
                                },
                                {
                                    "sys_id": "SYS040098182",
                                    "owner_id": "au_89783",
                                    "last_update_date": "2023-10-29 00:05:13.797",
                                    "cumsum_total_vul": "92054",
                                    "cumsum_vul_patched": "32637"
                                },
                                {
                                    "sys_id": "SYS038182686",
                                    "owner_id": "us_52113",
                                    "last_update_date": "2023-10-29 00:05:13.797",
                                    "cumsum_total_vul": "92249",
                                    "cumsum_vul_patched": "32744"
                                },
                                {
                                    "sys_id": "SYS098725889",
                                    "owner_id": "au_11362",
                                    "last_update_date": "2023-10-29 00:05:13.797",
                                    "cumsum_total_vul": "92549",
                                    "cumsum_vul_patched": "32876"
                                },
                                {
                                    "sys_id": "SYS090686502",
                                    "owner_id": "au_11362",
                                    "last_update_date": "2023-10-29 00:05:13.797",
                                    "cumsum_total_vul": "92828",
                                    "cumsum_vul_patched": "33018"
                                },
                                {
                                    "sys_id": "WEB080184098",
                                    "owner_id": "au_16507",
                                    "last_update_date": "2023-10-29 00:05:13.800",
                                    "cumsum_total_vul": "93013",
                                    "cumsum_vul_patched": "33121"
                                },
                                {
                                    "sys_id": "SYS040220507",
                                    "owner_id": "au_75432",
                                    "last_update_date": "2023-10-29 00:05:13.800",
                                    "cumsum_total_vul": "93291",
                                    "cumsum_vul_patched": "33226"
                                },
                                {
                                    "sys_id": "SYS044301079",
                                    "owner_id": "us_34800",
                                    "last_update_date": "2023-10-29 00:05:13.800",
                                    "cumsum_total_vul": "93611",
                                    "cumsum_vul_patched": "33350"
                                },
                                {
                                    "sys_id": "SYS022517788",
                                    "owner_id": "eu_51465",
                                    "last_update_date": "2023-10-30 00:05:13.787",
                                    "cumsum_total_vul": "93977",
                                    "cumsum_vul_patched": "33503"
                                },
                                {
                                    "sys_id": "APP119264423",
                                    "owner_id": "au_86362",
                                    "last_update_date": "2023-10-30 00:05:13.787",
                                    "cumsum_total_vul": "94256",
                                    "cumsum_vul_patched": "33656"
                                },
                                {
                                    "sys_id": "SYS048663179",
                                    "owner_id": "au_75432",
                                    "last_update_date": "2023-10-30 00:05:13.787",
                                    "cumsum_total_vul": "94546",
                                    "cumsum_vul_patched": "33818"
                                },
                                {
                                    "sys_id": "SYS070647464",
                                    "owner_id": "us_19904",
                                    "last_update_date": "2023-10-30 00:05:13.787",
                                    "cumsum_total_vul": "94875",
                                    "cumsum_vul_patched": "33943"
                                },
                                {
                                    "sys_id": "APP022196565",
                                    "owner_id": "eu_11838",
                                    "last_update_date": "2023-10-30 00:05:13.787",
                                    "cumsum_total_vul": "95161",
                                    "cumsum_vul_patched": "34045"
                                },
                                {
                                    "sys_id": "APP114204381",
                                    "owner_id": "au_11362",
                                    "last_update_date": "2023-10-30 00:05:13.787",
                                    "cumsum_total_vul": "95564",
                                    "cumsum_vul_patched": "34218"
                                },
                                {
                                    "sys_id": "WEB069782071",
                                    "owner_id": "au_25552",
                                    "last_update_date": "2023-10-30 00:05:13.787",
                                    "cumsum_total_vul": "95959",
                                    "cumsum_vul_patched": "34395"
                                },
                                {
                                    "sys_id": "WEB084821755",
                                    "owner_id": "au_25552",
                                    "last_update_date": "2023-10-30 00:05:13.787",
                                    "cumsum_total_vul": "96249",
                                    "cumsum_vul_patched": "34540"
                                },
                                {
                                    "sys_id": "WEB109261892",
                                    "owner_id": "au_15315",
                                    "last_update_date": "2023-10-30 00:05:13.787",
                                    "cumsum_total_vul": "96526",
                                    "cumsum_vul_patched": "34681"
                                },
                                {
                                    "sys_id": "WEB118367363",
                                    "owner_id": "eu_51465",
                                    "last_update_date": "2023-10-30 00:05:13.787",
                                    "cumsum_total_vul": "96831",
                                    "cumsum_vul_patched": "34824"
                                },
                                {
                                    "sys_id": "SYS102712966",
                                    "owner_id": "us_10113",
                                    "last_update_date": "2023-10-30 00:05:13.787",
                                    "cumsum_total_vul": "97111",
                                    "cumsum_vul_patched": "34924"
                                },
                                {
                                    "sys_id": "SYS109940430",
                                    "owner_id": "eu_22256",
                                    "last_update_date": "2023-10-30 00:05:13.787",
                                    "cumsum_total_vul": "97420",
                                    "cumsum_vul_patched": "35069"
                                },
                                {
                                    "sys_id": "WEB050758182",
                                    "owner_id": "eu_56544",
                                    "last_update_date": "2023-10-30 00:05:13.787",
                                    "cumsum_total_vul": "97830",
                                    "cumsum_vul_patched": "35249"
                                },
                                {
                                    "sys_id": "WEB030163289",
                                    "owner_id": "au_11362",
                                    "last_update_date": "2023-10-30 00:05:13.787",
                                    "cumsum_total_vul": "98026",
                                    "cumsum_vul_patched": "35360"
                                },
                                {
                                    "sys_id": "APP111846386",
                                    "owner_id": "au_89783",
                                    "last_update_date": "2023-10-30 00:05:13.797",
                                    "cumsum_total_vul": "98339",
                                    "cumsum_vul_patched": "35472"
                                },
                                {
                                    "sys_id": "APP071593999",
                                    "owner_id": "us_68077",
                                    "last_update_date": "2023-10-30 00:05:13.797",
                                    "cumsum_total_vul": "98646",
                                    "cumsum_vul_patched": "35588"
                                },
                                {
                                    "sys_id": "APP016698493",
                                    "owner_id": "eu_77467",
                                    "last_update_date": "2023-10-30 00:05:13.797",
                                    "cumsum_total_vul": "98925",
                                    "cumsum_vul_patched": "35716"
                                },
                                {
                                    "sys_id": "SYS011102489",
                                    "owner_id": "au_89783",
                                    "last_update_date": "2023-10-30 00:05:13.797",
                                    "cumsum_total_vul": "99222",
                                    "cumsum_vul_patched": "35855"
                                },
                                {
                                    "sys_id": "SYS032330609",
                                    "owner_id": "eu_11838",
                                    "last_update_date": "2023-10-30 00:05:13.800",
                                    "cumsum_total_vul": "99559",
                                    "cumsum_vul_patched": "36016"
                                },
                                {
                                    "sys_id": "APP027908648",
                                    "owner_id": "au_18036",
                                    "last_update_date": "2023-10-30 00:05:13.800",
                                    "cumsum_total_vul": "99737",
                                    "cumsum_vul_patched": "36117"
                                },
                                {
                                    "sys_id": "WEB120371839",
                                    "owner_id": "au_75432",
                                    "last_update_date": "2023-10-30 00:05:13.800",
                                    "cumsum_total_vul": "100047",
                                    "cumsum_vul_patched": "36231"
                                },
                                {
                                    "sys_id": "WEB071839828",
                                    "owner_id": "us_52113",
                                    "last_update_date": "2023-10-31 00:05:13.787",
                                    "cumsum_total_vul": "100357",
                                    "cumsum_vul_patched": "36379"
                                },
                                {
                                    "sys_id": "WEB033569725",
                                    "owner_id": "au_77600",
                                    "last_update_date": "2023-10-31 00:05:13.787",
                                    "cumsum_total_vul": "100662",
                                    "cumsum_vul_patched": "36497"
                                },
                                {
                                    "sys_id": "WEB011462637",
                                    "owner_id": "au_18036",
                                    "last_update_date": "2023-10-31 00:05:13.787",
                                    "cumsum_total_vul": "100976",
                                    "cumsum_vul_patched": "36669"
                                },
                                {
                                    "sys_id": "WEB063147379",
                                    "owner_id": "eu_69372",
                                    "last_update_date": "2023-10-31 00:05:13.787",
                                    "cumsum_total_vul": "101286",
                                    "cumsum_vul_patched": "36796"
                                },
                                {
                                    "sys_id": "WEB059912165",
                                    "owner_id": "au_18036",
                                    "last_update_date": "2023-10-31 00:05:13.787",
                                    "cumsum_total_vul": "101692",
                                    "cumsum_vul_patched": "36946"
                                },
                                {
                                    "sys_id": "APP031811433",
                                    "owner_id": "us_10113",
                                    "last_update_date": "2023-10-31 00:05:13.787",
                                    "cumsum_total_vul": "101978",
                                    "cumsum_vul_patched": "37051"
                                },
                                {
                                    "sys_id": "APP013791762",
                                    "owner_id": "us_34800",
                                    "last_update_date": "2023-10-31 00:05:13.787",
                                    "cumsum_total_vul": "102274",
                                    "cumsum_vul_patched": "37181"
                                },
                                {
                                    "sys_id": "APP056547229",
                                    "owner_id": "au_40513",
                                    "last_update_date": "2023-10-31 00:05:13.787",
                                    "cumsum_total_vul": "102539",
                                    "cumsum_vul_patched": "37300"
                                },
                                {
                                    "sys_id": "APP077136952",
                                    "owner_id": "eu_77467",
                                    "last_update_date": "2023-10-31 00:05:13.787",
                                    "cumsum_total_vul": "102847",
                                    "cumsum_vul_patched": "37463"
                                },
                                {
                                    "sys_id": "APP066798259",
                                    "owner_id": "au_18036",
                                    "last_update_date": "2023-10-31 00:05:13.787",
                                    "cumsum_total_vul": "103141",
                                    "cumsum_vul_patched": "37589"
                                },
                                {
                                    "sys_id": "APP099836405",
                                    "owner_id": "us_68077",
                                    "last_update_date": "2023-10-31 00:05:13.787",
                                    "cumsum_total_vul": "103355",
                                    "cumsum_vul_patched": "37708"
                                },
                                {
                                    "sys_id": "SYS050602937",
                                    "owner_id": "eu_51465",
                                    "last_update_date": "2023-10-31 00:05:13.787",
                                    "cumsum_total_vul": "103673",
                                    "cumsum_vul_patched": "37882"
                                },
                                {
                                    "sys_id": "SYS063942370",
                                    "owner_id": "eu_11838",
                                    "last_update_date": "2023-10-31 00:05:13.797",
                                    "cumsum_total_vul": "103993",
                                    "cumsum_vul_patched": "38032"
                                },
                                {
                                    "sys_id": "APP114322250",
                                    "owner_id": "eu_11838",
                                    "last_update_date": "2023-10-31 00:05:13.797",
                                    "cumsum_total_vul": "104289",
                                    "cumsum_vul_patched": "38191"
                                },
                                {
                                    "sys_id": "SYS101357759",
                                    "owner_id": "au_18036",
                                    "last_update_date": "2023-10-31 00:05:13.797",
                                    "cumsum_total_vul": "104620",
                                    "cumsum_vul_patched": "38336"
                                },
                                {
                                    "sys_id": "WEB075182759",
                                    "owner_id": "us_10113",
                                    "last_update_date": "2023-10-31 00:05:13.797",
                                    "cumsum_total_vul": "104930",
                                    "cumsum_vul_patched": "38506"
                                },
                                {
                                    "sys_id": "WEB112256991",
                                    "owner_id": "eu_69372",
                                    "last_update_date": "2023-10-31 00:05:13.797",
                                    "cumsum_total_vul": "105209",
                                    "cumsum_vul_patched": "38637"
                                },
                                {
                                    "sys_id": "WEB114384049",
                                    "owner_id": "au_25552",
                                    "last_update_date": "2023-10-31 00:05:13.800",
                                    "cumsum_total_vul": "105510",
                                    "cumsum_vul_patched": "38790"
                                },
                                {
                                    "sys_id": "WEB074240087",
                                    "owner_id": "us_10113",
                                    "last_update_date": "2023-10-31 00:05:13.800",
                                    "cumsum_total_vul": "105798",
                                    "cumsum_vul_patched": "38925"
                                },
                                {
                                    "sys_id": "WEB088097336",
                                    "owner_id": "au_11362",
                                    "last_update_date": "2023-10-31 00:05:13.800",
                                    "cumsum_total_vul": "106120",
                                    "cumsum_vul_patched": "39092"
                                },
                                {
                                    "sys_id": "APP019792516",
                                    "owner_id": "eu_22256",
                                    "last_update_date": "2023-10-31 00:05:13.800",
                                    "cumsum_total_vul": "106404",
                                    "cumsum_vul_patched": "39202"
                                },
                                {
                                    "sys_id": "APP036137507",
                                    "owner_id": "eu_22256",
                                    "last_update_date": "2023-11-01 00:05:13.787",
                                    "cumsum_total_vul": "106712",
                                    "cumsum_vul_patched": "39356"
                                },
                                {
                                    "sys_id": "APP042858841",
                                    "owner_id": "au_25552",
                                    "last_update_date": "2023-11-01 00:05:13.787",
                                    "cumsum_total_vul": "106916",
                                    "cumsum_vul_patched": "39470"
                                },
                                {
                                    "sys_id": "APP106966417",
                                    "owner_id": "au_89783",
                                    "last_update_date": "2023-11-01 00:05:13.787",
                                    "cumsum_total_vul": "107187",
                                    "cumsum_vul_patched": "39619"
                                },
                                {
                                    "sys_id": "SYS037204659",
                                    "owner_id": "eu_56544",
                                    "last_update_date": "2023-11-01 00:05:13.787",
                                    "cumsum_total_vul": "107517",
                                    "cumsum_vul_patched": "39754"
                                },
                                {
                                    "sys_id": "SYS034493531",
                                    "owner_id": "au_40513",
                                    "last_update_date": "2023-11-01 00:05:13.787",
                                    "cumsum_total_vul": "107768",
                                    "cumsum_vul_patched": "39861"
                                },
                                {
                                    "sys_id": "WEB077661825",
                                    "owner_id": "au_18036",
                                    "last_update_date": "2023-11-01 00:05:13.787",
                                    "cumsum_total_vul": "108075",
                                    "cumsum_vul_patched": "40017"
                                },
                                {
                                    "sys_id": "WEB098600849",
                                    "owner_id": "eu_10858",
                                    "last_update_date": "2023-11-01 00:05:13.787",
                                    "cumsum_total_vul": "108377",
                                    "cumsum_vul_patched": "40137"
                                },
                                {
                                    "sys_id": "WEB108262041",
                                    "owner_id": "au_25552",
                                    "last_update_date": "2023-11-01 00:05:13.787",
                                    "cumsum_total_vul": "108722",
                                    "cumsum_vul_patched": "40340"
                                },
                                {
                                    "sys_id": "WEB013930879",
                                    "owner_id": "us_10113",
                                    "last_update_date": "2023-11-01 00:05:13.787",
                                    "cumsum_total_vul": "109043",
                                    "cumsum_vul_patched": "40481"
                                },
                                {
                                    "sys_id": "SYS022908782",
                                    "owner_id": "au_15315",
                                    "last_update_date": "2023-11-01 00:05:13.797",
                                    "cumsum_total_vul": "109333",
                                    "cumsum_vul_patched": "40631"
                                },
                                {
                                    "sys_id": "APP116650616",
                                    "owner_id": "us_52113",
                                    "last_update_date": "2023-11-01 00:05:13.797",
                                    "cumsum_total_vul": "109625",
                                    "cumsum_vul_patched": "40741"
                                },
                                {
                                    "sys_id": "SYS086365565",
                                    "owner_id": "au_86362",
                                    "last_update_date": "2023-11-01 00:05:13.797",
                                    "cumsum_total_vul": "109925",
                                    "cumsum_vul_patched": "40876"
                                },
                                {
                                    "sys_id": "SYS087547816",
                                    "owner_id": "us_19904",
                                    "last_update_date": "2023-11-01 00:05:13.797",
                                    "cumsum_total_vul": "110232",
                                    "cumsum_vul_patched": "41011"
                                },
                                {
                                    "sys_id": "APP021435191",
                                    "owner_id": "au_11362",
                                    "last_update_date": "2023-11-01 00:05:13.797",
                                    "cumsum_total_vul": "110566",
                                    "cumsum_vul_patched": "41201"
                                },
                                {
                                    "sys_id": "APP098039559",
                                    "owner_id": "au_18036",
                                    "last_update_date": "2023-11-01 00:05:13.800",
                                    "cumsum_total_vul": "110859",
                                    "cumsum_vul_patched": "41315"
                                },
                                {
                                    "sys_id": "APP102222061",
                                    "owner_id": "au_77600",
                                    "last_update_date": "2023-11-01 00:05:13.800",
                                    "cumsum_total_vul": "111149",
                                    "cumsum_vul_patched": "41465"
                                },
                                {
                                    "sys_id": "SYS059465191",
                                    "owner_id": "au_86362",
                                    "last_update_date": "2023-11-01 00:05:13.800",
                                    "cumsum_total_vul": "111437",
                                    "cumsum_vul_patched": "41585"
                                },
                                {
                                    "sys_id": "SYS058421990",
                                    "owner_id": "us_52113",
                                    "last_update_date": "2023-11-02 00:05:13.787",
                                    "cumsum_total_vul": "111768",
                                    "cumsum_vul_patched": "41760"
                                },
                                {
                                    "sys_id": "SYS047556465",
                                    "owner_id": "au_77600",
                                    "last_update_date": "2023-11-02 00:05:13.787",
                                    "cumsum_total_vul": "112086",
                                    "cumsum_vul_patched": "41919"
                                },
                                {
                                    "sys_id": "APP120607150",
                                    "owner_id": "au_77600",
                                    "last_update_date": "2023-11-02 00:05:13.787",
                                    "cumsum_total_vul": "112406",
                                    "cumsum_vul_patched": "42088"
                                },
                                {
                                    "sys_id": "APP126188929",
                                    "owner_id": "au_18036",
                                    "last_update_date": "2023-11-02 00:05:13.787",
                                    "cumsum_total_vul": "112712",
                                    "cumsum_vul_patched": "42250"
                                },
                                {
                                    "sys_id": "SYS026136961",
                                    "owner_id": "eu_69372",
                                    "last_update_date": "2023-11-02 00:05:13.787",
                                    "cumsum_total_vul": "113024",
                                    "cumsum_vul_patched": "42437"
                                },
                                {
                                    "sys_id": "APP067473382",
                                    "owner_id": "au_86362",
                                    "last_update_date": "2023-11-02 00:05:13.787",
                                    "cumsum_total_vul": "113363",
                                    "cumsum_vul_patched": "42579"
                                },
                                {
                                    "sys_id": "APP071849591",
                                    "owner_id": "au_11362",
                                    "last_update_date": "2023-11-02 00:05:13.787",
                                    "cumsum_total_vul": "113752",
                                    "cumsum_vul_patched": "42738"
                                },
                                {
                                    "sys_id": "APP062892269",
                                    "owner_id": "eu_77467",
                                    "last_update_date": "2023-11-02 00:05:13.787",
                                    "cumsum_total_vul": "114076",
                                    "cumsum_vul_patched": "42883"
                                },
                                {
                                    "sys_id": "APP057154378",
                                    "owner_id": "au_40513",
                                    "last_update_date": "2023-11-02 00:05:13.787",
                                    "cumsum_total_vul": "114262",
                                    "cumsum_vul_patched": "42992"
                                },
                                {
                                    "sys_id": "WEB011398374",
                                    "owner_id": "au_16507",
                                    "last_update_date": "2023-11-02 00:05:13.787",
                                    "cumsum_total_vul": "114531",
                                    "cumsum_vul_patched": "43131"
                                },
                                {
                                    "sys_id": "SYS108776948",
                                    "owner_id": "us_68077",
                                    "last_update_date": "2023-11-02 00:05:13.787",
                                    "cumsum_total_vul": "114721",
                                    "cumsum_vul_patched": "43243"
                                },
                                {
                                    "sys_id": "WEB052102493",
                                    "owner_id": "eu_51465",
                                    "last_update_date": "2023-11-02 00:05:13.787",
                                    "cumsum_total_vul": "115002",
                                    "cumsum_vul_patched": "43408"
                                },
                                {
                                    "sys_id": "WEB035135526",
                                    "owner_id": "au_89783",
                                    "last_update_date": "2023-11-02 00:05:13.787",
                                    "cumsum_total_vul": "115226",
                                    "cumsum_vul_patched": "43542"
                                },
                                {
                                    "sys_id": "WEB077736022",
                                    "owner_id": "eu_11838",
                                    "last_update_date": "2023-11-02 00:05:13.787",
                                    "cumsum_total_vul": "115512",
                                    "cumsum_vul_patched": "43664"
                                },
                                {
                                    "sys_id": "WEB065942844",
                                    "owner_id": "us_19904",
                                    "last_update_date": "2023-11-02 00:05:13.797",
                                    "cumsum_total_vul": "115769",
                                    "cumsum_vul_patched": "43782"
                                },
                                {
                                    "sys_id": "APP031228165",
                                    "owner_id": "au_18036",
                                    "last_update_date": "2023-11-02 00:05:13.797",
                                    "cumsum_total_vul": "116089",
                                    "cumsum_vul_patched": "43906"
                                },
                                {
                                    "sys_id": "APP070127968",
                                    "owner_id": "eu_10858",
                                    "last_update_date": "2023-11-02 00:05:13.797",
                                    "cumsum_total_vul": "116381",
                                    "cumsum_vul_patched": "44057"
                                },
                                {
                                    "sys_id": "APP071117809",
                                    "owner_id": "eu_77467",
                                    "last_update_date": "2023-11-02 00:05:13.800",
                                    "cumsum_total_vul": "116689",
                                    "cumsum_vul_patched": "44238"
                                },
                                {
                                    "sys_id": "WEB016048056",
                                    "owner_id": "au_77600",
                                    "last_update_date": "2023-11-02 00:05:13.800",
                                    "cumsum_total_vul": "116885",
                                    "cumsum_vul_patched": "44353"
                                },
                                {
                                    "sys_id": "SYS128266577",
                                    "owner_id": "au_75432",
                                    "last_update_date": "2023-11-02 00:05:13.800",
                                    "cumsum_total_vul": "117202",
                                    "cumsum_vul_patched": "44543"
                                },
                                {
                                    "sys_id": "SYS117181294",
                                    "owner_id": "au_77600",
                                    "last_update_date": "2023-11-02 00:05:13.800",
                                    "cumsum_total_vul": "117488",
                                    "cumsum_vul_patched": "44674"
                                },
                                {
                                    "sys_id": "SYS127788920",
                                    "owner_id": "au_89783",
                                    "last_update_date": "2023-11-03 00:05:13.787",
                                    "cumsum_total_vul": "117808",
                                    "cumsum_vul_patched": "44818"
                                },
                                {
                                    "sys_id": "SYS103327279",
                                    "owner_id": "au_75432",
                                    "last_update_date": "2023-11-03 00:05:13.787",
                                    "cumsum_total_vul": "118079",
                                    "cumsum_vul_patched": "44931"
                                },
                                {
                                    "sys_id": "SYS096800023",
                                    "owner_id": "au_15315",
                                    "last_update_date": "2023-11-03 00:05:13.787",
                                    "cumsum_total_vul": "118366",
                                    "cumsum_vul_patched": "45088"
                                },
                                {
                                    "sys_id": "WEB032332063",
                                    "owner_id": "us_57346",
                                    "last_update_date": "2023-11-03 00:05:13.787",
                                    "cumsum_total_vul": "118685",
                                    "cumsum_vul_patched": "45218"
                                },
                                {
                                    "sys_id": "WEB044944669",
                                    "owner_id": "us_34800",
                                    "last_update_date": "2023-11-03 00:05:13.787",
                                    "cumsum_total_vul": "118937",
                                    "cumsum_vul_patched": "45356"
                                },
                                {
                                    "sys_id": "WEB093863791",
                                    "owner_id": "eu_22256",
                                    "last_update_date": "2023-11-03 00:05:13.787",
                                    "cumsum_total_vul": "119152",
                                    "cumsum_vul_patched": "45476"
                                },
                                {
                                    "sys_id": "WEB100100169",
                                    "owner_id": "au_40513",
                                    "last_update_date": "2023-11-03 00:05:13.787",
                                    "cumsum_total_vul": "119353",
                                    "cumsum_vul_patched": "45588"
                                },
                                {
                                    "sys_id": "WEB114310275",
                                    "owner_id": "us_52113",
                                    "last_update_date": "2023-11-03 00:05:13.787",
                                    "cumsum_total_vul": "119640",
                                    "cumsum_vul_patched": "45734"
                                },
                                {
                                    "sys_id": "APP015648143",
                                    "owner_id": "us_19904",
                                    "last_update_date": "2023-11-03 00:05:13.787",
                                    "cumsum_total_vul": "120042",
                                    "cumsum_vul_patched": "45902"
                                },
                                {
                                    "sys_id": "APP048320603",
                                    "owner_id": "us_52113",
                                    "last_update_date": "2023-11-03 00:05:13.787",
                                    "cumsum_total_vul": "120242",
                                    "cumsum_vul_patched": "46017"
                                },
                                {
                                    "sys_id": "SYS017925246",
                                    "owner_id": "us_15438",
                                    "last_update_date": "2023-11-03 00:05:13.787",
                                    "cumsum_total_vul": "120565",
                                    "cumsum_vul_patched": "46181"
                                },
                                {
                                    "sys_id": "SYS053135184",
                                    "owner_id": "eu_77467",
                                    "last_update_date": "2023-11-03 00:05:13.787",
                                    "cumsum_total_vul": "120872",
                                    "cumsum_vul_patched": "46340"
                                },
                                {
                                    "sys_id": "SYS054720996",
                                    "owner_id": "au_89783",
                                    "last_update_date": "2023-11-03 00:05:13.787",
                                    "cumsum_total_vul": "121180",
                                    "cumsum_vul_patched": "46481"
                                },
                                {
                                    "sys_id": "APP096120758",
                                    "owner_id": "us_19904",
                                    "last_update_date": "2023-11-03 00:05:13.797",
                                    "cumsum_total_vul": "121447",
                                    "cumsum_vul_patched": "46622"
                                },
                                {
                                    "sys_id": "WEB084495628",
                                    "owner_id": "au_11362",
                                    "last_update_date": "2023-11-03 00:05:13.797",
                                    "cumsum_total_vul": "121762",
                                    "cumsum_vul_patched": "46788"
                                },
                                {
                                    "sys_id": "SYS095677008",
                                    "owner_id": "us_57346",
                                    "last_update_date": "2023-11-03 00:05:13.797",
                                    "cumsum_total_vul": "122033",
                                    "cumsum_vul_patched": "46942"
                                },
                                {
                                    "sys_id": "SYS104278819",
                                    "owner_id": "au_86362",
                                    "last_update_date": "2023-11-03 00:05:13.797",
                                    "cumsum_total_vul": "122326",
                                    "cumsum_vul_patched": "47106"
                                },
                                {
                                    "sys_id": "SYS105654429",
                                    "owner_id": "eu_22256",
                                    "last_update_date": "2023-11-03 00:05:13.800",
                                    "cumsum_total_vul": "122626",
                                    "cumsum_vul_patched": "47259"
                                },
                                {
                                    "sys_id": "WEB086004907",
                                    "owner_id": "eu_10858",
                                    "last_update_date": "2023-11-03 00:05:13.800",
                                    "cumsum_total_vul": "122946",
                                    "cumsum_vul_patched": "47435"
                                },
                                {
                                    "sys_id": "WEB129669584",
                                    "owner_id": "au_25552",
                                    "last_update_date": "2023-11-03 00:05:13.800",
                                    "cumsum_total_vul": "123265",
                                    "cumsum_vul_patched": "47572"
                                },
                                {
                                    "sys_id": "APP089757361",
                                    "owner_id": "us_57346",
                                    "last_update_date": "2023-11-03 00:05:13.800",
                                    "cumsum_total_vul": "123463",
                                    "cumsum_vul_patched": "47692"
                                },
                                {
                                    "sys_id": "APP117170580",
                                    "owner_id": "us_68077",
                                    "last_update_date": "2023-11-03 00:05:13.800",
                                    "cumsum_total_vul": "123665",
                                    "cumsum_vul_patched": "47811"
                                },
                                {
                                    "sys_id": "SYS019539627",
                                    "owner_id": "au_40513",
                                    "last_update_date": "2023-11-04 00:05:13.787",
                                    "cumsum_total_vul": "123964",
                                    "cumsum_vul_patched": "47984"
                                },
                                {
                                    "sys_id": "SYS052067884",
                                    "owner_id": "us_15438",
                                    "last_update_date": "2023-11-04 00:05:13.787",
                                    "cumsum_total_vul": "124156",
                                    "cumsum_vul_patched": "48099"
                                },
                                {
                                    "sys_id": "APP089717754",
                                    "owner_id": "eu_10858",
                                    "last_update_date": "2023-11-04 00:05:13.787",
                                    "cumsum_total_vul": "124550",
                                    "cumsum_vul_patched": "48264"
                                },
                                {
                                    "sys_id": "APP094980848",
                                    "owner_id": "au_89783",
                                    "last_update_date": "2023-11-04 00:05:13.787",
                                    "cumsum_total_vul": "124850",
                                    "cumsum_vul_patched": "48390"
                                },
                                {
                                    "sys_id": "APP104647437",
                                    "owner_id": "us_52113",
                                    "last_update_date": "2023-11-04 00:05:13.787",
                                    "cumsum_total_vul": "125147",
                                    "cumsum_vul_patched": "48532"
                                },
                                {
                                    "sys_id": "SYS101171825",
                                    "owner_id": "au_75432",
                                    "last_update_date": "2023-11-04 00:05:13.787",
                                    "cumsum_total_vul": "125361",
                                    "cumsum_vul_patched": "48653"
                                },
                                {
                                    "sys_id": "SYS099413433",
                                    "owner_id": "au_18036",
                                    "last_update_date": "2023-11-04 00:05:13.787",
                                    "cumsum_total_vul": "125662",
                                    "cumsum_vul_patched": "48818"
                                },
                                {
                                    "sys_id": "SYS094969652",
                                    "owner_id": "au_16507",
                                    "last_update_date": "2023-11-04 00:05:13.787",
                                    "cumsum_total_vul": "125956",
                                    "cumsum_vul_patched": "48947"
                                },
                                {
                                    "sys_id": "SYS123149194",
                                    "owner_id": "us_68077",
                                    "last_update_date": "2023-11-04 00:05:13.787",
                                    "cumsum_total_vul": "126211",
                                    "cumsum_vul_patched": "49066"
                                },
                                {
                                    "sys_id": "SYS113618321",
                                    "owner_id": "au_16507",
                                    "last_update_date": "2023-11-04 00:05:13.787",
                                    "cumsum_total_vul": "126496",
                                    "cumsum_vul_patched": "49197"
                                },
                                {
                                    "sys_id": "WEB045797271",
                                    "owner_id": "eu_51465",
                                    "last_update_date": "2023-11-04 00:05:13.787",
                                    "cumsum_total_vul": "126671",
                                    "cumsum_vul_patched": "49300"
                                },
                                {
                                    "sys_id": "WEB041541007",
                                    "owner_id": "us_57346",
                                    "last_update_date": "2023-11-04 00:05:13.787",
                                    "cumsum_total_vul": "126965",
                                    "cumsum_vul_patched": "49435"
                                },
                                {
                                    "sys_id": "WEB042214184",
                                    "owner_id": "eu_10858",
                                    "last_update_date": "2023-11-04 00:05:13.787",
                                    "cumsum_total_vul": "127250",
                                    "cumsum_vul_patched": "49566"
                                },
                                {
                                    "sys_id": "WEB053842794",
                                    "owner_id": "au_75432",
                                    "last_update_date": "2023-11-04 00:05:13.787",
                                    "cumsum_total_vul": "127557",
                                    "cumsum_vul_patched": "49731"
                                },
                                {
                                    "sys_id": "WEB031704304",
                                    "owner_id": "eu_69372",
                                    "last_update_date": "2023-11-04 00:05:13.787",
                                    "cumsum_total_vul": "127854",
                                    "cumsum_vul_patched": "49870"
                                },
                                {
                                    "sys_id": "WEB052869901",
                                    "owner_id": "eu_77467",
                                    "last_update_date": "2023-11-04 00:05:13.797",
                                    "cumsum_total_vul": "128059",
                                    "cumsum_vul_patched": "49988"
                                },
                                {
                                    "sys_id": "SYS099061209",
                                    "owner_id": "au_16507",
                                    "last_update_date": "2023-11-04 00:05:13.797",
                                    "cumsum_total_vul": "128351",
                                    "cumsum_vul_patched": "50131"
                                },
                                {
                                    "sys_id": "APP032702677",
                                    "owner_id": "au_11362",
                                    "last_update_date": "2023-11-04 00:05:13.797",
                                    "cumsum_total_vul": "128654",
                                    "cumsum_vul_patched": "50297"
                                },
                                {
                                    "sys_id": "APP031717472",
                                    "owner_id": "au_40513",
                                    "last_update_date": "2023-11-04 00:05:13.800",
                                    "cumsum_total_vul": "128817",
                                    "cumsum_vul_patched": "50391"
                                },
                                {
                                    "sys_id": "APP026814720",
                                    "owner_id": "eu_56544",
                                    "last_update_date": "2023-11-04 00:05:13.800",
                                    "cumsum_total_vul": "129000",
                                    "cumsum_vul_patched": "50493"
                                },
                                {
                                    "sys_id": "APP012793716",
                                    "owner_id": "eu_77467",
                                    "last_update_date": "2023-11-04 00:05:13.800",
                                    "cumsum_total_vul": "129196",
                                    "cumsum_vul_patched": "50608"
                                },
                                {
                                    "sys_id": "SYS046462259",
                                    "owner_id": "us_57346",
                                    "last_update_date": "2023-11-04 00:05:13.800",
                                    "cumsum_total_vul": "129522",
                                    "cumsum_vul_patched": "50757"
                                },
                                {
                                    "sys_id": "SYS073266347",
                                    "owner_id": "au_86362",
                                    "last_update_date": "2023-11-04 00:05:13.800",
                                    "cumsum_total_vul": "129730",
                                    "cumsum_vul_patched": "50881"
                                },
                                {
                                    "sys_id": "WEB024586830",
                                    "owner_id": "eu_77467",
                                    "last_update_date": "2023-11-04 00:05:13.800",
                                    "cumsum_total_vul": "130017",
                                    "cumsum_vul_patched": "51061"
                                },
                                {
                                    "sys_id": "WEB129735023",
                                    "owner_id": "eu_69372",
                                    "last_update_date": "2023-11-04 00:05:13.800",
                                    "cumsum_total_vul": "130270",
                                    "cumsum_vul_patched": "51192"
                                },
                                {
                                    "sys_id": "WEB079296625",
                                    "owner_id": "us_10113",
                                    "last_update_date": "2023-11-05 00:05:13.787",
                                    "cumsum_total_vul": "130532",
                                    "cumsum_vul_patched": "51330"
                                },
                                {
                                    "sys_id": "WEB070256347",
                                    "owner_id": "eu_11838",
                                    "last_update_date": "2023-11-05 00:05:13.787",
                                    "cumsum_total_vul": "130828",
                                    "cumsum_vul_patched": "51510"
                                },
                                {
                                    "sys_id": "WEB111238282",
                                    "owner_id": "eu_51465",
                                    "last_update_date": "2023-11-05 00:05:13.787",
                                    "cumsum_total_vul": "131124",
                                    "cumsum_vul_patched": "51678"
                                },
                                {
                                    "sys_id": "WEB049502404",
                                    "owner_id": "au_11362",
                                    "last_update_date": "2023-11-05 00:05:13.787",
                                    "cumsum_total_vul": "131325",
                                    "cumsum_vul_patched": "51790"
                                },
                                {
                                    "sys_id": "WEB056786695",
                                    "owner_id": "au_11362",
                                    "last_update_date": "2023-11-05 00:05:13.787",
                                    "cumsum_total_vul": "131625",
                                    "cumsum_vul_patched": "51943"
                                },
                                {
                                    "sys_id": "SYS121168685",
                                    "owner_id": "au_15315",
                                    "last_update_date": "2023-11-05 00:05:13.787",
                                    "cumsum_total_vul": "131925",
                                    "cumsum_vul_patched": "52111"
                                },
                                {
                                    "sys_id": "SYS125775906",
                                    "owner_id": "eu_10858",
                                    "last_update_date": "2023-11-05 00:05:13.787",
                                    "cumsum_total_vul": "132136",
                                    "cumsum_vul_patched": "52233"
                                },
                                {
                                    "sys_id": "SYS075180175",
                                    "owner_id": "au_89783",
                                    "last_update_date": "2023-11-05 00:05:13.787",
                                    "cumsum_total_vul": "132578",
                                    "cumsum_vul_patched": "52423"
                                },
                                {
                                    "sys_id": "SYS064870991",
                                    "owner_id": "us_10113",
                                    "last_update_date": "2023-11-05 00:05:13.787",
                                    "cumsum_total_vul": "132858",
                                    "cumsum_vul_patched": "52591"
                                },
                                {
                                    "sys_id": "SYS019275570",
                                    "owner_id": "au_75432",
                                    "last_update_date": "2023-11-05 00:05:13.787",
                                    "cumsum_total_vul": "133042",
                                    "cumsum_vul_patched": "52699"
                                },
                                {
                                    "sys_id": "SYS043346802",
                                    "owner_id": "au_18036",
                                    "last_update_date": "2023-11-05 00:05:13.787",
                                    "cumsum_total_vul": "133354",
                                    "cumsum_vul_patched": "52886"
                                },
                                {
                                    "sys_id": "APP033705893",
                                    "owner_id": "au_11362",
                                    "last_update_date": "2023-11-05 00:05:13.787",
                                    "cumsum_total_vul": "133551",
                                    "cumsum_vul_patched": "53004"
                                },
                                {
                                    "sys_id": "APP112266091",
                                    "owner_id": "au_40513",
                                    "last_update_date": "2023-11-05 00:05:13.787",
                                    "cumsum_total_vul": "133862",
                                    "cumsum_vul_patched": "53175"
                                },
                                {
                                    "sys_id": "APP114965138",
                                    "owner_id": "au_18036",
                                    "last_update_date": "2023-11-05 00:05:13.787",
                                    "cumsum_total_vul": "134132",
                                    "cumsum_vul_patched": "53318"
                                },
                                {
                                    "sys_id": "APP095161226",
                                    "owner_id": "eu_23263",
                                    "last_update_date": "2023-11-05 00:05:13.787",
                                    "cumsum_total_vul": "134334",
                                    "cumsum_vul_patched": "53441"
                                },
                                {
                                    "sys_id": "APP066924599",
                                    "owner_id": "au_40513",
                                    "last_update_date": "2023-11-05 00:05:13.787",
                                    "cumsum_total_vul": "134640",
                                    "cumsum_vul_patched": "53624"
                                },
                                {
                                    "sys_id": "SYS090919017",
                                    "owner_id": "eu_77467",
                                    "last_update_date": "2023-11-05 00:05:13.797",
                                    "cumsum_total_vul": "134848",
                                    "cumsum_vul_patched": "53757"
                                },
                                {
                                    "sys_id": "WEB108515837",
                                    "owner_id": "au_89783",
                                    "last_update_date": "2023-11-05 00:05:13.797",
                                    "cumsum_total_vul": "135117",
                                    "cumsum_vul_patched": "53872"
                                },
                                {
                                    "sys_id": "WEB118042044",
                                    "owner_id": "us_10113",
                                    "last_update_date": "2023-11-05 00:05:13.800",
                                    "cumsum_total_vul": "135422",
                                    "cumsum_vul_patched": "54030"
                                },
                                {
                                    "sys_id": "SYS109758172",
                                    "owner_id": "au_77600",
                                    "last_update_date": "2023-11-05 00:05:13.800",
                                    "cumsum_total_vul": "135754",
                                    "cumsum_vul_patched": "54222"
                                },
                                {
                                    "sys_id": "WEB012727850",
                                    "owner_id": "us_57346",
                                    "last_update_date": "2023-11-05 00:05:13.800",
                                    "cumsum_total_vul": "136044",
                                    "cumsum_vul_patched": "54384"
                                },
                                {
                                    "sys_id": "WEB053533443",
                                    "owner_id": "au_75432",
                                    "last_update_date": "2023-11-05 00:05:13.800",
                                    "cumsum_total_vul": "136346",
                                    "cumsum_vul_patched": "54519"
                                },
                                {
                                    "sys_id": "APP092761535",
                                    "owner_id": "us_19904",
                                    "last_update_date": "2023-11-05 00:05:13.800",
                                    "cumsum_total_vul": "136586",
                                    "cumsum_vul_patched": "54655"
                                },
                                {
                                    "sys_id": "APP114490580",
                                    "owner_id": "au_40513",
                                    "last_update_date": "2023-11-06 00:05:13.787",
                                    "cumsum_total_vul": "136779",
                                    "cumsum_vul_patched": "54761"
                                },
                                {
                                    "sys_id": "APP111241185",
                                    "owner_id": "eu_77467",
                                    "last_update_date": "2023-11-06 00:05:13.787",
                                    "cumsum_total_vul": "136973",
                                    "cumsum_vul_patched": "54875"
                                },
                                {
                                    "sys_id": "APP025921245",
                                    "owner_id": "au_25552",
                                    "last_update_date": "2023-11-06 00:05:13.787",
                                    "cumsum_total_vul": "137150",
                                    "cumsum_vul_patched": "54981"
                                },
                                {
                                    "sys_id": "APP013311906",
                                    "owner_id": "au_86362",
                                    "last_update_date": "2023-11-06 00:05:13.787",
                                    "cumsum_total_vul": "137475",
                                    "cumsum_vul_patched": "55159"
                                },
                                {
                                    "sys_id": "SYS015891136",
                                    "owner_id": "au_77600",
                                    "last_update_date": "2023-11-06 00:05:13.787",
                                    "cumsum_total_vul": "137651",
                                    "cumsum_vul_patched": "55271"
                                },
                                {
                                    "sys_id": "SYS047416084",
                                    "owner_id": "eu_56544",
                                    "last_update_date": "2023-11-06 00:05:13.787",
                                    "cumsum_total_vul": "137919",
                                    "cumsum_vul_patched": "55410"
                                },
                                {
                                    "sys_id": "SYS050265426",
                                    "owner_id": "au_77600",
                                    "last_update_date": "2023-11-06 00:05:13.787",
                                    "cumsum_total_vul": "138222",
                                    "cumsum_vul_patched": "55555"
                                },
                                {
                                    "sys_id": "SYS071497846",
                                    "owner_id": "au_16507",
                                    "last_update_date": "2023-11-06 00:05:13.787",
                                    "cumsum_total_vul": "138419",
                                    "cumsum_vul_patched": "55665"
                                },
                                {
                                    "sys_id": "SYS089087400",
                                    "owner_id": "au_89783",
                                    "last_update_date": "2023-11-06 00:05:13.787",
                                    "cumsum_total_vul": "138728",
                                    "cumsum_vul_patched": "55859"
                                },
                                {
                                    "sys_id": "SYS086617718",
                                    "owner_id": "au_15315",
                                    "last_update_date": "2023-11-06 00:05:13.787",
                                    "cumsum_total_vul": "139024",
                                    "cumsum_vul_patched": "55986"
                                },
                                {
                                    "sys_id": "SYS118380654",
                                    "owner_id": "eu_56544",
                                    "last_update_date": "2023-11-06 00:05:13.787",
                                    "cumsum_total_vul": "139249",
                                    "cumsum_vul_patched": "56114"
                                },
                                {
                                    "sys_id": "APP027703885",
                                    "owner_id": "au_16507",
                                    "last_update_date": "2023-11-06 00:05:13.800",
                                    "cumsum_total_vul": "139467",
                                    "cumsum_vul_patched": "56238"
                                },
                                {
                                    "sys_id": "APP109939331",
                                    "owner_id": "eu_10858",
                                    "last_update_date": "2023-11-06 00:05:13.800",
                                    "cumsum_total_vul": "139695",
                                    "cumsum_vul_patched": "56379"
                                },
                                {
                                    "sys_id": "APP096131718",
                                    "owner_id": "eu_23263",
                                    "last_update_date": "2023-11-07 00:05:13.787",
                                    "cumsum_total_vul": "139989",
                                    "cumsum_vul_patched": "56558"
                                },
                                {
                                    "sys_id": "APP045403316",
                                    "owner_id": "us_68077",
                                    "last_update_date": "2023-11-07 00:05:13.787",
                                    "cumsum_total_vul": "140266",
                                    "cumsum_vul_patched": "56688"
                                },
                                {
                                    "sys_id": "SYS088759852",
                                    "owner_id": "us_57346",
                                    "last_update_date": "2023-11-07 00:05:13.787",
                                    "cumsum_total_vul": "140458",
                                    "cumsum_vul_patched": "56795"
                                },
                                {
                                    "sys_id": "SYS050537730",
                                    "owner_id": "us_15438",
                                    "last_update_date": "2023-11-07 00:05:13.787",
                                    "cumsum_total_vul": "140763",
                                    "cumsum_vul_patched": "56953"
                                },
                                {
                                    "sys_id": "SYS051318699",
                                    "owner_id": "au_86362",
                                    "last_update_date": "2023-11-07 00:05:13.787",
                                    "cumsum_total_vul": "140923",
                                    "cumsum_vul_patched": "57049"
                                },
                                {
                                    "sys_id": "SYS016987201",
                                    "owner_id": "eu_10858",
                                    "last_update_date": "2023-11-07 00:05:13.787",
                                    "cumsum_total_vul": "141188",
                                    "cumsum_vul_patched": "57194"
                                },
                                {
                                    "sys_id": "SYS011399043",
                                    "owner_id": "au_75432",
                                    "last_update_date": "2023-11-07 00:05:13.787",
                                    "cumsum_total_vul": "141498",
                                    "cumsum_vul_patched": "57380"
                                },
                                {
                                    "sys_id": "SYS039042288",
                                    "owner_id": "eu_22256",
                                    "last_update_date": "2023-11-07 00:05:13.787",
                                    "cumsum_total_vul": "141772",
                                    "cumsum_vul_patched": "57511"
                                },
                                {
                                    "sys_id": "SYS036841453",
                                    "owner_id": "eu_77467",
                                    "last_update_date": "2023-11-07 00:05:13.787",
                                    "cumsum_total_vul": "142072",
                                    "cumsum_vul_patched": "57691"
                                },
                                {
                                    "sys_id": "WEB027016608",
                                    "owner_id": "us_68077",
                                    "last_update_date": "2023-11-07 00:05:13.787",
                                    "cumsum_total_vul": "142361",
                                    "cumsum_vul_patched": "57861"
                                },
                                {
                                    "sys_id": "SYS064496472",
                                    "owner_id": "au_89783",
                                    "last_update_date": "2023-11-07 00:05:13.797",
                                    "cumsum_total_vul": "142663",
                                    "cumsum_vul_patched": "58005"
                                },
                                {
                                    "sys_id": "APP120392407",
                                    "owner_id": "eu_22256",
                                    "last_update_date": "2023-11-07 00:05:13.800",
                                    "cumsum_total_vul": "142988",
                                    "cumsum_vul_patched": "58200"
                                },
                                {
                                    "sys_id": "APP023863389",
                                    "owner_id": "eu_10858",
                                    "last_update_date": "2023-11-07 00:05:13.800",
                                    "cumsum_total_vul": "143146",
                                    "cumsum_vul_patched": "58294"
                                },
                                {
                                    "sys_id": "WEB070843255",
                                    "owner_id": "us_10113",
                                    "last_update_date": "2023-11-07 00:05:13.800",
                                    "cumsum_total_vul": "143467",
                                    "cumsum_vul_patched": "58464"
                                },
                                {
                                    "sys_id": "WEB080831723",
                                    "owner_id": "us_57346",
                                    "last_update_date": "2023-11-08 00:05:13.787",
                                    "cumsum_total_vul": "143749",
                                    "cumsum_vul_patched": "58599"
                                },
                                {
                                    "sys_id": "WEB043387269",
                                    "owner_id": "eu_10858",
                                    "last_update_date": "2023-11-08 00:05:13.787",
                                    "cumsum_total_vul": "143962",
                                    "cumsum_vul_patched": "58728"
                                },
                                {
                                    "sys_id": "SYS090238060",
                                    "owner_id": "au_25552",
                                    "last_update_date": "2023-11-08 00:05:13.787",
                                    "cumsum_total_vul": "144137",
                                    "cumsum_vul_patched": "58836"
                                },
                                {
                                    "sys_id": "APP027445185",
                                    "owner_id": "us_57346",
                                    "last_update_date": "2023-11-08 00:05:13.787",
                                    "cumsum_total_vul": "144322",
                                    "cumsum_vul_patched": "58950"
                                },
                                {
                                    "sys_id": "APP014754122",
                                    "owner_id": "eu_10858",
                                    "last_update_date": "2023-11-08 00:05:13.787",
                                    "cumsum_total_vul": "144655",
                                    "cumsum_vul_patched": "59106"
                                },
                                {
                                    "sys_id": "APP019104308",
                                    "owner_id": "au_11362",
                                    "last_update_date": "2023-11-08 00:05:13.787",
                                    "cumsum_total_vul": "144845",
                                    "cumsum_vul_patched": "59227"
                                },
                                {
                                    "sys_id": "APP100278745",
                                    "owner_id": "eu_11838",
                                    "last_update_date": "2023-11-08 00:05:13.787",
                                    "cumsum_total_vul": "145154",
                                    "cumsum_vul_patched": "59409"
                                },
                                {
                                    "sys_id": "APP072636897",
                                    "owner_id": "au_89783",
                                    "last_update_date": "2023-11-08 00:05:13.787",
                                    "cumsum_total_vul": "145344",
                                    "cumsum_vul_patched": "59528"
                                },
                                {
                                    "sys_id": "APP075193984",
                                    "owner_id": "eu_69372",
                                    "last_update_date": "2023-11-08 00:05:13.787",
                                    "cumsum_total_vul": "145672",
                                    "cumsum_vul_patched": "59731"
                                },
                                {
                                    "sys_id": "APP089334108",
                                    "owner_id": "eu_56544",
                                    "last_update_date": "2023-11-08 00:05:13.787",
                                    "cumsum_total_vul": "145891",
                                    "cumsum_vul_patched": "59879"
                                },
                                {
                                    "sys_id": "APP118451460",
                                    "owner_id": "au_89783",
                                    "last_update_date": "2023-11-08 00:05:13.787",
                                    "cumsum_total_vul": "146173",
                                    "cumsum_vul_patched": "60053"
                                },
                                {
                                    "sys_id": "APP124397356",
                                    "owner_id": "au_75432",
                                    "last_update_date": "2023-11-08 00:05:13.787",
                                    "cumsum_total_vul": "146497",
                                    "cumsum_vul_patched": "60237"
                                },
                                {
                                    "sys_id": "SYS038986141",
                                    "owner_id": "us_68077",
                                    "last_update_date": "2023-11-08 00:05:13.787",
                                    "cumsum_total_vul": "146805",
                                    "cumsum_vul_patched": "60415"
                                },
                                {
                                    "sys_id": "SYS060614973",
                                    "owner_id": "eu_22256",
                                    "last_update_date": "2023-11-08 00:05:13.787",
                                    "cumsum_total_vul": "147093",
                                    "cumsum_vul_patched": "60564"
                                },
                                {
                                    "sys_id": "SYS051152622",
                                    "owner_id": "eu_77467",
                                    "last_update_date": "2023-11-08 00:05:13.787",
                                    "cumsum_total_vul": "147410",
                                    "cumsum_vul_patched": "60770"
                                },
                                {
                                    "sys_id": "SYS068867531",
                                    "owner_id": "au_86362",
                                    "last_update_date": "2023-11-08 00:05:13.787",
                                    "cumsum_total_vul": "147681",
                                    "cumsum_vul_patched": "60894"
                                },
                                {
                                    "sys_id": "SYS065884504",
                                    "owner_id": "au_77600",
                                    "last_update_date": "2023-11-08 00:05:13.797",
                                    "cumsum_total_vul": "147858",
                                    "cumsum_vul_patched": "61012"
                                },
                                {
                                    "sys_id": "APP092723188",
                                    "owner_id": "eu_51465",
                                    "last_update_date": "2023-11-08 00:05:13.797",
                                    "cumsum_total_vul": "148192",
                                    "cumsum_vul_patched": "61172"
                                },
                                {
                                    "sys_id": "APP096589027",
                                    "owner_id": "eu_56544",
                                    "last_update_date": "2023-11-08 00:05:13.797",
                                    "cumsum_total_vul": "148497",
                                    "cumsum_vul_patched": "61351"
                                },
                                {
                                    "sys_id": "APP104929951",
                                    "owner_id": "eu_22256",
                                    "last_update_date": "2023-11-08 00:05:13.797",
                                    "cumsum_total_vul": "148722",
                                    "cumsum_vul_patched": "61501"
                                },
                                {
                                    "sys_id": "APP036818185",
                                    "owner_id": "us_34800",
                                    "last_update_date": "2023-11-08 00:05:13.797",
                                    "cumsum_total_vul": "148928",
                                    "cumsum_vul_patched": "61616"
                                },
                                {
                                    "sys_id": "SYS101279905",
                                    "owner_id": "us_19904",
                                    "last_update_date": "2023-11-08 00:05:13.797",
                                    "cumsum_total_vul": "149112",
                                    "cumsum_vul_patched": "61722"
                                },
                                {
                                    "sys_id": "SYS091474357",
                                    "owner_id": "au_16507",
                                    "last_update_date": "2023-11-08 00:05:13.800",
                                    "cumsum_total_vul": "149417",
                                    "cumsum_vul_patched": "61911"
                                },
                                {
                                    "sys_id": "SYS111396603",
                                    "owner_id": "eu_10858",
                                    "last_update_date": "2023-11-08 00:05:13.800",
                                    "cumsum_total_vul": "149627",
                                    "cumsum_vul_patched": "62034"
                                },
                                {
                                    "sys_id": "SYS129988087",
                                    "owner_id": "au_86362",
                                    "last_update_date": "2023-11-08 00:05:13.800",
                                    "cumsum_total_vul": "149907",
                                    "cumsum_vul_patched": "62165"
                                },
                                {
                                    "sys_id": "WEB072557701",
                                    "owner_id": "eu_77467",
                                    "last_update_date": "2023-11-08 00:05:13.800",
                                    "cumsum_total_vul": "150182",
                                    "cumsum_vul_patched": "62327"
                                },
                                {
                                    "sys_id": "APP048338844",
                                    "owner_id": "us_57346",
                                    "last_update_date": "2023-11-08 00:05:13.800",
                                    "cumsum_total_vul": "150477",
                                    "cumsum_vul_patched": "62462"
                                },
                                {
                                    "sys_id": "APP013136505",
                                    "owner_id": "eu_56544",
                                    "last_update_date": "2023-11-08 00:05:13.800",
                                    "cumsum_total_vul": "150758",
                                    "cumsum_vul_patched": "62594"
                                },
                                {
                                    "sys_id": "APP032868524",
                                    "owner_id": "au_16507",
                                    "last_update_date": "2023-11-08 00:05:13.800",
                                    "cumsum_total_vul": "150986",
                                    "cumsum_vul_patched": "62746"
                                },
                                {
                                    "sys_id": "APP072168938",
                                    "owner_id": "us_52113",
                                    "last_update_date": "2023-11-08 00:05:13.800",
                                    "cumsum_total_vul": "151216",
                                    "cumsum_vul_patched": "62888"
                                },
                                {
                                    "sys_id": "APP119982792",
                                    "owner_id": "us_57346",
                                    "last_update_date": "2023-11-08 00:05:13.800",
                                    "cumsum_total_vul": "151487",
                                    "cumsum_vul_patched": "63026"
                                },
                                {
                                    "sys_id": "SYS016799813",
                                    "owner_id": "eu_10858",
                                    "last_update_date": "2023-11-08 00:05:13.800",
                                    "cumsum_total_vul": "151781",
                                    "cumsum_vul_patched": "63184"
                                },
                                {
                                    "sys_id": "SYS024893251",
                                    "owner_id": "eu_77467",
                                    "last_update_date": "2023-11-09 00:05:13.787",
                                    "cumsum_total_vul": "152098",
                                    "cumsum_vul_patched": "63386"
                                },
                                {
                                    "sys_id": "SYS066101435",
                                    "owner_id": "au_15315",
                                    "last_update_date": "2023-11-09 00:05:13.787",
                                    "cumsum_total_vul": "152310",
                                    "cumsum_vul_patched": "63523"
                                },
                                {
                                    "sys_id": "SYS069770342",
                                    "owner_id": "au_40513",
                                    "last_update_date": "2023-11-09 00:05:13.787",
                                    "cumsum_total_vul": "152525",
                                    "cumsum_vul_patched": "63656"
                                },
                                {
                                    "sys_id": "SYS073834656",
                                    "owner_id": "us_68077",
                                    "last_update_date": "2023-11-09 00:05:13.787",
                                    "cumsum_total_vul": "152726",
                                    "cumsum_vul_patched": "63770"
                                },
                                {
                                    "sys_id": "SYS076658004",
                                    "owner_id": "au_75432",
                                    "last_update_date": "2023-11-09 00:05:13.787",
                                    "cumsum_total_vul": "152955",
                                    "cumsum_vul_patched": "63923"
                                },
                                {
                                    "sys_id": "APP104958883",
                                    "owner_id": "eu_69372",
                                    "last_update_date": "2023-11-09 00:05:13.787",
                                    "cumsum_total_vul": "153134",
                                    "cumsum_vul_patched": "64030"
                                },
                                {
                                    "sys_id": "APP109371245",
                                    "owner_id": "au_89783",
                                    "last_update_date": "2023-11-09 00:05:13.787",
                                    "cumsum_total_vul": "153420",
                                    "cumsum_vul_patched": "64201"
                                },
                                {
                                    "sys_id": "APP092675867",
                                    "owner_id": "us_52113",
                                    "last_update_date": "2023-11-09 00:05:13.787",
                                    "cumsum_total_vul": "153596",
                                    "cumsum_vul_patched": "64301"
                                },
                                {
                                    "sys_id": "APP095467852",
                                    "owner_id": "au_77600",
                                    "last_update_date": "2023-11-09 00:05:13.787",
                                    "cumsum_total_vul": "153843",
                                    "cumsum_vul_patched": "64446"
                                },
                                {
                                    "sys_id": "APP011006239",
                                    "owner_id": "us_15438",
                                    "last_update_date": "2023-11-09 00:05:13.787",
                                    "cumsum_total_vul": "154147",
                                    "cumsum_vul_patched": "64613"
                                },
                                {
                                    "sys_id": "APP010225574",
                                    "owner_id": "eu_69372",
                                    "last_update_date": "2023-11-09 00:05:13.787",
                                    "cumsum_total_vul": "154465",
                                    "cumsum_vul_patched": "64778"
                                },
                                {
                                    "sys_id": "APP042921273",
                                    "owner_id": "us_10113",
                                    "last_update_date": "2023-11-09 00:05:13.787",
                                    "cumsum_total_vul": "154719",
                                    "cumsum_vul_patched": "64938"
                                },
                                {
                                    "sys_id": "WEB095646796",
                                    "owner_id": "au_25552",
                                    "last_update_date": "2023-11-09 00:05:13.787",
                                    "cumsum_total_vul": "154940",
                                    "cumsum_vul_patched": "65059"
                                },
                                {
                                    "sys_id": "WEB109125132",
                                    "owner_id": "us_15438",
                                    "last_update_date": "2023-11-09 00:05:13.787",
                                    "cumsum_total_vul": "155227",
                                    "cumsum_vul_patched": "65245"
                                },
                                {
                                    "sys_id": "WEB128687279",
                                    "owner_id": "au_18036",
                                    "last_update_date": "2023-11-09 00:05:13.787",
                                    "cumsum_total_vul": "155529",
                                    "cumsum_vul_patched": "65417"
                                },
                                {
                                    "sys_id": "SYS125327875",
                                    "owner_id": "us_52113",
                                    "last_update_date": "2023-11-09 00:05:13.787",
                                    "cumsum_total_vul": "155856",
                                    "cumsum_vul_patched": "65587"
                                },
                                {
                                    "sys_id": "SYS092677344",
                                    "owner_id": "au_18036",
                                    "last_update_date": "2023-11-09 00:05:13.787",
                                    "cumsum_total_vul": "156039",
                                    "cumsum_vul_patched": "65707"
                                },
                                {
                                    "sys_id": "SYS093982258",
                                    "owner_id": "eu_23263",
                                    "last_update_date": "2023-11-09 00:05:13.787",
                                    "cumsum_total_vul": "156263",
                                    "cumsum_vul_patched": "65857"
                                },
                                {
                                    "sys_id": "SYS098059296",
                                    "owner_id": "us_19904",
                                    "last_update_date": "2023-11-09 00:05:13.787",
                                    "cumsum_total_vul": "156585",
                                    "cumsum_vul_patched": "66059"
                                },
                                {
                                    "sys_id": "SYS110470957",
                                    "owner_id": "eu_69372",
                                    "last_update_date": "2023-11-09 00:05:13.787",
                                    "cumsum_total_vul": "156877",
                                    "cumsum_vul_patched": "66234"
                                },
                                {
                                    "sys_id": "WEB055301741",
                                    "owner_id": "au_40513",
                                    "last_update_date": "2023-11-09 00:05:13.787",
                                    "cumsum_total_vul": "157020",
                                    "cumsum_vul_patched": "66332"
                                },
                                {
                                    "sys_id": "WEB021615283",
                                    "owner_id": "au_89783",
                                    "last_update_date": "2023-11-09 00:05:13.787",
                                    "cumsum_total_vul": "157342",
                                    "cumsum_vul_patched": "66518"
                                },
                                {
                                    "sys_id": "WEB032239438",
                                    "owner_id": "eu_69372",
                                    "last_update_date": "2023-11-09 00:05:13.797",
                                    "cumsum_total_vul": "157675",
                                    "cumsum_vul_patched": "66734"
                                },
                                {
                                    "sys_id": "WEB041453030",
                                    "owner_id": "au_89783",
                                    "last_update_date": "2023-11-09 00:05:13.797",
                                    "cumsum_total_vul": "157984",
                                    "cumsum_vul_patched": "66888"
                                },
                                {
                                    "sys_id": "SYS102053023",
                                    "owner_id": "us_68077",
                                    "last_update_date": "2023-11-09 00:05:13.797",
                                    "cumsum_total_vul": "158194",
                                    "cumsum_vul_patched": "67016"
                                },
                                {
                                    "sys_id": "SYS013029926",
                                    "owner_id": "eu_51465",
                                    "last_update_date": "2023-11-09 00:05:13.797",
                                    "cumsum_total_vul": "158409",
                                    "cumsum_vul_patched": "67142"
                                },
                                {
                                    "sys_id": "APP035979274",
                                    "owner_id": "au_89783",
                                    "last_update_date": "2023-11-09 00:05:13.800",
                                    "cumsum_total_vul": "158644",
                                    "cumsum_vul_patched": "67273"
                                },
                                {
                                    "sys_id": "APP092945652",
                                    "owner_id": "eu_51465",
                                    "last_update_date": "2023-11-09 00:05:13.800",
                                    "cumsum_total_vul": "158984",
                                    "cumsum_vul_patched": "67456"
                                },
                                {
                                    "sys_id": "WEB106789940",
                                    "owner_id": "au_75432",
                                    "last_update_date": "2023-11-09 00:05:13.800",
                                    "cumsum_total_vul": "159200",
                                    "cumsum_vul_patched": "67592"
                                },
                                {
                                    "sys_id": "WEB103911193",
                                    "owner_id": "au_16507",
                                    "last_update_date": "2023-11-09 00:05:13.800",
                                    "cumsum_total_vul": "159561",
                                    "cumsum_vul_patched": "67783"
                                },
                                {
                                    "sys_id": "WEB115869385",
                                    "owner_id": "au_18036",
                                    "last_update_date": "2023-11-10 00:05:13.787",
                                    "cumsum_total_vul": "159772",
                                    "cumsum_vul_patched": "67926"
                                },
                                {
                                    "sys_id": "WEB092595264",
                                    "owner_id": "au_15315",
                                    "last_update_date": "2023-11-10 00:05:13.787",
                                    "cumsum_total_vul": "159991",
                                    "cumsum_vul_patched": "68053"
                                },
                                {
                                    "sys_id": "WEB070529757",
                                    "owner_id": "eu_69372",
                                    "last_update_date": "2023-11-10 00:05:13.787",
                                    "cumsum_total_vul": "160174",
                                    "cumsum_vul_patched": "68171"
                                },
                                {
                                    "sys_id": "SYS123752659",
                                    "owner_id": "us_52113",
                                    "last_update_date": "2023-11-10 00:05:13.787",
                                    "cumsum_total_vul": "160354",
                                    "cumsum_vul_patched": "68293"
                                },
                                {
                                    "sys_id": "WEB049821460",
                                    "owner_id": "us_68077",
                                    "last_update_date": "2023-11-10 00:05:13.787",
                                    "cumsum_total_vul": "160645",
                                    "cumsum_vul_patched": "68461"
                                },
                                {
                                    "sys_id": "APP044191823",
                                    "owner_id": "au_77600",
                                    "last_update_date": "2023-11-10 00:05:13.787",
                                    "cumsum_total_vul": "160912",
                                    "cumsum_vul_patched": "68629"
                                },
                                {
                                    "sys_id": "APP040548687",
                                    "owner_id": "au_16507",
                                    "last_update_date": "2023-11-10 00:05:13.787",
                                    "cumsum_total_vul": "161212",
                                    "cumsum_vul_patched": "68815"
                                },
                                {
                                    "sys_id": "SYS034310698",
                                    "owner_id": "eu_56544",
                                    "last_update_date": "2023-11-10 00:05:13.787",
                                    "cumsum_total_vul": "161403",
                                    "cumsum_vul_patched": "68929"
                                },
                                {
                                    "sys_id": "SYS039842572",
                                    "owner_id": "us_15438",
                                    "last_update_date": "2023-11-10 00:05:13.797",
                                    "cumsum_total_vul": "161725",
                                    "cumsum_vul_patched": "69093"
                                },
                                {
                                    "sys_id": "SYS057292939",
                                    "owner_id": "us_57346",
                                    "last_update_date": "2023-11-10 00:05:13.797",
                                    "cumsum_total_vul": "162033",
                                    "cumsum_vul_patched": "69247"
                                },
                                {
                                    "sys_id": "WEB115184497",
                                    "owner_id": "us_34800",
                                    "last_update_date": "2023-11-10 00:05:13.797",
                                    "cumsum_total_vul": "162337",
                                    "cumsum_vul_patched": "69411"
                                },
                                {
                                    "sys_id": "WEB071581480",
                                    "owner_id": "au_77600",
                                    "last_update_date": "2023-11-10 00:05:13.800",
                                    "cumsum_total_vul": "162549",
                                    "cumsum_vul_patched": "69557"
                                },
                                {
                                    "sys_id": "WEB062437284",
                                    "owner_id": "au_16507",
                                    "last_update_date": "2023-11-10 00:05:13.800",
                                    "cumsum_total_vul": "162757",
                                    "cumsum_vul_patched": "69696"
                                },
                                {
                                    "sys_id": "SYS126524075",
                                    "owner_id": "eu_11838",
                                    "last_update_date": "2023-11-10 00:05:13.800",
                                    "cumsum_total_vul": "162931",
                                    "cumsum_vul_patched": "69795"
                                },
                                {
                                    "sys_id": "SYS055992817",
                                    "owner_id": "au_11362",
                                    "last_update_date": "2023-11-10 00:05:13.800",
                                    "cumsum_total_vul": "163257",
                                    "cumsum_vul_patched": "69961"
                                },
                                {
                                    "sys_id": "SYS088317456",
                                    "owner_id": "au_86362",
                                    "last_update_date": "2023-11-10 00:05:13.800",
                                    "cumsum_total_vul": "163554",
                                    "cumsum_vul_patched": "70115"
                                },
                                {
                                    "sys_id": "APP055381790",
                                    "owner_id": "us_52113",
                                    "last_update_date": "2023-11-10 00:05:13.800",
                                    "cumsum_total_vul": "163742",
                                    "cumsum_vul_patched": "70231"
                                },
                                {
                                    "sys_id": "APP021810224",
                                    "owner_id": "eu_23263",
                                    "last_update_date": "2023-11-10 00:05:13.800",
                                    "cumsum_total_vul": "164061",
                                    "cumsum_vul_patched": "70422"
                                },
                                {
                                    "sys_id": "APP068001067",
                                    "owner_id": "us_34800",
                                    "last_update_date": "2023-11-10 00:05:13.800",
                                    "cumsum_total_vul": "164377",
                                    "cumsum_vul_patched": "70580"
                                },
                                {
                                    "sys_id": "APP075414582",
                                    "owner_id": "au_11362",
                                    "last_update_date": "2023-11-11 00:05:13.787",
                                    "cumsum_total_vul": "164572",
                                    "cumsum_vul_patched": "70716"
                                },
                                {
                                    "sys_id": "APP078501421",
                                    "owner_id": "au_86362",
                                    "last_update_date": "2023-11-11 00:05:13.787",
                                    "cumsum_total_vul": "164730",
                                    "cumsum_vul_patched": "70817"
                                },
                                {
                                    "sys_id": "APP097603669",
                                    "owner_id": "eu_10858",
                                    "last_update_date": "2023-11-11 00:05:13.787",
                                    "cumsum_total_vul": "164916",
                                    "cumsum_vul_patched": "70936"
                                },
                                {
                                    "sys_id": "APP062408242",
                                    "owner_id": "eu_23263",
                                    "last_update_date": "2023-11-11 00:05:13.787",
                                    "cumsum_total_vul": "165101",
                                    "cumsum_vul_patched": "71045"
                                },
                                {
                                    "sys_id": "APP057935649",
                                    "owner_id": "us_15438",
                                    "last_update_date": "2023-11-11 00:05:13.787",
                                    "cumsum_total_vul": "165308",
                                    "cumsum_vul_patched": "71181"
                                },
                                {
                                    "sys_id": "SYS085304637",
                                    "owner_id": "us_19904",
                                    "last_update_date": "2023-11-11 00:05:13.787",
                                    "cumsum_total_vul": "165516",
                                    "cumsum_vul_patched": "71301"
                                },
                                {
                                    "sys_id": "SYS060533151",
                                    "owner_id": "eu_69372",
                                    "last_update_date": "2023-11-11 00:05:13.787",
                                    "cumsum_total_vul": "165718",
                                    "cumsum_vul_patched": "71420"
                                },
                                {
                                    "sys_id": "SYS045977460",
                                    "owner_id": "us_15438",
                                    "last_update_date": "2023-11-11 00:05:13.787",
                                    "cumsum_total_vul": "166007",
                                    "cumsum_vul_patched": "71573"
                                },
                                {
                                    "sys_id": "SYS100974395",
                                    "owner_id": "au_18036",
                                    "last_update_date": "2023-11-11 00:05:13.787",
                                    "cumsum_total_vul": "166299",
                                    "cumsum_vul_patched": "71742"
                                },
                                {
                                    "sys_id": "WEB065466595",
                                    "owner_id": "us_19904",
                                    "last_update_date": "2023-11-11 00:05:13.787",
                                    "cumsum_total_vul": "166545",
                                    "cumsum_vul_patched": "71882"
                                },
                                {
                                    "sys_id": "WEB040461845",
                                    "owner_id": "us_68077",
                                    "last_update_date": "2023-11-11 00:05:13.787",
                                    "cumsum_total_vul": "166724",
                                    "cumsum_vul_patched": "72003"
                                },
                                {
                                    "sys_id": "WEB018993581",
                                    "owner_id": "au_77600",
                                    "last_update_date": "2023-11-11 00:05:13.787",
                                    "cumsum_total_vul": "166951",
                                    "cumsum_vul_patched": "72155"
                                },
                                {
                                    "sys_id": "WEB069407819",
                                    "owner_id": "us_52113",
                                    "last_update_date": "2023-11-11 00:05:13.787",
                                    "cumsum_total_vul": "167268",
                                    "cumsum_vul_patched": "72323"
                                },
                                {
                                    "sys_id": "WEB092477104",
                                    "owner_id": "eu_69372",
                                    "last_update_date": "2023-11-11 00:05:13.787",
                                    "cumsum_total_vul": "167448",
                                    "cumsum_vul_patched": "72436"
                                },
                                {
                                    "sys_id": "SYS035909477",
                                    "owner_id": "eu_69372",
                                    "last_update_date": "2023-11-11 00:05:13.797",
                                    "cumsum_total_vul": "167661",
                                    "cumsum_vul_patched": "72576"
                                },
                                {
                                    "sys_id": "APP123334336",
                                    "owner_id": "au_86362",
                                    "last_update_date": "2023-11-11 00:05:13.797",
                                    "cumsum_total_vul": "167951",
                                    "cumsum_vul_patched": "72744"
                                },
                                {
                                    "sys_id": "APP126666836",
                                    "owner_id": "au_18036",
                                    "last_update_date": "2023-11-11 00:05:13.800",
                                    "cumsum_total_vul": "168162",
                                    "cumsum_vul_patched": "72870"
                                },
                                {
                                    "sys_id": "SYS036860256",
                                    "owner_id": "us_10113",
                                    "last_update_date": "2023-11-11 00:05:13.800",
                                    "cumsum_total_vul": "168366",
                                    "cumsum_vul_patched": "72986"
                                },
                                {
                                    "sys_id": "APP028569455",
                                    "owner_id": "eu_11838",
                                    "last_update_date": "2023-11-11 00:05:13.800",
                                    "cumsum_total_vul": "168575",
                                    "cumsum_vul_patched": "73113"
                                },
                                {
                                    "sys_id": "WEB095714220",
                                    "owner_id": "au_40513",
                                    "last_update_date": "2023-11-11 00:05:13.800",
                                    "cumsum_total_vul": "168798",
                                    "cumsum_vul_patched": "73246"
                                },
                                {
                                    "sys_id": "SYS108331464",
                                    "owner_id": "us_68077",
                                    "last_update_date": "2023-11-11 00:05:13.800",
                                    "cumsum_total_vul": "168968",
                                    "cumsum_vul_patched": "73358"
                                },
                                {
                                    "sys_id": "WEB012355772",
                                    "owner_id": "us_15438",
                                    "last_update_date": "2023-11-11 00:05:13.800",
                                    "cumsum_total_vul": "169296",
                                    "cumsum_vul_patched": "73571"
                                },
                                {
                                    "sys_id": "WEB011338907",
                                    "owner_id": "au_16507",
                                    "last_update_date": "2023-11-12 00:05:13.787",
                                    "cumsum_total_vul": "169487",
                                    "cumsum_vul_patched": "73679"
                                },
                                {
                                    "sys_id": "SYS101803397",
                                    "owner_id": "us_34800",
                                    "last_update_date": "2023-11-12 00:05:13.787",
                                    "cumsum_total_vul": "169792",
                                    "cumsum_vul_patched": "73837"
                                },
                                {
                                    "sys_id": "WEB065231241",
                                    "owner_id": "au_86362",
                                    "last_update_date": "2023-11-12 00:05:13.787",
                                    "cumsum_total_vul": "170043",
                                    "cumsum_vul_patched": "73980"
                                },
                                {
                                    "sys_id": "WEB064235730",
                                    "owner_id": "eu_11838",
                                    "last_update_date": "2023-11-12 00:05:13.787",
                                    "cumsum_total_vul": "170234",
                                    "cumsum_vul_patched": "74096"
                                },
                                {
                                    "sys_id": "WEB094168783",
                                    "owner_id": "us_10113",
                                    "last_update_date": "2023-11-12 00:05:13.787",
                                    "cumsum_total_vul": "170533",
                                    "cumsum_vul_patched": "74254"
                                },
                                {
                                    "sys_id": "WEB119324800",
                                    "owner_id": "us_57346",
                                    "last_update_date": "2023-11-12 00:05:13.787",
                                    "cumsum_total_vul": "170762",
                                    "cumsum_vul_patched": "74379"
                                },
                                {
                                    "sys_id": "WEB104808315",
                                    "owner_id": "au_89783",
                                    "last_update_date": "2023-11-12 00:05:13.787",
                                    "cumsum_total_vul": "171085",
                                    "cumsum_vul_patched": "74546"
                                },
                                {
                                    "sys_id": "WEB122655113",
                                    "owner_id": "us_10113",
                                    "last_update_date": "2023-11-12 00:05:13.787",
                                    "cumsum_total_vul": "171369",
                                    "cumsum_vul_patched": "74699"
                                },
                                {
                                    "sys_id": "APP049599530",
                                    "owner_id": "eu_56544",
                                    "last_update_date": "2023-11-12 00:05:13.787",
                                    "cumsum_total_vul": "171641",
                                    "cumsum_vul_patched": "74851"
                                },
                                {
                                    "sys_id": "APP051252865",
                                    "owner_id": "us_34800",
                                    "last_update_date": "2023-11-12 00:05:13.787",
                                    "cumsum_total_vul": "171884",
                                    "cumsum_vul_patched": "74987"
                                },
                                {
                                    "sys_id": "APP068799683",
                                    "owner_id": "au_89783",
                                    "last_update_date": "2023-11-12 00:05:13.787",
                                    "cumsum_total_vul": "172085",
                                    "cumsum_vul_patched": "75105"
                                },
                                {
                                    "sys_id": "APP068917834",
                                    "owner_id": "us_68077",
                                    "last_update_date": "2023-11-12 00:05:13.787",
                                    "cumsum_total_vul": "172304",
                                    "cumsum_vul_patched": "75232"
                                },
                                {
                                    "sys_id": "APP125698164",
                                    "owner_id": "au_18036",
                                    "last_update_date": "2023-11-12 00:05:13.787",
                                    "cumsum_total_vul": "172579",
                                    "cumsum_vul_patched": "75394"
                                },
                                {
                                    "sys_id": "SYS046899806",
                                    "owner_id": "eu_22256",
                                    "last_update_date": "2023-11-12 00:05:13.787",
                                    "cumsum_total_vul": "172748",
                                    "cumsum_vul_patched": "75507"
                                },
                                {
                                    "sys_id": "SYS064019383",
                                    "owner_id": "au_25552",
                                    "last_update_date": "2023-11-12 00:05:13.787",
                                    "cumsum_total_vul": "173051",
                                    "cumsum_vul_patched": "75688"
                                },
                                {
                                    "sys_id": "SYS064479622",
                                    "owner_id": "us_57346",
                                    "last_update_date": "2023-11-12 00:05:13.787",
                                    "cumsum_total_vul": "173247",
                                    "cumsum_vul_patched": "75807"
                                },
                                {
                                    "sys_id": "SYS057896115",
                                    "owner_id": "au_18036",
                                    "last_update_date": "2023-11-12 00:05:13.787",
                                    "cumsum_total_vul": "173593",
                                    "cumsum_vul_patched": "76011"
                                },
                                {
                                    "sys_id": "SYS089740349",
                                    "owner_id": "au_77600",
                                    "last_update_date": "2023-11-12 00:05:13.787",
                                    "cumsum_total_vul": "173909",
                                    "cumsum_vul_patched": "76175"
                                },
                                {
                                    "sys_id": "APP101365178",
                                    "owner_id": "au_89783",
                                    "last_update_date": "2023-11-12 00:05:13.797",
                                    "cumsum_total_vul": "174196",
                                    "cumsum_vul_patched": "76347"
                                },
                                {
                                    "sys_id": "SYS103769044",
                                    "owner_id": "eu_56544",
                                    "last_update_date": "2023-11-12 00:05:13.797",
                                    "cumsum_total_vul": "174482",
                                    "cumsum_vul_patched": "76524"
                                },
                                {
                                    "sys_id": "SYS091238784",
                                    "owner_id": "au_77600",
                                    "last_update_date": "2023-11-12 00:05:13.800",
                                    "cumsum_total_vul": "174797",
                                    "cumsum_vul_patched": "76690"
                                },
                                {
                                    "sys_id": "APP088452188",
                                    "owner_id": "eu_22256",
                                    "last_update_date": "2023-11-12 00:05:13.800",
                                    "cumsum_total_vul": "174991",
                                    "cumsum_vul_patched": "76819"
                                },
                                {
                                    "sys_id": "APP057644723",
                                    "owner_id": "au_75432",
                                    "last_update_date": "2023-11-12 00:05:13.800",
                                    "cumsum_total_vul": "175170",
                                    "cumsum_vul_patched": "76944"
                                },
                                {
                                    "sys_id": "SYS058995293",
                                    "owner_id": "eu_56544",
                                    "last_update_date": "2023-11-12 00:05:13.800",
                                    "cumsum_total_vul": "175339",
                                    "cumsum_vul_patched": "77040"
                                },
                                {
                                    "sys_id": "SYS019494076",
                                    "owner_id": "us_52113",
                                    "last_update_date": "2023-11-12 00:05:13.800",
                                    "cumsum_total_vul": "175513",
                                    "cumsum_vul_patched": "77156"
                                },
                                {
                                    "sys_id": "SYS038639171",
                                    "owner_id": "eu_23263",
                                    "last_update_date": "2023-11-12 00:05:13.800",
                                    "cumsum_total_vul": "175728",
                                    "cumsum_vul_patched": "77287"
                                },
                                {
                                    "sys_id": "SYS029399093",
                                    "owner_id": "au_75432",
                                    "last_update_date": "2023-11-13 00:05:13.787",
                                    "cumsum_total_vul": "176005",
                                    "cumsum_vul_patched": "77464"
                                },
                                {
                                    "sys_id": "APP118932468",
                                    "owner_id": "au_16507",
                                    "last_update_date": "2023-11-13 00:05:13.787",
                                    "cumsum_total_vul": "176288",
                                    "cumsum_vul_patched": "77633"
                                },
                                {
                                    "sys_id": "SYS055461568",
                                    "owner_id": "us_52113",
                                    "last_update_date": "2023-11-13 00:05:13.787",
                                    "cumsum_total_vul": "176491",
                                    "cumsum_vul_patched": "77746"
                                },
                                {
                                    "sys_id": "SYS062341383",
                                    "owner_id": "eu_77467",
                                    "last_update_date": "2023-11-13 00:05:13.787",
                                    "cumsum_total_vul": "176769",
                                    "cumsum_vul_patched": "77890"
                                },
                                {
                                    "sys_id": "SYS085354085",
                                    "owner_id": "eu_11838",
                                    "last_update_date": "2023-11-13 00:05:13.787",
                                    "cumsum_total_vul": "177099",
                                    "cumsum_vul_patched": "78058"
                                },
                                {
                                    "sys_id": "SYS086438159",
                                    "owner_id": "eu_22256",
                                    "last_update_date": "2023-11-13 00:05:13.787",
                                    "cumsum_total_vul": "177316",
                                    "cumsum_vul_patched": "78199"
                                },
                                {
                                    "sys_id": "APP042133485",
                                    "owner_id": "us_57346",
                                    "last_update_date": "2023-11-13 00:05:13.787",
                                    "cumsum_total_vul": "177536",
                                    "cumsum_vul_patched": "78333"
                                },
                                {
                                    "sys_id": "APP014436990",
                                    "owner_id": "us_68077",
                                    "last_update_date": "2023-11-13 00:05:13.787",
                                    "cumsum_total_vul": "177724",
                                    "cumsum_vul_patched": "78451"
                                },
                                {
                                    "sys_id": "APP114874012",
                                    "owner_id": "eu_69372",
                                    "last_update_date": "2023-11-13 00:05:13.787",
                                    "cumsum_total_vul": "177932",
                                    "cumsum_vul_patched": "78588"
                                },
                                {
                                    "sys_id": "SYS103316374",
                                    "owner_id": "au_89783",
                                    "last_update_date": "2023-11-13 00:05:13.787",
                                    "cumsum_total_vul": "178119",
                                    "cumsum_vul_patched": "78703"
                                },
                                {
                                    "sys_id": "SYS111476798",
                                    "owner_id": "au_16507",
                                    "last_update_date": "2023-11-13 00:05:13.787",
                                    "cumsum_total_vul": "178305",
                                    "cumsum_vul_patched": "78818"
                                },
                                {
                                    "sys_id": "WEB067262849",
                                    "owner_id": "au_16507",
                                    "last_update_date": "2023-11-13 00:05:13.787",
                                    "cumsum_total_vul": "178635",
                                    "cumsum_vul_patched": "79009"
                                },
                                {
                                    "sys_id": "WEB025182039",
                                    "owner_id": "au_18036",
                                    "last_update_date": "2023-11-13 00:05:13.787",
                                    "cumsum_total_vul": "178832",
                                    "cumsum_vul_patched": "79135"
                                },
                                {
                                    "sys_id": "SYS098725630",
                                    "owner_id": "eu_51465",
                                    "last_update_date": "2023-11-13 00:05:13.797",
                                    "cumsum_total_vul": "179066",
                                    "cumsum_vul_patched": "79303"
                                },
                                {
                                    "sys_id": "WEB104057205",
                                    "owner_id": "au_77600",
                                    "last_update_date": "2023-11-13 00:05:13.797",
                                    "cumsum_total_vul": "179384",
                                    "cumsum_vul_patched": "79481"
                                },
                                {
                                    "sys_id": "WEB074510461",
                                    "owner_id": "eu_69372",
                                    "last_update_date": "2023-11-13 00:05:13.800",
                                    "cumsum_total_vul": "179711",
                                    "cumsum_vul_patched": "79657"
                                },
                                {
                                    "sys_id": "WEB127848734",
                                    "owner_id": "eu_23263",
                                    "last_update_date": "2023-11-13 00:05:13.800",
                                    "cumsum_total_vul": "180008",
                                    "cumsum_vul_patched": "79844"
                                },
                                {
                                    "sys_id": "WEB034179745",
                                    "owner_id": "eu_10858",
                                    "last_update_date": "2023-11-13 00:05:13.800",
                                    "cumsum_total_vul": "180234",
                                    "cumsum_vul_patched": "79972"
                                },
                                {
                                    "sys_id": "APP092404339",
                                    "owner_id": "au_16507",
                                    "last_update_date": "2023-11-13 00:05:13.800",
                                    "cumsum_total_vul": "180430",
                                    "cumsum_vul_patched": "80107"
                                },
                                {
                                    "sys_id": "APP053009100",
                                    "owner_id": "eu_69372",
                                    "last_update_date": "2023-11-13 00:05:13.800",
                                    "cumsum_total_vul": "180610",
                                    "cumsum_vul_patched": "80225"
                                },
                                {
                                    "sys_id": "APP054742123",
                                    "owner_id": "us_57346",
                                    "last_update_date": "2023-11-13 00:05:13.800",
                                    "cumsum_total_vul": "180933",
                                    "cumsum_vul_patched": "80392"
                                },
                                {
                                    "sys_id": "SYS045857302",
                                    "owner_id": "au_75432",
                                    "last_update_date": "2023-11-13 00:05:13.800",
                                    "cumsum_total_vul": "181123",
                                    "cumsum_vul_patched": "80530"
                                },
                                {
                                    "sys_id": "SYS061585069",
                                    "owner_id": "eu_77467",
                                    "last_update_date": "2023-11-14 00:05:13.787",
                                    "cumsum_total_vul": "181318",
                                    "cumsum_vul_patched": "80662"
                                },
                                {
                                    "sys_id": "SYS082874319",
                                    "owner_id": "us_15438",
                                    "last_update_date": "2023-11-14 00:05:13.787",
                                    "cumsum_total_vul": "181522",
                                    "cumsum_vul_patched": "80796"
                                },
                                {
                                    "sys_id": "SYS083395004",
                                    "owner_id": "au_15315",
                                    "last_update_date": "2023-11-14 00:05:13.787",
                                    "cumsum_total_vul": "181723",
                                    "cumsum_vul_patched": "80914"
                                },
                                {
                                    "sys_id": "SYS068122360",
                                    "owner_id": "au_25552",
                                    "last_update_date": "2023-11-14 00:05:13.787",
                                    "cumsum_total_vul": "182044",
                                    "cumsum_vul_patched": "81100"
                                },
                                {
                                    "sys_id": "APP123885160",
                                    "owner_id": "eu_22256",
                                    "last_update_date": "2023-11-14 00:05:13.787",
                                    "cumsum_total_vul": "182249",
                                    "cumsum_vul_patched": "81229"
                                },
                                {
                                    "sys_id": "SYS016098352",
                                    "owner_id": "us_52113",
                                    "last_update_date": "2023-11-14 00:05:13.787",
                                    "cumsum_total_vul": "182412",
                                    "cumsum_vul_patched": "81321"
                                },
                                {
                                    "sys_id": "SYS044902119",
                                    "owner_id": "au_18036",
                                    "last_update_date": "2023-11-14 00:05:13.787",
                                    "cumsum_total_vul": "182600",
                                    "cumsum_vul_patched": "81446"
                                },
                                {
                                    "sys_id": "APP052622180",
                                    "owner_id": "au_18036",
                                    "last_update_date": "2023-11-14 00:05:13.787",
                                    "cumsum_total_vul": "182895",
                                    "cumsum_vul_patched": "81631"
                                },
                                {
                                    "sys_id": "APP042871019",
                                    "owner_id": "au_11362",
                                    "last_update_date": "2023-11-14 00:05:13.787",
                                    "cumsum_total_vul": "183162",
                                    "cumsum_vul_patched": "81788"
                                },
                                {
                                    "sys_id": "APP018350580",
                                    "owner_id": "au_89783",
                                    "last_update_date": "2023-11-14 00:05:13.787",
                                    "cumsum_total_vul": "183339",
                                    "cumsum_vul_patched": "81903"
                                },
                                {
                                    "sys_id": "APP031607333",
                                    "owner_id": "au_86362",
                                    "last_update_date": "2023-11-14 00:05:13.787",
                                    "cumsum_total_vul": "183530",
                                    "cumsum_vul_patched": "82017"
                                },
                                {
                                    "sys_id": "APP112546290",
                                    "owner_id": "eu_22256",
                                    "last_update_date": "2023-11-14 00:05:13.787",
                                    "cumsum_total_vul": "183725",
                                    "cumsum_vul_patched": "82143"
                                },
                                {
                                    "sys_id": "SYS096814475",
                                    "owner_id": "us_10113",
                                    "last_update_date": "2023-11-14 00:05:13.787",
                                    "cumsum_total_vul": "183921",
                                    "cumsum_vul_patched": "82268"
                                },
                                {
                                    "sys_id": "SYS123963600",
                                    "owner_id": "us_15438",
                                    "last_update_date": "2023-11-14 00:05:13.787",
                                    "cumsum_total_vul": "184145",
                                    "cumsum_vul_patched": "82397"
                                },
                                {
                                    "sys_id": "WEB124713493",
                                    "owner_id": "us_68077",
                                    "last_update_date": "2023-11-14 00:05:13.787",
                                    "cumsum_total_vul": "184381",
                                    "cumsum_vul_patched": "82536"
                                },
                                {
                                    "sys_id": "WEB125162713",
                                    "owner_id": "us_15438",
                                    "last_update_date": "2023-11-14 00:05:13.787",
                                    "cumsum_total_vul": "184612",
                                    "cumsum_vul_patched": "82679"
                                },
                                {
                                    "sys_id": "WEB113339451",
                                    "owner_id": "us_10113",
                                    "last_update_date": "2023-11-14 00:05:13.787",
                                    "cumsum_total_vul": "184930",
                                    "cumsum_vul_patched": "82844"
                                },
                                {
                                    "sys_id": "WEB012770386",
                                    "owner_id": "au_11362",
                                    "last_update_date": "2023-11-14 00:05:13.797",
                                    "cumsum_total_vul": "185216",
                                    "cumsum_vul_patched": "82998"
                                },
                                {
                                    "sys_id": "APP090782354",
                                    "owner_id": "au_40513",
                                    "last_update_date": "2023-11-14 00:05:13.800",
                                    "cumsum_total_vul": "185429",
                                    "cumsum_vul_patched": "83155"
                                },
                                {
                                    "sys_id": "APP068077871",
                                    "owner_id": "eu_51465",
                                    "last_update_date": "2023-11-14 00:05:13.800",
                                    "cumsum_total_vul": "185625",
                                    "cumsum_vul_patched": "83286"
                                },
                                {
                                    "sys_id": "SYS014765807",
                                    "owner_id": "au_89783",
                                    "last_update_date": "2023-11-14 00:05:13.800",
                                    "cumsum_total_vul": "185944",
                                    "cumsum_vul_patched": "83493"
                                },
                                {
                                    "sys_id": "SYS065852390",
                                    "owner_id": "au_16507",
                                    "last_update_date": "2023-11-15 00:05:13.787",
                                    "cumsum_total_vul": "186125",
                                    "cumsum_vul_patched": "83594"
                                },
                                {
                                    "sys_id": "SYS046783776",
                                    "owner_id": "au_11362",
                                    "last_update_date": "2023-11-15 00:05:13.787",
                                    "cumsum_total_vul": "186348",
                                    "cumsum_vul_patched": "83754"
                                },
                                {
                                    "sys_id": "APP064522676",
                                    "owner_id": "eu_56544",
                                    "last_update_date": "2023-11-15 00:05:13.787",
                                    "cumsum_total_vul": "186596",
                                    "cumsum_vul_patched": "83890"
                                },
                                {
                                    "sys_id": "APP079797292",
                                    "owner_id": "us_15438",
                                    "last_update_date": "2023-11-15 00:05:13.787",
                                    "cumsum_total_vul": "186792",
                                    "cumsum_vul_patched": "84033"
                                },
                                {
                                    "sys_id": "APP115777383",
                                    "owner_id": "us_34800",
                                    "last_update_date": "2023-11-15 00:05:13.787",
                                    "cumsum_total_vul": "187001",
                                    "cumsum_vul_patched": "84179"
                                },
                                {
                                    "sys_id": "APP104024458",
                                    "owner_id": "au_89783",
                                    "last_update_date": "2023-11-15 00:05:13.787",
                                    "cumsum_total_vul": "187205",
                                    "cumsum_vul_patched": "84295"
                                },
                                {
                                    "sys_id": "APP099163754",
                                    "owner_id": "au_25552",
                                    "last_update_date": "2023-11-15 00:05:13.787",
                                    "cumsum_total_vul": "187427",
                                    "cumsum_vul_patched": "84425"
                                },
                                {
                                    "sys_id": "APP040033545",
                                    "owner_id": "us_34800",
                                    "last_update_date": "2023-11-15 00:05:13.787",
                                    "cumsum_total_vul": "187606",
                                    "cumsum_vul_patched": "84548"
                                },
                                {
                                    "sys_id": "APP047474110",
                                    "owner_id": "au_75432",
                                    "last_update_date": "2023-11-15 00:05:13.787",
                                    "cumsum_total_vul": "187800",
                                    "cumsum_vul_patched": "84674"
                                },
                                {
                                    "sys_id": "APP042603326",
                                    "owner_id": "au_77600",
                                    "last_update_date": "2023-11-15 00:05:13.787",
                                    "cumsum_total_vul": "188015",
                                    "cumsum_vul_patched": "84792"
                                },
                                {
                                    "sys_id": "SYS128638406",
                                    "owner_id": "eu_11838",
                                    "last_update_date": "2023-11-15 00:05:13.787",
                                    "cumsum_total_vul": "188198",
                                    "cumsum_vul_patched": "84898"
                                },
                                {
                                    "sys_id": "SYS120396526",
                                    "owner_id": "au_15315",
                                    "last_update_date": "2023-11-15 00:05:13.787",
                                    "cumsum_total_vul": "188512",
                                    "cumsum_vul_patched": "85067"
                                },
                                {
                                    "sys_id": "SYS116667609",
                                    "owner_id": "au_75432",
                                    "last_update_date": "2023-11-15 00:05:13.787",
                                    "cumsum_total_vul": "188806",
                                    "cumsum_vul_patched": "85234"
                                },
                                {
                                    "sys_id": "WEB109606538",
                                    "owner_id": "au_86362",
                                    "last_update_date": "2023-11-15 00:05:13.787",
                                    "cumsum_total_vul": "189022",
                                    "cumsum_vul_patched": "85354"
                                },
                                {
                                    "sys_id": "WEB076609930",
                                    "owner_id": "eu_11838",
                                    "last_update_date": "2023-11-15 00:05:13.787",
                                    "cumsum_total_vul": "189331",
                                    "cumsum_vul_patched": "85533"
                                },
                                {
                                    "sys_id": "WEB089470554",
                                    "owner_id": "us_68077",
                                    "last_update_date": "2023-11-15 00:05:13.787",
                                    "cumsum_total_vul": "189513",
                                    "cumsum_vul_patched": "85664"
                                },
                                {
                                    "sys_id": "WEB027908075",
                                    "owner_id": "us_57346",
                                    "last_update_date": "2023-11-15 00:05:13.797",
                                    "cumsum_total_vul": "189733",
                                    "cumsum_vul_patched": "85811"
                                },
                                {
                                    "sys_id": "APP109162470",
                                    "owner_id": "us_15438",
                                    "last_update_date": "2023-11-15 00:05:13.797",
                                    "cumsum_total_vul": "189892",
                                    "cumsum_vul_patched": "85928"
                                },
                                {
                                    "sys_id": "SYS018678084",
                                    "owner_id": "us_57346",
                                    "last_update_date": "2023-11-15 00:05:13.797",
                                    "cumsum_total_vul": "190106",
                                    "cumsum_vul_patched": "86054"
                                },
                                {
                                    "sys_id": "APP123846895",
                                    "owner_id": "au_15315",
                                    "last_update_date": "2023-11-15 00:05:13.800",
                                    "cumsum_total_vul": "190404",
                                    "cumsum_vul_patched": "86229"
                                },
                                {
                                    "sys_id": "SYS031503178",
                                    "owner_id": "eu_10858",
                                    "last_update_date": "2023-11-15 00:05:13.800",
                                    "cumsum_total_vul": "190727",
                                    "cumsum_vul_patched": "86406"
                                },
                                {
                                    "sys_id": "APP102107526",
                                    "owner_id": "au_40513",
                                    "last_update_date": "2023-11-15 00:05:13.800",
                                    "cumsum_total_vul": "191021",
                                    "cumsum_vul_patched": "86594"
                                },
                                {
                                    "sys_id": "APP086452083",
                                    "owner_id": "eu_22256",
                                    "last_update_date": "2023-11-15 00:05:13.800",
                                    "cumsum_total_vul": "191265",
                                    "cumsum_vul_patched": "86769"
                                },
                                {
                                    "sys_id": "APP072997950",
                                    "owner_id": "us_34800",
                                    "last_update_date": "2023-11-15 00:05:13.800",
                                    "cumsum_total_vul": "191489",
                                    "cumsum_vul_patched": "86919"
                                },
                                {
                                    "sys_id": "APP076372393",
                                    "owner_id": "au_75432",
                                    "last_update_date": "2023-11-15 00:05:13.800",
                                    "cumsum_total_vul": "191664",
                                    "cumsum_vul_patched": "87024"
                                },
                                {
                                    "sys_id": "APP055046174",
                                    "owner_id": "eu_22256",
                                    "last_update_date": "2023-11-15 00:05:13.800",
                                    "cumsum_total_vul": "191865",
                                    "cumsum_vul_patched": "87138"
                                },
                                {
                                    "sys_id": "APP018536867",
                                    "owner_id": "eu_22256",
                                    "last_update_date": "2023-11-15 00:05:13.800",
                                    "cumsum_total_vul": "192067",
                                    "cumsum_vul_patched": "87273"
                                },
                                {
                                    "sys_id": "APP078633755",
                                    "owner_id": "au_75432",
                                    "last_update_date": "2023-11-16 00:05:13.787",
                                    "cumsum_total_vul": "192252",
                                    "cumsum_vul_patched": "87396"
                                },
                                {
                                    "sys_id": "SYS028233985",
                                    "owner_id": "us_34800",
                                    "last_update_date": "2023-11-16 00:05:13.787",
                                    "cumsum_total_vul": "192547",
                                    "cumsum_vul_patched": "87573"
                                },
                                {
                                    "sys_id": "SYS029832738",
                                    "owner_id": "us_10113",
                                    "last_update_date": "2023-11-16 00:05:13.787",
                                    "cumsum_total_vul": "192746",
                                    "cumsum_vul_patched": "87716"
                                },
                                {
                                    "sys_id": "APP115289538",
                                    "owner_id": "eu_22256",
                                    "last_update_date": "2023-11-16 00:05:13.787",
                                    "cumsum_total_vul": "193031",
                                    "cumsum_vul_patched": "87887"
                                },
                                {
                                    "sys_id": "SYS016625327",
                                    "owner_id": "eu_11838",
                                    "last_update_date": "2023-11-16 00:05:13.787",
                                    "cumsum_total_vul": "193223",
                                    "cumsum_vul_patched": "88007"
                                },
                                {
                                    "sys_id": "SYS013690038",
                                    "owner_id": "us_52113",
                                    "last_update_date": "2023-11-16 00:05:13.787",
                                    "cumsum_total_vul": "193499",
                                    "cumsum_vul_patched": "88183"
                                },
                                {
                                    "sys_id": "SYS014556113",
                                    "owner_id": "eu_56544",
                                    "last_update_date": "2023-11-16 00:05:13.787",
                                    "cumsum_total_vul": "193684",
                                    "cumsum_vul_patched": "88316"
                                },
                                {
                                    "sys_id": "SYS046134079",
                                    "owner_id": "au_15315",
                                    "last_update_date": "2023-11-16 00:05:13.787",
                                    "cumsum_total_vul": "193875",
                                    "cumsum_vul_patched": "88451"
                                },
                                {
                                    "sys_id": "SYS060455624",
                                    "owner_id": "us_19904",
                                    "last_update_date": "2023-11-16 00:05:13.787",
                                    "cumsum_total_vul": "194065",
                                    "cumsum_vul_patched": "88582"
                                },
                                {
                                    "sys_id": "WEB020801328",
                                    "owner_id": "eu_69372",
                                    "last_update_date": "2023-11-16 00:05:13.787",
                                    "cumsum_total_vul": "194228",
                                    "cumsum_vul_patched": "88694"
                                },
                                {
                                    "sys_id": "WEB032047277",
                                    "owner_id": "us_15438",
                                    "last_update_date": "2023-11-16 00:05:13.787",
                                    "cumsum_total_vul": "194551",
                                    "cumsum_vul_patched": "88871"
                                },
                                {
                                    "sys_id": "WEB041034132",
                                    "owner_id": "eu_77467",
                                    "last_update_date": "2023-11-16 00:05:13.787",
                                    "cumsum_total_vul": "194864",
                                    "cumsum_vul_patched": "89061"
                                },
                                {
                                    "sys_id": "WEB053171397",
                                    "owner_id": "eu_23263",
                                    "last_update_date": "2023-11-16 00:05:13.787",
                                    "cumsum_total_vul": "195188",
                                    "cumsum_vul_patched": "89255"
                                },
                                {
                                    "sys_id": "SYS115128686",
                                    "owner_id": "au_86362",
                                    "last_update_date": "2023-11-16 00:05:13.787",
                                    "cumsum_total_vul": "195407",
                                    "cumsum_vul_patched": "89377"
                                },
                                {
                                    "sys_id": "SYS117676770",
                                    "owner_id": "us_52113",
                                    "last_update_date": "2023-11-16 00:05:13.787",
                                    "cumsum_total_vul": "195682",
                                    "cumsum_vul_patched": "89550"
                                },
                                {
                                    "sys_id": "SYS125711300",
                                    "owner_id": "us_19904",
                                    "last_update_date": "2023-11-16 00:05:13.787",
                                    "cumsum_total_vul": "195883",
                                    "cumsum_vul_patched": "89678"
                                },
                                {
                                    "sys_id": "SYS109173812",
                                    "owner_id": "eu_10858",
                                    "last_update_date": "2023-11-16 00:05:13.787",
                                    "cumsum_total_vul": "196083",
                                    "cumsum_vul_patched": "89802"
                                },
                                {
                                    "sys_id": "SYS110017019",
                                    "owner_id": "au_89783",
                                    "last_update_date": "2023-11-16 00:05:13.787",
                                    "cumsum_total_vul": "196299",
                                    "cumsum_vul_patched": "89931"
                                },
                                {
                                    "sys_id": "WEB110074324",
                                    "owner_id": "au_86362",
                                    "last_update_date": "2023-11-16 00:05:13.787",
                                    "cumsum_total_vul": "196626",
                                    "cumsum_vul_patched": "90127"
                                },
                                {
                                    "sys_id": "WEB124825132",
                                    "owner_id": "us_34800",
                                    "last_update_date": "2023-11-16 00:05:13.787",
                                    "cumsum_total_vul": "196829",
                                    "cumsum_vul_patched": "90252"
                                },
                                {
                                    "sys_id": "WEB118245582",
                                    "owner_id": "au_18036",
                                    "last_update_date": "2023-11-16 00:05:13.797",
                                    "cumsum_total_vul": "197109",
                                    "cumsum_vul_patched": "90422"
                                },
                                {
                                    "sys_id": "APP099266596",
                                    "owner_id": "us_57346",
                                    "last_update_date": "2023-11-16 00:05:13.797",
                                    "cumsum_total_vul": "197337",
                                    "cumsum_vul_patched": "90561"
                                },
                                {
                                    "sys_id": "APP016356515",
                                    "owner_id": "au_25552",
                                    "last_update_date": "2023-11-16 00:05:13.797",
                                    "cumsum_total_vul": "197527",
                                    "cumsum_vul_patched": "90694"
                                },
                                {
                                    "sys_id": "APP045743843",
                                    "owner_id": "us_52113",
                                    "last_update_date": "2023-11-16 00:05:13.800",
                                    "cumsum_total_vul": "197702",
                                    "cumsum_vul_patched": "90790"
                                },
                                {
                                    "sys_id": "SYS069116650",
                                    "owner_id": "au_77600",
                                    "last_update_date": "2023-11-16 00:05:13.800",
                                    "cumsum_total_vul": "197898",
                                    "cumsum_vul_patched": "90909"
                                },
                                {
                                    "sys_id": "SYS070868036",
                                    "owner_id": "eu_11838",
                                    "last_update_date": "2023-11-16 00:05:13.800",
                                    "cumsum_total_vul": "198085",
                                    "cumsum_vul_patched": "91034"
                                },
                                {
                                    "sys_id": "SYS074908277",
                                    "owner_id": "us_10113",
                                    "last_update_date": "2023-11-16 00:05:13.800",
                                    "cumsum_total_vul": "198269",
                                    "cumsum_vul_patched": "91160"
                                },
                                {
                                    "sys_id": "SYS099258326",
                                    "owner_id": "us_57346",
                                    "last_update_date": "2023-11-16 00:05:13.800",
                                    "cumsum_total_vul": "198455",
                                    "cumsum_vul_patched": "91286"
                                },
                                {
                                    "sys_id": "WEB060145565",
                                    "owner_id": "us_52113",
                                    "last_update_date": "2023-11-16 00:05:13.800",
                                    "cumsum_total_vul": "198777",
                                    "cumsum_vul_patched": "91459"
                                },
                                {
                                    "sys_id": "WEB051199863",
                                    "owner_id": "au_18036",
                                    "last_update_date": "2023-11-17 00:05:13.787",
                                    "cumsum_total_vul": "199006",
                                    "cumsum_vul_patched": "91633"
                                },
                                {
                                    "sys_id": "WEB051395379",
                                    "owner_id": "au_25552",
                                    "last_update_date": "2023-11-17 00:05:13.787",
                                    "cumsum_total_vul": "199207",
                                    "cumsum_vul_patched": "91755"
                                },
                                {
                                    "sys_id": "WEB026475253",
                                    "owner_id": "eu_10858",
                                    "last_update_date": "2023-11-17 00:05:13.787",
                                    "cumsum_total_vul": "199399",
                                    "cumsum_vul_patched": "91899"
                                },
                                {
                                    "sys_id": "WEB117865277",
                                    "owner_id": "us_34800",
                                    "last_update_date": "2023-11-17 00:05:13.787",
                                    "cumsum_total_vul": "199585",
                                    "cumsum_vul_patched": "92025"
                                },
                                {
                                    "sys_id": "SYS051418324",
                                    "owner_id": "au_89783",
                                    "last_update_date": "2023-11-17 00:05:13.787",
                                    "cumsum_total_vul": "199769",
                                    "cumsum_vul_patched": "92148"
                                },
                                {
                                    "sys_id": "APP127468075",
                                    "owner_id": "au_77600",
                                    "last_update_date": "2023-11-17 00:05:13.787",
                                    "cumsum_total_vul": "199932",
                                    "cumsum_vul_patched": "92249"
                                },
                                {
                                    "sys_id": "APP053842493",
                                    "owner_id": "eu_77467",
                                    "last_update_date": "2023-11-17 00:05:13.787",
                                    "cumsum_total_vul": "200232",
                                    "cumsum_vul_patched": "92438"
                                },
                                {
                                    "sys_id": "APP060029212",
                                    "owner_id": "us_19904",
                                    "last_update_date": "2023-11-17 00:05:13.787",
                                    "cumsum_total_vul": "200398",
                                    "cumsum_vul_patched": "92549"
                                },
                                {
                                    "sys_id": "APP061484652",
                                    "owner_id": "au_11362",
                                    "last_update_date": "2023-11-17 00:05:13.787",
                                    "cumsum_total_vul": "200593",
                                    "cumsum_vul_patched": "92685"
                                },
                                {
                                    "sys_id": "APP024770057",
                                    "owner_id": "us_52113",
                                    "last_update_date": "2023-11-17 00:05:13.787",
                                    "cumsum_total_vul": "200801",
                                    "cumsum_vul_patched": "92843"
                                },
                                {
                                    "sys_id": "APP023433201",
                                    "owner_id": "eu_22256",
                                    "last_update_date": "2023-11-17 00:05:13.787",
                                    "cumsum_total_vul": "201008",
                                    "cumsum_vul_patched": "92985"
                                },
                                {
                                    "sys_id": "APP077626763",
                                    "owner_id": "eu_10858",
                                    "last_update_date": "2023-11-17 00:05:13.787",
                                    "cumsum_total_vul": "201230",
                                    "cumsum_vul_patched": "93151"
                                },
                                {
                                    "sys_id": "APP029346677",
                                    "owner_id": "us_10113",
                                    "last_update_date": "2023-11-17 00:05:13.797",
                                    "cumsum_total_vul": "201439",
                                    "cumsum_vul_patched": "93280"
                                },
                                {
                                    "sys_id": "WEB027157729",
                                    "owner_id": "us_57346",
                                    "last_update_date": "2023-11-17 00:05:13.800",
                                    "cumsum_total_vul": "201752",
                                    "cumsum_vul_patched": "93452"
                                },
                                {
                                    "sys_id": "WEB039251888",
                                    "owner_id": "us_57346",
                                    "last_update_date": "2023-11-17 00:05:13.800",
                                    "cumsum_total_vul": "201949",
                                    "cumsum_vul_patched": "93564"
                                },
                                {
                                    "sys_id": "WEB025579244",
                                    "owner_id": "eu_10858",
                                    "last_update_date": "2023-11-18 00:05:13.787",
                                    "cumsum_total_vul": "202165",
                                    "cumsum_vul_patched": "93700"
                                },
                                {
                                    "sys_id": "WEB026668701",
                                    "owner_id": "us_34800",
                                    "last_update_date": "2023-11-18 00:05:13.787",
                                    "cumsum_total_vul": "202350",
                                    "cumsum_vul_patched": "93811"
                                },
                                {
                                    "sys_id": "SYS091645351",
                                    "owner_id": "eu_56544",
                                    "last_update_date": "2023-11-18 00:05:13.787",
                                    "cumsum_total_vul": "202635",
                                    "cumsum_vul_patched": "93990"
                                },
                                {
                                    "sys_id": "SYS106582710",
                                    "owner_id": "us_34800",
                                    "last_update_date": "2023-11-18 00:05:13.787",
                                    "cumsum_total_vul": "202934",
                                    "cumsum_vul_patched": "94166"
                                },
                                {
                                    "sys_id": "WEB012726149",
                                    "owner_id": "us_34800",
                                    "last_update_date": "2023-11-18 00:05:13.787",
                                    "cumsum_total_vul": "203121",
                                    "cumsum_vul_patched": "94283"
                                },
                                {
                                    "sys_id": "SYS112697314",
                                    "owner_id": "us_15438",
                                    "last_update_date": "2023-11-18 00:05:13.787",
                                    "cumsum_total_vul": "203295",
                                    "cumsum_vul_patched": "94382"
                                },
                                {
                                    "sys_id": "WEB104155217",
                                    "owner_id": "au_15315",
                                    "last_update_date": "2023-11-18 00:05:13.787",
                                    "cumsum_total_vul": "203531",
                                    "cumsum_vul_patched": "94547"
                                },
                                {
                                    "sys_id": "WEB108552418",
                                    "owner_id": "au_15315",
                                    "last_update_date": "2023-11-18 00:05:13.787",
                                    "cumsum_total_vul": "203852",
                                    "cumsum_vul_patched": "94752"
                                },
                                {
                                    "sys_id": "APP034731785",
                                    "owner_id": "eu_10858",
                                    "last_update_date": "2023-11-18 00:05:13.787",
                                    "cumsum_total_vul": "204105",
                                    "cumsum_vul_patched": "94908"
                                },
                                {
                                    "sys_id": "APP022368513",
                                    "owner_id": "eu_56544",
                                    "last_update_date": "2023-11-18 00:05:13.787",
                                    "cumsum_total_vul": "204323",
                                    "cumsum_vul_patched": "95049"
                                },
                                {
                                    "sys_id": "APP015685669",
                                    "owner_id": "eu_23263",
                                    "last_update_date": "2023-11-18 00:05:13.787",
                                    "cumsum_total_vul": "204526",
                                    "cumsum_vul_patched": "95166"
                                },
                                {
                                    "sys_id": "APP080143631",
                                    "owner_id": "au_15315",
                                    "last_update_date": "2023-11-18 00:05:13.787",
                                    "cumsum_total_vul": "204691",
                                    "cumsum_vul_patched": "95281"
                                },
                                {
                                    "sys_id": "APP116224440",
                                    "owner_id": "au_77600",
                                    "last_update_date": "2023-11-18 00:05:13.787",
                                    "cumsum_total_vul": "204992",
                                    "cumsum_vul_patched": "95452"
                                },
                                {
                                    "sys_id": "APP110250397",
                                    "owner_id": "us_10113",
                                    "last_update_date": "2023-11-18 00:05:13.787",
                                    "cumsum_total_vul": "205164",
                                    "cumsum_vul_patched": "95572"
                                },
                                {
                                    "sys_id": "SYS016990162",
                                    "owner_id": "eu_11838",
                                    "last_update_date": "2023-11-18 00:05:13.787",
                                    "cumsum_total_vul": "205379",
                                    "cumsum_vul_patched": "95713"
                                },
                                {
                                    "sys_id": "APP124419865",
                                    "owner_id": "us_19904",
                                    "last_update_date": "2023-11-18 00:05:13.787",
                                    "cumsum_total_vul": "205694",
                                    "cumsum_vul_patched": "95889"
                                },
                                {
                                    "sys_id": "SYS041003309",
                                    "owner_id": "au_25552",
                                    "last_update_date": "2023-11-18 00:05:13.787",
                                    "cumsum_total_vul": "205896",
                                    "cumsum_vul_patched": "96030"
                                },
                                {
                                    "sys_id": "SYS055786104",
                                    "owner_id": "us_19904",
                                    "last_update_date": "2023-11-18 00:05:13.787",
                                    "cumsum_total_vul": "206070",
                                    "cumsum_vul_patched": "96130"
                                },
                                {
                                    "sys_id": "SYS071015817",
                                    "owner_id": "au_86362",
                                    "last_update_date": "2023-11-18 00:05:13.787",
                                    "cumsum_total_vul": "206256",
                                    "cumsum_vul_patched": "96262"
                                },
                                {
                                    "sys_id": "SYS087169472",
                                    "owner_id": "au_15315",
                                    "last_update_date": "2023-11-18 00:05:13.797",
                                    "cumsum_total_vul": "206466",
                                    "cumsum_vul_patched": "96402"
                                },
                                {
                                    "sys_id": "WEB041498642",
                                    "owner_id": "us_34800",
                                    "last_update_date": "2023-11-18 00:05:13.797",
                                    "cumsum_total_vul": "206776",
                                    "cumsum_vul_patched": "96588"
                                },
                                {
                                    "sys_id": "WEB055184890",
                                    "owner_id": "au_25552",
                                    "last_update_date": "2023-11-18 00:05:13.797",
                                    "cumsum_total_vul": "206955",
                                    "cumsum_vul_patched": "96702"
                                },
                                {
                                    "sys_id": "WEB015281270",
                                    "owner_id": "eu_77467",
                                    "last_update_date": "2023-11-18 00:05:13.800",
                                    "cumsum_total_vul": "207138",
                                    "cumsum_vul_patched": "96826"
                                },
                                {
                                    "sys_id": "WEB015391034",
                                    "owner_id": "eu_23263",
                                    "last_update_date": "2023-11-18 00:05:13.800",
                                    "cumsum_total_vul": "207462",
                                    "cumsum_vul_patched": "97030"
                                },
                                {
                                    "sys_id": "SYS061863875",
                                    "owner_id": "au_15315",
                                    "last_update_date": "2023-11-18 00:05:13.800",
                                    "cumsum_total_vul": "207646",
                                    "cumsum_vul_patched": "97156"
                                },
                                {
                                    "sys_id": "APP075701321",
                                    "owner_id": "au_25552",
                                    "last_update_date": "2023-11-18 00:05:13.800",
                                    "cumsum_total_vul": "207881",
                                    "cumsum_vul_patched": "97301"
                                },
                                {
                                    "sys_id": "APP057174659",
                                    "owner_id": "us_10113",
                                    "last_update_date": "2023-11-18 00:05:13.800",
                                    "cumsum_total_vul": "208074",
                                    "cumsum_vul_patched": "97416"
                                },
                                {
                                    "sys_id": "APP048585422",
                                    "owner_id": "au_75432",
                                    "last_update_date": "2023-11-18 00:05:13.800",
                                    "cumsum_total_vul": "208381",
                                    "cumsum_vul_patched": "97612"
                                },
                                {
                                    "sys_id": "APP077242383",
                                    "owner_id": "au_75432",
                                    "last_update_date": "2023-11-19 00:05:13.787",
                                    "cumsum_total_vul": "208543",
                                    "cumsum_vul_patched": "97736"
                                },
                                {
                                    "sys_id": "APP067661563",
                                    "owner_id": "au_18036",
                                    "last_update_date": "2023-11-19 00:05:13.787",
                                    "cumsum_total_vul": "208760",
                                    "cumsum_vul_patched": "97905"
                                },
                                {
                                    "sys_id": "APP067662708",
                                    "owner_id": "au_40513",
                                    "last_update_date": "2023-11-19 00:05:13.787",
                                    "cumsum_total_vul": "208956",
                                    "cumsum_vul_patched": "98042"
                                },
                                {
                                    "sys_id": "APP071103716",
                                    "owner_id": "eu_56544",
                                    "last_update_date": "2023-11-19 00:05:13.787",
                                    "cumsum_total_vul": "209231",
                                    "cumsum_vul_patched": "98218"
                                },
                                {
                                    "sys_id": "APP078557446",
                                    "owner_id": "au_25552",
                                    "last_update_date": "2023-11-19 00:05:13.787",
                                    "cumsum_total_vul": "209446",
                                    "cumsum_vul_patched": "98351"
                                },
                                {
                                    "sys_id": "APP109560467",
                                    "owner_id": "au_18036",
                                    "last_update_date": "2023-11-19 00:05:13.787",
                                    "cumsum_total_vul": "209645",
                                    "cumsum_vul_patched": "98500"
                                },
                                {
                                    "sys_id": "SYS062175258",
                                    "owner_id": "eu_56544",
                                    "last_update_date": "2023-11-19 00:05:13.787",
                                    "cumsum_total_vul": "209849",
                                    "cumsum_vul_patched": "98648"
                                },
                                {
                                    "sys_id": "SYS054925199",
                                    "owner_id": "eu_11838",
                                    "last_update_date": "2023-11-19 00:05:13.787",
                                    "cumsum_total_vul": "210088",
                                    "cumsum_vul_patched": "98798"
                                },
                                {
                                    "sys_id": "SYS032579059",
                                    "owner_id": "au_89783",
                                    "last_update_date": "2023-11-19 00:05:13.787",
                                    "cumsum_total_vul": "210286",
                                    "cumsum_vul_patched": "98948"
                                },
                                {
                                    "sys_id": "APP129375975",
                                    "owner_id": "eu_51465",
                                    "last_update_date": "2023-11-19 00:05:13.787",
                                    "cumsum_total_vul": "210555",
                                    "cumsum_vul_patched": "99117"
                                },
                                {
                                    "sys_id": "SYS098375501",
                                    "owner_id": "au_40513",
                                    "last_update_date": "2023-11-19 00:05:13.787",
                                    "cumsum_total_vul": "210721",
                                    "cumsum_vul_patched": "99241"
                                },
                                {
                                    "sys_id": "SYS098019948",
                                    "owner_id": "eu_69372",
                                    "last_update_date": "2023-11-19 00:05:13.787",
                                    "cumsum_total_vul": "210910",
                                    "cumsum_vul_patched": "99382"
                                },
                                {
                                    "sys_id": "WEB053757588",
                                    "owner_id": "us_57346",
                                    "last_update_date": "2023-11-19 00:05:13.787",
                                    "cumsum_total_vul": "211105",
                                    "cumsum_vul_patched": "99493"
                                },
                                {
                                    "sys_id": "WEB059578855",
                                    "owner_id": "eu_51465",
                                    "last_update_date": "2023-11-19 00:05:13.787",
                                    "cumsum_total_vul": "211309",
                                    "cumsum_vul_patched": "99643"
                                },
                                {
                                    "sys_id": "WEB046111555",
                                    "owner_id": "au_25552",
                                    "last_update_date": "2023-11-19 00:05:13.787",
                                    "cumsum_total_vul": "211621",
                                    "cumsum_vul_patched": "99833"
                                },
                                {
                                    "sys_id": "WEB038073740",
                                    "owner_id": "au_89783",
                                    "last_update_date": "2023-11-19 00:05:13.787",
                                    "cumsum_total_vul": "211827",
                                    "cumsum_vul_patched": "99962"
                                },
                                {
                                    "sys_id": "WEB033747408",
                                    "owner_id": "au_18036",
                                    "last_update_date": "2023-11-19 00:05:13.787",
                                    "cumsum_total_vul": "212027",
                                    "cumsum_vul_patched": "100082"
                                },
                                {
                                    "sys_id": "WEB027271553",
                                    "owner_id": "us_68077",
                                    "last_update_date": "2023-11-19 00:05:13.787",
                                    "cumsum_total_vul": "212221",
                                    "cumsum_vul_patched": "100206"
                                },
                                {
                                    "sys_id": "WEB022678889",
                                    "owner_id": "au_11362",
                                    "last_update_date": "2023-11-19 00:05:13.787",
                                    "cumsum_total_vul": "212518",
                                    "cumsum_vul_patched": "100378"
                                },
                                {
                                    "sys_id": "WEB120648902",
                                    "owner_id": "us_57346",
                                    "last_update_date": "2023-11-19 00:05:13.787",
                                    "cumsum_total_vul": "212756",
                                    "cumsum_vul_patched": "100527"
                                },
                                {
                                    "sys_id": "WEB121884422",
                                    "owner_id": "au_89783",
                                    "last_update_date": "2023-11-19 00:05:13.787",
                                    "cumsum_total_vul": "212968",
                                    "cumsum_vul_patched": "100681"
                                },
                                {
                                    "sys_id": "WEB067823291",
                                    "owner_id": "eu_22256",
                                    "last_update_date": "2023-11-19 00:05:13.800",
                                    "cumsum_total_vul": "213178",
                                    "cumsum_vul_patched": "100832"
                                },
                                {
                                    "sys_id": "WEB013173102",
                                    "owner_id": "au_18036",
                                    "last_update_date": "2023-11-19 00:05:13.800",
                                    "cumsum_total_vul": "213456",
                                    "cumsum_vul_patched": "100996"
                                },
                                {
                                    "sys_id": "SYS051448857",
                                    "owner_id": "us_15438",
                                    "last_update_date": "2023-11-19 00:05:13.800",
                                    "cumsum_total_vul": "213671",
                                    "cumsum_vul_patched": "101129"
                                },
                                {
                                    "sys_id": "SYS030873757",
                                    "owner_id": "us_52113",
                                    "last_update_date": "2023-11-20 00:05:13.787",
                                    "cumsum_total_vul": "213895",
                                    "cumsum_vul_patched": "101297"
                                },
                                {
                                    "sys_id": "SYS035867360",
                                    "owner_id": "eu_56544",
                                    "last_update_date": "2023-11-20 00:05:13.787",
                                    "cumsum_total_vul": "214095",
                                    "cumsum_vul_patched": "101426"
                                },
                                {
                                    "sys_id": "APP112288516",
                                    "owner_id": "au_89783",
                                    "last_update_date": "2023-11-20 00:05:13.787",
                                    "cumsum_total_vul": "214269",
                                    "cumsum_vul_patched": "101539"
                                },
                                {
                                    "sys_id": "APP085107999",
                                    "owner_id": "au_40513",
                                    "last_update_date": "2023-11-20 00:05:13.787",
                                    "cumsum_total_vul": "214548",
                                    "cumsum_vul_patched": "101703"
                                },
                                {
                                    "sys_id": "APP038809574",
                                    "owner_id": "eu_23263",
                                    "last_update_date": "2023-11-20 00:05:13.787",
                                    "cumsum_total_vul": "214766",
                                    "cumsum_vul_patched": "101853"
                                },
                                {
                                    "sys_id": "WEB052661798",
                                    "owner_id": "eu_11838",
                                    "last_update_date": "2023-11-20 00:05:13.787",
                                    "cumsum_total_vul": "214940",
                                    "cumsum_vul_patched": "101974"
                                },
                                {
                                    "sys_id": "WEB024124784",
                                    "owner_id": "au_16507",
                                    "last_update_date": "2023-11-20 00:05:13.787",
                                    "cumsum_total_vul": "215154",
                                    "cumsum_vul_patched": "102119"
                                },
                                {
                                    "sys_id": "WEB035358413",
                                    "owner_id": "eu_51465",
                                    "last_update_date": "2023-11-20 00:05:13.787",
                                    "cumsum_total_vul": "215360",
                                    "cumsum_vul_patched": "102273"
                                },
                                {
                                    "sys_id": "WEB108992175",
                                    "owner_id": "au_15315",
                                    "last_update_date": "2023-11-20 00:05:13.787",
                                    "cumsum_total_vul": "215675",
                                    "cumsum_vul_patched": "102465"
                                },
                                {
                                    "sys_id": "WEB104812602",
                                    "owner_id": "eu_22256",
                                    "last_update_date": "2023-11-20 00:05:13.787",
                                    "cumsum_total_vul": "215875",
                                    "cumsum_vul_patched": "102620"
                                },
                                {
                                    "sys_id": "WEB109386777",
                                    "owner_id": "eu_69372",
                                    "last_update_date": "2023-11-20 00:05:13.787",
                                    "cumsum_total_vul": "216189",
                                    "cumsum_vul_patched": "102808"
                                },
                                {
                                    "sys_id": "WEB109410135",
                                    "owner_id": "us_34800",
                                    "last_update_date": "2023-11-20 00:05:13.787",
                                    "cumsum_total_vul": "216362",
                                    "cumsum_vul_patched": "102942"
                                },
                                {
                                    "sys_id": "WEB044717540",
                                    "owner_id": "au_86362",
                                    "last_update_date": "2023-11-20 00:05:13.797",
                                    "cumsum_total_vul": "216593",
                                    "cumsum_vul_patched": "103094"
                                },
                                {
                                    "sys_id": "APP036944868",
                                    "owner_id": "au_77600",
                                    "last_update_date": "2023-11-20 00:05:13.797",
                                    "cumsum_total_vul": "216757",
                                    "cumsum_vul_patched": "103218"
                                },
                                {
                                    "sys_id": "APP036921247",
                                    "owner_id": "au_25552",
                                    "last_update_date": "2023-11-20 00:05:13.800",
                                    "cumsum_total_vul": "216934",
                                    "cumsum_vul_patched": "103345"
                                },
                                {
                                    "sys_id": "APP052140662",
                                    "owner_id": "au_77600",
                                    "last_update_date": "2023-11-20 00:05:13.800",
                                    "cumsum_total_vul": "217100",
                                    "cumsum_vul_patched": "103459"
                                },
                                {
                                    "sys_id": "APP071872348",
                                    "owner_id": "eu_77467",
                                    "last_update_date": "2023-11-20 00:05:13.800",
                                    "cumsum_total_vul": "217320",
                                    "cumsum_vul_patched": "103632"
                                },
                                {
                                    "sys_id": "SYS015129277",
                                    "owner_id": "us_57346",
                                    "last_update_date": "2023-11-20 00:05:13.800",
                                    "cumsum_total_vul": "217499",
                                    "cumsum_vul_patched": "103737"
                                },
                                {
                                    "sys_id": "SYS076742868",
                                    "owner_id": "eu_77467",
                                    "last_update_date": "2023-11-20 00:05:13.800",
                                    "cumsum_total_vul": "217835",
                                    "cumsum_vul_patched": "103945"
                                },
                                {
                                    "sys_id": "SYS080241038",
                                    "owner_id": "au_75432",
                                    "last_update_date": "2023-11-21 00:05:13.787",
                                    "cumsum_total_vul": "218104",
                                    "cumsum_vul_patched": "104109"
                                },
                                {
                                    "sys_id": "SYS037824893",
                                    "owner_id": "au_89783",
                                    "last_update_date": "2023-11-21 00:05:13.787",
                                    "cumsum_total_vul": "218291",
                                    "cumsum_vul_patched": "104230"
                                },
                                {
                                    "sys_id": "APP086773597",
                                    "owner_id": "au_18036",
                                    "last_update_date": "2023-11-21 00:05:13.787",
                                    "cumsum_total_vul": "218468",
                                    "cumsum_vul_patched": "104345"
                                },
                                {
                                    "sys_id": "APP082896232",
                                    "owner_id": "au_16507",
                                    "last_update_date": "2023-11-21 00:05:13.787",
                                    "cumsum_total_vul": "218752",
                                    "cumsum_vul_patched": "104515"
                                },
                                {
                                    "sys_id": "APP093561598",
                                    "owner_id": "au_25552",
                                    "last_update_date": "2023-11-21 00:05:13.787",
                                    "cumsum_total_vul": "218938",
                                    "cumsum_vul_patched": "104648"
                                },
                                {
                                    "sys_id": "APP062742050",
                                    "owner_id": "au_86362",
                                    "last_update_date": "2023-11-21 00:05:13.787",
                                    "cumsum_total_vul": "219132",
                                    "cumsum_vul_patched": "104801"
                                },
                                {
                                    "sys_id": "APP034745179",
                                    "owner_id": "eu_69372",
                                    "last_update_date": "2023-11-21 00:05:13.787",
                                    "cumsum_total_vul": "219336",
                                    "cumsum_vul_patched": "104925"
                                },
                                {
                                    "sys_id": "WEB034628733",
                                    "owner_id": "eu_77467",
                                    "last_update_date": "2023-11-21 00:05:13.787",
                                    "cumsum_total_vul": "219533",
                                    "cumsum_vul_patched": "105068"
                                },
                                {
                                    "sys_id": "WEB029693799",
                                    "owner_id": "eu_23263",
                                    "last_update_date": "2023-11-21 00:05:13.787",
                                    "cumsum_total_vul": "219710",
                                    "cumsum_vul_patched": "105206"
                                },
                                {
                                    "sys_id": "WEB018760387",
                                    "owner_id": "us_10113",
                                    "last_update_date": "2023-11-21 00:05:13.787",
                                    "cumsum_total_vul": "219941",
                                    "cumsum_vul_patched": "105393"
                                },
                                {
                                    "sys_id": "WEB013236515",
                                    "owner_id": "au_11362",
                                    "last_update_date": "2023-11-21 00:05:13.787",
                                    "cumsum_total_vul": "220149",
                                    "cumsum_vul_patched": "105557"
                                },
                                {
                                    "sys_id": "SYS111570432",
                                    "owner_id": "eu_23263",
                                    "last_update_date": "2023-11-21 00:05:13.787",
                                    "cumsum_total_vul": "220365",
                                    "cumsum_vul_patched": "105723"
                                },
                                {
                                    "sys_id": "WEB127881911",
                                    "owner_id": "us_19904",
                                    "last_update_date": "2023-11-21 00:05:13.787",
                                    "cumsum_total_vul": "220565",
                                    "cumsum_vul_patched": "105847"
                                },
                                {
                                    "sys_id": "WEB123046996",
                                    "owner_id": "eu_23263",
                                    "last_update_date": "2023-11-21 00:05:13.787",
                                    "cumsum_total_vul": "220767",
                                    "cumsum_vul_patched": "105980"
                                },
                                {
                                    "sys_id": "WEB051108090",
                                    "owner_id": "us_52113",
                                    "last_update_date": "2023-11-21 00:05:13.797",
                                    "cumsum_total_vul": "220953",
                                    "cumsum_vul_patched": "106117"
                                },
                                {
                                    "sys_id": "SYS069579475",
                                    "owner_id": "au_89783",
                                    "last_update_date": "2023-11-21 00:05:13.797",
                                    "cumsum_total_vul": "221230",
                                    "cumsum_vul_patched": "106291"
                                },
                                {
                                    "sys_id": "SYS035478076",
                                    "owner_id": "us_19904",
                                    "last_update_date": "2023-11-21 00:05:13.800",
                                    "cumsum_total_vul": "221415",
                                    "cumsum_vul_patched": "106411"
                                },
                                {
                                    "sys_id": "APP042719508",
                                    "owner_id": "eu_10858",
                                    "last_update_date": "2023-11-21 00:05:13.800",
                                    "cumsum_total_vul": "221623",
                                    "cumsum_vul_patched": "106535"
                                },
                                {
                                    "sys_id": "WEB049407017",
                                    "owner_id": "au_77600",
                                    "last_update_date": "2023-11-21 00:05:13.800",
                                    "cumsum_total_vul": "221853",
                                    "cumsum_vul_patched": "106718"
                                },
                                {
                                    "sys_id": "WEB051969310",
                                    "owner_id": "au_18036",
                                    "last_update_date": "2023-11-21 00:05:13.800",
                                    "cumsum_total_vul": "222162",
                                    "cumsum_vul_patched": "106915"
                                },
                                {
                                    "sys_id": "WEB093248264",
                                    "owner_id": "au_86362",
                                    "last_update_date": "2023-11-21 00:05:13.800",
                                    "cumsum_total_vul": "222365",
                                    "cumsum_vul_patched": "107038"
                                },
                                {
                                    "sys_id": "WEB115415661",
                                    "owner_id": "us_34800",
                                    "last_update_date": "2023-11-22 00:05:13.787",
                                    "cumsum_total_vul": "222655",
                                    "cumsum_vul_patched": "107217"
                                },
                                {
                                    "sys_id": "WEB053114260",
                                    "owner_id": "au_18036",
                                    "last_update_date": "2023-11-22 00:05:13.787",
                                    "cumsum_total_vul": "222840",
                                    "cumsum_vul_patched": "107353"
                                },
                                {
                                    "sys_id": "WEB048505062",
                                    "owner_id": "us_34800",
                                    "last_update_date": "2023-11-22 00:05:13.787",
                                    "cumsum_total_vul": "223044",
                                    "cumsum_vul_patched": "107493"
                                },
                                {
                                    "sys_id": "WEB045346240",
                                    "owner_id": "us_34800",
                                    "last_update_date": "2023-11-22 00:05:13.787",
                                    "cumsum_total_vul": "223278",
                                    "cumsum_vul_patched": "107640"
                                },
                                {
                                    "sys_id": "SYS094252411",
                                    "owner_id": "au_15315",
                                    "last_update_date": "2023-11-22 00:05:13.787",
                                    "cumsum_total_vul": "223481",
                                    "cumsum_vul_patched": "107767"
                                },
                                {
                                    "sys_id": "APP030863534",
                                    "owner_id": "au_18036",
                                    "last_update_date": "2023-11-22 00:05:13.787",
                                    "cumsum_total_vul": "223649",
                                    "cumsum_vul_patched": "107901"
                                },
                                {
                                    "sys_id": "APP098153710",
                                    "owner_id": "us_52113",
                                    "last_update_date": "2023-11-22 00:05:13.787",
                                    "cumsum_total_vul": "223865",
                                    "cumsum_vul_patched": "108073"
                                },
                                {
                                    "sys_id": "APP118168504",
                                    "owner_id": "eu_51465",
                                    "last_update_date": "2023-11-22 00:05:13.787",
                                    "cumsum_total_vul": "224187",
                                    "cumsum_vul_patched": "108275"
                                },
                                {
                                    "sys_id": "SYS049473122",
                                    "owner_id": "eu_23263",
                                    "last_update_date": "2023-11-22 00:05:13.787",
                                    "cumsum_total_vul": "224401",
                                    "cumsum_vul_patched": "108424"
                                },
                                {
                                    "sys_id": "SYS098117293",
                                    "owner_id": "us_10113",
                                    "last_update_date": "2023-11-22 00:05:13.797",
                                    "cumsum_total_vul": "224617",
                                    "cumsum_vul_patched": "108581"
                                },
                                {
                                    "sys_id": "SYS111372135",
                                    "owner_id": "au_16507",
                                    "last_update_date": "2023-11-22 00:05:13.797",
                                    "cumsum_total_vul": "224916",
                                    "cumsum_vul_patched": "108766"
                                },
                                {
                                    "sys_id": "WEB058408586",
                                    "owner_id": "eu_69372",
                                    "last_update_date": "2023-11-22 00:05:13.797",
                                    "cumsum_total_vul": "225149",
                                    "cumsum_vul_patched": "108929"
                                },
                                {
                                    "sys_id": "WEB054857089",
                                    "owner_id": "eu_23263",
                                    "last_update_date": "2023-11-22 00:05:13.800",
                                    "cumsum_total_vul": "225354",
                                    "cumsum_vul_patched": "109093"
                                },
                                {
                                    "sys_id": "WEB016811490",
                                    "owner_id": "eu_77467",
                                    "last_update_date": "2023-11-22 00:05:13.800",
                                    "cumsum_total_vul": "225638",
                                    "cumsum_vul_patched": "109271"
                                },
                                {
                                    "sys_id": "SYS080160164",
                                    "owner_id": "au_40513",
                                    "last_update_date": "2023-11-22 00:05:13.800",
                                    "cumsum_total_vul": "225827",
                                    "cumsum_vul_patched": "109391"
                                },
                                {
                                    "sys_id": "SYS027946956",
                                    "owner_id": "au_18036",
                                    "last_update_date": "2023-11-22 00:05:13.800",
                                    "cumsum_total_vul": "226041",
                                    "cumsum_vul_patched": "109527"
                                },
                                {
                                    "sys_id": "APP093769387",
                                    "owner_id": "au_86362",
                                    "last_update_date": "2023-11-22 00:05:13.800",
                                    "cumsum_total_vul": "226215",
                                    "cumsum_vul_patched": "109669"
                                },
                                {
                                    "sys_id": "APP011413819",
                                    "owner_id": "eu_51465",
                                    "last_update_date": "2023-11-22 00:05:13.800",
                                    "cumsum_total_vul": "226521",
                                    "cumsum_vul_patched": "109864"
                                },
                                {
                                    "sys_id": "APP013070535",
                                    "owner_id": "au_11362",
                                    "last_update_date": "2023-11-23 00:05:13.787",
                                    "cumsum_total_vul": "226731",
                                    "cumsum_vul_patched": "110034"
                                },
                                {
                                    "sys_id": "APP112748467",
                                    "owner_id": "au_77600",
                                    "last_update_date": "2023-11-23 00:05:13.787",
                                    "cumsum_total_vul": "226906",
                                    "cumsum_vul_patched": "110172"
                                },
                                {
                                    "sys_id": "APP084034500",
                                    "owner_id": "eu_56544",
                                    "last_update_date": "2023-11-23 00:05:13.787",
                                    "cumsum_total_vul": "227118",
                                    "cumsum_vul_patched": "110345"
                                },
                                {
                                    "sys_id": "APP122029707",
                                    "owner_id": "eu_11838",
                                    "last_update_date": "2023-11-23 00:05:13.787",
                                    "cumsum_total_vul": "227303",
                                    "cumsum_vul_patched": "110470"
                                },
                                {
                                    "sys_id": "SYS084470122",
                                    "owner_id": "us_52113",
                                    "last_update_date": "2023-11-23 00:05:13.787",
                                    "cumsum_total_vul": "227599",
                                    "cumsum_vul_patched": "110653"
                                },
                                {
                                    "sys_id": "SYS047452996",
                                    "owner_id": "us_52113",
                                    "last_update_date": "2023-11-23 00:05:13.787",
                                    "cumsum_total_vul": "227784",
                                    "cumsum_vul_patched": "110801"
                                },
                                {
                                    "sys_id": "WEB025454440",
                                    "owner_id": "eu_56544",
                                    "last_update_date": "2023-11-23 00:05:13.787",
                                    "cumsum_total_vul": "227969",
                                    "cumsum_vul_patched": "110934"
                                },
                                {
                                    "sys_id": "SYS100784475",
                                    "owner_id": "au_40513",
                                    "last_update_date": "2023-11-23 00:05:13.787",
                                    "cumsum_total_vul": "228256",
                                    "cumsum_vul_patched": "111111"
                                },
                                {
                                    "sys_id": "SYS095156914",
                                    "owner_id": "au_11362",
                                    "last_update_date": "2023-11-23 00:05:13.787",
                                    "cumsum_total_vul": "228469",
                                    "cumsum_vul_patched": "111243"
                                },
                                {
                                    "sys_id": "WEB088713319",
                                    "owner_id": "au_86362",
                                    "last_update_date": "2023-11-23 00:05:13.787",
                                    "cumsum_total_vul": "228759",
                                    "cumsum_vul_patched": "111428"
                                },
                                {
                                    "sys_id": "WEB089010435",
                                    "owner_id": "eu_56544",
                                    "last_update_date": "2023-11-23 00:05:13.787",
                                    "cumsum_total_vul": "228970",
                                    "cumsum_vul_patched": "111592"
                                },
                                {
                                    "sys_id": "SYS128637656",
                                    "owner_id": "au_40513",
                                    "last_update_date": "2023-11-23 00:05:13.797",
                                    "cumsum_total_vul": "229137",
                                    "cumsum_vul_patched": "111695"
                                },
                                {
                                    "sys_id": "WEB065830341",
                                    "owner_id": "eu_10858",
                                    "last_update_date": "2023-11-23 00:05:13.800",
                                    "cumsum_total_vul": "229351",
                                    "cumsum_vul_patched": "111846"
                                },
                                {
                                    "sys_id": "SYS034916306",
                                    "owner_id": "au_11362",
                                    "last_update_date": "2023-11-23 00:05:13.800",
                                    "cumsum_total_vul": "229544",
                                    "cumsum_vul_patched": "111969"
                                },
                                {
                                    "sys_id": "SYS038728082",
                                    "owner_id": "us_15438",
                                    "last_update_date": "2023-11-24 00:05:13.787",
                                    "cumsum_total_vul": "229784",
                                    "cumsum_vul_patched": "112149"
                                },
                                {
                                    "sys_id": "SYS038951710",
                                    "owner_id": "au_18036",
                                    "last_update_date": "2023-11-24 00:05:13.787",
                                    "cumsum_total_vul": "230069",
                                    "cumsum_vul_patched": "112328"
                                },
                                {
                                    "sys_id": "SYS059825443",
                                    "owner_id": "au_40513",
                                    "last_update_date": "2023-11-24 00:05:13.787",
                                    "cumsum_total_vul": "230272",
                                    "cumsum_vul_patched": "112466"
                                },
                                {
                                    "sys_id": "APP087982701",
                                    "owner_id": "eu_23263",
                                    "last_update_date": "2023-11-24 00:05:13.787",
                                    "cumsum_total_vul": "230449",
                                    "cumsum_vul_patched": "112596"
                                },
                                {
                                    "sys_id": "APP088895790",
                                    "owner_id": "au_16507",
                                    "last_update_date": "2023-11-24 00:05:13.787",
                                    "cumsum_total_vul": "230654",
                                    "cumsum_vul_patched": "112737"
                                },
                                {
                                    "sys_id": "APP063394216",
                                    "owner_id": "au_89783",
                                    "last_update_date": "2023-11-24 00:05:13.787",
                                    "cumsum_total_vul": "230817",
                                    "cumsum_vul_patched": "112846"
                                },
                                {
                                    "sys_id": "APP068416160",
                                    "owner_id": "eu_10858",
                                    "last_update_date": "2023-11-24 00:05:13.787",
                                    "cumsum_total_vul": "231046",
                                    "cumsum_vul_patched": "113020"
                                },
                                {
                                    "sys_id": "APP116289003",
                                    "owner_id": "eu_23263",
                                    "last_update_date": "2023-11-24 00:05:13.787",
                                    "cumsum_total_vul": "231222",
                                    "cumsum_vul_patched": "113153"
                                },
                                {
                                    "sys_id": "APP025851496",
                                    "owner_id": "eu_56544",
                                    "last_update_date": "2023-11-24 00:05:13.787",
                                    "cumsum_total_vul": "231410",
                                    "cumsum_vul_patched": "113309"
                                },
                                {
                                    "sys_id": "WEB039959009",
                                    "owner_id": "au_11362",
                                    "last_update_date": "2023-11-24 00:05:13.787",
                                    "cumsum_total_vul": "231653",
                                    "cumsum_vul_patched": "113483"
                                },
                                {
                                    "sys_id": "WEB075512565",
                                    "owner_id": "eu_23263",
                                    "last_update_date": "2023-11-24 00:05:13.787",
                                    "cumsum_total_vul": "231839",
                                    "cumsum_vul_patched": "113622"
                                },
                                {
                                    "sys_id": "WEB074205938",
                                    "owner_id": "au_75432",
                                    "last_update_date": "2023-11-24 00:05:13.787",
                                    "cumsum_total_vul": "232029",
                                    "cumsum_vul_patched": "113749"
                                },
                                {
                                    "sys_id": "WEB115067161",
                                    "owner_id": "us_10113",
                                    "last_update_date": "2023-11-24 00:05:13.787",
                                    "cumsum_total_vul": "232222",
                                    "cumsum_vul_patched": "113882"
                                },
                                {
                                    "sys_id": "WEB107278751",
                                    "owner_id": "eu_56544",
                                    "last_update_date": "2023-11-24 00:05:13.787",
                                    "cumsum_total_vul": "232418",
                                    "cumsum_vul_patched": "114017"
                                },
                                {
                                    "sys_id": "WEB101022903",
                                    "owner_id": "us_15438",
                                    "last_update_date": "2023-11-24 00:05:13.787",
                                    "cumsum_total_vul": "232623",
                                    "cumsum_vul_patched": "114176"
                                },
                                {
                                    "sys_id": "WEB086205557",
                                    "owner_id": "us_15438",
                                    "last_update_date": "2023-11-24 00:05:13.800",
                                    "cumsum_total_vul": "232900",
                                    "cumsum_vul_patched": "114353"
                                },
                                {
                                    "sys_id": "WEB020409157",
                                    "owner_id": "au_40513",
                                    "last_update_date": "2023-11-24 00:05:13.800",
                                    "cumsum_total_vul": "233112",
                                    "cumsum_vul_patched": "114495"
                                },
                                {
                                    "sys_id": "APP018021440",
                                    "owner_id": "us_10113",
                                    "last_update_date": "2023-11-24 00:05:13.800",
                                    "cumsum_total_vul": "233333",
                                    "cumsum_vul_patched": "114656"
                                },
                                {
                                    "sys_id": "APP083564754",
                                    "owner_id": "us_52113",
                                    "last_update_date": "2023-11-24 00:05:13.800",
                                    "cumsum_total_vul": "233533",
                                    "cumsum_vul_patched": "114800"
                                },
                                {
                                    "sys_id": "APP019977001",
                                    "owner_id": "au_18036",
                                    "last_update_date": "2023-11-25 00:05:13.787",
                                    "cumsum_total_vul": "233718",
                                    "cumsum_vul_patched": "114923"
                                },
                                {
                                    "sys_id": "APP020447892",
                                    "owner_id": "eu_22256",
                                    "last_update_date": "2023-11-25 00:05:13.787",
                                    "cumsum_total_vul": "233934",
                                    "cumsum_vul_patched": "115063"
                                },
                                {
                                    "sys_id": "APP052232538",
                                    "owner_id": "eu_10858",
                                    "last_update_date": "2023-11-25 00:05:13.787",
                                    "cumsum_total_vul": "234144",
                                    "cumsum_vul_patched": "115235"
                                },
                                {
                                    "sys_id": "SYS084701684",
                                    "owner_id": "au_15315",
                                    "last_update_date": "2023-11-25 00:05:13.787",
                                    "cumsum_total_vul": "234320",
                                    "cumsum_vul_patched": "115356"
                                },
                                {
                                    "sys_id": "SYS074016583",
                                    "owner_id": "us_68077",
                                    "last_update_date": "2023-11-25 00:05:13.787",
                                    "cumsum_total_vul": "234516",
                                    "cumsum_vul_patched": "115483"
                                },
                                {
                                    "sys_id": "SYS045030569",
                                    "owner_id": "eu_69372",
                                    "last_update_date": "2023-11-25 00:05:13.787",
                                    "cumsum_total_vul": "234697",
                                    "cumsum_vul_patched": "115631"
                                },
                                {
                                    "sys_id": "SYS044103691",
                                    "owner_id": "eu_69372",
                                    "last_update_date": "2023-11-25 00:05:13.787",
                                    "cumsum_total_vul": "234881",
                                    "cumsum_vul_patched": "115763"
                                },
                                {
                                    "sys_id": "APP121486529",
                                    "owner_id": "au_86362",
                                    "last_update_date": "2023-11-25 00:05:13.787",
                                    "cumsum_total_vul": "235100",
                                    "cumsum_vul_patched": "115938"
                                },
                                {
                                    "sys_id": "WEB037047748",
                                    "owner_id": "us_34800",
                                    "last_update_date": "2023-11-25 00:05:13.787",
                                    "cumsum_total_vul": "235309",
                                    "cumsum_vul_patched": "116092"
                                },
                                {
                                    "sys_id": "WEB072344561",
                                    "owner_id": "us_34800",
                                    "last_update_date": "2023-11-25 00:05:13.787",
                                    "cumsum_total_vul": "235561",
                                    "cumsum_vul_patched": "116288"
                                },
                                {
                                    "sys_id": "WEB069996508",
                                    "owner_id": "us_34800",
                                    "last_update_date": "2023-11-25 00:05:13.787",
                                    "cumsum_total_vul": "235742",
                                    "cumsum_vul_patched": "116436"
                                },
                                {
                                    "sys_id": "WEB081179808",
                                    "owner_id": "us_34800",
                                    "last_update_date": "2023-11-25 00:05:13.787",
                                    "cumsum_total_vul": "235946",
                                    "cumsum_vul_patched": "116603"
                                },
                                {
                                    "sys_id": "WEB101334125",
                                    "owner_id": "au_77600",
                                    "last_update_date": "2023-11-25 00:05:13.787",
                                    "cumsum_total_vul": "236171",
                                    "cumsum_vul_patched": "116789"
                                },
                                {
                                    "sys_id": "WEB109650759",
                                    "owner_id": "us_68077",
                                    "last_update_date": "2023-11-25 00:05:13.787",
                                    "cumsum_total_vul": "236367",
                                    "cumsum_vul_patched": "116953"
                                },
                                {
                                    "sys_id": "WEB123276481",
                                    "owner_id": "au_75432",
                                    "last_update_date": "2023-11-25 00:05:13.787",
                                    "cumsum_total_vul": "236554",
                                    "cumsum_vul_patched": "117104"
                                },
                                {
                                    "sys_id": "SYS071125354",
                                    "owner_id": "au_18036",
                                    "last_update_date": "2023-11-25 00:05:13.797",
                                    "cumsum_total_vul": "236768",
                                    "cumsum_vul_patched": "117264"
                                },
                                {
                                    "sys_id": "APP010996887",
                                    "owner_id": "us_57346",
                                    "last_update_date": "2023-11-25 00:05:13.797",
                                    "cumsum_total_vul": "236935",
                                    "cumsum_vul_patched": "117382"
                                },
                                {
                                    "sys_id": "APP090157390",
                                    "owner_id": "eu_77467",
                                    "last_update_date": "2023-11-25 00:05:13.797",
                                    "cumsum_total_vul": "237249",
                                    "cumsum_vul_patched": "117582"
                                },
                                {
                                    "sys_id": "APP037031204",
                                    "owner_id": "us_15438",
                                    "last_update_date": "2023-11-25 00:05:13.800",
                                    "cumsum_total_vul": "237470",
                                    "cumsum_vul_patched": "117761"
                                },
                                {
                                    "sys_id": "SYS068008510",
                                    "owner_id": "eu_77467",
                                    "last_update_date": "2023-11-25 00:05:13.800",
                                    "cumsum_total_vul": "237673",
                                    "cumsum_vul_patched": "117897"
                                },
                                {
                                    "sys_id": "APP047966039",
                                    "owner_id": "us_52113",
                                    "last_update_date": "2023-11-26 00:05:13.787",
                                    "cumsum_total_vul": "237873",
                                    "cumsum_vul_patched": "118054"
                                },
                                {
                                    "sys_id": "APP075419516",
                                    "owner_id": "eu_22256",
                                    "last_update_date": "2023-11-26 00:05:13.787",
                                    "cumsum_total_vul": "238100",
                                    "cumsum_vul_patched": "118233"
                                },
                                {
                                    "sys_id": "WEB121241900",
                                    "owner_id": "au_40513",
                                    "last_update_date": "2023-11-26 00:05:13.787",
                                    "cumsum_total_vul": "238306",
                                    "cumsum_vul_patched": "118368"
                                },
                                {
                                    "sys_id": "WEB088427016",
                                    "owner_id": "eu_69372",
                                    "last_update_date": "2023-11-26 00:05:13.787",
                                    "cumsum_total_vul": "238508",
                                    "cumsum_vul_patched": "118533"
                                },
                                {
                                    "sys_id": "WEB034903526",
                                    "owner_id": "au_11362",
                                    "last_update_date": "2023-11-26 00:05:13.787",
                                    "cumsum_total_vul": "238736",
                                    "cumsum_vul_patched": "118685"
                                },
                                {
                                    "sys_id": "WEB025305159",
                                    "owner_id": "au_11362",
                                    "last_update_date": "2023-11-26 00:05:13.787",
                                    "cumsum_total_vul": "238949",
                                    "cumsum_vul_patched": "118831"
                                },
                                {
                                    "sys_id": "WEB061401059",
                                    "owner_id": "us_10113",
                                    "last_update_date": "2023-11-26 00:05:13.787",
                                    "cumsum_total_vul": "239127",
                                    "cumsum_vul_patched": "118950"
                                },
                                {
                                    "sys_id": "WEB015719836",
                                    "owner_id": "au_16507",
                                    "last_update_date": "2023-11-26 00:05:13.787",
                                    "cumsum_total_vul": "239330",
                                    "cumsum_vul_patched": "119100"
                                },
                                {
                                    "sys_id": "WEB012027589",
                                    "owner_id": "au_25552",
                                    "last_update_date": "2023-11-26 00:05:13.787",
                                    "cumsum_total_vul": "239534",
                                    "cumsum_vul_patched": "119255"
                                },
                                {
                                    "sys_id": "SYS115290967",
                                    "owner_id": "au_89783",
                                    "last_update_date": "2023-11-26 00:05:13.787",
                                    "cumsum_total_vul": "239750",
                                    "cumsum_vul_patched": "119410"
                                },
                                {
                                    "sys_id": "WEB112750374",
                                    "owner_id": "eu_22256",
                                    "last_update_date": "2023-11-26 00:05:13.797",
                                    "cumsum_total_vul": "239958",
                                    "cumsum_vul_patched": "119578"
                                },
                                {
                                    "sys_id": "SYS060036917",
                                    "owner_id": "eu_69372",
                                    "last_update_date": "2023-11-26 00:05:13.797",
                                    "cumsum_total_vul": "240179",
                                    "cumsum_vul_patched": "119763"
                                },
                                {
                                    "sys_id": "SYS048011844",
                                    "owner_id": "eu_11838",
                                    "last_update_date": "2023-11-26 00:05:13.797",
                                    "cumsum_total_vul": "240381",
                                    "cumsum_vul_patched": "119908"
                                },
                                {
                                    "sys_id": "SYS050369652",
                                    "owner_id": "au_16507",
                                    "last_update_date": "2023-11-26 00:05:13.800",
                                    "cumsum_total_vul": "240576",
                                    "cumsum_vul_patched": "120071"
                                },
                                {
                                    "sys_id": "SYS020276212",
                                    "owner_id": "us_34800",
                                    "last_update_date": "2023-11-26 00:05:13.800",
                                    "cumsum_total_vul": "240798",
                                    "cumsum_vul_patched": "120241"
                                },
                                {
                                    "sys_id": "SYS059663197",
                                    "owner_id": "eu_77467",
                                    "last_update_date": "2023-11-27 00:05:13.787",
                                    "cumsum_total_vul": "240981",
                                    "cumsum_vul_patched": "120389"
                                },
                                {
                                    "sys_id": "APP090182420",
                                    "owner_id": "au_15315",
                                    "last_update_date": "2023-11-27 00:05:13.787",
                                    "cumsum_total_vul": "241163",
                                    "cumsum_vul_patched": "120529"
                                },
                                {
                                    "sys_id": "APP088282743",
                                    "owner_id": "us_19904",
                                    "last_update_date": "2023-11-27 00:05:13.787",
                                    "cumsum_total_vul": "241351",
                                    "cumsum_vul_patched": "120670"
                                },
                                {
                                    "sys_id": "APP084993094",
                                    "owner_id": "au_40513",
                                    "last_update_date": "2023-11-27 00:05:13.787",
                                    "cumsum_total_vul": "241545",
                                    "cumsum_vul_patched": "120831"
                                },
                                {
                                    "sys_id": "APP099944177",
                                    "owner_id": "au_18036",
                                    "last_update_date": "2023-11-27 00:05:13.787",
                                    "cumsum_total_vul": "241734",
                                    "cumsum_vul_patched": "120972"
                                },
                                {
                                    "sys_id": "APP063195208",
                                    "owner_id": "eu_51465",
                                    "last_update_date": "2023-11-27 00:05:13.787",
                                    "cumsum_total_vul": "241923",
                                    "cumsum_vul_patched": "121113"
                                },
                                {
                                    "sys_id": "WEB100967056",
                                    "owner_id": "au_75432",
                                    "last_update_date": "2023-11-27 00:05:13.787",
                                    "cumsum_total_vul": "242095",
                                    "cumsum_vul_patched": "121235"
                                },
                                {
                                    "sys_id": "WEB125787295",
                                    "owner_id": "eu_51465",
                                    "last_update_date": "2023-11-27 00:05:13.787",
                                    "cumsum_total_vul": "242295",
                                    "cumsum_vul_patched": "121377"
                                },
                                {
                                    "sys_id": "SYS115271779",
                                    "owner_id": "eu_10858",
                                    "last_update_date": "2023-11-27 00:05:13.787",
                                    "cumsum_total_vul": "242518",
                                    "cumsum_vul_patched": "121564"
                                },
                                {
                                    "sys_id": "WEB011031055",
                                    "owner_id": "us_52113",
                                    "last_update_date": "2023-11-27 00:05:13.787",
                                    "cumsum_total_vul": "242718",
                                    "cumsum_vul_patched": "121726"
                                },
                                {
                                    "sys_id": "SYS095969693",
                                    "owner_id": "au_16507",
                                    "last_update_date": "2023-11-27 00:05:13.787",
                                    "cumsum_total_vul": "242922",
                                    "cumsum_vul_patched": "121885"
                                },
                                {
                                    "sys_id": "WEB060983934",
                                    "owner_id": "au_25552",
                                    "last_update_date": "2023-11-27 00:05:13.787",
                                    "cumsum_total_vul": "243107",
                                    "cumsum_vul_patched": "122033"
                                },
                                {
                                    "sys_id": "WEB030183667",
                                    "owner_id": "au_11362",
                                    "last_update_date": "2023-11-27 00:05:13.787",
                                    "cumsum_total_vul": "243342",
                                    "cumsum_vul_patched": "122220"
                                },
                                {
                                    "sys_id": "SYS103056168",
                                    "owner_id": "eu_23263",
                                    "last_update_date": "2023-11-27 00:05:13.797",
                                    "cumsum_total_vul": "243524",
                                    "cumsum_vul_patched": "122351"
                                },
                                {
                                    "sys_id": "SYS125041025",
                                    "owner_id": "au_77600",
                                    "last_update_date": "2023-11-27 00:05:13.800",
                                    "cumsum_total_vul": "243731",
                                    "cumsum_vul_patched": "122522"
                                },
                                {
                                    "sys_id": "WEB123901989",
                                    "owner_id": "au_40513",
                                    "last_update_date": "2023-11-27 00:05:13.800",
                                    "cumsum_total_vul": "243910",
                                    "cumsum_vul_patched": "122665"
                                },
                                {
                                    "sys_id": "WEB120038457",
                                    "owner_id": "au_75432",
                                    "last_update_date": "2023-11-27 00:05:13.800",
                                    "cumsum_total_vul": "244122",
                                    "cumsum_vul_patched": "122807"
                                },
                                {
                                    "sys_id": "APP100227848",
                                    "owner_id": "eu_11838",
                                    "last_update_date": "2023-11-27 00:05:13.800",
                                    "cumsum_total_vul": "244312",
                                    "cumsum_vul_patched": "122960"
                                },
                                {
                                    "sys_id": "APP076474233",
                                    "owner_id": "au_77600",
                                    "last_update_date": "2023-11-27 00:05:13.800",
                                    "cumsum_total_vul": "244516",
                                    "cumsum_vul_patched": "123119"
                                },
                                {
                                    "sys_id": "APP104019654",
                                    "owner_id": "eu_22256",
                                    "last_update_date": "2023-11-28 00:05:13.787",
                                    "cumsum_total_vul": "244725",
                                    "cumsum_vul_patched": "123269"
                                },
                                {
                                    "sys_id": "APP046471020",
                                    "owner_id": "eu_77467",
                                    "last_update_date": "2023-11-28 00:05:13.787",
                                    "cumsum_total_vul": "244928",
                                    "cumsum_vul_patched": "123405"
                                },
                                {
                                    "sys_id": "SYS087378263",
                                    "owner_id": "au_40513",
                                    "last_update_date": "2023-11-28 00:05:13.787",
                                    "cumsum_total_vul": "245108",
                                    "cumsum_vul_patched": "123538"
                                },
                                {
                                    "sys_id": "SYS089688689",
                                    "owner_id": "eu_56544",
                                    "last_update_date": "2023-11-28 00:05:13.787",
                                    "cumsum_total_vul": "245339",
                                    "cumsum_vul_patched": "123699"
                                },
                                {
                                    "sys_id": "SYS026998549",
                                    "owner_id": "eu_51465",
                                    "last_update_date": "2023-11-28 00:05:13.787",
                                    "cumsum_total_vul": "245563",
                                    "cumsum_vul_patched": "123851"
                                },
                                {
                                    "sys_id": "SYS041712108",
                                    "owner_id": "au_16507",
                                    "last_update_date": "2023-11-28 00:05:13.787",
                                    "cumsum_total_vul": "245693",
                                    "cumsum_vul_patched": "123944"
                                },
                                {
                                    "sys_id": "SYS038241721",
                                    "owner_id": "us_68077",
                                    "last_update_date": "2023-11-28 00:05:13.787",
                                    "cumsum_total_vul": "245872",
                                    "cumsum_vul_patched": "124080"
                                },
                                {
                                    "sys_id": "SYS017450546",
                                    "owner_id": "au_18036",
                                    "last_update_date": "2023-11-28 00:05:13.787",
                                    "cumsum_total_vul": "246070",
                                    "cumsum_vul_patched": "124242"
                                },
                                {
                                    "sys_id": "APP124137972",
                                    "owner_id": "us_10113",
                                    "last_update_date": "2023-11-28 00:05:13.797",
                                    "cumsum_total_vul": "246286",
                                    "cumsum_vul_patched": "124391"
                                },
                                {
                                    "sys_id": "SYS055088213",
                                    "owner_id": "eu_11838",
                                    "last_update_date": "2023-11-28 00:05:13.797",
                                    "cumsum_total_vul": "246489",
                                    "cumsum_vul_patched": "124529"
                                },
                                {
                                    "sys_id": "SYS082282008",
                                    "owner_id": "eu_51465",
                                    "last_update_date": "2023-11-28 00:05:13.800",
                                    "cumsum_total_vul": "246691",
                                    "cumsum_vul_patched": "124698"
                                },
                                {
                                    "sys_id": "APP089688456",
                                    "owner_id": "au_16507",
                                    "last_update_date": "2023-11-28 00:05:13.800",
                                    "cumsum_total_vul": "246902",
                                    "cumsum_vul_patched": "124852"
                                },
                                {
                                    "sys_id": "WEB108218273",
                                    "owner_id": "eu_56544",
                                    "last_update_date": "2023-11-28 00:05:13.800",
                                    "cumsum_total_vul": "247048",
                                    "cumsum_vul_patched": "124958"
                                },
                                {
                                    "sys_id": "WEB028175344",
                                    "owner_id": "au_15315",
                                    "last_update_date": "2023-11-28 00:05:13.800",
                                    "cumsum_total_vul": "247257",
                                    "cumsum_vul_patched": "125100"
                                },
                                {
                                    "sys_id": "WEB104717095",
                                    "owner_id": "eu_77467",
                                    "last_update_date": "2023-11-29 00:05:13.787",
                                    "cumsum_total_vul": "247493",
                                    "cumsum_vul_patched": "125281"
                                },
                                {
                                    "sys_id": "SYS082126465",
                                    "owner_id": "au_40513",
                                    "last_update_date": "2023-11-29 00:05:13.787",
                                    "cumsum_total_vul": "247688",
                                    "cumsum_vul_patched": "125437"
                                },
                                {
                                    "sys_id": "SYS046374541",
                                    "owner_id": "us_34800",
                                    "last_update_date": "2023-11-29 00:05:13.787",
                                    "cumsum_total_vul": "247863",
                                    "cumsum_vul_patched": "125568"
                                },
                                {
                                    "sys_id": "SYS045160918",
                                    "owner_id": "au_40513",
                                    "last_update_date": "2023-11-29 00:05:13.787",
                                    "cumsum_total_vul": "248097",
                                    "cumsum_vul_patched": "125743"
                                },
                                {
                                    "sys_id": "SYS026571209",
                                    "owner_id": "eu_56544",
                                    "last_update_date": "2023-11-29 00:05:13.787",
                                    "cumsum_total_vul": "248307",
                                    "cumsum_vul_patched": "125894"
                                },
                                {
                                    "sys_id": "SYS020943969",
                                    "owner_id": "au_89783",
                                    "last_update_date": "2023-11-29 00:05:13.787",
                                    "cumsum_total_vul": "248481",
                                    "cumsum_vul_patched": "126024"
                                },
                                {
                                    "sys_id": "SYS065439878",
                                    "owner_id": "au_11362",
                                    "last_update_date": "2023-11-29 00:05:13.797",
                                    "cumsum_total_vul": "248714",
                                    "cumsum_vul_patched": "126212"
                                },
                                {
                                    "sys_id": "WEB121929277",
                                    "owner_id": "au_40513",
                                    "last_update_date": "2023-11-29 00:05:13.800",
                                    "cumsum_total_vul": "248931",
                                    "cumsum_vul_patched": "126374"
                                },
                                {
                                    "sys_id": "WEB030034240",
                                    "owner_id": "us_52113",
                                    "last_update_date": "2023-11-30 00:05:13.787",
                                    "cumsum_total_vul": "249129",
                                    "cumsum_vul_patched": "126532"
                                },
                                {
                                    "sys_id": "SYS067437483",
                                    "owner_id": "us_68077",
                                    "last_update_date": "2023-11-30 00:05:13.787",
                                    "cumsum_total_vul": "249327",
                                    "cumsum_vul_patched": "126676"
                                },
                                {
                                    "sys_id": "SYS066049458",
                                    "owner_id": "eu_10858",
                                    "last_update_date": "2023-11-30 00:05:13.787",
                                    "cumsum_total_vul": "249501",
                                    "cumsum_vul_patched": "126806"
                                },
                                {
                                    "sys_id": "SYS068929754",
                                    "owner_id": "us_15438",
                                    "last_update_date": "2023-11-30 00:05:13.787",
                                    "cumsum_total_vul": "249681",
                                    "cumsum_vul_patched": "126937"
                                },
                                {
                                    "sys_id": "APP085254596",
                                    "owner_id": "au_15315",
                                    "last_update_date": "2023-11-30 00:05:13.787",
                                    "cumsum_total_vul": "249873",
                                    "cumsum_vul_patched": "127073"
                                },
                                {
                                    "sys_id": "APP040011978",
                                    "owner_id": "au_86362",
                                    "last_update_date": "2023-11-30 00:05:13.787",
                                    "cumsum_total_vul": "250055",
                                    "cumsum_vul_patched": "127225"
                                },
                                {
                                    "sys_id": "WEB104096101",
                                    "owner_id": "au_18036",
                                    "last_update_date": "2023-11-30 00:05:13.800",
                                    "cumsum_total_vul": "250258",
                                    "cumsum_vul_patched": "127385"
                                },
                                {
                                    "sys_id": "WEB093684572",
                                    "owner_id": "eu_11838",
                                    "last_update_date": "2023-11-30 00:05:13.800",
                                    "cumsum_total_vul": "250456",
                                    "cumsum_vul_patched": "127549"
                                },
                                {
                                    "sys_id": "WEB089030677",
                                    "owner_id": "eu_10858",
                                    "last_update_date": "2023-12-01 00:05:13.787",
                                    "cumsum_total_vul": "250672",
                                    "cumsum_vul_patched": "127730"
                                },
                                {
                                    "sys_id": "SYS128444315",
                                    "owner_id": "au_75432",
                                    "last_update_date": "2023-12-01 00:05:13.787",
                                    "cumsum_total_vul": "250901",
                                    "cumsum_vul_patched": "127910"
                                },
                                {
                                    "sys_id": "APP018214862",
                                    "owner_id": "eu_10858",
                                    "last_update_date": "2023-12-01 00:05:13.787",
                                    "cumsum_total_vul": "251114",
                                    "cumsum_vul_patched": "128076"
                                },
                                {
                                    "sys_id": "SYS056688939",
                                    "owner_id": "eu_10858",
                                    "last_update_date": "2023-12-01 00:05:13.787",
                                    "cumsum_total_vul": "251276",
                                    "cumsum_vul_patched": "128205"
                                },
                                {
                                    "sys_id": "SYS029065945",
                                    "owner_id": "us_68077",
                                    "last_update_date": "2023-12-01 00:05:13.787",
                                    "cumsum_total_vul": "251504",
                                    "cumsum_vul_patched": "128369"
                                },
                                {
                                    "sys_id": "APP127393632",
                                    "owner_id": "eu_23263",
                                    "last_update_date": "2023-12-01 00:05:13.787",
                                    "cumsum_total_vul": "251699",
                                    "cumsum_vul_patched": "128525"
                                },
                                {
                                    "sys_id": "APP119367634",
                                    "owner_id": "au_86362",
                                    "last_update_date": "2023-12-01 00:05:13.787",
                                    "cumsum_total_vul": "251883",
                                    "cumsum_vul_patched": "128672"
                                },
                                {
                                    "sys_id": "SYS126452574",
                                    "owner_id": "au_25552",
                                    "last_update_date": "2023-12-01 00:05:13.797",
                                    "cumsum_total_vul": "252063",
                                    "cumsum_vul_patched": "128807"
                                },
                                {
                                    "sys_id": "WEB024656692",
                                    "owner_id": "us_19904",
                                    "last_update_date": "2023-12-01 00:05:13.797",
                                    "cumsum_total_vul": "252242",
                                    "cumsum_vul_patched": "128943"
                                },
                                {
                                    "sys_id": "SYS091891370",
                                    "owner_id": "au_86362",
                                    "last_update_date": "2023-12-01 00:05:13.800",
                                    "cumsum_total_vul": "252465",
                                    "cumsum_vul_patched": "129112"
                                },
                                {
                                    "sys_id": "SYS061477054",
                                    "owner_id": "us_34800",
                                    "last_update_date": "2023-12-01 00:05:13.800",
                                    "cumsum_total_vul": "252684",
                                    "cumsum_vul_patched": "129271"
                                },
                                {
                                    "sys_id": "SYS069876220",
                                    "owner_id": "au_11362",
                                    "last_update_date": "2023-12-01 00:05:13.800",
                                    "cumsum_total_vul": "252918",
                                    "cumsum_vul_patched": "129444"
                                },
                                {
                                    "sys_id": "APP079973359",
                                    "owner_id": "au_18036",
                                    "last_update_date": "2023-12-01 00:05:13.800",
                                    "cumsum_total_vul": "253090",
                                    "cumsum_vul_patched": "129581"
                                },
                                {
                                    "sys_id": "APP057143457",
                                    "owner_id": "au_86362",
                                    "last_update_date": "2023-12-02 00:05:13.787",
                                    "cumsum_total_vul": "253289",
                                    "cumsum_vul_patched": "129730"
                                },
                                {
                                    "sys_id": "SYS047613793",
                                    "owner_id": "au_77600",
                                    "last_update_date": "2023-12-02 00:05:13.787",
                                    "cumsum_total_vul": "253485",
                                    "cumsum_vul_patched": "129871"
                                },
                                {
                                    "sys_id": "SYS107024620",
                                    "owner_id": "eu_23263",
                                    "last_update_date": "2023-12-02 00:05:13.787",
                                    "cumsum_total_vul": "253704",
                                    "cumsum_vul_patched": "130046"
                                },
                                {
                                    "sys_id": "WEB022191366",
                                    "owner_id": "au_18036",
                                    "last_update_date": "2023-12-02 00:05:13.787",
                                    "cumsum_total_vul": "253946",
                                    "cumsum_vul_patched": "130234"
                                },
                                {
                                    "sys_id": "WEB080534949",
                                    "owner_id": "au_86362",
                                    "last_update_date": "2023-12-02 00:05:13.787",
                                    "cumsum_total_vul": "254134",
                                    "cumsum_vul_patched": "130384"
                                },
                                {
                                    "sys_id": "WEB106856213",
                                    "owner_id": "us_52113",
                                    "last_update_date": "2023-12-02 00:05:13.787",
                                    "cumsum_total_vul": "254347",
                                    "cumsum_vul_patched": "130562"
                                },
                                {
                                    "sys_id": "APP075803928",
                                    "owner_id": "us_34800",
                                    "last_update_date": "2023-12-02 00:05:13.797",
                                    "cumsum_total_vul": "254579",
                                    "cumsum_vul_patched": "130738"
                                },
                                {
                                    "sys_id": "APP057128142",
                                    "owner_id": "us_52113",
                                    "last_update_date": "2023-12-02 00:05:13.800",
                                    "cumsum_total_vul": "254800",
                                    "cumsum_vul_patched": "130925"
                                },
                                {
                                    "sys_id": "WEB066659398",
                                    "owner_id": "au_25552",
                                    "last_update_date": "2023-12-02 00:05:13.800",
                                    "cumsum_total_vul": "254994",
                                    "cumsum_vul_patched": "131064"
                                },
                                {
                                    "sys_id": "WEB021724006",
                                    "owner_id": "au_18036",
                                    "last_update_date": "2023-12-03 00:05:13.787",
                                    "cumsum_total_vul": "255231",
                                    "cumsum_vul_patched": "131258"
                                },
                                {
                                    "sys_id": "WEB089807936",
                                    "owner_id": "eu_10858",
                                    "last_update_date": "2023-12-03 00:05:13.787",
                                    "cumsum_total_vul": "255454",
                                    "cumsum_vul_patched": "131423"
                                },
                                {
                                    "sys_id": "APP054713246",
                                    "owner_id": "us_34800",
                                    "last_update_date": "2023-12-03 00:05:13.787",
                                    "cumsum_total_vul": "255675",
                                    "cumsum_vul_patched": "131610"
                                },
                                {
                                    "sys_id": "APP104406403",
                                    "owner_id": "us_57346",
                                    "last_update_date": "2023-12-03 00:05:13.787",
                                    "cumsum_total_vul": "255853",
                                    "cumsum_vul_patched": "131761"
                                },
                                {
                                    "sys_id": "APP095691466",
                                    "owner_id": "eu_10858",
                                    "last_update_date": "2023-12-03 00:05:13.787",
                                    "cumsum_total_vul": "256021",
                                    "cumsum_vul_patched": "131902"
                                },
                                {
                                    "sys_id": "SYS057974804",
                                    "owner_id": "eu_10858",
                                    "last_update_date": "2023-12-03 00:05:13.787",
                                    "cumsum_total_vul": "256206",
                                    "cumsum_vul_patched": "132057"
                                },
                                {
                                    "sys_id": "APP125992938",
                                    "owner_id": "us_19904",
                                    "last_update_date": "2023-12-03 00:05:13.787",
                                    "cumsum_total_vul": "256414",
                                    "cumsum_vul_patched": "132227"
                                },
                                {
                                    "sys_id": "SYS025206436",
                                    "owner_id": "au_15315",
                                    "last_update_date": "2023-12-03 00:05:13.787",
                                    "cumsum_total_vul": "256618",
                                    "cumsum_vul_patched": "132390"
                                },
                                {
                                    "sys_id": "WEB024141398",
                                    "owner_id": "au_15315",
                                    "last_update_date": "2023-12-03 00:05:13.797",
                                    "cumsum_total_vul": "256818",
                                    "cumsum_vul_patched": "132547"
                                },
                                {
                                    "sys_id": "SYS107767194",
                                    "owner_id": "us_15438",
                                    "last_update_date": "2023-12-03 00:05:13.800",
                                    "cumsum_total_vul": "257029",
                                    "cumsum_vul_patched": "132724"
                                },
                                {
                                    "sys_id": "APP126509485",
                                    "owner_id": "au_15315",
                                    "last_update_date": "2023-12-03 00:05:13.800",
                                    "cumsum_total_vul": "257236",
                                    "cumsum_vul_patched": "132891"
                                },
                                {
                                    "sys_id": "SYS013352114",
                                    "owner_id": "eu_51465",
                                    "last_update_date": "2023-12-03 00:05:13.800",
                                    "cumsum_total_vul": "257430",
                                    "cumsum_vul_patched": "133046"
                                },
                                {
                                    "sys_id": "APP113928862",
                                    "owner_id": "au_89783",
                                    "last_update_date": "2023-12-03 00:05:13.800",
                                    "cumsum_total_vul": "257626",
                                    "cumsum_vul_patched": "133196"
                                },
                                {
                                    "sys_id": "APP028347389",
                                    "owner_id": "us_68077",
                                    "last_update_date": "2023-12-04 00:05:13.787",
                                    "cumsum_total_vul": "257832",
                                    "cumsum_vul_patched": "133366"
                                },
                                {
                                    "sys_id": "SYS109119148",
                                    "owner_id": "au_18036",
                                    "last_update_date": "2023-12-04 00:05:13.787",
                                    "cumsum_total_vul": "258035",
                                    "cumsum_vul_patched": "133524"
                                },
                                {
                                    "sys_id": "WEB107882082",
                                    "owner_id": "eu_51465",
                                    "last_update_date": "2023-12-04 00:05:13.787",
                                    "cumsum_total_vul": "258239",
                                    "cumsum_vul_patched": "133695"
                                },
                                {
                                    "sys_id": "SYS024353681",
                                    "owner_id": "us_68077",
                                    "last_update_date": "2023-12-04 00:05:13.797",
                                    "cumsum_total_vul": "258430",
                                    "cumsum_vul_patched": "133849"
                                },
                                {
                                    "sys_id": "WEB105870203",
                                    "owner_id": "eu_56544",
                                    "last_update_date": "2023-12-04 00:05:13.800",
                                    "cumsum_total_vul": "258628",
                                    "cumsum_vul_patched": "134001"
                                },
                                {
                                    "sys_id": "WEB097571775",
                                    "owner_id": "au_86362",
                                    "last_update_date": "2023-12-05 00:05:13.787",
                                    "cumsum_total_vul": "258840",
                                    "cumsum_vul_patched": "134179"
                                },
                                {
                                    "sys_id": "SYS080629621",
                                    "owner_id": "us_15438",
                                    "last_update_date": "2023-12-05 00:05:13.787",
                                    "cumsum_total_vul": "259030",
                                    "cumsum_vul_patched": "134340"
                                },
                                {
                                    "sys_id": "APP014078594",
                                    "owner_id": "eu_56544",
                                    "last_update_date": "2023-12-05 00:05:13.787",
                                    "cumsum_total_vul": "259249",
                                    "cumsum_vul_patched": "134506"
                                },
                                {
                                    "sys_id": "APP083467068",
                                    "owner_id": "us_68077",
                                    "last_update_date": "2023-12-05 00:05:13.787",
                                    "cumsum_total_vul": "259465",
                                    "cumsum_vul_patched": "134689"
                                },
                                {
                                    "sys_id": "APP092722998",
                                    "owner_id": "au_77600",
                                    "last_update_date": "2023-12-05 00:05:13.797",
                                    "cumsum_total_vul": "259684",
                                    "cumsum_vul_patched": "134859"
                                },
                                {
                                    "sys_id": "SYS038857445",
                                    "owner_id": "us_10113",
                                    "last_update_date": "2023-12-05 00:05:13.797",
                                    "cumsum_total_vul": "259887",
                                    "cumsum_vul_patched": "135031"
                                },
                                {
                                    "sys_id": "WEB093268422",
                                    "owner_id": "au_15315",
                                    "last_update_date": "2023-12-05 00:05:13.797",
                                    "cumsum_total_vul": "260093",
                                    "cumsum_vul_patched": "135206"
                                },
                                {
                                    "sys_id": "SYS040940777",
                                    "owner_id": "us_19904",
                                    "last_update_date": "2023-12-05 00:05:13.800",
                                    "cumsum_total_vul": "260284",
                                    "cumsum_vul_patched": "135360"
                                },
                                {
                                    "sys_id": "SYS026389446",
                                    "owner_id": "us_57346",
                                    "last_update_date": "2023-12-05 00:05:13.800",
                                    "cumsum_total_vul": "260442",
                                    "cumsum_vul_patched": "135481"
                                },
                                {
                                    "sys_id": "SYS017622688",
                                    "owner_id": "eu_77467",
                                    "last_update_date": "2023-12-06 00:05:13.787",
                                    "cumsum_total_vul": "260649",
                                    "cumsum_vul_patched": "135652"
                                },
                                {
                                    "sys_id": "APP122545731",
                                    "owner_id": "eu_22256",
                                    "last_update_date": "2023-12-06 00:05:13.787",
                                    "cumsum_total_vul": "260855",
                                    "cumsum_vul_patched": "135825"
                                },
                                {
                                    "sys_id": "APP095191089",
                                    "owner_id": "eu_51465",
                                    "last_update_date": "2023-12-06 00:05:13.787",
                                    "cumsum_total_vul": "261026",
                                    "cumsum_vul_patched": "135961"
                                },
                                {
                                    "sys_id": "APP011543035",
                                    "owner_id": "us_15438",
                                    "last_update_date": "2023-12-06 00:05:13.787",
                                    "cumsum_total_vul": "261230",
                                    "cumsum_vul_patched": "136124"
                                },
                                {
                                    "sys_id": "APP030969027",
                                    "owner_id": "au_77600",
                                    "last_update_date": "2023-12-06 00:05:13.787",
                                    "cumsum_total_vul": "261409",
                                    "cumsum_vul_patched": "136267"
                                },
                                {
                                    "sys_id": "WEB120262061",
                                    "owner_id": "eu_10858",
                                    "last_update_date": "2023-12-06 00:05:13.787",
                                    "cumsum_total_vul": "261610",
                                    "cumsum_vul_patched": "136427"
                                },
                                {
                                    "sys_id": "WEB029285657",
                                    "owner_id": "us_34800",
                                    "last_update_date": "2023-12-06 00:05:13.787",
                                    "cumsum_total_vul": "261827",
                                    "cumsum_vul_patched": "136594"
                                },
                                {
                                    "sys_id": "WEB046815796",
                                    "owner_id": "au_86362",
                                    "last_update_date": "2023-12-06 00:05:13.800",
                                    "cumsum_total_vul": "262035",
                                    "cumsum_vul_patched": "136758"
                                },
                                {
                                    "sys_id": "WEB112723864",
                                    "owner_id": "eu_56544",
                                    "last_update_date": "2023-12-06 00:05:13.800",
                                    "cumsum_total_vul": "262205",
                                    "cumsum_vul_patched": "136892"
                                },
                                {
                                    "sys_id": "SYS110217657",
                                    "owner_id": "us_34800",
                                    "last_update_date": "2023-12-07 00:05:13.787",
                                    "cumsum_total_vul": "262361",
                                    "cumsum_vul_patched": "137018"
                                },
                                {
                                    "sys_id": "SYS011533689",
                                    "owner_id": "au_15315",
                                    "last_update_date": "2023-12-07 00:05:13.787",
                                    "cumsum_total_vul": "262538",
                                    "cumsum_vul_patched": "137166"
                                },
                                {
                                    "sys_id": "APP108933477",
                                    "owner_id": "us_52113",
                                    "last_update_date": "2023-12-07 00:05:13.797",
                                    "cumsum_total_vul": "262761",
                                    "cumsum_vul_patched": "137339"
                                },
                                {
                                    "sys_id": "APP086084956",
                                    "owner_id": "au_77600",
                                    "last_update_date": "2023-12-07 00:05:13.800",
                                    "cumsum_total_vul": "262959",
                                    "cumsum_vul_patched": "137503"
                                },
                                {
                                    "sys_id": "APP060097516",
                                    "owner_id": "us_34800",
                                    "last_update_date": "2023-12-07 00:05:13.800",
                                    "cumsum_total_vul": "263145",
                                    "cumsum_vul_patched": "137653"
                                },
                                {
                                    "sys_id": "SYS060488895",
                                    "owner_id": "au_77600",
                                    "last_update_date": "2023-12-07 00:05:13.800",
                                    "cumsum_total_vul": "263331",
                                    "cumsum_vul_patched": "137799"
                                },
                                {
                                    "sys_id": "APP121672430",
                                    "owner_id": "eu_23263",
                                    "last_update_date": "2023-12-08 00:05:13.787",
                                    "cumsum_total_vul": "263523",
                                    "cumsum_vul_patched": "137952"
                                },
                                {
                                    "sys_id": "WEB042812065",
                                    "owner_id": "eu_69372",
                                    "last_update_date": "2023-12-08 00:05:13.787",
                                    "cumsum_total_vul": "263732",
                                    "cumsum_vul_patched": "138127"
                                },
                                {
                                    "sys_id": "SYS122316656",
                                    "owner_id": "eu_69372",
                                    "last_update_date": "2023-12-09 00:05:13.787",
                                    "cumsum_total_vul": "263924",
                                    "cumsum_vul_patched": "138282"
                                },
                                {
                                    "sys_id": "APP047589979",
                                    "owner_id": "au_16507",
                                    "last_update_date": "2023-12-09 00:05:13.787",
                                    "cumsum_total_vul": "264097",
                                    "cumsum_vul_patched": "138425"
                                },
                                {
                                    "sys_id": "APP026701451",
                                    "owner_id": "eu_11838",
                                    "last_update_date": "2023-12-09 00:05:13.787",
                                    "cumsum_total_vul": "264293",
                                    "cumsum_vul_patched": "138587"
                                },
                                {
                                    "sys_id": "SYS086747837",
                                    "owner_id": "au_18036",
                                    "last_update_date": "2023-12-09 00:05:13.800",
                                    "cumsum_total_vul": "264485",
                                    "cumsum_vul_patched": "138742"
                                },
                                {
                                    "sys_id": "WEB034619195",
                                    "owner_id": "au_77600",
                                    "last_update_date": "2023-12-09 00:05:13.800",
                                    "cumsum_total_vul": "264720",
                                    "cumsum_vul_patched": "138941"
                                },
                                {
                                    "sys_id": "SYS031818834",
                                    "owner_id": "au_77600",
                                    "last_update_date": "2023-12-10 00:05:13.787",
                                    "cumsum_total_vul": "264924",
                                    "cumsum_vul_patched": "139108"
                                },
                                {
                                    "sys_id": "WEB031689429",
                                    "owner_id": "au_77600",
                                    "last_update_date": "2023-12-11 00:05:13.787",
                                    "cumsum_total_vul": "265131",
                                    "cumsum_vul_patched": "139279"
                                },
                                {
                                    "sys_id": "SYS038092022",
                                    "owner_id": "au_16507",
                                    "last_update_date": "2023-12-11 00:05:13.797",
                                    "cumsum_total_vul": "265296",
                                    "cumsum_vul_patched": "139417"
                                },
                                {
                                    "sys_id": "SYS086963938",
                                    "owner_id": "au_77600",
                                    "last_update_date": "2023-12-11 00:05:13.800",
                                    "cumsum_total_vul": "265517",
                                    "cumsum_vul_patched": "139600"
                                },
                                {
                                    "sys_id": "SYS080283850",
                                    "owner_id": "eu_69372",
                                    "last_update_date": "2023-12-12 00:05:13.787",
                                    "cumsum_total_vul": "265737",
                                    "cumsum_vul_patched": "139784"
                                }
                            ]
                        },
                        "text/html": [
                            "<table>",
                            "<tr><th>sys_id</th><th>owner_id</th><th>last_update_date</th><th>cumsum_total_vul</th><th>cumsum_vul_patched</th></tr>",
                            "<tr><td>WEB107526775</td><td>eu_22256</td><td>2023-09-25 00:05:13.800</td><td>406</td><td>69</td></tr>",
                            "<tr><td>WEB128723434</td><td>au_86362</td><td>2023-09-26 00:05:13.787</td><td>798</td><td>147</td></tr>",
                            "<tr><td>SYS116846022</td><td>eu_56544</td><td>2023-09-27 00:05:13.787</td><td>1193</td><td>214</td></tr>",
                            "<tr><td>SYS122145623</td><td>au_86362</td><td>2023-09-27 00:05:13.787</td><td>1591</td><td>293</td></tr>",
                            "<tr><td>APP121957618</td><td>au_75432</td><td>2023-09-28 00:05:13.800</td><td>1986</td><td>356</td></tr>",
                            "<tr><td>SYS116540519</td><td>eu_51465</td><td>2023-09-29 00:05:13.787</td><td>2382</td><td>439</td></tr>",
                            "<tr><td>WEB109642356</td><td>eu_11838</td><td>2023-09-29 00:05:13.787</td><td>2782</td><td>511</td></tr>",
                            "<tr><td>APP107877291</td><td>us_68077</td><td>2023-09-29 00:05:13.800</td><td>3194</td><td>593</td></tr>",
                            "<tr><td>APP103406080</td><td>eu_22256</td><td>2023-09-30 00:05:13.787</td><td>3576</td><td>665</td></tr>",
                            "<tr><td>APP080106513</td><td>au_25552</td><td>2023-09-30 00:05:13.787</td><td>3988</td><td>735</td></tr>",
                            "<tr><td>APP127570594</td><td>au_18036</td><td>2023-09-30 00:05:13.787</td><td>4389</td><td>819</td></tr>",
                            "<tr><td>WEB011128052</td><td>us_10113</td><td>2023-09-30 00:05:13.787</td><td>4801</td><td>905</td></tr>",
                            "<tr><td>SYS084064936</td><td>au_11362</td><td>2023-10-01 00:05:13.800</td><td>5187</td><td>978</td></tr>",
                            "<tr><td>WEB084596158</td><td>au_16507</td><td>2023-10-02 00:05:13.787</td><td>5563</td><td>1068</td></tr>",
                            "<tr><td>WEB085523146</td><td>eu_23263</td><td>2023-10-02 00:05:13.797</td><td>5961</td><td>1167</td></tr>",
                            "<tr><td>APP117739264</td><td>au_18036</td><td>2023-10-02 00:05:13.797</td><td>6364</td><td>1251</td></tr>",
                            "<tr><td>WEB111894901</td><td>eu_77467</td><td>2023-10-02 00:05:13.800</td><td>6775</td><td>1329</td></tr>",
                            "<tr><td>APP115207442</td><td>us_52113</td><td>2023-10-03 00:05:13.787</td><td>7173</td><td>1420</td></tr>",
                            "<tr><td>APP046937852</td><td>us_10113</td><td>2023-10-03 00:05:13.787</td><td>7583</td><td>1526</td></tr>",
                            "<tr><td>APP081902295</td><td>au_15315</td><td>2023-10-04 00:05:13.787</td><td>7973</td><td>1611</td></tr>",
                            "<tr><td>WEB126488771</td><td>us_19904</td><td>2023-10-04 00:05:13.787</td><td>8367</td><td>1681</td></tr>",
                            "<tr><td>SYS038463923</td><td>us_57346</td><td>2023-10-04 00:05:13.797</td><td>8739</td><td>1766</td></tr>",
                            "<tr><td>WEB030994513</td><td>us_15438</td><td>2023-10-04 00:05:13.800</td><td>9140</td><td>1830</td></tr>",
                            "<tr><td>SYS117215102</td><td>us_10113</td><td>2023-10-05 00:05:13.787</td><td>9528</td><td>1907</td></tr>",
                            "<tr><td>SYS097704351</td><td>us_52113</td><td>2023-10-05 00:05:13.797</td><td>9928</td><td>1979</td></tr>",
                            "<tr><td>APP100384985</td><td>us_52113</td><td>2023-10-05 00:05:13.800</td><td>10346</td><td>2045</td></tr>",
                            "<tr><td>SYS118657808</td><td>eu_56544</td><td>2023-10-06 00:05:13.787</td><td>10713</td><td>2122</td></tr>",
                            "<tr><td>WEB107128474</td><td>eu_23263</td><td>2023-10-06 00:05:13.800</td><td>11136</td><td>2193</td></tr>",
                            "<tr><td>WEB096923227</td><td>au_89783</td><td>2023-10-07 00:05:13.787</td><td>11533</td><td>2292</td></tr>",
                            "<tr><td>WEB068527729</td><td>us_15438</td><td>2023-10-07 00:05:13.787</td><td>11935</td><td>2400</td></tr>",
                            "<tr><td>APP017236883</td><td>eu_77467</td><td>2023-10-07 00:05:13.787</td><td>12330</td><td>2475</td></tr>",
                            "<tr><td>SYS084014892</td><td>au_40513</td><td>2023-10-07 00:05:13.787</td><td>12749</td><td>2567</td></tr>",
                            "<tr><td>SYS097282996</td><td>us_57346</td><td>2023-10-07 00:05:13.800</td><td>13120</td><td>2674</td></tr>",
                            "<tr><td>WEB065371473</td><td>eu_56544</td><td>2023-10-08 00:05:13.787</td><td>13509</td><td>2779</td></tr>",
                            "<tr><td>WEB111851889</td><td>us_15438</td><td>2023-10-08 00:05:13.787</td><td>13876</td><td>2841</td></tr>",
                            "<tr><td>APP127383477</td><td>au_75432</td><td>2023-10-08 00:05:13.787</td><td>14262</td><td>2918</td></tr>",
                            "<tr><td>SYS010842711</td><td>eu_77467</td><td>2023-10-08 00:05:13.787</td><td>14628</td><td>3035</td></tr>",
                            "<tr><td>APP115186893</td><td>au_16507</td><td>2023-10-08 00:05:13.800</td><td>15028</td><td>3103</td></tr>",
                            "<tr><td>APP019885164</td><td>eu_22256</td><td>2023-10-09 00:05:13.787</td><td>15419</td><td>3189</td></tr>",
                            "<tr><td>APP026245658</td><td>au_15315</td><td>2023-10-09 00:05:13.787</td><td>15836</td><td>3276</td></tr>",
                            "<tr><td>APP123031613</td><td>us_19904</td><td>2023-10-10 00:05:13.787</td><td>16209</td><td>3391</td></tr>",
                            "<tr><td>APP116729466</td><td>eu_77467</td><td>2023-10-10 00:05:13.787</td><td>16597</td><td>3460</td></tr>",
                            "<tr><td>SYS038902332</td><td>au_18036</td><td>2023-10-10 00:05:13.787</td><td>16986</td><td>3549</td></tr>",
                            "<tr><td>SYS039387008</td><td>eu_22256</td><td>2023-10-10 00:05:13.787</td><td>17385</td><td>3624</td></tr>",
                            "<tr><td>SYS084348733</td><td>us_52113</td><td>2023-10-10 00:05:13.787</td><td>17741</td><td>3737</td></tr>",
                            "<tr><td>WEB100927533</td><td>eu_51465</td><td>2023-10-10 00:05:13.787</td><td>18153</td><td>3852</td></tr>",
                            "<tr><td>SYS056333129</td><td>au_25552</td><td>2023-10-10 00:05:13.800</td><td>18575</td><td>3936</td></tr>",
                            "<tr><td>SYS017146119</td><td>us_15438</td><td>2023-10-11 00:05:13.787</td><td>18838</td><td>4028</td></tr>",
                            "<tr><td>APP107848013</td><td>eu_69372</td><td>2023-10-11 00:05:13.787</td><td>19259</td><td>4095</td></tr>",
                            "<tr><td>WEB068404499</td><td>eu_77467</td><td>2023-10-11 00:05:13.787</td><td>19659</td><td>4175</td></tr>",
                            "<tr><td>WEB028055260</td><td>au_86362</td><td>2023-10-11 00:05:13.787</td><td>19941</td><td>4273</td></tr>",
                            "<tr><td>WEB110517289</td><td>au_16507</td><td>2023-10-11 00:05:13.800</td><td>20356</td><td>4418</td></tr>",
                            "<tr><td>WEB051708050</td><td>au_77600</td><td>2023-10-12 00:05:13.787</td><td>20745</td><td>4561</td></tr>",
                            "<tr><td>WEB043952115</td><td>us_19904</td><td>2023-10-12 00:05:13.797</td><td>21131</td><td>4672</td></tr>",
                            "<tr><td>WEB065488515</td><td>au_40513</td><td>2023-10-13 00:05:13.787</td><td>21461</td><td>4787</td></tr>",
                            "<tr><td>WEB039973768</td><td>eu_10858</td><td>2023-10-13 00:05:13.787</td><td>21784</td><td>4909</td></tr>",
                            "<tr><td>APP045175181</td><td>us_68077</td><td>2023-10-13 00:05:13.787</td><td>22149</td><td>4971</td></tr>",
                            "<tr><td>APP059649904</td><td>us_10113</td><td>2023-10-13 00:05:13.787</td><td>22566</td><td>5071</td></tr>",
                            "<tr><td>SYS020388621</td><td>us_19904</td><td>2023-10-13 00:05:13.797</td><td>22908</td><td>5197</td></tr>",
                            "<tr><td>APP055211174</td><td>au_11362</td><td>2023-10-13 00:05:13.800</td><td>23280</td><td>5308</td></tr>",
                            "<tr><td>WEB102855742</td><td>au_11362</td><td>2023-10-13 00:05:13.800</td><td>23683</td><td>5461</td></tr>",
                            "<tr><td>SYS096571912</td><td>eu_10858</td><td>2023-10-14 00:05:13.787</td><td>24122</td><td>5540</td></tr>",
                            "<tr><td>SYS110722906</td><td>au_86362</td><td>2023-10-14 00:05:13.787</td><td>24523</td><td>5640</td></tr>",
                            "<tr><td>SYS121819604</td><td>au_15315</td><td>2023-10-14 00:05:13.787</td><td>24931</td><td>5746</td></tr>",
                            "<tr><td>SYS040982159</td><td>eu_22256</td><td>2023-10-14 00:05:13.787</td><td>25253</td><td>5865</td></tr>",
                            "<tr><td>SYS031643342</td><td>us_19904</td><td>2023-10-14 00:05:13.800</td><td>25647</td><td>5998</td></tr>",
                            "<tr><td>APP113938522</td><td>us_10113</td><td>2023-10-14 00:05:13.800</td><td>26073</td><td>6147</td></tr>",
                            "<tr><td>SYS063465543</td><td>us_19904</td><td>2023-10-15 00:05:13.787</td><td>26499</td><td>6291</td></tr>",
                            "<tr><td>SYS112120218</td><td>au_18036</td><td>2023-10-15 00:05:13.787</td><td>26790</td><td>6401</td></tr>",
                            "<tr><td>WEB039671756</td><td>eu_51465</td><td>2023-10-15 00:05:13.787</td><td>27053</td><td>6506</td></tr>",
                            "<tr><td>WEB016537949</td><td>au_11362</td><td>2023-10-15 00:05:13.787</td><td>27335</td><td>6613</td></tr>",
                            "<tr><td>WEB024386632</td><td>au_75432</td><td>2023-10-15 00:05:13.797</td><td>27651</td><td>6739</td></tr>",
                            "<tr><td>WEB083962712</td><td>us_52113</td><td>2023-10-15 00:05:13.800</td><td>28054</td><td>6867</td></tr>",
                            "<tr><td>WEB114241548</td><td>au_40513</td><td>2023-10-16 00:05:13.787</td><td>28377</td><td>6983</td></tr>",
                            "<tr><td>SYS127535568</td><td>au_86362</td><td>2023-10-16 00:05:13.787</td><td>28728</td><td>7074</td></tr>",
                            "<tr><td>SYS054587715</td><td>au_25552</td><td>2023-10-16 00:05:13.787</td><td>29143</td><td>7210</td></tr>",
                            "<tr><td>SYS075240413</td><td>au_25552</td><td>2023-10-16 00:05:13.787</td><td>29541</td><td>7325</td></tr>",
                            "<tr><td>SYS037354541</td><td>us_10113</td><td>2023-10-16 00:05:13.787</td><td>29965</td><td>7409</td></tr>",
                            "<tr><td>APP041032419</td><td>us_52113</td><td>2023-10-16 00:05:13.787</td><td>30369</td><td>7574</td></tr>",
                            "<tr><td>SYS026335652</td><td>eu_51465</td><td>2023-10-16 00:05:13.797</td><td>30735</td><td>7705</td></tr>",
                            "<tr><td>WEB044795520</td><td>au_40513</td><td>2023-10-16 00:05:13.797</td><td>31006</td><td>7805</td></tr>",
                            "<tr><td>WEB051098812</td><td>eu_10858</td><td>2023-10-16 00:05:13.800</td><td>31289</td><td>7912</td></tr>",
                            "<tr><td>WEB039962915</td><td>au_89783</td><td>2023-10-16 00:05:13.800</td><td>31678</td><td>8036</td></tr>",
                            "<tr><td>SYS092619904</td><td>eu_23263</td><td>2023-10-17 00:05:13.787</td><td>31988</td><td>8163</td></tr>",
                            "<tr><td>WEB112994680</td><td>eu_22256</td><td>2023-10-17 00:05:13.787</td><td>32409</td><td>8306</td></tr>",
                            "<tr><td>WEB097072863</td><td>us_52113</td><td>2023-10-17 00:05:13.787</td><td>32801</td><td>8400</td></tr>",
                            "<tr><td>SYS031355698</td><td>au_77600</td><td>2023-10-17 00:05:13.787</td><td>33181</td><td>8552</td></tr>",
                            "<tr><td>SYS067829114</td><td>eu_23263</td><td>2023-10-17 00:05:13.787</td><td>33482</td><td>8666</td></tr>",
                            "<tr><td>SYS068617930</td><td>us_15438</td><td>2023-10-17 00:05:13.787</td><td>33860</td><td>8752</td></tr>",
                            "<tr><td>APP082148951</td><td>au_77600</td><td>2023-10-17 00:05:13.787</td><td>34214</td><td>8882</td></tr>",
                            "<tr><td>SYS057697356</td><td>eu_69372</td><td>2023-10-17 00:05:13.797</td><td>34491</td><td>8984</td></tr>",
                            "<tr><td>SYS109136626</td><td>eu_56544</td><td>2023-10-17 00:05:13.797</td><td>34803</td><td>9102</td></tr>",
                            "<tr><td>WEB060442718</td><td>eu_22256</td><td>2023-10-17 00:05:13.800</td><td>35213</td><td>9233</td></tr>",
                            "<tr><td>APP118463128</td><td>us_19904</td><td>2023-10-17 00:05:13.800</td><td>35541</td><td>9367</td></tr>",
                            "<tr><td>SYS066272982</td><td>au_11362</td><td>2023-10-18 00:05:13.787</td><td>35937</td><td>9533</td></tr>",
                            "<tr><td>APP114278689</td><td>us_34800</td><td>2023-10-18 00:05:13.787</td><td>36266</td><td>9654</td></tr>",
                            "<tr><td>APP114773582</td><td>au_77600</td><td>2023-10-18 00:05:13.787</td><td>36658</td><td>9822</td></tr>",
                            "<tr><td>APP057321046</td><td>us_15438</td><td>2023-10-18 00:05:13.787</td><td>37069</td><td>9982</td></tr>",
                            "<tr><td>WEB044835642</td><td>us_19904</td><td>2023-10-18 00:05:13.787</td><td>37438</td><td>10070</td></tr>",
                            "<tr><td>SYS053098836</td><td>eu_56544</td><td>2023-10-18 00:05:13.797</td><td>37828</td><td>10183</td></tr>",
                            "<tr><td>APP036796922</td><td>au_75432</td><td>2023-10-18 00:05:13.800</td><td>38238</td><td>10297</td></tr>",
                            "<tr><td>APP115577842</td><td>au_18036</td><td>2023-10-18 00:05:13.800</td><td>38507</td><td>10404</td></tr>",
                            "<tr><td>APP077116846</td><td>au_40513</td><td>2023-10-19 00:05:13.787</td><td>38907</td><td>10512</td></tr>",
                            "<tr><td>SYS074823666</td><td>us_15438</td><td>2023-10-19 00:05:13.787</td><td>39207</td><td>10629</td></tr>",
                            "<tr><td>SYS075902777</td><td>us_34800</td><td>2023-10-19 00:05:13.787</td><td>39517</td><td>10768</td></tr>",
                            "<tr><td>SYS081467743</td><td>eu_10858</td><td>2023-10-19 00:05:13.787</td><td>39853</td><td>10915</td></tr>",
                            "<tr><td>SYS014622652</td><td>au_11362</td><td>2023-10-19 00:05:13.787</td><td>40247</td><td>11056</td></tr>",
                            "<tr><td>WEB030471162</td><td>us_52113</td><td>2023-10-19 00:05:13.787</td><td>40600</td><td>11207</td></tr>",
                            "<tr><td>WEB122583133</td><td>eu_51465</td><td>2023-10-19 00:05:13.787</td><td>40969</td><td>11310</td></tr>",
                            "<tr><td>WEB082369293</td><td>au_75432</td><td>2023-10-19 00:05:13.797</td><td>41363</td><td>11440</td></tr>",
                            "<tr><td>SYS057660723</td><td>au_40513</td><td>2023-10-19 00:05:13.797</td><td>41660</td><td>11558</td></tr>",
                            "<tr><td>WEB088687652</td><td>au_86362</td><td>2023-10-19 00:05:13.800</td><td>42073</td><td>11690</td></tr>",
                            "<tr><td>WEB124932148</td><td>au_25552</td><td>2023-10-19 00:05:13.800</td><td>42479</td><td>11823</td></tr>",
                            "<tr><td>WEB095016313</td><td>eu_11838</td><td>2023-10-20 00:05:13.787</td><td>42733</td><td>11929</td></tr>",
                            "<tr><td>WEB080296672</td><td>au_77600</td><td>2023-10-20 00:05:13.787</td><td>43012</td><td>12037</td></tr>",
                            "<tr><td>WEB056081060</td><td>au_75432</td><td>2023-10-20 00:05:13.787</td><td>43319</td><td>12153</td></tr>",
                            "<tr><td>WEB063419285</td><td>us_68077</td><td>2023-10-20 00:05:13.787</td><td>43625</td><td>12278</td></tr>",
                            "<tr><td>SYS105866932</td><td>au_25552</td><td>2023-10-20 00:05:13.787</td><td>44011</td><td>12420</td></tr>",
                            "<tr><td>APP076296194</td><td>us_68077</td><td>2023-10-20 00:05:13.787</td><td>44407</td><td>12586</td></tr>",
                            "<tr><td>APP111694091</td><td>au_86362</td><td>2023-10-20 00:05:13.787</td><td>44729</td><td>12727</td></tr>",
                            "<tr><td>APP098043419</td><td>eu_77467</td><td>2023-10-20 00:05:13.797</td><td>45086</td><td>12816</td></tr>",
                            "<tr><td>SYS091128807</td><td>au_89783</td><td>2023-10-20 00:05:13.797</td><td>45480</td><td>12938</td></tr>",
                            "<tr><td>APP065661390</td><td>us_19904</td><td>2023-10-20 00:05:13.800</td><td>45768</td><td>13061</td></tr>",
                            "<tr><td>APP080512042</td><td>us_57346</td><td>2023-10-20 00:05:13.800</td><td>46042</td><td>13184</td></tr>",
                            "<tr><td>SYS011622493</td><td>au_75432</td><td>2023-10-20 00:05:13.800</td><td>46340</td><td>13306</td></tr>",
                            "<tr><td>SYS034593347</td><td>eu_51465</td><td>2023-10-20 00:05:13.800</td><td>46658</td><td>13420</td></tr>",
                            "<tr><td>SYS037048284</td><td>au_18036</td><td>2023-10-21 00:05:13.787</td><td>47066</td><td>13558</td></tr>",
                            "<tr><td>SYS019805005</td><td>au_16507</td><td>2023-10-21 00:05:13.787</td><td>47383</td><td>13681</td></tr>",
                            "<tr><td>APP124138366</td><td>eu_77467</td><td>2023-10-21 00:05:13.787</td><td>47679</td><td>13814</td></tr>",
                            "<tr><td>SYS048692221</td><td>eu_22256</td><td>2023-10-21 00:05:13.787</td><td>48078</td><td>13929</td></tr>",
                            "<tr><td>APP094086218</td><td>us_19904</td><td>2023-10-21 00:05:13.787</td><td>48408</td><td>14061</td></tr>",
                            "<tr><td>APP044270867</td><td>au_11362</td><td>2023-10-21 00:05:13.787</td><td>48790</td><td>14225</td></tr>",
                            "<tr><td>APP031903406</td><td>eu_11838</td><td>2023-10-21 00:05:13.787</td><td>49098</td><td>14348</td></tr>",
                            "<tr><td>APP016848667</td><td>us_52113</td><td>2023-10-21 00:05:13.787</td><td>49382</td><td>14450</td></tr>",
                            "<tr><td>WEB039221698</td><td>au_86362</td><td>2023-10-21 00:05:13.787</td><td>49665</td><td>14549</td></tr>",
                            "<tr><td>WEB079848581</td><td>us_68077</td><td>2023-10-21 00:05:13.787</td><td>50062</td><td>14687</td></tr>",
                            "<tr><td>WEB097139719</td><td>au_11362</td><td>2023-10-21 00:05:13.787</td><td>50455</td><td>14800</td></tr>",
                            "<tr><td>WEB096162295</td><td>eu_69372</td><td>2023-10-21 00:05:13.787</td><td>50808</td><td>14912</td></tr>",
                            "<tr><td>WEB127652771</td><td>au_11362</td><td>2023-10-21 00:05:13.787</td><td>51103</td><td>15041</td></tr>",
                            "<tr><td>SYS111336139</td><td>us_68077</td><td>2023-10-21 00:05:13.797</td><td>51496</td><td>15143</td></tr>",
                            "<tr><td>APP052944402</td><td>us_19904</td><td>2023-10-21 00:05:13.800</td><td>51769</td><td>15249</td></tr>",
                            "<tr><td>SYS072095933</td><td>eu_11838</td><td>2023-10-21 00:05:13.800</td><td>52068</td><td>15359</td></tr>",
                            "<tr><td>SYS052102053</td><td>au_15315</td><td>2023-10-22 00:05:13.787</td><td>52350</td><td>15477</td></tr>",
                            "<tr><td>SYS055171337</td><td>us_57346</td><td>2023-10-22 00:05:13.787</td><td>52617</td><td>15605</td></tr>",
                            "<tr><td>APP129471743</td><td>au_11362</td><td>2023-10-22 00:05:13.787</td><td>52895</td><td>15732</td></tr>",
                            "<tr><td>APP129596291</td><td>au_77600</td><td>2023-10-22 00:05:13.787</td><td>53180</td><td>15846</td></tr>",
                            "<tr><td>APP035556257</td><td>us_52113</td><td>2023-10-22 00:05:13.787</td><td>53495</td><td>15956</td></tr>",
                            "<tr><td>APP037104050</td><td>us_68077</td><td>2023-10-22 00:05:13.787</td><td>53771</td><td>16058</td></tr>",
                            "<tr><td>APP048302841</td><td>au_89783</td><td>2023-10-22 00:05:13.787</td><td>54192</td><td>16192</td></tr>",
                            "<tr><td>APP016868799</td><td>eu_69372</td><td>2023-10-22 00:05:13.787</td><td>54494</td><td>16327</td></tr>",
                            "<tr><td>APP095854973</td><td>au_86362</td><td>2023-10-22 00:05:13.787</td><td>54790</td><td>16460</td></tr>",
                            "<tr><td>APP076746767</td><td>au_25552</td><td>2023-10-22 00:05:13.787</td><td>55076</td><td>16565</td></tr>",
                            "<tr><td>SYS113391871</td><td>us_15438</td><td>2023-10-22 00:05:13.787</td><td>55447</td><td>16709</td></tr>",
                            "<tr><td>SYS089904211</td><td>au_18036</td><td>2023-10-22 00:05:13.787</td><td>55714</td><td>16823</td></tr>",
                            "<tr><td>SYS091829928</td><td>us_19904</td><td>2023-10-22 00:05:13.787</td><td>56134</td><td>16991</td></tr>",
                            "<tr><td>SYS109856980</td><td>us_57346</td><td>2023-10-22 00:05:13.787</td><td>56429</td><td>17126</td></tr>",
                            "<tr><td>SYS102617964</td><td>eu_11838</td><td>2023-10-22 00:05:13.787</td><td>56760</td><td>17245</td></tr>",
                            "<tr><td>WEB036811771</td><td>au_40513</td><td>2023-10-22 00:05:13.787</td><td>57169</td><td>17396</td></tr>",
                            "<tr><td>WEB029138005</td><td>eu_51465</td><td>2023-10-22 00:05:13.787</td><td>57457</td><td>17502</td></tr>",
                            "<tr><td>WEB019477750</td><td>au_15315</td><td>2023-10-22 00:05:13.787</td><td>57744</td><td>17619</td></tr>",
                            "<tr><td>WEB043484340</td><td>au_15315</td><td>2023-10-22 00:05:13.787</td><td>58062</td><td>17736</td></tr>",
                            "<tr><td>WEB052836442</td><td>au_25552</td><td>2023-10-22 00:05:13.787</td><td>58392</td><td>17858</td></tr>",
                            "<tr><td>WEB121815996</td><td>us_34800</td><td>2023-10-22 00:05:13.787</td><td>58703</td><td>17982</td></tr>",
                            "<tr><td>WEB098899375</td><td>us_52113</td><td>2023-10-23 00:05:13.787</td><td>58998</td><td>18088</td></tr>",
                            "<tr><td>WEB080985938</td><td>eu_10858</td><td>2023-10-23 00:05:13.787</td><td>59408</td><td>18260</td></tr>",
                            "<tr><td>WEB043083301</td><td>us_15438</td><td>2023-10-23 00:05:13.787</td><td>59681</td><td>18377</td></tr>",
                            "<tr><td>WEB057772527</td><td>us_15438</td><td>2023-10-23 00:05:13.787</td><td>59980</td><td>18517</td></tr>",
                            "<tr><td>WEB033004785</td><td>us_10113</td><td>2023-10-23 00:05:13.787</td><td>60312</td><td>18679</td></tr>",
                            "<tr><td>SYS102327199</td><td>eu_77467</td><td>2023-10-23 00:05:13.787</td><td>60599</td><td>18819</td></tr>",
                            "<tr><td>SYS127546913</td><td>au_11362</td><td>2023-10-23 00:05:13.787</td><td>60917</td><td>18958</td></tr>",
                            "<tr><td>APP041165661</td><td>eu_11838</td><td>2023-10-23 00:05:13.787</td><td>61222</td><td>19101</td></tr>",
                            "<tr><td>SYS063875845</td><td>eu_56544</td><td>2023-10-23 00:05:13.787</td><td>61537</td><td>19233</td></tr>",
                            "<tr><td>SYS086184720</td><td>au_11362</td><td>2023-10-23 00:05:13.787</td><td>61924</td><td>19364</td></tr>",
                            "<tr><td>SYS068144911</td><td>au_40513</td><td>2023-10-23 00:05:13.797</td><td>62206</td><td>19471</td></tr>",
                            "<tr><td>APP128955435</td><td>us_19904</td><td>2023-10-23 00:05:13.797</td><td>62509</td><td>19610</td></tr>",
                            "<tr><td>WEB106930841</td><td>au_75432</td><td>2023-10-23 00:05:13.797</td><td>62791</td><td>19719</td></tr>",
                            "<tr><td>WEB083329452</td><td>au_25552</td><td>2023-10-23 00:05:13.800</td><td>63103</td><td>19843</td></tr>",
                            "<tr><td>WEB095625759</td><td>au_15315</td><td>2023-10-24 00:05:13.787</td><td>63390</td><td>19983</td></tr>",
                            "<tr><td>WEB074039104</td><td>eu_11838</td><td>2023-10-24 00:05:13.787</td><td>63682</td><td>20096</td></tr>",
                            "<tr><td>WEB101343161</td><td>au_75432</td><td>2023-10-24 00:05:13.787</td><td>64007</td><td>20232</td></tr>",
                            "<tr><td>SYS121751869</td><td>au_16507</td><td>2023-10-24 00:05:13.787</td><td>64305</td><td>20336</td></tr>",
                            "<tr><td>SYS101547886</td><td>au_16507</td><td>2023-10-24 00:05:13.787</td><td>64626</td><td>20483</td></tr>",
                            "<tr><td>APP129177856</td><td>au_40513</td><td>2023-10-24 00:05:13.787</td><td>64937</td><td>20626</td></tr>",
                            "<tr><td>SYS015932529</td><td>us_19904</td><td>2023-10-24 00:05:13.787</td><td>65225</td><td>20746</td></tr>",
                            "<tr><td>APP125574314</td><td>eu_22256</td><td>2023-10-24 00:05:13.787</td><td>65508</td><td>20850</td></tr>",
                            "<tr><td>SYS028393359</td><td>us_15438</td><td>2023-10-24 00:05:13.787</td><td>65790</td><td>20951</td></tr>",
                            "<tr><td>SYS059329664</td><td>au_89783</td><td>2023-10-24 00:05:13.787</td><td>66081</td><td>21081</td></tr>",
                            "<tr><td>APP036142932</td><td>us_10113</td><td>2023-10-24 00:05:13.787</td><td>66494</td><td>21233</td></tr>",
                            "<tr><td>APP039142832</td><td>au_89783</td><td>2023-10-24 00:05:13.797</td><td>66805</td><td>21354</td></tr>",
                            "<tr><td>SYS075577908</td><td>au_40513</td><td>2023-10-24 00:05:13.797</td><td>67108</td><td>21487</td></tr>",
                            "<tr><td>WEB105946360</td><td>us_15438</td><td>2023-10-24 00:05:13.797</td><td>67394</td><td>21609</td></tr>",
                            "<tr><td>SYS123219710</td><td>eu_77467</td><td>2023-10-24 00:05:13.800</td><td>67700</td><td>21746</td></tr>",
                            "<tr><td>WEB011556996</td><td>us_57346</td><td>2023-10-24 00:05:13.800</td><td>67981</td><td>21875</td></tr>",
                            "<tr><td>APP070965696</td><td>us_68077</td><td>2023-10-24 00:05:13.800</td><td>68256</td><td>21987</td></tr>",
                            "<tr><td>APP018926875</td><td>eu_23263</td><td>2023-10-25 00:05:13.787</td><td>68540</td><td>22123</td></tr>",
                            "<tr><td>APP026329451</td><td>us_34800</td><td>2023-10-25 00:05:13.787</td><td>68956</td><td>22301</td></tr>",
                            "<tr><td>SYS028625658</td><td>eu_69372</td><td>2023-10-25 00:05:13.787</td><td>69263</td><td>22451</td></tr>",
                            "<tr><td>SYS111746127</td><td>eu_51465</td><td>2023-10-25 00:05:13.787</td><td>69522</td><td>22580</td></tr>",
                            "<tr><td>SYS102845118</td><td>eu_56544</td><td>2023-10-25 00:05:13.787</td><td>69822</td><td>22709</td></tr>",
                            "<tr><td>WEB022038759</td><td>au_86362</td><td>2023-10-25 00:05:13.787</td><td>70143</td><td>22827</td></tr>",
                            "<tr><td>WEB070481756</td><td>au_77600</td><td>2023-10-25 00:05:13.787</td><td>70412</td><td>22961</td></tr>",
                            "<tr><td>WEB097026217</td><td>eu_56544</td><td>2023-10-25 00:05:13.787</td><td>70734</td><td>23076</td></tr>",
                            "<tr><td>WEB122337499</td><td>eu_23263</td><td>2023-10-25 00:05:13.787</td><td>71046</td><td>23219</td></tr>",
                            "<tr><td>WEB097920698</td><td>eu_56544</td><td>2023-10-25 00:05:13.800</td><td>71488</td><td>23391</td></tr>",
                            "<tr><td>WEB112307688</td><td>au_77600</td><td>2023-10-25 00:05:13.800</td><td>71778</td><td>23536</td></tr>",
                            "<tr><td>SYS066242200</td><td>au_16507</td><td>2023-10-25 00:05:13.800</td><td>72080</td><td>23671</td></tr>",
                            "<tr><td>SYS054149674</td><td>au_86362</td><td>2023-10-25 00:05:13.800</td><td>72390</td><td>23813</td></tr>",
                            "<tr><td>APP063559048</td><td>au_89783</td><td>2023-10-25 00:05:13.800</td><td>72677</td><td>23950</td></tr>",
                            "<tr><td>APP103476874</td><td>au_25552</td><td>2023-10-26 00:05:13.787</td><td>72977</td><td>24091</td></tr>",
                            "<tr><td>APP105939173</td><td>us_52113</td><td>2023-10-26 00:05:13.787</td><td>73262</td><td>24224</td></tr>",
                            "<tr><td>APP024117393</td><td>au_89783</td><td>2023-10-26 00:05:13.787</td><td>73586</td><td>24353</td></tr>",
                            "<tr><td>APP061354274</td><td>us_52113</td><td>2023-10-26 00:05:13.787</td><td>73866</td><td>24476</td></tr>",
                            "<tr><td>SYS085433032</td><td>au_25552</td><td>2023-10-26 00:05:13.787</td><td>74121</td><td>24570</td></tr>",
                            "<tr><td>WEB098623923</td><td>au_40513</td><td>2023-10-26 00:05:13.787</td><td>74438</td><td>24696</td></tr>",
                            "<tr><td>WEB070685361</td><td>eu_77467</td><td>2023-10-26 00:05:13.787</td><td>74726</td><td>24816</td></tr>",
                            "<tr><td>WEB025451689</td><td>eu_69372</td><td>2023-10-26 00:05:13.787</td><td>75049</td><td>24951</td></tr>",
                            "<tr><td>WEB033955902</td><td>au_86362</td><td>2023-10-26 00:05:13.787</td><td>75329</td><td>25071</td></tr>",
                            "<tr><td>WEB053244512</td><td>au_11362</td><td>2023-10-26 00:05:13.787</td><td>75728</td><td>25210</td></tr>",
                            "<tr><td>WEB010471137</td><td>eu_51465</td><td>2023-10-26 00:05:13.787</td><td>76031</td><td>25361</td></tr>",
                            "<tr><td>SYS026862277</td><td>us_19904</td><td>2023-10-26 00:05:13.800</td><td>76317</td><td>25512</td></tr>",
                            "<tr><td>SYS019862404</td><td>au_25552</td><td>2023-10-26 00:05:13.800</td><td>76631</td><td>25659</td></tr>",
                            "<tr><td>APP125727912</td><td>us_19904</td><td>2023-10-26 00:05:13.800</td><td>76931</td><td>25773</td></tr>",
                            "<tr><td>APP012341320</td><td>au_86362</td><td>2023-10-26 00:05:13.800</td><td>77225</td><td>25881</td></tr>",
                            "<tr><td>APP019130754</td><td>eu_77467</td><td>2023-10-27 00:05:13.787</td><td>77639</td><td>26067</td></tr>",
                            "<tr><td>APP032691665</td><td>eu_69372</td><td>2023-10-27 00:05:13.787</td><td>78054</td><td>26253</td></tr>",
                            "<tr><td>APP033309587</td><td>eu_22256</td><td>2023-10-27 00:05:13.787</td><td>78357</td><td>26374</td></tr>",
                            "<tr><td>APP084549901</td><td>au_25552</td><td>2023-10-27 00:05:13.787</td><td>78654</td><td>26519</td></tr>",
                            "<tr><td>WEB042830966</td><td>eu_51465</td><td>2023-10-27 00:05:13.787</td><td>78982</td><td>26676</td></tr>",
                            "<tr><td>WEB079632593</td><td>us_19904</td><td>2023-10-27 00:05:13.787</td><td>79286</td><td>26791</td></tr>",
                            "<tr><td>WEB078826342</td><td>eu_22256</td><td>2023-10-27 00:05:13.787</td><td>79657</td><td>26920</td></tr>",
                            "<tr><td>WEB082400495</td><td>us_19904</td><td>2023-10-27 00:05:13.787</td><td>79935</td><td>27056</td></tr>",
                            "<tr><td>WEB087907142</td><td>eu_77467</td><td>2023-10-27 00:05:13.797</td><td>80336</td><td>27208</td></tr>",
                            "<tr><td>WEB096153356</td><td>au_77600</td><td>2023-10-27 00:05:13.797</td><td>80641</td><td>27363</td></tr>",
                            "<tr><td>WEB070136739</td><td>us_15438</td><td>2023-10-27 00:05:13.800</td><td>80936</td><td>27513</td></tr>",
                            "<tr><td>SYS073926496</td><td>eu_23263</td><td>2023-10-27 00:05:13.800</td><td>81221</td><td>27666</td></tr>",
                            "<tr><td>SYS072229275</td><td>eu_22256</td><td>2023-10-28 00:05:13.787</td><td>81510</td><td>27772</td></tr>",
                            "<tr><td>SYS047367858</td><td>au_18036</td><td>2023-10-28 00:05:13.787</td><td>81801</td><td>27891</td></tr>",
                            "<tr><td>SYS058580789</td><td>us_68077</td><td>2023-10-28 00:05:13.787</td><td>82107</td><td>28025</td></tr>",
                            "<tr><td>SYS023568040</td><td>us_57346</td><td>2023-10-28 00:05:13.787</td><td>82398</td><td>28173</td></tr>",
                            "<tr><td>SYS042912127</td><td>us_34800</td><td>2023-10-28 00:05:13.787</td><td>82717</td><td>28332</td></tr>",
                            "<tr><td>APP089979958</td><td>au_25552</td><td>2023-10-28 00:05:13.787</td><td>83011</td><td>28458</td></tr>",
                            "<tr><td>APP016596579</td><td>eu_69372</td><td>2023-10-28 00:05:13.787</td><td>83299</td><td>28604</td></tr>",
                            "<tr><td>APP013075624</td><td>au_40513</td><td>2023-10-28 00:05:13.787</td><td>83607</td><td>28751</td></tr>",
                            "<tr><td>APP015151863</td><td>au_40513</td><td>2023-10-28 00:05:13.787</td><td>83910</td><td>28896</td></tr>",
                            "<tr><td>WEB090869785</td><td>au_25552</td><td>2023-10-28 00:05:13.787</td><td>84176</td><td>29036</td></tr>",
                            "<tr><td>WEB087561850</td><td>au_75432</td><td>2023-10-28 00:05:13.787</td><td>84491</td><td>29187</td></tr>",
                            "<tr><td>WEB100847008</td><td>us_10113</td><td>2023-10-28 00:05:13.787</td><td>84754</td><td>29326</td></tr>",
                            "<tr><td>WEB106910858</td><td>us_68077</td><td>2023-10-28 00:05:13.787</td><td>85063</td><td>29489</td></tr>",
                            "<tr><td>WEB111043325</td><td>eu_22256</td><td>2023-10-28 00:05:13.787</td><td>85458</td><td>29619</td></tr>",
                            "<tr><td>WEB037706322</td><td>au_89783</td><td>2023-10-28 00:05:13.787</td><td>85785</td><td>29756</td></tr>",
                            "<tr><td>WEB015865188</td><td>au_15315</td><td>2023-10-28 00:05:13.787</td><td>86067</td><td>29882</td></tr>",
                            "<tr><td>SYS112877215</td><td>au_11362</td><td>2023-10-28 00:05:13.787</td><td>86377</td><td>30018</td></tr>",
                            "<tr><td>SYS116400523</td><td>eu_51465</td><td>2023-10-28 00:05:13.787</td><td>86679</td><td>30184</td></tr>",
                            "<tr><td>SYS098806708</td><td>us_10113</td><td>2023-10-28 00:05:13.787</td><td>86946</td><td>30277</td></tr>",
                            "<tr><td>WEB066205331</td><td>eu_77467</td><td>2023-10-28 00:05:13.797</td><td>87262</td><td>30450</td></tr>",
                            "<tr><td>APP066271873</td><td>us_34800</td><td>2023-10-28 00:05:13.797</td><td>87562</td><td>30609</td></tr>",
                            "<tr><td>SYS016484225</td><td>au_40513</td><td>2023-10-28 00:05:13.797</td><td>87730</td><td>30701</td></tr>",
                            "<tr><td>SYS022209944</td><td>au_86362</td><td>2023-10-28 00:05:13.800</td><td>88040</td><td>30859</td></tr>",
                            "<tr><td>APP102904907</td><td>us_15438</td><td>2023-10-28 00:05:13.800</td><td>88362</td><td>31023</td></tr>",
                            "<tr><td>APP022405683</td><td>eu_10858</td><td>2023-10-28 00:05:13.800</td><td>88671</td><td>31165</td></tr>",
                            "<tr><td>WEB042690973</td><td>us_52113</td><td>2023-10-28 00:05:13.800</td><td>89102</td><td>31337</td></tr>",
                            "<tr><td>SYS121252054</td><td>au_89783</td><td>2023-10-28 00:05:13.800</td><td>89409</td><td>31499</td></tr>",
                            "<tr><td>WEB099755858</td><td>au_75432</td><td>2023-10-28 00:05:13.800</td><td>89715</td><td>31652</td></tr>",
                            "<tr><td>SYS129568782</td><td>au_75432</td><td>2023-10-29 00:05:13.787</td><td>90010</td><td>31787</td></tr>",
                            "<tr><td>WEB064527118</td><td>us_19904</td><td>2023-10-29 00:05:13.787</td><td>90349</td><td>31919</td></tr>",
                            "<tr><td>APP010532937</td><td>eu_22256</td><td>2023-10-29 00:05:13.787</td><td>90627</td><td>32030</td></tr>",
                            "<tr><td>APP060229614</td><td>au_25552</td><td>2023-10-29 00:05:13.787</td><td>90932</td><td>32139</td></tr>",
                            "<tr><td>SYS021838426</td><td>eu_22256</td><td>2023-10-29 00:05:13.787</td><td>91247</td><td>32280</td></tr>",
                            "<tr><td>SYS019320483</td><td>us_68077</td><td>2023-10-29 00:05:13.787</td><td>91545</td><td>32408</td></tr>",
                            "<tr><td>SYS045116153</td><td>eu_56544</td><td>2023-10-29 00:05:13.787</td><td>91851</td><td>32524</td></tr>",
                            "<tr><td>SYS040098182</td><td>au_89783</td><td>2023-10-29 00:05:13.797</td><td>92054</td><td>32637</td></tr>",
                            "<tr><td>SYS038182686</td><td>us_52113</td><td>2023-10-29 00:05:13.797</td><td>92249</td><td>32744</td></tr>",
                            "<tr><td>SYS098725889</td><td>au_11362</td><td>2023-10-29 00:05:13.797</td><td>92549</td><td>32876</td></tr>",
                            "<tr><td>SYS090686502</td><td>au_11362</td><td>2023-10-29 00:05:13.797</td><td>92828</td><td>33018</td></tr>",
                            "<tr><td>WEB080184098</td><td>au_16507</td><td>2023-10-29 00:05:13.800</td><td>93013</td><td>33121</td></tr>",
                            "<tr><td>SYS040220507</td><td>au_75432</td><td>2023-10-29 00:05:13.800</td><td>93291</td><td>33226</td></tr>",
                            "<tr><td>SYS044301079</td><td>us_34800</td><td>2023-10-29 00:05:13.800</td><td>93611</td><td>33350</td></tr>",
                            "<tr><td>SYS022517788</td><td>eu_51465</td><td>2023-10-30 00:05:13.787</td><td>93977</td><td>33503</td></tr>",
                            "<tr><td>APP119264423</td><td>au_86362</td><td>2023-10-30 00:05:13.787</td><td>94256</td><td>33656</td></tr>",
                            "<tr><td>SYS048663179</td><td>au_75432</td><td>2023-10-30 00:05:13.787</td><td>94546</td><td>33818</td></tr>",
                            "<tr><td>SYS070647464</td><td>us_19904</td><td>2023-10-30 00:05:13.787</td><td>94875</td><td>33943</td></tr>",
                            "<tr><td>APP022196565</td><td>eu_11838</td><td>2023-10-30 00:05:13.787</td><td>95161</td><td>34045</td></tr>",
                            "<tr><td>APP114204381</td><td>au_11362</td><td>2023-10-30 00:05:13.787</td><td>95564</td><td>34218</td></tr>",
                            "<tr><td>WEB069782071</td><td>au_25552</td><td>2023-10-30 00:05:13.787</td><td>95959</td><td>34395</td></tr>",
                            "<tr><td>WEB084821755</td><td>au_25552</td><td>2023-10-30 00:05:13.787</td><td>96249</td><td>34540</td></tr>",
                            "<tr><td>WEB109261892</td><td>au_15315</td><td>2023-10-30 00:05:13.787</td><td>96526</td><td>34681</td></tr>",
                            "<tr><td>WEB118367363</td><td>eu_51465</td><td>2023-10-30 00:05:13.787</td><td>96831</td><td>34824</td></tr>",
                            "<tr><td>SYS102712966</td><td>us_10113</td><td>2023-10-30 00:05:13.787</td><td>97111</td><td>34924</td></tr>",
                            "<tr><td>SYS109940430</td><td>eu_22256</td><td>2023-10-30 00:05:13.787</td><td>97420</td><td>35069</td></tr>",
                            "<tr><td>WEB050758182</td><td>eu_56544</td><td>2023-10-30 00:05:13.787</td><td>97830</td><td>35249</td></tr>",
                            "<tr><td>WEB030163289</td><td>au_11362</td><td>2023-10-30 00:05:13.787</td><td>98026</td><td>35360</td></tr>",
                            "<tr><td>APP111846386</td><td>au_89783</td><td>2023-10-30 00:05:13.797</td><td>98339</td><td>35472</td></tr>",
                            "<tr><td>APP071593999</td><td>us_68077</td><td>2023-10-30 00:05:13.797</td><td>98646</td><td>35588</td></tr>",
                            "<tr><td>APP016698493</td><td>eu_77467</td><td>2023-10-30 00:05:13.797</td><td>98925</td><td>35716</td></tr>",
                            "<tr><td>SYS011102489</td><td>au_89783</td><td>2023-10-30 00:05:13.797</td><td>99222</td><td>35855</td></tr>",
                            "<tr><td>SYS032330609</td><td>eu_11838</td><td>2023-10-30 00:05:13.800</td><td>99559</td><td>36016</td></tr>",
                            "<tr><td>APP027908648</td><td>au_18036</td><td>2023-10-30 00:05:13.800</td><td>99737</td><td>36117</td></tr>",
                            "<tr><td>WEB120371839</td><td>au_75432</td><td>2023-10-30 00:05:13.800</td><td>100047</td><td>36231</td></tr>",
                            "<tr><td>WEB071839828</td><td>us_52113</td><td>2023-10-31 00:05:13.787</td><td>100357</td><td>36379</td></tr>",
                            "<tr><td>WEB033569725</td><td>au_77600</td><td>2023-10-31 00:05:13.787</td><td>100662</td><td>36497</td></tr>",
                            "<tr><td>WEB011462637</td><td>au_18036</td><td>2023-10-31 00:05:13.787</td><td>100976</td><td>36669</td></tr>",
                            "<tr><td>WEB063147379</td><td>eu_69372</td><td>2023-10-31 00:05:13.787</td><td>101286</td><td>36796</td></tr>",
                            "<tr><td>WEB059912165</td><td>au_18036</td><td>2023-10-31 00:05:13.787</td><td>101692</td><td>36946</td></tr>",
                            "<tr><td>APP031811433</td><td>us_10113</td><td>2023-10-31 00:05:13.787</td><td>101978</td><td>37051</td></tr>",
                            "<tr><td>APP013791762</td><td>us_34800</td><td>2023-10-31 00:05:13.787</td><td>102274</td><td>37181</td></tr>",
                            "<tr><td>APP056547229</td><td>au_40513</td><td>2023-10-31 00:05:13.787</td><td>102539</td><td>37300</td></tr>",
                            "<tr><td>APP077136952</td><td>eu_77467</td><td>2023-10-31 00:05:13.787</td><td>102847</td><td>37463</td></tr>",
                            "<tr><td>APP066798259</td><td>au_18036</td><td>2023-10-31 00:05:13.787</td><td>103141</td><td>37589</td></tr>",
                            "<tr><td>APP099836405</td><td>us_68077</td><td>2023-10-31 00:05:13.787</td><td>103355</td><td>37708</td></tr>",
                            "<tr><td>SYS050602937</td><td>eu_51465</td><td>2023-10-31 00:05:13.787</td><td>103673</td><td>37882</td></tr>",
                            "<tr><td>SYS063942370</td><td>eu_11838</td><td>2023-10-31 00:05:13.797</td><td>103993</td><td>38032</td></tr>",
                            "<tr><td>APP114322250</td><td>eu_11838</td><td>2023-10-31 00:05:13.797</td><td>104289</td><td>38191</td></tr>",
                            "<tr><td>SYS101357759</td><td>au_18036</td><td>2023-10-31 00:05:13.797</td><td>104620</td><td>38336</td></tr>",
                            "<tr><td>WEB075182759</td><td>us_10113</td><td>2023-10-31 00:05:13.797</td><td>104930</td><td>38506</td></tr>",
                            "<tr><td>WEB112256991</td><td>eu_69372</td><td>2023-10-31 00:05:13.797</td><td>105209</td><td>38637</td></tr>",
                            "<tr><td>WEB114384049</td><td>au_25552</td><td>2023-10-31 00:05:13.800</td><td>105510</td><td>38790</td></tr>",
                            "<tr><td>WEB074240087</td><td>us_10113</td><td>2023-10-31 00:05:13.800</td><td>105798</td><td>38925</td></tr>",
                            "<tr><td>WEB088097336</td><td>au_11362</td><td>2023-10-31 00:05:13.800</td><td>106120</td><td>39092</td></tr>",
                            "<tr><td>APP019792516</td><td>eu_22256</td><td>2023-10-31 00:05:13.800</td><td>106404</td><td>39202</td></tr>",
                            "<tr><td>APP036137507</td><td>eu_22256</td><td>2023-11-01 00:05:13.787</td><td>106712</td><td>39356</td></tr>",
                            "<tr><td>APP042858841</td><td>au_25552</td><td>2023-11-01 00:05:13.787</td><td>106916</td><td>39470</td></tr>",
                            "<tr><td>APP106966417</td><td>au_89783</td><td>2023-11-01 00:05:13.787</td><td>107187</td><td>39619</td></tr>",
                            "<tr><td>SYS037204659</td><td>eu_56544</td><td>2023-11-01 00:05:13.787</td><td>107517</td><td>39754</td></tr>",
                            "<tr><td>SYS034493531</td><td>au_40513</td><td>2023-11-01 00:05:13.787</td><td>107768</td><td>39861</td></tr>",
                            "<tr><td>WEB077661825</td><td>au_18036</td><td>2023-11-01 00:05:13.787</td><td>108075</td><td>40017</td></tr>",
                            "<tr><td>WEB098600849</td><td>eu_10858</td><td>2023-11-01 00:05:13.787</td><td>108377</td><td>40137</td></tr>",
                            "<tr><td>WEB108262041</td><td>au_25552</td><td>2023-11-01 00:05:13.787</td><td>108722</td><td>40340</td></tr>",
                            "<tr><td>WEB013930879</td><td>us_10113</td><td>2023-11-01 00:05:13.787</td><td>109043</td><td>40481</td></tr>",
                            "<tr><td>SYS022908782</td><td>au_15315</td><td>2023-11-01 00:05:13.797</td><td>109333</td><td>40631</td></tr>",
                            "<tr><td>APP116650616</td><td>us_52113</td><td>2023-11-01 00:05:13.797</td><td>109625</td><td>40741</td></tr>",
                            "<tr><td>SYS086365565</td><td>au_86362</td><td>2023-11-01 00:05:13.797</td><td>109925</td><td>40876</td></tr>",
                            "<tr><td>SYS087547816</td><td>us_19904</td><td>2023-11-01 00:05:13.797</td><td>110232</td><td>41011</td></tr>",
                            "<tr><td>APP021435191</td><td>au_11362</td><td>2023-11-01 00:05:13.797</td><td>110566</td><td>41201</td></tr>",
                            "<tr><td>APP098039559</td><td>au_18036</td><td>2023-11-01 00:05:13.800</td><td>110859</td><td>41315</td></tr>",
                            "<tr><td>APP102222061</td><td>au_77600</td><td>2023-11-01 00:05:13.800</td><td>111149</td><td>41465</td></tr>",
                            "<tr><td>SYS059465191</td><td>au_86362</td><td>2023-11-01 00:05:13.800</td><td>111437</td><td>41585</td></tr>",
                            "<tr><td>SYS058421990</td><td>us_52113</td><td>2023-11-02 00:05:13.787</td><td>111768</td><td>41760</td></tr>",
                            "<tr><td>SYS047556465</td><td>au_77600</td><td>2023-11-02 00:05:13.787</td><td>112086</td><td>41919</td></tr>",
                            "<tr><td>APP120607150</td><td>au_77600</td><td>2023-11-02 00:05:13.787</td><td>112406</td><td>42088</td></tr>",
                            "<tr><td>APP126188929</td><td>au_18036</td><td>2023-11-02 00:05:13.787</td><td>112712</td><td>42250</td></tr>",
                            "<tr><td>SYS026136961</td><td>eu_69372</td><td>2023-11-02 00:05:13.787</td><td>113024</td><td>42437</td></tr>",
                            "<tr><td>APP067473382</td><td>au_86362</td><td>2023-11-02 00:05:13.787</td><td>113363</td><td>42579</td></tr>",
                            "<tr><td>APP071849591</td><td>au_11362</td><td>2023-11-02 00:05:13.787</td><td>113752</td><td>42738</td></tr>",
                            "<tr><td>APP062892269</td><td>eu_77467</td><td>2023-11-02 00:05:13.787</td><td>114076</td><td>42883</td></tr>",
                            "<tr><td>APP057154378</td><td>au_40513</td><td>2023-11-02 00:05:13.787</td><td>114262</td><td>42992</td></tr>",
                            "<tr><td>WEB011398374</td><td>au_16507</td><td>2023-11-02 00:05:13.787</td><td>114531</td><td>43131</td></tr>",
                            "<tr><td>SYS108776948</td><td>us_68077</td><td>2023-11-02 00:05:13.787</td><td>114721</td><td>43243</td></tr>",
                            "<tr><td>WEB052102493</td><td>eu_51465</td><td>2023-11-02 00:05:13.787</td><td>115002</td><td>43408</td></tr>",
                            "<tr><td>WEB035135526</td><td>au_89783</td><td>2023-11-02 00:05:13.787</td><td>115226</td><td>43542</td></tr>",
                            "<tr><td>WEB077736022</td><td>eu_11838</td><td>2023-11-02 00:05:13.787</td><td>115512</td><td>43664</td></tr>",
                            "<tr><td>WEB065942844</td><td>us_19904</td><td>2023-11-02 00:05:13.797</td><td>115769</td><td>43782</td></tr>",
                            "<tr><td>APP031228165</td><td>au_18036</td><td>2023-11-02 00:05:13.797</td><td>116089</td><td>43906</td></tr>",
                            "<tr><td>APP070127968</td><td>eu_10858</td><td>2023-11-02 00:05:13.797</td><td>116381</td><td>44057</td></tr>",
                            "<tr><td>APP071117809</td><td>eu_77467</td><td>2023-11-02 00:05:13.800</td><td>116689</td><td>44238</td></tr>",
                            "<tr><td>WEB016048056</td><td>au_77600</td><td>2023-11-02 00:05:13.800</td><td>116885</td><td>44353</td></tr>",
                            "<tr><td>SYS128266577</td><td>au_75432</td><td>2023-11-02 00:05:13.800</td><td>117202</td><td>44543</td></tr>",
                            "<tr><td>SYS117181294</td><td>au_77600</td><td>2023-11-02 00:05:13.800</td><td>117488</td><td>44674</td></tr>",
                            "<tr><td>SYS127788920</td><td>au_89783</td><td>2023-11-03 00:05:13.787</td><td>117808</td><td>44818</td></tr>",
                            "<tr><td>SYS103327279</td><td>au_75432</td><td>2023-11-03 00:05:13.787</td><td>118079</td><td>44931</td></tr>",
                            "<tr><td>SYS096800023</td><td>au_15315</td><td>2023-11-03 00:05:13.787</td><td>118366</td><td>45088</td></tr>",
                            "<tr><td>WEB032332063</td><td>us_57346</td><td>2023-11-03 00:05:13.787</td><td>118685</td><td>45218</td></tr>",
                            "<tr><td>WEB044944669</td><td>us_34800</td><td>2023-11-03 00:05:13.787</td><td>118937</td><td>45356</td></tr>",
                            "<tr><td>WEB093863791</td><td>eu_22256</td><td>2023-11-03 00:05:13.787</td><td>119152</td><td>45476</td></tr>",
                            "<tr><td>WEB100100169</td><td>au_40513</td><td>2023-11-03 00:05:13.787</td><td>119353</td><td>45588</td></tr>",
                            "<tr><td>WEB114310275</td><td>us_52113</td><td>2023-11-03 00:05:13.787</td><td>119640</td><td>45734</td></tr>",
                            "<tr><td>APP015648143</td><td>us_19904</td><td>2023-11-03 00:05:13.787</td><td>120042</td><td>45902</td></tr>",
                            "<tr><td>APP048320603</td><td>us_52113</td><td>2023-11-03 00:05:13.787</td><td>120242</td><td>46017</td></tr>",
                            "<tr><td>SYS017925246</td><td>us_15438</td><td>2023-11-03 00:05:13.787</td><td>120565</td><td>46181</td></tr>",
                            "<tr><td>SYS053135184</td><td>eu_77467</td><td>2023-11-03 00:05:13.787</td><td>120872</td><td>46340</td></tr>",
                            "<tr><td>SYS054720996</td><td>au_89783</td><td>2023-11-03 00:05:13.787</td><td>121180</td><td>46481</td></tr>",
                            "<tr><td>APP096120758</td><td>us_19904</td><td>2023-11-03 00:05:13.797</td><td>121447</td><td>46622</td></tr>",
                            "<tr><td>WEB084495628</td><td>au_11362</td><td>2023-11-03 00:05:13.797</td><td>121762</td><td>46788</td></tr>",
                            "<tr><td>SYS095677008</td><td>us_57346</td><td>2023-11-03 00:05:13.797</td><td>122033</td><td>46942</td></tr>",
                            "<tr><td>SYS104278819</td><td>au_86362</td><td>2023-11-03 00:05:13.797</td><td>122326</td><td>47106</td></tr>",
                            "<tr><td>SYS105654429</td><td>eu_22256</td><td>2023-11-03 00:05:13.800</td><td>122626</td><td>47259</td></tr>",
                            "<tr><td>WEB086004907</td><td>eu_10858</td><td>2023-11-03 00:05:13.800</td><td>122946</td><td>47435</td></tr>",
                            "<tr><td>WEB129669584</td><td>au_25552</td><td>2023-11-03 00:05:13.800</td><td>123265</td><td>47572</td></tr>",
                            "<tr><td>APP089757361</td><td>us_57346</td><td>2023-11-03 00:05:13.800</td><td>123463</td><td>47692</td></tr>",
                            "<tr><td>APP117170580</td><td>us_68077</td><td>2023-11-03 00:05:13.800</td><td>123665</td><td>47811</td></tr>",
                            "<tr><td>SYS019539627</td><td>au_40513</td><td>2023-11-04 00:05:13.787</td><td>123964</td><td>47984</td></tr>",
                            "<tr><td>SYS052067884</td><td>us_15438</td><td>2023-11-04 00:05:13.787</td><td>124156</td><td>48099</td></tr>",
                            "<tr><td>APP089717754</td><td>eu_10858</td><td>2023-11-04 00:05:13.787</td><td>124550</td><td>48264</td></tr>",
                            "<tr><td>APP094980848</td><td>au_89783</td><td>2023-11-04 00:05:13.787</td><td>124850</td><td>48390</td></tr>",
                            "<tr><td>APP104647437</td><td>us_52113</td><td>2023-11-04 00:05:13.787</td><td>125147</td><td>48532</td></tr>",
                            "<tr><td>SYS101171825</td><td>au_75432</td><td>2023-11-04 00:05:13.787</td><td>125361</td><td>48653</td></tr>",
                            "<tr><td>SYS099413433</td><td>au_18036</td><td>2023-11-04 00:05:13.787</td><td>125662</td><td>48818</td></tr>",
                            "<tr><td>SYS094969652</td><td>au_16507</td><td>2023-11-04 00:05:13.787</td><td>125956</td><td>48947</td></tr>",
                            "<tr><td>SYS123149194</td><td>us_68077</td><td>2023-11-04 00:05:13.787</td><td>126211</td><td>49066</td></tr>",
                            "<tr><td>SYS113618321</td><td>au_16507</td><td>2023-11-04 00:05:13.787</td><td>126496</td><td>49197</td></tr>",
                            "<tr><td>WEB045797271</td><td>eu_51465</td><td>2023-11-04 00:05:13.787</td><td>126671</td><td>49300</td></tr>",
                            "<tr><td>WEB041541007</td><td>us_57346</td><td>2023-11-04 00:05:13.787</td><td>126965</td><td>49435</td></tr>",
                            "<tr><td>WEB042214184</td><td>eu_10858</td><td>2023-11-04 00:05:13.787</td><td>127250</td><td>49566</td></tr>",
                            "<tr><td>WEB053842794</td><td>au_75432</td><td>2023-11-04 00:05:13.787</td><td>127557</td><td>49731</td></tr>",
                            "<tr><td>WEB031704304</td><td>eu_69372</td><td>2023-11-04 00:05:13.787</td><td>127854</td><td>49870</td></tr>",
                            "<tr><td>WEB052869901</td><td>eu_77467</td><td>2023-11-04 00:05:13.797</td><td>128059</td><td>49988</td></tr>",
                            "<tr><td>SYS099061209</td><td>au_16507</td><td>2023-11-04 00:05:13.797</td><td>128351</td><td>50131</td></tr>",
                            "<tr><td>APP032702677</td><td>au_11362</td><td>2023-11-04 00:05:13.797</td><td>128654</td><td>50297</td></tr>",
                            "<tr><td>APP031717472</td><td>au_40513</td><td>2023-11-04 00:05:13.800</td><td>128817</td><td>50391</td></tr>",
                            "<tr><td>APP026814720</td><td>eu_56544</td><td>2023-11-04 00:05:13.800</td><td>129000</td><td>50493</td></tr>",
                            "<tr><td>APP012793716</td><td>eu_77467</td><td>2023-11-04 00:05:13.800</td><td>129196</td><td>50608</td></tr>",
                            "<tr><td>SYS046462259</td><td>us_57346</td><td>2023-11-04 00:05:13.800</td><td>129522</td><td>50757</td></tr>",
                            "<tr><td>SYS073266347</td><td>au_86362</td><td>2023-11-04 00:05:13.800</td><td>129730</td><td>50881</td></tr>",
                            "<tr><td>WEB024586830</td><td>eu_77467</td><td>2023-11-04 00:05:13.800</td><td>130017</td><td>51061</td></tr>",
                            "<tr><td>WEB129735023</td><td>eu_69372</td><td>2023-11-04 00:05:13.800</td><td>130270</td><td>51192</td></tr>",
                            "<tr><td>WEB079296625</td><td>us_10113</td><td>2023-11-05 00:05:13.787</td><td>130532</td><td>51330</td></tr>",
                            "<tr><td>WEB070256347</td><td>eu_11838</td><td>2023-11-05 00:05:13.787</td><td>130828</td><td>51510</td></tr>",
                            "<tr><td>WEB111238282</td><td>eu_51465</td><td>2023-11-05 00:05:13.787</td><td>131124</td><td>51678</td></tr>",
                            "<tr><td>WEB049502404</td><td>au_11362</td><td>2023-11-05 00:05:13.787</td><td>131325</td><td>51790</td></tr>",
                            "<tr><td>WEB056786695</td><td>au_11362</td><td>2023-11-05 00:05:13.787</td><td>131625</td><td>51943</td></tr>",
                            "<tr><td>SYS121168685</td><td>au_15315</td><td>2023-11-05 00:05:13.787</td><td>131925</td><td>52111</td></tr>",
                            "<tr><td>SYS125775906</td><td>eu_10858</td><td>2023-11-05 00:05:13.787</td><td>132136</td><td>52233</td></tr>",
                            "<tr><td>SYS075180175</td><td>au_89783</td><td>2023-11-05 00:05:13.787</td><td>132578</td><td>52423</td></tr>",
                            "<tr><td>SYS064870991</td><td>us_10113</td><td>2023-11-05 00:05:13.787</td><td>132858</td><td>52591</td></tr>",
                            "<tr><td>SYS019275570</td><td>au_75432</td><td>2023-11-05 00:05:13.787</td><td>133042</td><td>52699</td></tr>",
                            "<tr><td>SYS043346802</td><td>au_18036</td><td>2023-11-05 00:05:13.787</td><td>133354</td><td>52886</td></tr>",
                            "<tr><td>APP033705893</td><td>au_11362</td><td>2023-11-05 00:05:13.787</td><td>133551</td><td>53004</td></tr>",
                            "<tr><td>APP112266091</td><td>au_40513</td><td>2023-11-05 00:05:13.787</td><td>133862</td><td>53175</td></tr>",
                            "<tr><td>APP114965138</td><td>au_18036</td><td>2023-11-05 00:05:13.787</td><td>134132</td><td>53318</td></tr>",
                            "<tr><td>APP095161226</td><td>eu_23263</td><td>2023-11-05 00:05:13.787</td><td>134334</td><td>53441</td></tr>",
                            "<tr><td>APP066924599</td><td>au_40513</td><td>2023-11-05 00:05:13.787</td><td>134640</td><td>53624</td></tr>",
                            "<tr><td>SYS090919017</td><td>eu_77467</td><td>2023-11-05 00:05:13.797</td><td>134848</td><td>53757</td></tr>",
                            "<tr><td>WEB108515837</td><td>au_89783</td><td>2023-11-05 00:05:13.797</td><td>135117</td><td>53872</td></tr>",
                            "<tr><td>WEB118042044</td><td>us_10113</td><td>2023-11-05 00:05:13.800</td><td>135422</td><td>54030</td></tr>",
                            "<tr><td>SYS109758172</td><td>au_77600</td><td>2023-11-05 00:05:13.800</td><td>135754</td><td>54222</td></tr>",
                            "<tr><td>WEB012727850</td><td>us_57346</td><td>2023-11-05 00:05:13.800</td><td>136044</td><td>54384</td></tr>",
                            "<tr><td>WEB053533443</td><td>au_75432</td><td>2023-11-05 00:05:13.800</td><td>136346</td><td>54519</td></tr>",
                            "<tr><td>APP092761535</td><td>us_19904</td><td>2023-11-05 00:05:13.800</td><td>136586</td><td>54655</td></tr>",
                            "<tr><td>APP114490580</td><td>au_40513</td><td>2023-11-06 00:05:13.787</td><td>136779</td><td>54761</td></tr>",
                            "<tr><td>APP111241185</td><td>eu_77467</td><td>2023-11-06 00:05:13.787</td><td>136973</td><td>54875</td></tr>",
                            "<tr><td>APP025921245</td><td>au_25552</td><td>2023-11-06 00:05:13.787</td><td>137150</td><td>54981</td></tr>",
                            "<tr><td>APP013311906</td><td>au_86362</td><td>2023-11-06 00:05:13.787</td><td>137475</td><td>55159</td></tr>",
                            "<tr><td>SYS015891136</td><td>au_77600</td><td>2023-11-06 00:05:13.787</td><td>137651</td><td>55271</td></tr>",
                            "<tr><td>SYS047416084</td><td>eu_56544</td><td>2023-11-06 00:05:13.787</td><td>137919</td><td>55410</td></tr>",
                            "<tr><td>SYS050265426</td><td>au_77600</td><td>2023-11-06 00:05:13.787</td><td>138222</td><td>55555</td></tr>",
                            "<tr><td>SYS071497846</td><td>au_16507</td><td>2023-11-06 00:05:13.787</td><td>138419</td><td>55665</td></tr>",
                            "<tr><td>SYS089087400</td><td>au_89783</td><td>2023-11-06 00:05:13.787</td><td>138728</td><td>55859</td></tr>",
                            "<tr><td>SYS086617718</td><td>au_15315</td><td>2023-11-06 00:05:13.787</td><td>139024</td><td>55986</td></tr>",
                            "<tr><td>SYS118380654</td><td>eu_56544</td><td>2023-11-06 00:05:13.787</td><td>139249</td><td>56114</td></tr>",
                            "<tr><td>APP027703885</td><td>au_16507</td><td>2023-11-06 00:05:13.800</td><td>139467</td><td>56238</td></tr>",
                            "<tr><td>APP109939331</td><td>eu_10858</td><td>2023-11-06 00:05:13.800</td><td>139695</td><td>56379</td></tr>",
                            "<tr><td>APP096131718</td><td>eu_23263</td><td>2023-11-07 00:05:13.787</td><td>139989</td><td>56558</td></tr>",
                            "<tr><td>APP045403316</td><td>us_68077</td><td>2023-11-07 00:05:13.787</td><td>140266</td><td>56688</td></tr>",
                            "<tr><td>SYS088759852</td><td>us_57346</td><td>2023-11-07 00:05:13.787</td><td>140458</td><td>56795</td></tr>",
                            "<tr><td>SYS050537730</td><td>us_15438</td><td>2023-11-07 00:05:13.787</td><td>140763</td><td>56953</td></tr>",
                            "<tr><td>SYS051318699</td><td>au_86362</td><td>2023-11-07 00:05:13.787</td><td>140923</td><td>57049</td></tr>",
                            "<tr><td>SYS016987201</td><td>eu_10858</td><td>2023-11-07 00:05:13.787</td><td>141188</td><td>57194</td></tr>",
                            "<tr><td>SYS011399043</td><td>au_75432</td><td>2023-11-07 00:05:13.787</td><td>141498</td><td>57380</td></tr>",
                            "<tr><td>SYS039042288</td><td>eu_22256</td><td>2023-11-07 00:05:13.787</td><td>141772</td><td>57511</td></tr>",
                            "<tr><td>SYS036841453</td><td>eu_77467</td><td>2023-11-07 00:05:13.787</td><td>142072</td><td>57691</td></tr>",
                            "<tr><td>WEB027016608</td><td>us_68077</td><td>2023-11-07 00:05:13.787</td><td>142361</td><td>57861</td></tr>",
                            "<tr><td>SYS064496472</td><td>au_89783</td><td>2023-11-07 00:05:13.797</td><td>142663</td><td>58005</td></tr>",
                            "<tr><td>APP120392407</td><td>eu_22256</td><td>2023-11-07 00:05:13.800</td><td>142988</td><td>58200</td></tr>",
                            "<tr><td>APP023863389</td><td>eu_10858</td><td>2023-11-07 00:05:13.800</td><td>143146</td><td>58294</td></tr>",
                            "<tr><td>WEB070843255</td><td>us_10113</td><td>2023-11-07 00:05:13.800</td><td>143467</td><td>58464</td></tr>",
                            "<tr><td>WEB080831723</td><td>us_57346</td><td>2023-11-08 00:05:13.787</td><td>143749</td><td>58599</td></tr>",
                            "<tr><td>WEB043387269</td><td>eu_10858</td><td>2023-11-08 00:05:13.787</td><td>143962</td><td>58728</td></tr>",
                            "<tr><td>SYS090238060</td><td>au_25552</td><td>2023-11-08 00:05:13.787</td><td>144137</td><td>58836</td></tr>",
                            "<tr><td>APP027445185</td><td>us_57346</td><td>2023-11-08 00:05:13.787</td><td>144322</td><td>58950</td></tr>",
                            "<tr><td>APP014754122</td><td>eu_10858</td><td>2023-11-08 00:05:13.787</td><td>144655</td><td>59106</td></tr>",
                            "<tr><td>APP019104308</td><td>au_11362</td><td>2023-11-08 00:05:13.787</td><td>144845</td><td>59227</td></tr>",
                            "<tr><td>APP100278745</td><td>eu_11838</td><td>2023-11-08 00:05:13.787</td><td>145154</td><td>59409</td></tr>",
                            "<tr><td>APP072636897</td><td>au_89783</td><td>2023-11-08 00:05:13.787</td><td>145344</td><td>59528</td></tr>",
                            "<tr><td>APP075193984</td><td>eu_69372</td><td>2023-11-08 00:05:13.787</td><td>145672</td><td>59731</td></tr>",
                            "<tr><td>APP089334108</td><td>eu_56544</td><td>2023-11-08 00:05:13.787</td><td>145891</td><td>59879</td></tr>",
                            "<tr><td>APP118451460</td><td>au_89783</td><td>2023-11-08 00:05:13.787</td><td>146173</td><td>60053</td></tr>",
                            "<tr><td>APP124397356</td><td>au_75432</td><td>2023-11-08 00:05:13.787</td><td>146497</td><td>60237</td></tr>",
                            "<tr><td>SYS038986141</td><td>us_68077</td><td>2023-11-08 00:05:13.787</td><td>146805</td><td>60415</td></tr>",
                            "<tr><td>SYS060614973</td><td>eu_22256</td><td>2023-11-08 00:05:13.787</td><td>147093</td><td>60564</td></tr>",
                            "<tr><td>SYS051152622</td><td>eu_77467</td><td>2023-11-08 00:05:13.787</td><td>147410</td><td>60770</td></tr>",
                            "<tr><td>SYS068867531</td><td>au_86362</td><td>2023-11-08 00:05:13.787</td><td>147681</td><td>60894</td></tr>",
                            "<tr><td>SYS065884504</td><td>au_77600</td><td>2023-11-08 00:05:13.797</td><td>147858</td><td>61012</td></tr>",
                            "<tr><td>APP092723188</td><td>eu_51465</td><td>2023-11-08 00:05:13.797</td><td>148192</td><td>61172</td></tr>",
                            "<tr><td>APP096589027</td><td>eu_56544</td><td>2023-11-08 00:05:13.797</td><td>148497</td><td>61351</td></tr>",
                            "<tr><td>APP104929951</td><td>eu_22256</td><td>2023-11-08 00:05:13.797</td><td>148722</td><td>61501</td></tr>",
                            "<tr><td>APP036818185</td><td>us_34800</td><td>2023-11-08 00:05:13.797</td><td>148928</td><td>61616</td></tr>",
                            "<tr><td>SYS101279905</td><td>us_19904</td><td>2023-11-08 00:05:13.797</td><td>149112</td><td>61722</td></tr>",
                            "<tr><td>SYS091474357</td><td>au_16507</td><td>2023-11-08 00:05:13.800</td><td>149417</td><td>61911</td></tr>",
                            "<tr><td>SYS111396603</td><td>eu_10858</td><td>2023-11-08 00:05:13.800</td><td>149627</td><td>62034</td></tr>",
                            "<tr><td>SYS129988087</td><td>au_86362</td><td>2023-11-08 00:05:13.800</td><td>149907</td><td>62165</td></tr>",
                            "<tr><td>WEB072557701</td><td>eu_77467</td><td>2023-11-08 00:05:13.800</td><td>150182</td><td>62327</td></tr>",
                            "<tr><td>APP048338844</td><td>us_57346</td><td>2023-11-08 00:05:13.800</td><td>150477</td><td>62462</td></tr>",
                            "<tr><td>APP013136505</td><td>eu_56544</td><td>2023-11-08 00:05:13.800</td><td>150758</td><td>62594</td></tr>",
                            "<tr><td>APP032868524</td><td>au_16507</td><td>2023-11-08 00:05:13.800</td><td>150986</td><td>62746</td></tr>",
                            "<tr><td>APP072168938</td><td>us_52113</td><td>2023-11-08 00:05:13.800</td><td>151216</td><td>62888</td></tr>",
                            "<tr><td>APP119982792</td><td>us_57346</td><td>2023-11-08 00:05:13.800</td><td>151487</td><td>63026</td></tr>",
                            "<tr><td>SYS016799813</td><td>eu_10858</td><td>2023-11-08 00:05:13.800</td><td>151781</td><td>63184</td></tr>",
                            "<tr><td>SYS024893251</td><td>eu_77467</td><td>2023-11-09 00:05:13.787</td><td>152098</td><td>63386</td></tr>",
                            "<tr><td>SYS066101435</td><td>au_15315</td><td>2023-11-09 00:05:13.787</td><td>152310</td><td>63523</td></tr>",
                            "<tr><td>SYS069770342</td><td>au_40513</td><td>2023-11-09 00:05:13.787</td><td>152525</td><td>63656</td></tr>",
                            "<tr><td>SYS073834656</td><td>us_68077</td><td>2023-11-09 00:05:13.787</td><td>152726</td><td>63770</td></tr>",
                            "<tr><td>SYS076658004</td><td>au_75432</td><td>2023-11-09 00:05:13.787</td><td>152955</td><td>63923</td></tr>",
                            "<tr><td>APP104958883</td><td>eu_69372</td><td>2023-11-09 00:05:13.787</td><td>153134</td><td>64030</td></tr>",
                            "<tr><td>APP109371245</td><td>au_89783</td><td>2023-11-09 00:05:13.787</td><td>153420</td><td>64201</td></tr>",
                            "<tr><td>APP092675867</td><td>us_52113</td><td>2023-11-09 00:05:13.787</td><td>153596</td><td>64301</td></tr>",
                            "<tr><td>APP095467852</td><td>au_77600</td><td>2023-11-09 00:05:13.787</td><td>153843</td><td>64446</td></tr>",
                            "<tr><td>APP011006239</td><td>us_15438</td><td>2023-11-09 00:05:13.787</td><td>154147</td><td>64613</td></tr>",
                            "<tr><td>APP010225574</td><td>eu_69372</td><td>2023-11-09 00:05:13.787</td><td>154465</td><td>64778</td></tr>",
                            "<tr><td>APP042921273</td><td>us_10113</td><td>2023-11-09 00:05:13.787</td><td>154719</td><td>64938</td></tr>",
                            "<tr><td>WEB095646796</td><td>au_25552</td><td>2023-11-09 00:05:13.787</td><td>154940</td><td>65059</td></tr>",
                            "<tr><td>WEB109125132</td><td>us_15438</td><td>2023-11-09 00:05:13.787</td><td>155227</td><td>65245</td></tr>",
                            "<tr><td>WEB128687279</td><td>au_18036</td><td>2023-11-09 00:05:13.787</td><td>155529</td><td>65417</td></tr>",
                            "<tr><td>SYS125327875</td><td>us_52113</td><td>2023-11-09 00:05:13.787</td><td>155856</td><td>65587</td></tr>",
                            "<tr><td>SYS092677344</td><td>au_18036</td><td>2023-11-09 00:05:13.787</td><td>156039</td><td>65707</td></tr>",
                            "<tr><td>SYS093982258</td><td>eu_23263</td><td>2023-11-09 00:05:13.787</td><td>156263</td><td>65857</td></tr>",
                            "<tr><td>SYS098059296</td><td>us_19904</td><td>2023-11-09 00:05:13.787</td><td>156585</td><td>66059</td></tr>",
                            "<tr><td>SYS110470957</td><td>eu_69372</td><td>2023-11-09 00:05:13.787</td><td>156877</td><td>66234</td></tr>",
                            "<tr><td>WEB055301741</td><td>au_40513</td><td>2023-11-09 00:05:13.787</td><td>157020</td><td>66332</td></tr>",
                            "<tr><td>WEB021615283</td><td>au_89783</td><td>2023-11-09 00:05:13.787</td><td>157342</td><td>66518</td></tr>",
                            "<tr><td>WEB032239438</td><td>eu_69372</td><td>2023-11-09 00:05:13.797</td><td>157675</td><td>66734</td></tr>",
                            "<tr><td>WEB041453030</td><td>au_89783</td><td>2023-11-09 00:05:13.797</td><td>157984</td><td>66888</td></tr>",
                            "<tr><td>SYS102053023</td><td>us_68077</td><td>2023-11-09 00:05:13.797</td><td>158194</td><td>67016</td></tr>",
                            "<tr><td>SYS013029926</td><td>eu_51465</td><td>2023-11-09 00:05:13.797</td><td>158409</td><td>67142</td></tr>",
                            "<tr><td>APP035979274</td><td>au_89783</td><td>2023-11-09 00:05:13.800</td><td>158644</td><td>67273</td></tr>",
                            "<tr><td>APP092945652</td><td>eu_51465</td><td>2023-11-09 00:05:13.800</td><td>158984</td><td>67456</td></tr>",
                            "<tr><td>WEB106789940</td><td>au_75432</td><td>2023-11-09 00:05:13.800</td><td>159200</td><td>67592</td></tr>",
                            "<tr><td>WEB103911193</td><td>au_16507</td><td>2023-11-09 00:05:13.800</td><td>159561</td><td>67783</td></tr>",
                            "<tr><td>WEB115869385</td><td>au_18036</td><td>2023-11-10 00:05:13.787</td><td>159772</td><td>67926</td></tr>",
                            "<tr><td>WEB092595264</td><td>au_15315</td><td>2023-11-10 00:05:13.787</td><td>159991</td><td>68053</td></tr>",
                            "<tr><td>WEB070529757</td><td>eu_69372</td><td>2023-11-10 00:05:13.787</td><td>160174</td><td>68171</td></tr>",
                            "<tr><td>SYS123752659</td><td>us_52113</td><td>2023-11-10 00:05:13.787</td><td>160354</td><td>68293</td></tr>",
                            "<tr><td>WEB049821460</td><td>us_68077</td><td>2023-11-10 00:05:13.787</td><td>160645</td><td>68461</td></tr>",
                            "<tr><td>APP044191823</td><td>au_77600</td><td>2023-11-10 00:05:13.787</td><td>160912</td><td>68629</td></tr>",
                            "<tr><td>APP040548687</td><td>au_16507</td><td>2023-11-10 00:05:13.787</td><td>161212</td><td>68815</td></tr>",
                            "<tr><td>SYS034310698</td><td>eu_56544</td><td>2023-11-10 00:05:13.787</td><td>161403</td><td>68929</td></tr>",
                            "<tr><td>SYS039842572</td><td>us_15438</td><td>2023-11-10 00:05:13.797</td><td>161725</td><td>69093</td></tr>",
                            "<tr><td>SYS057292939</td><td>us_57346</td><td>2023-11-10 00:05:13.797</td><td>162033</td><td>69247</td></tr>",
                            "<tr><td>WEB115184497</td><td>us_34800</td><td>2023-11-10 00:05:13.797</td><td>162337</td><td>69411</td></tr>",
                            "<tr><td>WEB071581480</td><td>au_77600</td><td>2023-11-10 00:05:13.800</td><td>162549</td><td>69557</td></tr>",
                            "<tr><td>WEB062437284</td><td>au_16507</td><td>2023-11-10 00:05:13.800</td><td>162757</td><td>69696</td></tr>",
                            "<tr><td>SYS126524075</td><td>eu_11838</td><td>2023-11-10 00:05:13.800</td><td>162931</td><td>69795</td></tr>",
                            "<tr><td>SYS055992817</td><td>au_11362</td><td>2023-11-10 00:05:13.800</td><td>163257</td><td>69961</td></tr>",
                            "<tr><td>SYS088317456</td><td>au_86362</td><td>2023-11-10 00:05:13.800</td><td>163554</td><td>70115</td></tr>",
                            "<tr><td>APP055381790</td><td>us_52113</td><td>2023-11-10 00:05:13.800</td><td>163742</td><td>70231</td></tr>",
                            "<tr><td>APP021810224</td><td>eu_23263</td><td>2023-11-10 00:05:13.800</td><td>164061</td><td>70422</td></tr>",
                            "<tr><td>APP068001067</td><td>us_34800</td><td>2023-11-10 00:05:13.800</td><td>164377</td><td>70580</td></tr>",
                            "<tr><td>APP075414582</td><td>au_11362</td><td>2023-11-11 00:05:13.787</td><td>164572</td><td>70716</td></tr>",
                            "<tr><td>APP078501421</td><td>au_86362</td><td>2023-11-11 00:05:13.787</td><td>164730</td><td>70817</td></tr>",
                            "<tr><td>APP097603669</td><td>eu_10858</td><td>2023-11-11 00:05:13.787</td><td>164916</td><td>70936</td></tr>",
                            "<tr><td>APP062408242</td><td>eu_23263</td><td>2023-11-11 00:05:13.787</td><td>165101</td><td>71045</td></tr>",
                            "<tr><td>APP057935649</td><td>us_15438</td><td>2023-11-11 00:05:13.787</td><td>165308</td><td>71181</td></tr>",
                            "<tr><td>SYS085304637</td><td>us_19904</td><td>2023-11-11 00:05:13.787</td><td>165516</td><td>71301</td></tr>",
                            "<tr><td>SYS060533151</td><td>eu_69372</td><td>2023-11-11 00:05:13.787</td><td>165718</td><td>71420</td></tr>",
                            "<tr><td>SYS045977460</td><td>us_15438</td><td>2023-11-11 00:05:13.787</td><td>166007</td><td>71573</td></tr>",
                            "<tr><td>SYS100974395</td><td>au_18036</td><td>2023-11-11 00:05:13.787</td><td>166299</td><td>71742</td></tr>",
                            "<tr><td>WEB065466595</td><td>us_19904</td><td>2023-11-11 00:05:13.787</td><td>166545</td><td>71882</td></tr>",
                            "<tr><td>WEB040461845</td><td>us_68077</td><td>2023-11-11 00:05:13.787</td><td>166724</td><td>72003</td></tr>",
                            "<tr><td>WEB018993581</td><td>au_77600</td><td>2023-11-11 00:05:13.787</td><td>166951</td><td>72155</td></tr>",
                            "<tr><td>WEB069407819</td><td>us_52113</td><td>2023-11-11 00:05:13.787</td><td>167268</td><td>72323</td></tr>",
                            "<tr><td>WEB092477104</td><td>eu_69372</td><td>2023-11-11 00:05:13.787</td><td>167448</td><td>72436</td></tr>",
                            "<tr><td>SYS035909477</td><td>eu_69372</td><td>2023-11-11 00:05:13.797</td><td>167661</td><td>72576</td></tr>",
                            "<tr><td>APP123334336</td><td>au_86362</td><td>2023-11-11 00:05:13.797</td><td>167951</td><td>72744</td></tr>",
                            "<tr><td>APP126666836</td><td>au_18036</td><td>2023-11-11 00:05:13.800</td><td>168162</td><td>72870</td></tr>",
                            "<tr><td>SYS036860256</td><td>us_10113</td><td>2023-11-11 00:05:13.800</td><td>168366</td><td>72986</td></tr>",
                            "<tr><td>APP028569455</td><td>eu_11838</td><td>2023-11-11 00:05:13.800</td><td>168575</td><td>73113</td></tr>",
                            "<tr><td>WEB095714220</td><td>au_40513</td><td>2023-11-11 00:05:13.800</td><td>168798</td><td>73246</td></tr>",
                            "<tr><td>SYS108331464</td><td>us_68077</td><td>2023-11-11 00:05:13.800</td><td>168968</td><td>73358</td></tr>",
                            "<tr><td>WEB012355772</td><td>us_15438</td><td>2023-11-11 00:05:13.800</td><td>169296</td><td>73571</td></tr>",
                            "<tr><td>WEB011338907</td><td>au_16507</td><td>2023-11-12 00:05:13.787</td><td>169487</td><td>73679</td></tr>",
                            "<tr><td>SYS101803397</td><td>us_34800</td><td>2023-11-12 00:05:13.787</td><td>169792</td><td>73837</td></tr>",
                            "<tr><td>WEB065231241</td><td>au_86362</td><td>2023-11-12 00:05:13.787</td><td>170043</td><td>73980</td></tr>",
                            "<tr><td>WEB064235730</td><td>eu_11838</td><td>2023-11-12 00:05:13.787</td><td>170234</td><td>74096</td></tr>",
                            "<tr><td>WEB094168783</td><td>us_10113</td><td>2023-11-12 00:05:13.787</td><td>170533</td><td>74254</td></tr>",
                            "<tr><td>WEB119324800</td><td>us_57346</td><td>2023-11-12 00:05:13.787</td><td>170762</td><td>74379</td></tr>",
                            "<tr><td>WEB104808315</td><td>au_89783</td><td>2023-11-12 00:05:13.787</td><td>171085</td><td>74546</td></tr>",
                            "<tr><td>WEB122655113</td><td>us_10113</td><td>2023-11-12 00:05:13.787</td><td>171369</td><td>74699</td></tr>",
                            "<tr><td>APP049599530</td><td>eu_56544</td><td>2023-11-12 00:05:13.787</td><td>171641</td><td>74851</td></tr>",
                            "<tr><td>APP051252865</td><td>us_34800</td><td>2023-11-12 00:05:13.787</td><td>171884</td><td>74987</td></tr>",
                            "<tr><td>APP068799683</td><td>au_89783</td><td>2023-11-12 00:05:13.787</td><td>172085</td><td>75105</td></tr>",
                            "<tr><td>APP068917834</td><td>us_68077</td><td>2023-11-12 00:05:13.787</td><td>172304</td><td>75232</td></tr>",
                            "<tr><td>APP125698164</td><td>au_18036</td><td>2023-11-12 00:05:13.787</td><td>172579</td><td>75394</td></tr>",
                            "<tr><td>SYS046899806</td><td>eu_22256</td><td>2023-11-12 00:05:13.787</td><td>172748</td><td>75507</td></tr>",
                            "<tr><td>SYS064019383</td><td>au_25552</td><td>2023-11-12 00:05:13.787</td><td>173051</td><td>75688</td></tr>",
                            "<tr><td>SYS064479622</td><td>us_57346</td><td>2023-11-12 00:05:13.787</td><td>173247</td><td>75807</td></tr>",
                            "<tr><td>SYS057896115</td><td>au_18036</td><td>2023-11-12 00:05:13.787</td><td>173593</td><td>76011</td></tr>",
                            "<tr><td>SYS089740349</td><td>au_77600</td><td>2023-11-12 00:05:13.787</td><td>173909</td><td>76175</td></tr>",
                            "<tr><td>APP101365178</td><td>au_89783</td><td>2023-11-12 00:05:13.797</td><td>174196</td><td>76347</td></tr>",
                            "<tr><td>SYS103769044</td><td>eu_56544</td><td>2023-11-12 00:05:13.797</td><td>174482</td><td>76524</td></tr>",
                            "<tr><td>SYS091238784</td><td>au_77600</td><td>2023-11-12 00:05:13.800</td><td>174797</td><td>76690</td></tr>",
                            "<tr><td>APP088452188</td><td>eu_22256</td><td>2023-11-12 00:05:13.800</td><td>174991</td><td>76819</td></tr>",
                            "<tr><td>APP057644723</td><td>au_75432</td><td>2023-11-12 00:05:13.800</td><td>175170</td><td>76944</td></tr>",
                            "<tr><td>SYS058995293</td><td>eu_56544</td><td>2023-11-12 00:05:13.800</td><td>175339</td><td>77040</td></tr>",
                            "<tr><td>SYS019494076</td><td>us_52113</td><td>2023-11-12 00:05:13.800</td><td>175513</td><td>77156</td></tr>",
                            "<tr><td>SYS038639171</td><td>eu_23263</td><td>2023-11-12 00:05:13.800</td><td>175728</td><td>77287</td></tr>",
                            "<tr><td>SYS029399093</td><td>au_75432</td><td>2023-11-13 00:05:13.787</td><td>176005</td><td>77464</td></tr>",
                            "<tr><td>APP118932468</td><td>au_16507</td><td>2023-11-13 00:05:13.787</td><td>176288</td><td>77633</td></tr>",
                            "<tr><td>SYS055461568</td><td>us_52113</td><td>2023-11-13 00:05:13.787</td><td>176491</td><td>77746</td></tr>",
                            "<tr><td>SYS062341383</td><td>eu_77467</td><td>2023-11-13 00:05:13.787</td><td>176769</td><td>77890</td></tr>",
                            "<tr><td>SYS085354085</td><td>eu_11838</td><td>2023-11-13 00:05:13.787</td><td>177099</td><td>78058</td></tr>",
                            "<tr><td>SYS086438159</td><td>eu_22256</td><td>2023-11-13 00:05:13.787</td><td>177316</td><td>78199</td></tr>",
                            "<tr><td>APP042133485</td><td>us_57346</td><td>2023-11-13 00:05:13.787</td><td>177536</td><td>78333</td></tr>",
                            "<tr><td>APP014436990</td><td>us_68077</td><td>2023-11-13 00:05:13.787</td><td>177724</td><td>78451</td></tr>",
                            "<tr><td>APP114874012</td><td>eu_69372</td><td>2023-11-13 00:05:13.787</td><td>177932</td><td>78588</td></tr>",
                            "<tr><td>SYS103316374</td><td>au_89783</td><td>2023-11-13 00:05:13.787</td><td>178119</td><td>78703</td></tr>",
                            "<tr><td>SYS111476798</td><td>au_16507</td><td>2023-11-13 00:05:13.787</td><td>178305</td><td>78818</td></tr>",
                            "<tr><td>WEB067262849</td><td>au_16507</td><td>2023-11-13 00:05:13.787</td><td>178635</td><td>79009</td></tr>",
                            "<tr><td>WEB025182039</td><td>au_18036</td><td>2023-11-13 00:05:13.787</td><td>178832</td><td>79135</td></tr>",
                            "<tr><td>SYS098725630</td><td>eu_51465</td><td>2023-11-13 00:05:13.797</td><td>179066</td><td>79303</td></tr>",
                            "<tr><td>WEB104057205</td><td>au_77600</td><td>2023-11-13 00:05:13.797</td><td>179384</td><td>79481</td></tr>",
                            "<tr><td>WEB074510461</td><td>eu_69372</td><td>2023-11-13 00:05:13.800</td><td>179711</td><td>79657</td></tr>",
                            "<tr><td>WEB127848734</td><td>eu_23263</td><td>2023-11-13 00:05:13.800</td><td>180008</td><td>79844</td></tr>",
                            "<tr><td>WEB034179745</td><td>eu_10858</td><td>2023-11-13 00:05:13.800</td><td>180234</td><td>79972</td></tr>",
                            "<tr><td>APP092404339</td><td>au_16507</td><td>2023-11-13 00:05:13.800</td><td>180430</td><td>80107</td></tr>",
                            "<tr><td>APP053009100</td><td>eu_69372</td><td>2023-11-13 00:05:13.800</td><td>180610</td><td>80225</td></tr>",
                            "<tr><td>APP054742123</td><td>us_57346</td><td>2023-11-13 00:05:13.800</td><td>180933</td><td>80392</td></tr>",
                            "<tr><td>SYS045857302</td><td>au_75432</td><td>2023-11-13 00:05:13.800</td><td>181123</td><td>80530</td></tr>",
                            "<tr><td>SYS061585069</td><td>eu_77467</td><td>2023-11-14 00:05:13.787</td><td>181318</td><td>80662</td></tr>",
                            "<tr><td>SYS082874319</td><td>us_15438</td><td>2023-11-14 00:05:13.787</td><td>181522</td><td>80796</td></tr>",
                            "<tr><td>SYS083395004</td><td>au_15315</td><td>2023-11-14 00:05:13.787</td><td>181723</td><td>80914</td></tr>",
                            "<tr><td>SYS068122360</td><td>au_25552</td><td>2023-11-14 00:05:13.787</td><td>182044</td><td>81100</td></tr>",
                            "<tr><td>APP123885160</td><td>eu_22256</td><td>2023-11-14 00:05:13.787</td><td>182249</td><td>81229</td></tr>",
                            "<tr><td>SYS016098352</td><td>us_52113</td><td>2023-11-14 00:05:13.787</td><td>182412</td><td>81321</td></tr>",
                            "<tr><td>SYS044902119</td><td>au_18036</td><td>2023-11-14 00:05:13.787</td><td>182600</td><td>81446</td></tr>",
                            "<tr><td>APP052622180</td><td>au_18036</td><td>2023-11-14 00:05:13.787</td><td>182895</td><td>81631</td></tr>",
                            "<tr><td>APP042871019</td><td>au_11362</td><td>2023-11-14 00:05:13.787</td><td>183162</td><td>81788</td></tr>",
                            "<tr><td>APP018350580</td><td>au_89783</td><td>2023-11-14 00:05:13.787</td><td>183339</td><td>81903</td></tr>",
                            "<tr><td>APP031607333</td><td>au_86362</td><td>2023-11-14 00:05:13.787</td><td>183530</td><td>82017</td></tr>",
                            "<tr><td>APP112546290</td><td>eu_22256</td><td>2023-11-14 00:05:13.787</td><td>183725</td><td>82143</td></tr>",
                            "<tr><td>SYS096814475</td><td>us_10113</td><td>2023-11-14 00:05:13.787</td><td>183921</td><td>82268</td></tr>",
                            "<tr><td>SYS123963600</td><td>us_15438</td><td>2023-11-14 00:05:13.787</td><td>184145</td><td>82397</td></tr>",
                            "<tr><td>WEB124713493</td><td>us_68077</td><td>2023-11-14 00:05:13.787</td><td>184381</td><td>82536</td></tr>",
                            "<tr><td>WEB125162713</td><td>us_15438</td><td>2023-11-14 00:05:13.787</td><td>184612</td><td>82679</td></tr>",
                            "<tr><td>WEB113339451</td><td>us_10113</td><td>2023-11-14 00:05:13.787</td><td>184930</td><td>82844</td></tr>",
                            "<tr><td>WEB012770386</td><td>au_11362</td><td>2023-11-14 00:05:13.797</td><td>185216</td><td>82998</td></tr>",
                            "<tr><td>APP090782354</td><td>au_40513</td><td>2023-11-14 00:05:13.800</td><td>185429</td><td>83155</td></tr>",
                            "<tr><td>APP068077871</td><td>eu_51465</td><td>2023-11-14 00:05:13.800</td><td>185625</td><td>83286</td></tr>",
                            "<tr><td>SYS014765807</td><td>au_89783</td><td>2023-11-14 00:05:13.800</td><td>185944</td><td>83493</td></tr>",
                            "<tr><td>SYS065852390</td><td>au_16507</td><td>2023-11-15 00:05:13.787</td><td>186125</td><td>83594</td></tr>",
                            "<tr><td>SYS046783776</td><td>au_11362</td><td>2023-11-15 00:05:13.787</td><td>186348</td><td>83754</td></tr>",
                            "<tr><td>APP064522676</td><td>eu_56544</td><td>2023-11-15 00:05:13.787</td><td>186596</td><td>83890</td></tr>",
                            "<tr><td>APP079797292</td><td>us_15438</td><td>2023-11-15 00:05:13.787</td><td>186792</td><td>84033</td></tr>",
                            "<tr><td>APP115777383</td><td>us_34800</td><td>2023-11-15 00:05:13.787</td><td>187001</td><td>84179</td></tr>",
                            "<tr><td>APP104024458</td><td>au_89783</td><td>2023-11-15 00:05:13.787</td><td>187205</td><td>84295</td></tr>",
                            "<tr><td>APP099163754</td><td>au_25552</td><td>2023-11-15 00:05:13.787</td><td>187427</td><td>84425</td></tr>",
                            "<tr><td>APP040033545</td><td>us_34800</td><td>2023-11-15 00:05:13.787</td><td>187606</td><td>84548</td></tr>",
                            "<tr><td>APP047474110</td><td>au_75432</td><td>2023-11-15 00:05:13.787</td><td>187800</td><td>84674</td></tr>",
                            "<tr><td>APP042603326</td><td>au_77600</td><td>2023-11-15 00:05:13.787</td><td>188015</td><td>84792</td></tr>",
                            "<tr><td>SYS128638406</td><td>eu_11838</td><td>2023-11-15 00:05:13.787</td><td>188198</td><td>84898</td></tr>",
                            "<tr><td>SYS120396526</td><td>au_15315</td><td>2023-11-15 00:05:13.787</td><td>188512</td><td>85067</td></tr>",
                            "<tr><td>SYS116667609</td><td>au_75432</td><td>2023-11-15 00:05:13.787</td><td>188806</td><td>85234</td></tr>",
                            "<tr><td>WEB109606538</td><td>au_86362</td><td>2023-11-15 00:05:13.787</td><td>189022</td><td>85354</td></tr>",
                            "<tr><td>WEB076609930</td><td>eu_11838</td><td>2023-11-15 00:05:13.787</td><td>189331</td><td>85533</td></tr>",
                            "<tr><td>WEB089470554</td><td>us_68077</td><td>2023-11-15 00:05:13.787</td><td>189513</td><td>85664</td></tr>",
                            "<tr><td>WEB027908075</td><td>us_57346</td><td>2023-11-15 00:05:13.797</td><td>189733</td><td>85811</td></tr>",
                            "<tr><td>APP109162470</td><td>us_15438</td><td>2023-11-15 00:05:13.797</td><td>189892</td><td>85928</td></tr>",
                            "<tr><td>SYS018678084</td><td>us_57346</td><td>2023-11-15 00:05:13.797</td><td>190106</td><td>86054</td></tr>",
                            "<tr><td>APP123846895</td><td>au_15315</td><td>2023-11-15 00:05:13.800</td><td>190404</td><td>86229</td></tr>",
                            "<tr><td>SYS031503178</td><td>eu_10858</td><td>2023-11-15 00:05:13.800</td><td>190727</td><td>86406</td></tr>",
                            "<tr><td>APP102107526</td><td>au_40513</td><td>2023-11-15 00:05:13.800</td><td>191021</td><td>86594</td></tr>",
                            "<tr><td>APP086452083</td><td>eu_22256</td><td>2023-11-15 00:05:13.800</td><td>191265</td><td>86769</td></tr>",
                            "<tr><td>APP072997950</td><td>us_34800</td><td>2023-11-15 00:05:13.800</td><td>191489</td><td>86919</td></tr>",
                            "<tr><td>APP076372393</td><td>au_75432</td><td>2023-11-15 00:05:13.800</td><td>191664</td><td>87024</td></tr>",
                            "<tr><td>APP055046174</td><td>eu_22256</td><td>2023-11-15 00:05:13.800</td><td>191865</td><td>87138</td></tr>",
                            "<tr><td>APP018536867</td><td>eu_22256</td><td>2023-11-15 00:05:13.800</td><td>192067</td><td>87273</td></tr>",
                            "<tr><td>APP078633755</td><td>au_75432</td><td>2023-11-16 00:05:13.787</td><td>192252</td><td>87396</td></tr>",
                            "<tr><td>SYS028233985</td><td>us_34800</td><td>2023-11-16 00:05:13.787</td><td>192547</td><td>87573</td></tr>",
                            "<tr><td>SYS029832738</td><td>us_10113</td><td>2023-11-16 00:05:13.787</td><td>192746</td><td>87716</td></tr>",
                            "<tr><td>APP115289538</td><td>eu_22256</td><td>2023-11-16 00:05:13.787</td><td>193031</td><td>87887</td></tr>",
                            "<tr><td>SYS016625327</td><td>eu_11838</td><td>2023-11-16 00:05:13.787</td><td>193223</td><td>88007</td></tr>",
                            "<tr><td>SYS013690038</td><td>us_52113</td><td>2023-11-16 00:05:13.787</td><td>193499</td><td>88183</td></tr>",
                            "<tr><td>SYS014556113</td><td>eu_56544</td><td>2023-11-16 00:05:13.787</td><td>193684</td><td>88316</td></tr>",
                            "<tr><td>SYS046134079</td><td>au_15315</td><td>2023-11-16 00:05:13.787</td><td>193875</td><td>88451</td></tr>",
                            "<tr><td>SYS060455624</td><td>us_19904</td><td>2023-11-16 00:05:13.787</td><td>194065</td><td>88582</td></tr>",
                            "<tr><td>WEB020801328</td><td>eu_69372</td><td>2023-11-16 00:05:13.787</td><td>194228</td><td>88694</td></tr>",
                            "<tr><td>WEB032047277</td><td>us_15438</td><td>2023-11-16 00:05:13.787</td><td>194551</td><td>88871</td></tr>",
                            "<tr><td>WEB041034132</td><td>eu_77467</td><td>2023-11-16 00:05:13.787</td><td>194864</td><td>89061</td></tr>",
                            "<tr><td>WEB053171397</td><td>eu_23263</td><td>2023-11-16 00:05:13.787</td><td>195188</td><td>89255</td></tr>",
                            "<tr><td>SYS115128686</td><td>au_86362</td><td>2023-11-16 00:05:13.787</td><td>195407</td><td>89377</td></tr>",
                            "<tr><td>SYS117676770</td><td>us_52113</td><td>2023-11-16 00:05:13.787</td><td>195682</td><td>89550</td></tr>",
                            "<tr><td>SYS125711300</td><td>us_19904</td><td>2023-11-16 00:05:13.787</td><td>195883</td><td>89678</td></tr>",
                            "<tr><td>SYS109173812</td><td>eu_10858</td><td>2023-11-16 00:05:13.787</td><td>196083</td><td>89802</td></tr>",
                            "<tr><td>SYS110017019</td><td>au_89783</td><td>2023-11-16 00:05:13.787</td><td>196299</td><td>89931</td></tr>",
                            "<tr><td>WEB110074324</td><td>au_86362</td><td>2023-11-16 00:05:13.787</td><td>196626</td><td>90127</td></tr>",
                            "<tr><td>WEB124825132</td><td>us_34800</td><td>2023-11-16 00:05:13.787</td><td>196829</td><td>90252</td></tr>",
                            "<tr><td>WEB118245582</td><td>au_18036</td><td>2023-11-16 00:05:13.797</td><td>197109</td><td>90422</td></tr>",
                            "<tr><td>APP099266596</td><td>us_57346</td><td>2023-11-16 00:05:13.797</td><td>197337</td><td>90561</td></tr>",
                            "<tr><td>APP016356515</td><td>au_25552</td><td>2023-11-16 00:05:13.797</td><td>197527</td><td>90694</td></tr>",
                            "<tr><td>APP045743843</td><td>us_52113</td><td>2023-11-16 00:05:13.800</td><td>197702</td><td>90790</td></tr>",
                            "<tr><td>SYS069116650</td><td>au_77600</td><td>2023-11-16 00:05:13.800</td><td>197898</td><td>90909</td></tr>",
                            "<tr><td>SYS070868036</td><td>eu_11838</td><td>2023-11-16 00:05:13.800</td><td>198085</td><td>91034</td></tr>",
                            "<tr><td>SYS074908277</td><td>us_10113</td><td>2023-11-16 00:05:13.800</td><td>198269</td><td>91160</td></tr>",
                            "<tr><td>SYS099258326</td><td>us_57346</td><td>2023-11-16 00:05:13.800</td><td>198455</td><td>91286</td></tr>",
                            "<tr><td>WEB060145565</td><td>us_52113</td><td>2023-11-16 00:05:13.800</td><td>198777</td><td>91459</td></tr>",
                            "<tr><td>WEB051199863</td><td>au_18036</td><td>2023-11-17 00:05:13.787</td><td>199006</td><td>91633</td></tr>",
                            "<tr><td>WEB051395379</td><td>au_25552</td><td>2023-11-17 00:05:13.787</td><td>199207</td><td>91755</td></tr>",
                            "<tr><td>WEB026475253</td><td>eu_10858</td><td>2023-11-17 00:05:13.787</td><td>199399</td><td>91899</td></tr>",
                            "<tr><td>WEB117865277</td><td>us_34800</td><td>2023-11-17 00:05:13.787</td><td>199585</td><td>92025</td></tr>",
                            "<tr><td>SYS051418324</td><td>au_89783</td><td>2023-11-17 00:05:13.787</td><td>199769</td><td>92148</td></tr>",
                            "<tr><td>APP127468075</td><td>au_77600</td><td>2023-11-17 00:05:13.787</td><td>199932</td><td>92249</td></tr>",
                            "<tr><td>APP053842493</td><td>eu_77467</td><td>2023-11-17 00:05:13.787</td><td>200232</td><td>92438</td></tr>",
                            "<tr><td>APP060029212</td><td>us_19904</td><td>2023-11-17 00:05:13.787</td><td>200398</td><td>92549</td></tr>",
                            "<tr><td>APP061484652</td><td>au_11362</td><td>2023-11-17 00:05:13.787</td><td>200593</td><td>92685</td></tr>",
                            "<tr><td>APP024770057</td><td>us_52113</td><td>2023-11-17 00:05:13.787</td><td>200801</td><td>92843</td></tr>",
                            "<tr><td>APP023433201</td><td>eu_22256</td><td>2023-11-17 00:05:13.787</td><td>201008</td><td>92985</td></tr>",
                            "<tr><td>APP077626763</td><td>eu_10858</td><td>2023-11-17 00:05:13.787</td><td>201230</td><td>93151</td></tr>",
                            "<tr><td>APP029346677</td><td>us_10113</td><td>2023-11-17 00:05:13.797</td><td>201439</td><td>93280</td></tr>",
                            "<tr><td>WEB027157729</td><td>us_57346</td><td>2023-11-17 00:05:13.800</td><td>201752</td><td>93452</td></tr>",
                            "<tr><td>WEB039251888</td><td>us_57346</td><td>2023-11-17 00:05:13.800</td><td>201949</td><td>93564</td></tr>",
                            "<tr><td>WEB025579244</td><td>eu_10858</td><td>2023-11-18 00:05:13.787</td><td>202165</td><td>93700</td></tr>",
                            "<tr><td>WEB026668701</td><td>us_34800</td><td>2023-11-18 00:05:13.787</td><td>202350</td><td>93811</td></tr>",
                            "<tr><td>SYS091645351</td><td>eu_56544</td><td>2023-11-18 00:05:13.787</td><td>202635</td><td>93990</td></tr>",
                            "<tr><td>SYS106582710</td><td>us_34800</td><td>2023-11-18 00:05:13.787</td><td>202934</td><td>94166</td></tr>",
                            "<tr><td>WEB012726149</td><td>us_34800</td><td>2023-11-18 00:05:13.787</td><td>203121</td><td>94283</td></tr>",
                            "<tr><td>SYS112697314</td><td>us_15438</td><td>2023-11-18 00:05:13.787</td><td>203295</td><td>94382</td></tr>",
                            "<tr><td>WEB104155217</td><td>au_15315</td><td>2023-11-18 00:05:13.787</td><td>203531</td><td>94547</td></tr>",
                            "<tr><td>WEB108552418</td><td>au_15315</td><td>2023-11-18 00:05:13.787</td><td>203852</td><td>94752</td></tr>",
                            "<tr><td>APP034731785</td><td>eu_10858</td><td>2023-11-18 00:05:13.787</td><td>204105</td><td>94908</td></tr>",
                            "<tr><td>APP022368513</td><td>eu_56544</td><td>2023-11-18 00:05:13.787</td><td>204323</td><td>95049</td></tr>",
                            "<tr><td>APP015685669</td><td>eu_23263</td><td>2023-11-18 00:05:13.787</td><td>204526</td><td>95166</td></tr>",
                            "<tr><td>APP080143631</td><td>au_15315</td><td>2023-11-18 00:05:13.787</td><td>204691</td><td>95281</td></tr>",
                            "<tr><td>APP116224440</td><td>au_77600</td><td>2023-11-18 00:05:13.787</td><td>204992</td><td>95452</td></tr>",
                            "<tr><td>APP110250397</td><td>us_10113</td><td>2023-11-18 00:05:13.787</td><td>205164</td><td>95572</td></tr>",
                            "<tr><td>SYS016990162</td><td>eu_11838</td><td>2023-11-18 00:05:13.787</td><td>205379</td><td>95713</td></tr>",
                            "<tr><td>APP124419865</td><td>us_19904</td><td>2023-11-18 00:05:13.787</td><td>205694</td><td>95889</td></tr>",
                            "<tr><td>SYS041003309</td><td>au_25552</td><td>2023-11-18 00:05:13.787</td><td>205896</td><td>96030</td></tr>",
                            "<tr><td>SYS055786104</td><td>us_19904</td><td>2023-11-18 00:05:13.787</td><td>206070</td><td>96130</td></tr>",
                            "<tr><td>SYS071015817</td><td>au_86362</td><td>2023-11-18 00:05:13.787</td><td>206256</td><td>96262</td></tr>",
                            "<tr><td>SYS087169472</td><td>au_15315</td><td>2023-11-18 00:05:13.797</td><td>206466</td><td>96402</td></tr>",
                            "<tr><td>WEB041498642</td><td>us_34800</td><td>2023-11-18 00:05:13.797</td><td>206776</td><td>96588</td></tr>",
                            "<tr><td>WEB055184890</td><td>au_25552</td><td>2023-11-18 00:05:13.797</td><td>206955</td><td>96702</td></tr>",
                            "<tr><td>WEB015281270</td><td>eu_77467</td><td>2023-11-18 00:05:13.800</td><td>207138</td><td>96826</td></tr>",
                            "<tr><td>WEB015391034</td><td>eu_23263</td><td>2023-11-18 00:05:13.800</td><td>207462</td><td>97030</td></tr>",
                            "<tr><td>SYS061863875</td><td>au_15315</td><td>2023-11-18 00:05:13.800</td><td>207646</td><td>97156</td></tr>",
                            "<tr><td>APP075701321</td><td>au_25552</td><td>2023-11-18 00:05:13.800</td><td>207881</td><td>97301</td></tr>",
                            "<tr><td>APP057174659</td><td>us_10113</td><td>2023-11-18 00:05:13.800</td><td>208074</td><td>97416</td></tr>",
                            "<tr><td>APP048585422</td><td>au_75432</td><td>2023-11-18 00:05:13.800</td><td>208381</td><td>97612</td></tr>",
                            "<tr><td>APP077242383</td><td>au_75432</td><td>2023-11-19 00:05:13.787</td><td>208543</td><td>97736</td></tr>",
                            "<tr><td>APP067661563</td><td>au_18036</td><td>2023-11-19 00:05:13.787</td><td>208760</td><td>97905</td></tr>",
                            "<tr><td>APP067662708</td><td>au_40513</td><td>2023-11-19 00:05:13.787</td><td>208956</td><td>98042</td></tr>",
                            "<tr><td>APP071103716</td><td>eu_56544</td><td>2023-11-19 00:05:13.787</td><td>209231</td><td>98218</td></tr>",
                            "<tr><td>APP078557446</td><td>au_25552</td><td>2023-11-19 00:05:13.787</td><td>209446</td><td>98351</td></tr>",
                            "<tr><td>APP109560467</td><td>au_18036</td><td>2023-11-19 00:05:13.787</td><td>209645</td><td>98500</td></tr>",
                            "<tr><td>SYS062175258</td><td>eu_56544</td><td>2023-11-19 00:05:13.787</td><td>209849</td><td>98648</td></tr>",
                            "<tr><td>SYS054925199</td><td>eu_11838</td><td>2023-11-19 00:05:13.787</td><td>210088</td><td>98798</td></tr>",
                            "<tr><td>SYS032579059</td><td>au_89783</td><td>2023-11-19 00:05:13.787</td><td>210286</td><td>98948</td></tr>",
                            "<tr><td>APP129375975</td><td>eu_51465</td><td>2023-11-19 00:05:13.787</td><td>210555</td><td>99117</td></tr>",
                            "<tr><td>SYS098375501</td><td>au_40513</td><td>2023-11-19 00:05:13.787</td><td>210721</td><td>99241</td></tr>",
                            "<tr><td>SYS098019948</td><td>eu_69372</td><td>2023-11-19 00:05:13.787</td><td>210910</td><td>99382</td></tr>",
                            "<tr><td>WEB053757588</td><td>us_57346</td><td>2023-11-19 00:05:13.787</td><td>211105</td><td>99493</td></tr>",
                            "<tr><td>WEB059578855</td><td>eu_51465</td><td>2023-11-19 00:05:13.787</td><td>211309</td><td>99643</td></tr>",
                            "<tr><td>WEB046111555</td><td>au_25552</td><td>2023-11-19 00:05:13.787</td><td>211621</td><td>99833</td></tr>",
                            "<tr><td>WEB038073740</td><td>au_89783</td><td>2023-11-19 00:05:13.787</td><td>211827</td><td>99962</td></tr>",
                            "<tr><td>WEB033747408</td><td>au_18036</td><td>2023-11-19 00:05:13.787</td><td>212027</td><td>100082</td></tr>",
                            "<tr><td>WEB027271553</td><td>us_68077</td><td>2023-11-19 00:05:13.787</td><td>212221</td><td>100206</td></tr>",
                            "<tr><td>WEB022678889</td><td>au_11362</td><td>2023-11-19 00:05:13.787</td><td>212518</td><td>100378</td></tr>",
                            "<tr><td>WEB120648902</td><td>us_57346</td><td>2023-11-19 00:05:13.787</td><td>212756</td><td>100527</td></tr>",
                            "<tr><td>WEB121884422</td><td>au_89783</td><td>2023-11-19 00:05:13.787</td><td>212968</td><td>100681</td></tr>",
                            "<tr><td>WEB067823291</td><td>eu_22256</td><td>2023-11-19 00:05:13.800</td><td>213178</td><td>100832</td></tr>",
                            "<tr><td>WEB013173102</td><td>au_18036</td><td>2023-11-19 00:05:13.800</td><td>213456</td><td>100996</td></tr>",
                            "<tr><td>SYS051448857</td><td>us_15438</td><td>2023-11-19 00:05:13.800</td><td>213671</td><td>101129</td></tr>",
                            "<tr><td>SYS030873757</td><td>us_52113</td><td>2023-11-20 00:05:13.787</td><td>213895</td><td>101297</td></tr>",
                            "<tr><td>SYS035867360</td><td>eu_56544</td><td>2023-11-20 00:05:13.787</td><td>214095</td><td>101426</td></tr>",
                            "<tr><td>APP112288516</td><td>au_89783</td><td>2023-11-20 00:05:13.787</td><td>214269</td><td>101539</td></tr>",
                            "<tr><td>APP085107999</td><td>au_40513</td><td>2023-11-20 00:05:13.787</td><td>214548</td><td>101703</td></tr>",
                            "<tr><td>APP038809574</td><td>eu_23263</td><td>2023-11-20 00:05:13.787</td><td>214766</td><td>101853</td></tr>",
                            "<tr><td>WEB052661798</td><td>eu_11838</td><td>2023-11-20 00:05:13.787</td><td>214940</td><td>101974</td></tr>",
                            "<tr><td>WEB024124784</td><td>au_16507</td><td>2023-11-20 00:05:13.787</td><td>215154</td><td>102119</td></tr>",
                            "<tr><td>WEB035358413</td><td>eu_51465</td><td>2023-11-20 00:05:13.787</td><td>215360</td><td>102273</td></tr>",
                            "<tr><td>WEB108992175</td><td>au_15315</td><td>2023-11-20 00:05:13.787</td><td>215675</td><td>102465</td></tr>",
                            "<tr><td>WEB104812602</td><td>eu_22256</td><td>2023-11-20 00:05:13.787</td><td>215875</td><td>102620</td></tr>",
                            "<tr><td>WEB109386777</td><td>eu_69372</td><td>2023-11-20 00:05:13.787</td><td>216189</td><td>102808</td></tr>",
                            "<tr><td>WEB109410135</td><td>us_34800</td><td>2023-11-20 00:05:13.787</td><td>216362</td><td>102942</td></tr>",
                            "<tr><td>WEB044717540</td><td>au_86362</td><td>2023-11-20 00:05:13.797</td><td>216593</td><td>103094</td></tr>",
                            "<tr><td>APP036944868</td><td>au_77600</td><td>2023-11-20 00:05:13.797</td><td>216757</td><td>103218</td></tr>",
                            "<tr><td>APP036921247</td><td>au_25552</td><td>2023-11-20 00:05:13.800</td><td>216934</td><td>103345</td></tr>",
                            "<tr><td>APP052140662</td><td>au_77600</td><td>2023-11-20 00:05:13.800</td><td>217100</td><td>103459</td></tr>",
                            "<tr><td>APP071872348</td><td>eu_77467</td><td>2023-11-20 00:05:13.800</td><td>217320</td><td>103632</td></tr>",
                            "<tr><td>SYS015129277</td><td>us_57346</td><td>2023-11-20 00:05:13.800</td><td>217499</td><td>103737</td></tr>",
                            "<tr><td>SYS076742868</td><td>eu_77467</td><td>2023-11-20 00:05:13.800</td><td>217835</td><td>103945</td></tr>",
                            "<tr><td>SYS080241038</td><td>au_75432</td><td>2023-11-21 00:05:13.787</td><td>218104</td><td>104109</td></tr>",
                            "<tr><td>SYS037824893</td><td>au_89783</td><td>2023-11-21 00:05:13.787</td><td>218291</td><td>104230</td></tr>",
                            "<tr><td>APP086773597</td><td>au_18036</td><td>2023-11-21 00:05:13.787</td><td>218468</td><td>104345</td></tr>",
                            "<tr><td>APP082896232</td><td>au_16507</td><td>2023-11-21 00:05:13.787</td><td>218752</td><td>104515</td></tr>",
                            "<tr><td>APP093561598</td><td>au_25552</td><td>2023-11-21 00:05:13.787</td><td>218938</td><td>104648</td></tr>",
                            "<tr><td>APP062742050</td><td>au_86362</td><td>2023-11-21 00:05:13.787</td><td>219132</td><td>104801</td></tr>",
                            "<tr><td>APP034745179</td><td>eu_69372</td><td>2023-11-21 00:05:13.787</td><td>219336</td><td>104925</td></tr>",
                            "<tr><td>WEB034628733</td><td>eu_77467</td><td>2023-11-21 00:05:13.787</td><td>219533</td><td>105068</td></tr>",
                            "<tr><td>WEB029693799</td><td>eu_23263</td><td>2023-11-21 00:05:13.787</td><td>219710</td><td>105206</td></tr>",
                            "<tr><td>WEB018760387</td><td>us_10113</td><td>2023-11-21 00:05:13.787</td><td>219941</td><td>105393</td></tr>",
                            "<tr><td>WEB013236515</td><td>au_11362</td><td>2023-11-21 00:05:13.787</td><td>220149</td><td>105557</td></tr>",
                            "<tr><td>SYS111570432</td><td>eu_23263</td><td>2023-11-21 00:05:13.787</td><td>220365</td><td>105723</td></tr>",
                            "<tr><td>WEB127881911</td><td>us_19904</td><td>2023-11-21 00:05:13.787</td><td>220565</td><td>105847</td></tr>",
                            "<tr><td>WEB123046996</td><td>eu_23263</td><td>2023-11-21 00:05:13.787</td><td>220767</td><td>105980</td></tr>",
                            "<tr><td>WEB051108090</td><td>us_52113</td><td>2023-11-21 00:05:13.797</td><td>220953</td><td>106117</td></tr>",
                            "<tr><td>SYS069579475</td><td>au_89783</td><td>2023-11-21 00:05:13.797</td><td>221230</td><td>106291</td></tr>",
                            "<tr><td>SYS035478076</td><td>us_19904</td><td>2023-11-21 00:05:13.800</td><td>221415</td><td>106411</td></tr>",
                            "<tr><td>APP042719508</td><td>eu_10858</td><td>2023-11-21 00:05:13.800</td><td>221623</td><td>106535</td></tr>",
                            "<tr><td>WEB049407017</td><td>au_77600</td><td>2023-11-21 00:05:13.800</td><td>221853</td><td>106718</td></tr>",
                            "<tr><td>WEB051969310</td><td>au_18036</td><td>2023-11-21 00:05:13.800</td><td>222162</td><td>106915</td></tr>",
                            "<tr><td>WEB093248264</td><td>au_86362</td><td>2023-11-21 00:05:13.800</td><td>222365</td><td>107038</td></tr>",
                            "<tr><td>WEB115415661</td><td>us_34800</td><td>2023-11-22 00:05:13.787</td><td>222655</td><td>107217</td></tr>",
                            "<tr><td>WEB053114260</td><td>au_18036</td><td>2023-11-22 00:05:13.787</td><td>222840</td><td>107353</td></tr>",
                            "<tr><td>WEB048505062</td><td>us_34800</td><td>2023-11-22 00:05:13.787</td><td>223044</td><td>107493</td></tr>",
                            "<tr><td>WEB045346240</td><td>us_34800</td><td>2023-11-22 00:05:13.787</td><td>223278</td><td>107640</td></tr>",
                            "<tr><td>SYS094252411</td><td>au_15315</td><td>2023-11-22 00:05:13.787</td><td>223481</td><td>107767</td></tr>",
                            "<tr><td>APP030863534</td><td>au_18036</td><td>2023-11-22 00:05:13.787</td><td>223649</td><td>107901</td></tr>",
                            "<tr><td>APP098153710</td><td>us_52113</td><td>2023-11-22 00:05:13.787</td><td>223865</td><td>108073</td></tr>",
                            "<tr><td>APP118168504</td><td>eu_51465</td><td>2023-11-22 00:05:13.787</td><td>224187</td><td>108275</td></tr>",
                            "<tr><td>SYS049473122</td><td>eu_23263</td><td>2023-11-22 00:05:13.787</td><td>224401</td><td>108424</td></tr>",
                            "<tr><td>SYS098117293</td><td>us_10113</td><td>2023-11-22 00:05:13.797</td><td>224617</td><td>108581</td></tr>",
                            "<tr><td>SYS111372135</td><td>au_16507</td><td>2023-11-22 00:05:13.797</td><td>224916</td><td>108766</td></tr>",
                            "<tr><td>WEB058408586</td><td>eu_69372</td><td>2023-11-22 00:05:13.797</td><td>225149</td><td>108929</td></tr>",
                            "<tr><td>WEB054857089</td><td>eu_23263</td><td>2023-11-22 00:05:13.800</td><td>225354</td><td>109093</td></tr>",
                            "<tr><td>WEB016811490</td><td>eu_77467</td><td>2023-11-22 00:05:13.800</td><td>225638</td><td>109271</td></tr>",
                            "<tr><td>SYS080160164</td><td>au_40513</td><td>2023-11-22 00:05:13.800</td><td>225827</td><td>109391</td></tr>",
                            "<tr><td>SYS027946956</td><td>au_18036</td><td>2023-11-22 00:05:13.800</td><td>226041</td><td>109527</td></tr>",
                            "<tr><td>APP093769387</td><td>au_86362</td><td>2023-11-22 00:05:13.800</td><td>226215</td><td>109669</td></tr>",
                            "<tr><td>APP011413819</td><td>eu_51465</td><td>2023-11-22 00:05:13.800</td><td>226521</td><td>109864</td></tr>",
                            "<tr><td>APP013070535</td><td>au_11362</td><td>2023-11-23 00:05:13.787</td><td>226731</td><td>110034</td></tr>",
                            "<tr><td>APP112748467</td><td>au_77600</td><td>2023-11-23 00:05:13.787</td><td>226906</td><td>110172</td></tr>",
                            "<tr><td>APP084034500</td><td>eu_56544</td><td>2023-11-23 00:05:13.787</td><td>227118</td><td>110345</td></tr>",
                            "<tr><td>APP122029707</td><td>eu_11838</td><td>2023-11-23 00:05:13.787</td><td>227303</td><td>110470</td></tr>",
                            "<tr><td>SYS084470122</td><td>us_52113</td><td>2023-11-23 00:05:13.787</td><td>227599</td><td>110653</td></tr>",
                            "<tr><td>SYS047452996</td><td>us_52113</td><td>2023-11-23 00:05:13.787</td><td>227784</td><td>110801</td></tr>",
                            "<tr><td>WEB025454440</td><td>eu_56544</td><td>2023-11-23 00:05:13.787</td><td>227969</td><td>110934</td></tr>",
                            "<tr><td>SYS100784475</td><td>au_40513</td><td>2023-11-23 00:05:13.787</td><td>228256</td><td>111111</td></tr>",
                            "<tr><td>SYS095156914</td><td>au_11362</td><td>2023-11-23 00:05:13.787</td><td>228469</td><td>111243</td></tr>",
                            "<tr><td>WEB088713319</td><td>au_86362</td><td>2023-11-23 00:05:13.787</td><td>228759</td><td>111428</td></tr>",
                            "<tr><td>WEB089010435</td><td>eu_56544</td><td>2023-11-23 00:05:13.787</td><td>228970</td><td>111592</td></tr>",
                            "<tr><td>SYS128637656</td><td>au_40513</td><td>2023-11-23 00:05:13.797</td><td>229137</td><td>111695</td></tr>",
                            "<tr><td>WEB065830341</td><td>eu_10858</td><td>2023-11-23 00:05:13.800</td><td>229351</td><td>111846</td></tr>",
                            "<tr><td>SYS034916306</td><td>au_11362</td><td>2023-11-23 00:05:13.800</td><td>229544</td><td>111969</td></tr>",
                            "<tr><td>SYS038728082</td><td>us_15438</td><td>2023-11-24 00:05:13.787</td><td>229784</td><td>112149</td></tr>",
                            "<tr><td>SYS038951710</td><td>au_18036</td><td>2023-11-24 00:05:13.787</td><td>230069</td><td>112328</td></tr>",
                            "<tr><td>SYS059825443</td><td>au_40513</td><td>2023-11-24 00:05:13.787</td><td>230272</td><td>112466</td></tr>",
                            "<tr><td>APP087982701</td><td>eu_23263</td><td>2023-11-24 00:05:13.787</td><td>230449</td><td>112596</td></tr>",
                            "<tr><td>APP088895790</td><td>au_16507</td><td>2023-11-24 00:05:13.787</td><td>230654</td><td>112737</td></tr>",
                            "<tr><td>APP063394216</td><td>au_89783</td><td>2023-11-24 00:05:13.787</td><td>230817</td><td>112846</td></tr>",
                            "<tr><td>APP068416160</td><td>eu_10858</td><td>2023-11-24 00:05:13.787</td><td>231046</td><td>113020</td></tr>",
                            "<tr><td>APP116289003</td><td>eu_23263</td><td>2023-11-24 00:05:13.787</td><td>231222</td><td>113153</td></tr>",
                            "<tr><td>APP025851496</td><td>eu_56544</td><td>2023-11-24 00:05:13.787</td><td>231410</td><td>113309</td></tr>",
                            "<tr><td>WEB039959009</td><td>au_11362</td><td>2023-11-24 00:05:13.787</td><td>231653</td><td>113483</td></tr>",
                            "<tr><td>WEB075512565</td><td>eu_23263</td><td>2023-11-24 00:05:13.787</td><td>231839</td><td>113622</td></tr>",
                            "<tr><td>WEB074205938</td><td>au_75432</td><td>2023-11-24 00:05:13.787</td><td>232029</td><td>113749</td></tr>",
                            "<tr><td>WEB115067161</td><td>us_10113</td><td>2023-11-24 00:05:13.787</td><td>232222</td><td>113882</td></tr>",
                            "<tr><td>WEB107278751</td><td>eu_56544</td><td>2023-11-24 00:05:13.787</td><td>232418</td><td>114017</td></tr>",
                            "<tr><td>WEB101022903</td><td>us_15438</td><td>2023-11-24 00:05:13.787</td><td>232623</td><td>114176</td></tr>",
                            "<tr><td>WEB086205557</td><td>us_15438</td><td>2023-11-24 00:05:13.800</td><td>232900</td><td>114353</td></tr>",
                            "<tr><td>WEB020409157</td><td>au_40513</td><td>2023-11-24 00:05:13.800</td><td>233112</td><td>114495</td></tr>",
                            "<tr><td>APP018021440</td><td>us_10113</td><td>2023-11-24 00:05:13.800</td><td>233333</td><td>114656</td></tr>",
                            "<tr><td>APP083564754</td><td>us_52113</td><td>2023-11-24 00:05:13.800</td><td>233533</td><td>114800</td></tr>",
                            "<tr><td>APP019977001</td><td>au_18036</td><td>2023-11-25 00:05:13.787</td><td>233718</td><td>114923</td></tr>",
                            "<tr><td>APP020447892</td><td>eu_22256</td><td>2023-11-25 00:05:13.787</td><td>233934</td><td>115063</td></tr>",
                            "<tr><td>APP052232538</td><td>eu_10858</td><td>2023-11-25 00:05:13.787</td><td>234144</td><td>115235</td></tr>",
                            "<tr><td>SYS084701684</td><td>au_15315</td><td>2023-11-25 00:05:13.787</td><td>234320</td><td>115356</td></tr>",
                            "<tr><td>SYS074016583</td><td>us_68077</td><td>2023-11-25 00:05:13.787</td><td>234516</td><td>115483</td></tr>",
                            "<tr><td>SYS045030569</td><td>eu_69372</td><td>2023-11-25 00:05:13.787</td><td>234697</td><td>115631</td></tr>",
                            "<tr><td>SYS044103691</td><td>eu_69372</td><td>2023-11-25 00:05:13.787</td><td>234881</td><td>115763</td></tr>",
                            "<tr><td>APP121486529</td><td>au_86362</td><td>2023-11-25 00:05:13.787</td><td>235100</td><td>115938</td></tr>",
                            "<tr><td>WEB037047748</td><td>us_34800</td><td>2023-11-25 00:05:13.787</td><td>235309</td><td>116092</td></tr>",
                            "<tr><td>WEB072344561</td><td>us_34800</td><td>2023-11-25 00:05:13.787</td><td>235561</td><td>116288</td></tr>",
                            "<tr><td>WEB069996508</td><td>us_34800</td><td>2023-11-25 00:05:13.787</td><td>235742</td><td>116436</td></tr>",
                            "<tr><td>WEB081179808</td><td>us_34800</td><td>2023-11-25 00:05:13.787</td><td>235946</td><td>116603</td></tr>",
                            "<tr><td>WEB101334125</td><td>au_77600</td><td>2023-11-25 00:05:13.787</td><td>236171</td><td>116789</td></tr>",
                            "<tr><td>WEB109650759</td><td>us_68077</td><td>2023-11-25 00:05:13.787</td><td>236367</td><td>116953</td></tr>",
                            "<tr><td>WEB123276481</td><td>au_75432</td><td>2023-11-25 00:05:13.787</td><td>236554</td><td>117104</td></tr>",
                            "<tr><td>SYS071125354</td><td>au_18036</td><td>2023-11-25 00:05:13.797</td><td>236768</td><td>117264</td></tr>",
                            "<tr><td>APP010996887</td><td>us_57346</td><td>2023-11-25 00:05:13.797</td><td>236935</td><td>117382</td></tr>",
                            "<tr><td>APP090157390</td><td>eu_77467</td><td>2023-11-25 00:05:13.797</td><td>237249</td><td>117582</td></tr>",
                            "<tr><td>APP037031204</td><td>us_15438</td><td>2023-11-25 00:05:13.800</td><td>237470</td><td>117761</td></tr>",
                            "<tr><td>SYS068008510</td><td>eu_77467</td><td>2023-11-25 00:05:13.800</td><td>237673</td><td>117897</td></tr>",
                            "<tr><td>APP047966039</td><td>us_52113</td><td>2023-11-26 00:05:13.787</td><td>237873</td><td>118054</td></tr>",
                            "<tr><td>APP075419516</td><td>eu_22256</td><td>2023-11-26 00:05:13.787</td><td>238100</td><td>118233</td></tr>",
                            "<tr><td>WEB121241900</td><td>au_40513</td><td>2023-11-26 00:05:13.787</td><td>238306</td><td>118368</td></tr>",
                            "<tr><td>WEB088427016</td><td>eu_69372</td><td>2023-11-26 00:05:13.787</td><td>238508</td><td>118533</td></tr>",
                            "<tr><td>WEB034903526</td><td>au_11362</td><td>2023-11-26 00:05:13.787</td><td>238736</td><td>118685</td></tr>",
                            "<tr><td>WEB025305159</td><td>au_11362</td><td>2023-11-26 00:05:13.787</td><td>238949</td><td>118831</td></tr>",
                            "<tr><td>WEB061401059</td><td>us_10113</td><td>2023-11-26 00:05:13.787</td><td>239127</td><td>118950</td></tr>",
                            "<tr><td>WEB015719836</td><td>au_16507</td><td>2023-11-26 00:05:13.787</td><td>239330</td><td>119100</td></tr>",
                            "<tr><td>WEB012027589</td><td>au_25552</td><td>2023-11-26 00:05:13.787</td><td>239534</td><td>119255</td></tr>",
                            "<tr><td>SYS115290967</td><td>au_89783</td><td>2023-11-26 00:05:13.787</td><td>239750</td><td>119410</td></tr>",
                            "<tr><td>WEB112750374</td><td>eu_22256</td><td>2023-11-26 00:05:13.797</td><td>239958</td><td>119578</td></tr>",
                            "<tr><td>SYS060036917</td><td>eu_69372</td><td>2023-11-26 00:05:13.797</td><td>240179</td><td>119763</td></tr>",
                            "<tr><td>SYS048011844</td><td>eu_11838</td><td>2023-11-26 00:05:13.797</td><td>240381</td><td>119908</td></tr>",
                            "<tr><td>SYS050369652</td><td>au_16507</td><td>2023-11-26 00:05:13.800</td><td>240576</td><td>120071</td></tr>",
                            "<tr><td>SYS020276212</td><td>us_34800</td><td>2023-11-26 00:05:13.800</td><td>240798</td><td>120241</td></tr>",
                            "<tr><td>SYS059663197</td><td>eu_77467</td><td>2023-11-27 00:05:13.787</td><td>240981</td><td>120389</td></tr>",
                            "<tr><td>APP090182420</td><td>au_15315</td><td>2023-11-27 00:05:13.787</td><td>241163</td><td>120529</td></tr>",
                            "<tr><td>APP088282743</td><td>us_19904</td><td>2023-11-27 00:05:13.787</td><td>241351</td><td>120670</td></tr>",
                            "<tr><td>APP084993094</td><td>au_40513</td><td>2023-11-27 00:05:13.787</td><td>241545</td><td>120831</td></tr>",
                            "<tr><td>APP099944177</td><td>au_18036</td><td>2023-11-27 00:05:13.787</td><td>241734</td><td>120972</td></tr>",
                            "<tr><td>APP063195208</td><td>eu_51465</td><td>2023-11-27 00:05:13.787</td><td>241923</td><td>121113</td></tr>",
                            "<tr><td>WEB100967056</td><td>au_75432</td><td>2023-11-27 00:05:13.787</td><td>242095</td><td>121235</td></tr>",
                            "<tr><td>WEB125787295</td><td>eu_51465</td><td>2023-11-27 00:05:13.787</td><td>242295</td><td>121377</td></tr>",
                            "<tr><td>SYS115271779</td><td>eu_10858</td><td>2023-11-27 00:05:13.787</td><td>242518</td><td>121564</td></tr>",
                            "<tr><td>WEB011031055</td><td>us_52113</td><td>2023-11-27 00:05:13.787</td><td>242718</td><td>121726</td></tr>",
                            "<tr><td>SYS095969693</td><td>au_16507</td><td>2023-11-27 00:05:13.787</td><td>242922</td><td>121885</td></tr>",
                            "<tr><td>WEB060983934</td><td>au_25552</td><td>2023-11-27 00:05:13.787</td><td>243107</td><td>122033</td></tr>",
                            "<tr><td>WEB030183667</td><td>au_11362</td><td>2023-11-27 00:05:13.787</td><td>243342</td><td>122220</td></tr>",
                            "<tr><td>SYS103056168</td><td>eu_23263</td><td>2023-11-27 00:05:13.797</td><td>243524</td><td>122351</td></tr>",
                            "<tr><td>SYS125041025</td><td>au_77600</td><td>2023-11-27 00:05:13.800</td><td>243731</td><td>122522</td></tr>",
                            "<tr><td>WEB123901989</td><td>au_40513</td><td>2023-11-27 00:05:13.800</td><td>243910</td><td>122665</td></tr>",
                            "<tr><td>WEB120038457</td><td>au_75432</td><td>2023-11-27 00:05:13.800</td><td>244122</td><td>122807</td></tr>",
                            "<tr><td>APP100227848</td><td>eu_11838</td><td>2023-11-27 00:05:13.800</td><td>244312</td><td>122960</td></tr>",
                            "<tr><td>APP076474233</td><td>au_77600</td><td>2023-11-27 00:05:13.800</td><td>244516</td><td>123119</td></tr>",
                            "<tr><td>APP104019654</td><td>eu_22256</td><td>2023-11-28 00:05:13.787</td><td>244725</td><td>123269</td></tr>",
                            "<tr><td>APP046471020</td><td>eu_77467</td><td>2023-11-28 00:05:13.787</td><td>244928</td><td>123405</td></tr>",
                            "<tr><td>SYS087378263</td><td>au_40513</td><td>2023-11-28 00:05:13.787</td><td>245108</td><td>123538</td></tr>",
                            "<tr><td>SYS089688689</td><td>eu_56544</td><td>2023-11-28 00:05:13.787</td><td>245339</td><td>123699</td></tr>",
                            "<tr><td>SYS026998549</td><td>eu_51465</td><td>2023-11-28 00:05:13.787</td><td>245563</td><td>123851</td></tr>",
                            "<tr><td>SYS041712108</td><td>au_16507</td><td>2023-11-28 00:05:13.787</td><td>245693</td><td>123944</td></tr>",
                            "<tr><td>SYS038241721</td><td>us_68077</td><td>2023-11-28 00:05:13.787</td><td>245872</td><td>124080</td></tr>",
                            "<tr><td>SYS017450546</td><td>au_18036</td><td>2023-11-28 00:05:13.787</td><td>246070</td><td>124242</td></tr>",
                            "<tr><td>APP124137972</td><td>us_10113</td><td>2023-11-28 00:05:13.797</td><td>246286</td><td>124391</td></tr>",
                            "<tr><td>SYS055088213</td><td>eu_11838</td><td>2023-11-28 00:05:13.797</td><td>246489</td><td>124529</td></tr>",
                            "<tr><td>SYS082282008</td><td>eu_51465</td><td>2023-11-28 00:05:13.800</td><td>246691</td><td>124698</td></tr>",
                            "<tr><td>APP089688456</td><td>au_16507</td><td>2023-11-28 00:05:13.800</td><td>246902</td><td>124852</td></tr>",
                            "<tr><td>WEB108218273</td><td>eu_56544</td><td>2023-11-28 00:05:13.800</td><td>247048</td><td>124958</td></tr>",
                            "<tr><td>WEB028175344</td><td>au_15315</td><td>2023-11-28 00:05:13.800</td><td>247257</td><td>125100</td></tr>",
                            "<tr><td>WEB104717095</td><td>eu_77467</td><td>2023-11-29 00:05:13.787</td><td>247493</td><td>125281</td></tr>",
                            "<tr><td>SYS082126465</td><td>au_40513</td><td>2023-11-29 00:05:13.787</td><td>247688</td><td>125437</td></tr>",
                            "<tr><td>SYS046374541</td><td>us_34800</td><td>2023-11-29 00:05:13.787</td><td>247863</td><td>125568</td></tr>",
                            "<tr><td>SYS045160918</td><td>au_40513</td><td>2023-11-29 00:05:13.787</td><td>248097</td><td>125743</td></tr>",
                            "<tr><td>SYS026571209</td><td>eu_56544</td><td>2023-11-29 00:05:13.787</td><td>248307</td><td>125894</td></tr>",
                            "<tr><td>SYS020943969</td><td>au_89783</td><td>2023-11-29 00:05:13.787</td><td>248481</td><td>126024</td></tr>",
                            "<tr><td>SYS065439878</td><td>au_11362</td><td>2023-11-29 00:05:13.797</td><td>248714</td><td>126212</td></tr>",
                            "<tr><td>WEB121929277</td><td>au_40513</td><td>2023-11-29 00:05:13.800</td><td>248931</td><td>126374</td></tr>",
                            "<tr><td>WEB030034240</td><td>us_52113</td><td>2023-11-30 00:05:13.787</td><td>249129</td><td>126532</td></tr>",
                            "<tr><td>SYS067437483</td><td>us_68077</td><td>2023-11-30 00:05:13.787</td><td>249327</td><td>126676</td></tr>",
                            "<tr><td>SYS066049458</td><td>eu_10858</td><td>2023-11-30 00:05:13.787</td><td>249501</td><td>126806</td></tr>",
                            "<tr><td>SYS068929754</td><td>us_15438</td><td>2023-11-30 00:05:13.787</td><td>249681</td><td>126937</td></tr>",
                            "<tr><td>APP085254596</td><td>au_15315</td><td>2023-11-30 00:05:13.787</td><td>249873</td><td>127073</td></tr>",
                            "<tr><td>APP040011978</td><td>au_86362</td><td>2023-11-30 00:05:13.787</td><td>250055</td><td>127225</td></tr>",
                            "<tr><td>WEB104096101</td><td>au_18036</td><td>2023-11-30 00:05:13.800</td><td>250258</td><td>127385</td></tr>",
                            "<tr><td>WEB093684572</td><td>eu_11838</td><td>2023-11-30 00:05:13.800</td><td>250456</td><td>127549</td></tr>",
                            "<tr><td>WEB089030677</td><td>eu_10858</td><td>2023-12-01 00:05:13.787</td><td>250672</td><td>127730</td></tr>",
                            "<tr><td>SYS128444315</td><td>au_75432</td><td>2023-12-01 00:05:13.787</td><td>250901</td><td>127910</td></tr>",
                            "<tr><td>APP018214862</td><td>eu_10858</td><td>2023-12-01 00:05:13.787</td><td>251114</td><td>128076</td></tr>",
                            "<tr><td>SYS056688939</td><td>eu_10858</td><td>2023-12-01 00:05:13.787</td><td>251276</td><td>128205</td></tr>",
                            "<tr><td>SYS029065945</td><td>us_68077</td><td>2023-12-01 00:05:13.787</td><td>251504</td><td>128369</td></tr>",
                            "<tr><td>APP127393632</td><td>eu_23263</td><td>2023-12-01 00:05:13.787</td><td>251699</td><td>128525</td></tr>",
                            "<tr><td>APP119367634</td><td>au_86362</td><td>2023-12-01 00:05:13.787</td><td>251883</td><td>128672</td></tr>",
                            "<tr><td>SYS126452574</td><td>au_25552</td><td>2023-12-01 00:05:13.797</td><td>252063</td><td>128807</td></tr>",
                            "<tr><td>WEB024656692</td><td>us_19904</td><td>2023-12-01 00:05:13.797</td><td>252242</td><td>128943</td></tr>",
                            "<tr><td>SYS091891370</td><td>au_86362</td><td>2023-12-01 00:05:13.800</td><td>252465</td><td>129112</td></tr>",
                            "<tr><td>SYS061477054</td><td>us_34800</td><td>2023-12-01 00:05:13.800</td><td>252684</td><td>129271</td></tr>",
                            "<tr><td>SYS069876220</td><td>au_11362</td><td>2023-12-01 00:05:13.800</td><td>252918</td><td>129444</td></tr>",
                            "<tr><td>APP079973359</td><td>au_18036</td><td>2023-12-01 00:05:13.800</td><td>253090</td><td>129581</td></tr>",
                            "<tr><td>APP057143457</td><td>au_86362</td><td>2023-12-02 00:05:13.787</td><td>253289</td><td>129730</td></tr>",
                            "<tr><td>SYS047613793</td><td>au_77600</td><td>2023-12-02 00:05:13.787</td><td>253485</td><td>129871</td></tr>",
                            "<tr><td>SYS107024620</td><td>eu_23263</td><td>2023-12-02 00:05:13.787</td><td>253704</td><td>130046</td></tr>",
                            "<tr><td>WEB022191366</td><td>au_18036</td><td>2023-12-02 00:05:13.787</td><td>253946</td><td>130234</td></tr>",
                            "<tr><td>WEB080534949</td><td>au_86362</td><td>2023-12-02 00:05:13.787</td><td>254134</td><td>130384</td></tr>",
                            "<tr><td>WEB106856213</td><td>us_52113</td><td>2023-12-02 00:05:13.787</td><td>254347</td><td>130562</td></tr>",
                            "<tr><td>APP075803928</td><td>us_34800</td><td>2023-12-02 00:05:13.797</td><td>254579</td><td>130738</td></tr>",
                            "<tr><td>APP057128142</td><td>us_52113</td><td>2023-12-02 00:05:13.800</td><td>254800</td><td>130925</td></tr>",
                            "<tr><td>WEB066659398</td><td>au_25552</td><td>2023-12-02 00:05:13.800</td><td>254994</td><td>131064</td></tr>",
                            "<tr><td>WEB021724006</td><td>au_18036</td><td>2023-12-03 00:05:13.787</td><td>255231</td><td>131258</td></tr>",
                            "<tr><td>WEB089807936</td><td>eu_10858</td><td>2023-12-03 00:05:13.787</td><td>255454</td><td>131423</td></tr>",
                            "<tr><td>APP054713246</td><td>us_34800</td><td>2023-12-03 00:05:13.787</td><td>255675</td><td>131610</td></tr>",
                            "<tr><td>APP104406403</td><td>us_57346</td><td>2023-12-03 00:05:13.787</td><td>255853</td><td>131761</td></tr>",
                            "<tr><td>APP095691466</td><td>eu_10858</td><td>2023-12-03 00:05:13.787</td><td>256021</td><td>131902</td></tr>",
                            "<tr><td>SYS057974804</td><td>eu_10858</td><td>2023-12-03 00:05:13.787</td><td>256206</td><td>132057</td></tr>",
                            "<tr><td>APP125992938</td><td>us_19904</td><td>2023-12-03 00:05:13.787</td><td>256414</td><td>132227</td></tr>",
                            "<tr><td>SYS025206436</td><td>au_15315</td><td>2023-12-03 00:05:13.787</td><td>256618</td><td>132390</td></tr>",
                            "<tr><td>WEB024141398</td><td>au_15315</td><td>2023-12-03 00:05:13.797</td><td>256818</td><td>132547</td></tr>",
                            "<tr><td>SYS107767194</td><td>us_15438</td><td>2023-12-03 00:05:13.800</td><td>257029</td><td>132724</td></tr>",
                            "<tr><td>APP126509485</td><td>au_15315</td><td>2023-12-03 00:05:13.800</td><td>257236</td><td>132891</td></tr>",
                            "<tr><td>SYS013352114</td><td>eu_51465</td><td>2023-12-03 00:05:13.800</td><td>257430</td><td>133046</td></tr>",
                            "<tr><td>APP113928862</td><td>au_89783</td><td>2023-12-03 00:05:13.800</td><td>257626</td><td>133196</td></tr>",
                            "<tr><td>APP028347389</td><td>us_68077</td><td>2023-12-04 00:05:13.787</td><td>257832</td><td>133366</td></tr>",
                            "<tr><td>SYS109119148</td><td>au_18036</td><td>2023-12-04 00:05:13.787</td><td>258035</td><td>133524</td></tr>",
                            "<tr><td>WEB107882082</td><td>eu_51465</td><td>2023-12-04 00:05:13.787</td><td>258239</td><td>133695</td></tr>",
                            "<tr><td>SYS024353681</td><td>us_68077</td><td>2023-12-04 00:05:13.797</td><td>258430</td><td>133849</td></tr>",
                            "<tr><td>WEB105870203</td><td>eu_56544</td><td>2023-12-04 00:05:13.800</td><td>258628</td><td>134001</td></tr>",
                            "<tr><td>WEB097571775</td><td>au_86362</td><td>2023-12-05 00:05:13.787</td><td>258840</td><td>134179</td></tr>",
                            "<tr><td>SYS080629621</td><td>us_15438</td><td>2023-12-05 00:05:13.787</td><td>259030</td><td>134340</td></tr>",
                            "<tr><td>APP014078594</td><td>eu_56544</td><td>2023-12-05 00:05:13.787</td><td>259249</td><td>134506</td></tr>",
                            "<tr><td>APP083467068</td><td>us_68077</td><td>2023-12-05 00:05:13.787</td><td>259465</td><td>134689</td></tr>",
                            "<tr><td>APP092722998</td><td>au_77600</td><td>2023-12-05 00:05:13.797</td><td>259684</td><td>134859</td></tr>",
                            "<tr><td>SYS038857445</td><td>us_10113</td><td>2023-12-05 00:05:13.797</td><td>259887</td><td>135031</td></tr>",
                            "<tr><td>WEB093268422</td><td>au_15315</td><td>2023-12-05 00:05:13.797</td><td>260093</td><td>135206</td></tr>",
                            "<tr><td>SYS040940777</td><td>us_19904</td><td>2023-12-05 00:05:13.800</td><td>260284</td><td>135360</td></tr>",
                            "<tr><td>SYS026389446</td><td>us_57346</td><td>2023-12-05 00:05:13.800</td><td>260442</td><td>135481</td></tr>",
                            "<tr><td>SYS017622688</td><td>eu_77467</td><td>2023-12-06 00:05:13.787</td><td>260649</td><td>135652</td></tr>",
                            "<tr><td>APP122545731</td><td>eu_22256</td><td>2023-12-06 00:05:13.787</td><td>260855</td><td>135825</td></tr>",
                            "<tr><td>APP095191089</td><td>eu_51465</td><td>2023-12-06 00:05:13.787</td><td>261026</td><td>135961</td></tr>",
                            "<tr><td>APP011543035</td><td>us_15438</td><td>2023-12-06 00:05:13.787</td><td>261230</td><td>136124</td></tr>",
                            "<tr><td>APP030969027</td><td>au_77600</td><td>2023-12-06 00:05:13.787</td><td>261409</td><td>136267</td></tr>",
                            "<tr><td>WEB120262061</td><td>eu_10858</td><td>2023-12-06 00:05:13.787</td><td>261610</td><td>136427</td></tr>",
                            "<tr><td>WEB029285657</td><td>us_34800</td><td>2023-12-06 00:05:13.787</td><td>261827</td><td>136594</td></tr>",
                            "<tr><td>WEB046815796</td><td>au_86362</td><td>2023-12-06 00:05:13.800</td><td>262035</td><td>136758</td></tr>",
                            "<tr><td>WEB112723864</td><td>eu_56544</td><td>2023-12-06 00:05:13.800</td><td>262205</td><td>136892</td></tr>",
                            "<tr><td>SYS110217657</td><td>us_34800</td><td>2023-12-07 00:05:13.787</td><td>262361</td><td>137018</td></tr>",
                            "<tr><td>SYS011533689</td><td>au_15315</td><td>2023-12-07 00:05:13.787</td><td>262538</td><td>137166</td></tr>",
                            "<tr><td>APP108933477</td><td>us_52113</td><td>2023-12-07 00:05:13.797</td><td>262761</td><td>137339</td></tr>",
                            "<tr><td>APP086084956</td><td>au_77600</td><td>2023-12-07 00:05:13.800</td><td>262959</td><td>137503</td></tr>",
                            "<tr><td>APP060097516</td><td>us_34800</td><td>2023-12-07 00:05:13.800</td><td>263145</td><td>137653</td></tr>",
                            "<tr><td>SYS060488895</td><td>au_77600</td><td>2023-12-07 00:05:13.800</td><td>263331</td><td>137799</td></tr>",
                            "<tr><td>APP121672430</td><td>eu_23263</td><td>2023-12-08 00:05:13.787</td><td>263523</td><td>137952</td></tr>",
                            "<tr><td>WEB042812065</td><td>eu_69372</td><td>2023-12-08 00:05:13.787</td><td>263732</td><td>138127</td></tr>",
                            "<tr><td>SYS122316656</td><td>eu_69372</td><td>2023-12-09 00:05:13.787</td><td>263924</td><td>138282</td></tr>",
                            "<tr><td>APP047589979</td><td>au_16507</td><td>2023-12-09 00:05:13.787</td><td>264097</td><td>138425</td></tr>",
                            "<tr><td>APP026701451</td><td>eu_11838</td><td>2023-12-09 00:05:13.787</td><td>264293</td><td>138587</td></tr>",
                            "<tr><td>SYS086747837</td><td>au_18036</td><td>2023-12-09 00:05:13.800</td><td>264485</td><td>138742</td></tr>",
                            "<tr><td>WEB034619195</td><td>au_77600</td><td>2023-12-09 00:05:13.800</td><td>264720</td><td>138941</td></tr>",
                            "<tr><td>SYS031818834</td><td>au_77600</td><td>2023-12-10 00:05:13.787</td><td>264924</td><td>139108</td></tr>",
                            "<tr><td>WEB031689429</td><td>au_77600</td><td>2023-12-11 00:05:13.787</td><td>265131</td><td>139279</td></tr>",
                            "<tr><td>SYS038092022</td><td>au_16507</td><td>2023-12-11 00:05:13.797</td><td>265296</td><td>139417</td></tr>",
                            "<tr><td>SYS086963938</td><td>au_77600</td><td>2023-12-11 00:05:13.800</td><td>265517</td><td>139600</td></tr>",
                            "<tr><td>SYS080283850</td><td>eu_69372</td><td>2023-12-12 00:05:13.787</td><td>265737</td><td>139784</td></tr>",
                            "</table>"
                        ]
                    }
                }
            ],
            "execution_count": 156
        }
    ]
}